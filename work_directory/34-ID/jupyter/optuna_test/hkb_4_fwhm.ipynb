{
 "cells": [
  {
   "cell_type": "code",
   "execution_count": 1,
   "id": "a723c339-367b-4ed4-9da1-3367aa810e3a",
   "metadata": {},
   "outputs": [],
   "source": [
    "%load_ext autoreload\n",
    "%autoreload 2"
   ]
  },
  {
   "cell_type": "code",
   "execution_count": 2,
   "id": "29795e4c-58c6-4c54-acac-6e1ebb1457fd",
   "metadata": {},
   "outputs": [],
   "source": [
    "from aps_ai.beamline34IDC.simulation.facade.focusing_optics_interface import Movement\n",
    "\n",
    "from aps_ai.beamline34IDC.util.shadow.common import \\\n",
    "    plot_shadow_beam_spatial_distribution, get_shadow_beam_spatial_distribution,\\\n",
    "    load_shadow_beam, PreProcessorFiles, EmptyBeamException\n",
    "from aps_ai.beamline34IDC.optimization import movers, configs, display_utils, common as opt_common\n",
    "from aps_ai.beamline34IDC.optimization.scipy_nelder_mead import ScipyOptimizer\n",
    "from aps_ai.beamline34IDC.optimization.skopt_gp import SkoptGaussianProcessOptimizer, SkoptDiscreteGPOptimizer\n",
    "import beamline34IDC.optimization.movers as movers\n",
    "\n",
    "from aps_ai.beamline34IDC.optimization.display_utils import LivePlotCallback\n",
    "from aps_ai.beamline34IDC.util import clean_up\n",
    "import os\n",
    "import matplotlib.pyplot as plt\n",
    "import numpy as np\n",
    "import scipy\n",
    "from tqdm import tqdm\n",
    "import shutil\n",
    "import IPython\n",
    "from skopt.callbacks import DeltaXStopper, DeltaYStopper, DeadlineStopper\n",
    "from pathlib import Path\n",
    "import optuna"
   ]
  },
  {
   "cell_type": "code",
   "execution_count": 3,
   "id": "e0896a8c-12e7-4d35-9546-b7f654369e76",
   "metadata": {},
   "outputs": [
    {
     "name": "stdout",
     "output_type": "stream",
     "text": [
      "94812\n"
     ]
    }
   ],
   "source": [
    "DEFAULT_RANDOM_SEED = np.random.randint(100000)\n",
    "print(DEFAULT_RANDOM_SEED)"
   ]
  },
  {
   "cell_type": "code",
   "execution_count": 4,
   "id": "d80ab6c2-371c-403c-8409-959d32d48728",
   "metadata": {},
   "outputs": [],
   "source": [
    "base_dir = Path('/gpfs/fs1/home/skandel/code/oasys_ml/ML_Control_System/')\n",
    "orig_work_dir = base_dir /'work_directory'\n",
    "temp_work_dir = base_dir / f'tmp_work_dir_{DEFAULT_RANDOM_SEED}'\n",
    "temp_work_dir.mkdir(exist_ok=True)"
   ]
  },
  {
   "cell_type": "code",
   "execution_count": 5,
   "id": "da1bcce4-c519-4919-a9de-710af9e1a286",
   "metadata": {},
   "outputs": [],
   "source": [
    "dat_files = list(orig_work_dir.glob('*.dat')) + list(orig_work_dir.glob('*.ini'))\n",
    "for df in dat_files:\n",
    "    shutil.copy(df, temp_work_dir)"
   ]
  },
  {
   "cell_type": "code",
   "execution_count": 6,
   "id": "ed17c37d-a315-4684-9d6b-f70168f645aa",
   "metadata": {},
   "outputs": [],
   "source": [
    "os.chdir(temp_work_dir)"
   ]
  },
  {
   "cell_type": "code",
   "execution_count": 7,
   "id": "97c0eed0-e6e4-4ae3-a98a-e3efcca3ece4",
   "metadata": {},
   "outputs": [],
   "source": [
    "input_beam_path = \"primary_optics_system_beam.dat\""
   ]
  },
  {
   "cell_type": "code",
   "execution_count": 8,
   "id": "1a8c9dd1-fc29-469d-a97c-a5db926135b3",
   "metadata": {},
   "outputs": [],
   "source": [
    "move_motors = ['hkb_1', 'vkb_1', 'hkb_2', 'vkb_2', 'hkb_3', 'vkb_3', 'hkb_4', 'vkb_4']"
   ]
  },
  {
   "cell_type": "code",
   "execution_count": 9,
   "id": "9dcec6be-6788-4a33-af03-abebf0143bf3",
   "metadata": {},
   "outputs": [],
   "source": [
    "motors_str = move_motors[0] if len(move_motors) == 1 else '_'.join(move_motors)\n",
    "fig_save_path = f'{orig_work_dir}/figures/{motors_str}/'\n",
    "if not os.path.isdir(fig_save_path):\n",
    "    os.mkdir(fig_save_path)"
   ]
  },
  {
   "cell_type": "code",
   "execution_count": 10,
   "id": "358267ff-39b5-499c-be17-edd48e67e6a7",
   "metadata": {},
   "outputs": [],
   "source": [
    "# Focusing Optics System -------------------------\n",
    "focusing_system = opt_common.reinitialize(input_beam_path=input_beam_path, bender=True)"
   ]
  },
  {
   "cell_type": "code",
   "execution_count": 11,
   "id": "f24bb3e7-72d0-4c9d-9ec6-54fedd4e7ddc",
   "metadata": {},
   "outputs": [
    {
     "name": "stdout",
     "output_type": "stream",
     "text": [
      "[0.2500515 0.1425    0.1570341 0.2995    3.        3.        0.\n",
      " 0.       ]\n"
     ]
    }
   ],
   "source": [
    "initial_absolute_positions = np.array(movers.get_absolute_positions(focusing_system, move_motors))\n",
    "print(initial_absolute_positions)"
   ]
  },
  {
   "cell_type": "code",
   "execution_count": 12,
   "id": "b88582f8-7dbf-47fc-9511-41c079124c24",
   "metadata": {},
   "outputs": [],
   "source": [
    "class OptunaOptimizer(opt_common.OptimizationCommon):\n",
    "    \"\"\"\"\"\"\n",
    "    opt_platform = 'optuna'\n",
    "    \n",
    "    def loss_function(self, translations: list, verbose: bool = True) -> float:\n",
    "        \"\"\"This mutates the state of the focusing system.\"\"\"\n",
    "\n",
    "        self.focusing_system = movers.move_motors(self.focusing_system, self.motor_types, translations,\n",
    "                                                  movement='relative')\n",
    "        self._update_beam_state()\n",
    "\n",
    "        loss = [lossfn() for lossfn in self._loss_function_list]\n",
    "\n",
    "        self._opt_trials_motor_positions.append(translations)\n",
    "        self._opt_trials_losses.append(loss)\n",
    "        self._opt_fn_call_counter += 1\n",
    "        if verbose:\n",
    "            print(\"motors\", self.motor_types, \"trans\", translations, \"current loss\", loss)\n",
    "        return loss\n",
    "    \n",
    "    def objective(self, trial):\n",
    "        translations = []\n",
    "        for mt, r in zip(self.motor_types, self.motor_ranges):\n",
    "            translations.append(trial.suggest_float(mt, r[0], r[1]))\n",
    "        loss_this = self._lossfn_this(translations)\n",
    "        return loss_this\n",
    "    \n",
    "    def trials(self, n_guesses = 1, verbose: bool = False, accept_all_solutions: bool = False):\n",
    "        pass\n",
    "    \n",
    "    def _optimize(self):\n",
    "        pass\n",
    "    def set_optimizer_options(self):\n",
    "        pass\n",
    "    \n",
    "    def get_random_init(self, guess_range = None, verbose=True):\n",
    "        if guess_range is None:\n",
    "            guess_range = [np.array(configs.DEFAULT_MOVEMENT_RANGES[mt]) / 2 for mt in self.motor_types]\n",
    "        elif np.ndim(guess_range) == 1 and len(guess_range) == 2:\n",
    "            guess_range = [guess_range for mt in self.motor_types]\n",
    "        elif np.ndim(guess_range) != 2 or len(guess_range) != len(self.motor_types):\n",
    "            raise ValueError(\"Invalid range supplied for guesses.\")\n",
    "\n",
    "        initial_guess = [np.random.uniform(m1, m2) for (m1, m2) in guess_range]\n",
    "        lossfn_obj_this = self.TrialInstanceLossFunction(self, verbose=verbose)\n",
    "        guess_loss = lossfn_obj_this.loss(initial_guess, verbose=False)\n",
    "        if verbose:\n",
    "            print('Random guess', initial_guess, 'has loss', guess_loss)\n",
    "        \n",
    "        while np.sum(guess_loss) >= self._no_beam_loss or np.isnan(np.sum(guess_loss)):\n",
    "            self.reset()\n",
    "            if verbose:\n",
    "                print(\"Random guess\", initial_guess, \"produces beam out of bounds. Trying another guess.\")\n",
    "            initial_guess = [np.random.uniform(m1, m2) for (m1, m2) in guess_range]\n",
    "            if verbose:\n",
    "                print('Random guess is', initial_guess)\n",
    "            guess_loss = lossfn_obj_this.loss(initial_guess, verbose=False)\n",
    "        return initial_guess\n",
    "    \n",
    "    "
   ]
  },
  {
   "cell_type": "code",
   "execution_count": 13,
   "id": "af9d45cb-9c74-4dda-a9b4-376e9e0e98fc",
   "metadata": {},
   "outputs": [],
   "source": [
    "focusing_system = opt_common.reinitialize(input_beam_path=input_beam_path)"
   ]
  },
  {
   "cell_type": "code",
   "execution_count": 14,
   "id": "b1a42b53-524a-4fbf-9c38-c50109af35f9",
   "metadata": {},
   "outputs": [],
   "source": [
    "opt_trial = OptunaOptimizer(focusing_system, \n",
    "                                              motor_types=move_motors, \n",
    "                                              random_seed=DEFAULT_RANDOM_SEED, \n",
    "                                              loss_parameters=['centroid', 'fwhm'],\n",
    "                                              loss_min_value=5e-4,\n",
    "                                              use_gaussian_fit=False)"
   ]
  },
  {
   "cell_type": "code",
   "execution_count": 15,
   "id": "8e3cf30e-a595-4888-8ac9-1aa3f982bbb9",
   "metadata": {},
   "outputs": [],
   "source": [
    "init_range = np.array([[-0.02, 0.02], [-0.02, 0.02], [-0.02, 0.02], [-0.02, 0.02], [-0.01, 0.01],[-0.01, 0.01], [-0.01, 0.01], [-0.01,0.01]])"
   ]
  },
  {
   "cell_type": "code",
   "execution_count": 16,
   "id": "ba49b2f7-bfc0-4742-8a40-43b1c6094a47",
   "metadata": {},
   "outputs": [],
   "source": [
    "absolute_movements = []"
   ]
  },
  {
   "cell_type": "code",
   "execution_count": null,
   "id": "b29ced53-5d45-4f18-a04d-ec984101e154",
   "metadata": {},
   "outputs": [],
   "source": []
  },
  {
   "cell_type": "code",
   "execution_count": null,
   "id": "d64c3b74-4529-4e30-b1f4-70e7fcddd856",
   "metadata": {},
   "outputs": [],
   "source": []
  },
  {
   "cell_type": "code",
   "execution_count": 17,
   "id": "6868bff6-65ff-4bf7-9437-c3fff85e195f",
   "metadata": {},
   "outputs": [
    {
     "name": "stdout",
     "output_type": "stream",
     "text": [
      "Random guess [0.01865683273025667, -0.00459177053707939, 0.015833659751491553, 0.012198419963868685, 0.00307087919835013, -0.0032535707211409862, -0.004033056384136618, -0.007487281657456952] has loss [0.006049413434061423, 0.009433102762704914]\n"
     ]
    },
    {
     "data": {
      "image/png": "[encoded data removed]",
      "text/plain": [
       "<Figure size 432x288 with 1 Axes>"
      ]
     },
     "metadata": {
      "needs_background": "light"
     },
     "output_type": "display_data"
    }
   ],
   "source": [
    "random_inits = opt_trial.get_random_init(guess_range=init_range)\n",
    "    \n",
    "\n",
    "\n",
    "absolute_movements.append(initial_absolute_positions + random_inits)\n",
    "\n",
    "beam, hist, dw = opt_common.get_beam_hist_dw(focusing_system=focusing_system, random_seed=DEFAULT_RANDOM_SEED, xrange=[-0.03, 0.03], yrange=[-0.03, 0.03], nbins=128)\n",
    "plt.pcolormesh(hist.hh, hist.vv, hist.data_2D)\n",
    "plt.show()"
   ]
  },
  {
   "cell_type": "code",
   "execution_count": 18,
   "id": "63647eec-82ea-4eaf-bfe5-0bd9540d99ff",
   "metadata": {},
   "outputs": [
    {
     "data": {
      "text/plain": [
       "(BeamParameterOutput(parameter_value=0.0035032606230333513, photon_beam=<orangecontrib.shadow.util.shadow_objects.ShadowBeam object at 0x2b9c3abf7cd0>, hist=<beamline34IDC.util.shadow.common.ShadowHistogram object at 0x2b9c3b0b3d10>, dw=<orangecontrib.ml.util.data_structures.DictionaryWrapper object at 0x2b9c3b0b3a90>),\n",
       " BeamParameterOutput(parameter_value=0.00900208248391488, photon_beam=<orangecontrib.shadow.util.shadow_objects.ShadowBeam object at 0x2b9c3ad9bb50>, hist=<beamline34IDC.util.shadow.common.ShadowHistogram object at 0x2b9c3b0b3b10>, dw=<orangecontrib.ml.util.data_structures.DictionaryWrapper object at 0x2b9c3b0ed950>))"
      ]
     },
     "execution_count": 18,
     "metadata": {},
     "output_type": "execute_result"
    }
   ],
   "source": [
    "opt_common.get_sigma(focusing_system), opt_common.get_fwhm(focusing_system)"
   ]
  },
  {
   "cell_type": "code",
   "execution_count": 19,
   "id": "c451905c-2703-4549-a10c-def5c9a7343a",
   "metadata": {},
   "outputs": [
    {
     "data": {
      "text/plain": [
       "{'h_sigma': 0.0029522037855001454,\n",
       " 'h_fwhm': 0.008906249999999942,\n",
       " 'h_centroid': 0.0040470035442222935,\n",
       " 'v_sigma': 0.00217496153826202,\n",
       " 'v_fwhm': 0.0009374999999999939,\n",
       " 'v_centroid': -0.0045021657811574346,\n",
       " 'integral_intensity': 521.2730277270376,\n",
       " 'peak_intensity': 8.385864730724432,\n",
       " 'gaussian_fit': {}}"
      ]
     },
     "execution_count": 19,
     "metadata": {},
     "output_type": "execute_result"
    }
   ],
   "source": [
    "dw._DictionaryWrapper__dictionary"
   ]
  },
  {
   "cell_type": "code",
   "execution_count": 20,
   "id": "02f2f243-a954-4275-960b-9951e989473a",
   "metadata": {},
   "outputs": [
    {
     "data": {
      "text/plain": [
       "0.4310421051165514"
      ]
     },
     "execution_count": 20,
     "metadata": {},
     "output_type": "execute_result"
    }
   ],
   "source": [
    " dw.get_parameter('v_fwhm') / dw.get_parameter('v_sigma')"
   ]
  },
  {
   "cell_type": "code",
   "execution_count": 21,
   "id": "984dafe5-f774-4ff4-99bf-18583d9699b5",
   "metadata": {},
   "outputs": [
    {
     "data": {
      "text/plain": [
       "[0.01865683273025667,\n",
       " -0.00459177053707939,\n",
       " 0.015833659751491553,\n",
       " 0.012198419963868685,\n",
       " 0.00307087919835013,\n",
       " -0.0032535707211409862,\n",
       " -0.004033056384136618,\n",
       " -0.007487281657456952]"
      ]
     },
     "execution_count": 21,
     "metadata": {},
     "output_type": "execute_result"
    }
   ],
   "source": [
    "random_inits"
   ]
  },
  {
   "cell_type": "code",
   "execution_count": 22,
   "id": "a73bac4c-8552-42f7-8e90-f183904a38c5",
   "metadata": {},
   "outputs": [],
   "source": [
    "opt_trial.motor_ranges = init_range"
   ]
  },
  {
   "cell_type": "code",
   "execution_count": 23,
   "id": "e34681dd-e1e8-4640-83dc-310174bcfd59",
   "metadata": {},
   "outputs": [],
   "source": [
    "opt_trial._lossfn_obj_this = opt_trial.TrialInstanceLossFunction(opt_trial, verbose=False)\n",
    "opt_trial._lossfn_this = opt_trial._lossfn_obj_this.loss"
   ]
  },
  {
   "cell_type": "code",
   "execution_count": 24,
   "id": "5366da5d-74a6-49cf-9698-bc1646b54b34",
   "metadata": {},
   "outputs": [
    {
     "name": "stderr",
     "output_type": "stream",
     "text": [
      "\u001b[32m[I 2022-08-31 16:08:42,306]\u001b[0m A new study created in memory with name: no-name-52b11318-9719-45ca-9401-5217a66d04b4\u001b[0m\n"
     ]
    }
   ],
   "source": [
    "study = optuna.create_study(directions=['minimize', 'minimize'])"
   ]
  },
  {
   "cell_type": "code",
   "execution_count": 25,
   "id": "431205d0-d0f3-4a4e-b086-c07f2c85862b",
   "metadata": {},
   "outputs": [
    {
     "name": "stderr",
     "output_type": "stream",
     "text": [
      "\u001b[32m[I 2022-08-31 16:08:46,653]\u001b[0m Trial 0 finished with values: [0.012319134207233984, 0.007659093994444448] and parameters: {'hkb_1': -0.004773416731500158, 'vkb_1': -0.012793012856270894, 'hkb_2': 0.0006518496963362937, 'vkb_2': -0.00828235458800032, 'hkb_3': -0.0002715919268002614, 'vkb_3': -0.00022414877036998002, 'hkb_4': 0.009643171012554711, 'vkb_4': -0.007383251983510804}. \u001b[0m\n",
      "\u001b[32m[I 2022-08-31 16:08:51,081]\u001b[0m Trial 1 finished with values: [0.016430462430143355, 0.007463722667812852] and parameters: {'hkb_1': -0.0007121640621719771, 'vkb_1': 0.01501715354423758, 'hkb_2': -0.007264693512997078, 'vkb_2': 0.0008833541803668875, 'hkb_3': -0.0023375684351115344, 'vkb_3': -0.00568365890564249, 'hkb_4': 0.0018885304778815427, 'vkb_4': -0.009727877182983086}. \u001b[0m\n",
      "\u001b[32m[I 2022-08-31 16:08:55,496]\u001b[0m Trial 2 finished with values: [0.010227376050998814, 0.005815445522634686] and parameters: {'hkb_1': 0.01856387950712728, 'vkb_1': 0.01949366492527475, 'hkb_2': -0.014128880344456602, 'vkb_2': 0.00442134009962095, 'hkb_3': -0.009965367325919206, 'vkb_3': 0.00495476033970599, 'hkb_4': 0.0030602578112646217, 'vkb_4': -0.003444472389406412}. \u001b[0m\n",
      "\u001b[32m[I 2022-08-31 16:08:59,399]\u001b[0m Trial 3 finished with values: [0.004316817455366283, 0.007492494597702467] and parameters: {'hkb_1': -0.012929958613602674, 'vkb_1': -0.00880700881457432, 'hkb_2': 0.007152735758300343, 'vkb_2': 0.019313483112502593, 'hkb_3': 0.006471644891285105, 'vkb_3': 0.0050047319725398925, 'hkb_4': 0.0007119852165729124, 'vkb_4': 0.007217075651186162}. \u001b[0m\n",
      "\u001b[32m[I 2022-08-31 16:09:05,225]\u001b[0m Trial 4 finished with values: [0.012807294299307496, 0.01448602897917025] and parameters: {'hkb_1': 0.010384182390391069, 'vkb_1': 0.010836549862447684, 'hkb_2': 0.006268538233439681, 'vkb_2': 0.019829068754001023, 'hkb_3': -0.004958771774002045, 'vkb_3': 0.004238781555727822, 'hkb_4': 0.006252099904626397, 'vkb_4': -0.008327376507542072}. \u001b[0m\n",
      "\u001b[32m[I 2022-08-31 16:09:09,599]\u001b[0m Trial 5 finished with values: [0.0023336577022432985, 0.0027064357548179747] and parameters: {'hkb_1': -0.01535920258917872, 'vkb_1': 0.007367326624450103, 'hkb_2': 0.015513062427152894, 'vkb_2': 0.005448889181420776, 'hkb_3': -0.006003791171996795, 'vkb_3': -0.005725409647555477, 'hkb_4': -0.003158319068411808, 'vkb_4': 0.00319524122336025}. \u001b[0m\n",
      "\u001b[32m[I 2022-08-31 16:09:12,379]\u001b[0m Trial 6 finished with values: [0.0059263825640845915, 0.003007277391918259] and parameters: {'hkb_1': -0.009536059895427785, 'vkb_1': 0.006277915975202834, 'hkb_2': -0.01094128161653992, 'vkb_2': 0.018843785015735078, 'hkb_3': -0.009238997920998398, 'vkb_3': 0.0032754282259962724, 'hkb_4': -0.0055575949124096, 'vkb_4': 0.005926921770177484}. \u001b[0m\n",
      "\u001b[32m[I 2022-08-31 16:09:17,034]\u001b[0m Trial 7 finished with values: [0.011028175448585645, 0.0018653079831047986] and parameters: {'hkb_1': -0.009476314859455326, 'vkb_1': -0.01068658144829378, 'hkb_2': 0.01394977561493099, 'vkb_2': -0.010779194008761714, 'hkb_3': 9.313197936195936e-05, 'vkb_3': 0.006745399643543476, 'hkb_4': 0.0005080516708398704, 'vkb_4': -0.003994111551112753}. \u001b[0m\n",
      "\u001b[32m[I 2022-08-31 16:09:21,296]\u001b[0m Trial 8 finished with values: [0.003120387389467038, 0.003986422669959281] and parameters: {'hkb_1': 0.007764862255961142, 'vkb_1': 0.015160904997955967, 'hkb_2': -0.016841778107397, 'vkb_2': 0.0007482595069701024, 'hkb_3': -0.009170663331313184, 'vkb_3': 0.0018975715900564367, 'hkb_4': 0.006807092413784502, 'vkb_4': 0.00288978869236956}. \u001b[0m\n",
      "\u001b[32m[I 2022-08-31 16:09:23,484]\u001b[0m Trial 9 finished with values: [0.008993061635310478, 0.0013331656488104681] and parameters: {'hkb_1': -0.01852387107311268, 'vkb_1': 0.008689538540816506, 'hkb_2': -0.012236060081261421, 'vkb_2': -0.014316495768826844, 'hkb_3': 0.007434451992494132, 'vkb_3': 0.005603166782077848, 'hkb_4': 0.0009344851438581742, 'vkb_4': -0.0011875648898318075}. \u001b[0m\n",
      "\u001b[32m[I 2022-08-31 16:09:27,859]\u001b[0m Trial 10 finished with values: [0.002339843866527191, 0.0019843943833935253] and parameters: {'hkb_1': 0.005117418683078322, 'vkb_1': -1.694373568207272e-05, 'hkb_2': -0.015811181890463107, 'vkb_2': -0.0019425794688063165, 'hkb_3': 0.005710364434145977, 'vkb_3': -0.0030483187066206877, 'hkb_4': 0.006891702479344128, 'vkb_4': 1.6938476211642364e-05}. \u001b[0m\n",
      "\u001b[32m[I 2022-08-31 16:09:34,468]\u001b[0m Trial 11 finished with values: [0.00653500360788479, 0.010315414014285249] and parameters: {'hkb_1': 0.016346688324845825, 'vkb_1': 0.014839553615533501, 'hkb_2': 0.009220741215859848, 'vkb_2': -0.004126697151656467, 'hkb_3': -0.008885193223159876, 'vkb_3': -0.009662264614709034, 'hkb_4': -0.00897920332176547, 'vkb_4': -0.0004122267116481691}. \u001b[0m\n",
      "\u001b[32m[I 2022-08-31 16:09:40,830]\u001b[0m Trial 12 finished with values: [0.01054057653698281, 0.01284297355567636] and parameters: {'hkb_1': 0.0034372180141631105, 'vkb_1': 0.0038627057378416846, 'hkb_2': 0.0080058625260797, 'vkb_2': 0.014452703966625822, 'hkb_3': 0.008956366308743835, 'vkb_3': -0.006301208605985266, 'hkb_4': -0.008354442190277145, 'vkb_4': -0.005609295022214495}. \u001b[0m\n",
      "\u001b[32m[I 2022-08-31 16:09:46,509]\u001b[0m Trial 13 finished with values: [0.011556648381763374, 0.008337166455657654] and parameters: {'hkb_1': 0.013524818914272378, 'vkb_1': -0.0003406936767699105, 'hkb_2': 0.0047742445619608845, 'vkb_2': 0.011555413552213529, 'hkb_3': 0.0038878068266763825, 'vkb_3': 0.009640937838526006, 'hkb_4': -0.007927297457921714, 'vkb_4': -0.00035243711355134773}. \u001b[0m\n",
      "\u001b[32m[I 2022-08-31 16:09:48,587]\u001b[0m Trial 14 finished with values: [0.007768314406510082, 0.002013168008221337] and parameters: {'hkb_1': -0.016308335637180503, 'vkb_1': 0.0022180021231622757, 'hkb_2': -0.01269680038287861, 'vkb_2': -0.007801831900349559, 'hkb_3': 0.0002448358847729343, 'vkb_3': -0.00039922633668829435, 'hkb_4': -0.003048192300221515, 'vkb_4': -0.0011421723031144453}. \u001b[0m\n",
      "\u001b[32m[I 2022-08-31 16:09:53,184]\u001b[0m Trial 15 finished with values: [0.0008132201019372125, 0.008650673085116146] and parameters: {'hkb_1': -0.00716890583403362, 'vkb_1': 0.008523038555380506, 'hkb_2': 0.00814389688685654, 'vkb_2': 0.01587046299753855, 'hkb_3': 0.0033955519592052848, 'vkb_3': -0.003783757587433794, 'hkb_4': 0.004496908377552813, 'vkb_4': -5.770870502760754e-05}. \u001b[0m\n",
      "\u001b[32m[I 2022-08-31 16:09:58,666]\u001b[0m Trial 16 finished with values: [0.004631875869715323, 0.009362352780264597] and parameters: {'hkb_1': 0.014739682087840083, 'vkb_1': 0.0051363547891804945, 'hkb_2': -0.00019782451535715548, 'vkb_2': -0.01072613174362342, 'hkb_3': -0.006589046920636615, 'vkb_3': -0.00886638045181467, 'hkb_4': -0.0017991391295045147, 'vkb_4': -0.007317989426200827}. \u001b[0m\n",
      "\u001b[32m[I 2022-08-31 16:10:04,893]\u001b[0m Trial 17 finished with values: [0.007260543707359579, 0.011359339787863883] and parameters: {'hkb_1': 0.018583617717162656, 'vkb_1': 0.007847466482846038, 'hkb_2': 0.0034815423673221733, 'vkb_2': -0.005793843980930146, 'hkb_3': 0.00813234652348045, 'vkb_3': -0.002018472487956795, 'hkb_4': 0.0014987415279094501, 'vkb_4': 0.007285613983398104}. \u001b[0m\n",
      "\u001b[32m[I 2022-08-31 16:10:08,107]\u001b[0m Trial 18 finished with values: [0.005678194131152247, 0.0017932404740824209] and parameters: {'hkb_1': -0.0029302406956321775, 'vkb_1': 0.017073242365305757, 'hkb_2': -0.016918278270798087, 'vkb_2': -0.013365253182888712, 'hkb_3': 0.00475516241166783, 'vkb_3': 0.009147009919451334, 'hkb_4': -0.0009396857045493815, 'vkb_4': 0.006427445650982607}. \u001b[0m\n",
      "\u001b[32m[I 2022-08-31 16:10:14,491]\u001b[0m Trial 19 finished with values: [0.0025253840352688958, 0.014742304308614543] and parameters: {'hkb_1': 0.0077190306226480945, 'vkb_1': 0.003159167676430562, 'hkb_2': 0.01328951338745005, 'vkb_2': 0.016078197574263552, 'hkb_3': 0.004420524621524133, 'vkb_3': 0.002074912446446151, 'hkb_4': 0.002408616072149719, 'vkb_4': 0.0003236126927320532}. \u001b[0m\n",
      "\u001b[32m[I 2022-08-31 16:10:16,906]\u001b[0m Trial 20 finished with values: [0.011505998507106239, 0.005130475904876726] and parameters: {'hkb_1': -0.016191294559323884, 'vkb_1': 0.007649630646088094, 'hkb_2': -0.005176331680158883, 'vkb_2': 0.00951078176565786, 'hkb_3': 0.00434156246465347, 'vkb_3': 0.008769823995122586, 'hkb_4': -0.009557107777768229, 'vkb_4': 0.006566378295610192}. \u001b[0m\n",
      "\u001b[32m[I 2022-08-31 16:10:21,487]\u001b[0m Trial 21 finished with values: [0.0038782780771840007, 0.008823477251801033] and parameters: {'hkb_1': -0.007231103035185024, 'vkb_1': 0.005134475951923886, 'hkb_2': 0.008634051365770761, 'vkb_2': -0.014676999351327309, 'hkb_3': 0.0005690247810998198, 'vkb_3': 0.008293959071474474, 'hkb_4': -0.0021632133631736654, 'vkb_4': 0.005235733377070067}. \u001b[0m\n",
      "\u001b[32m[I 2022-08-31 16:10:26,279]\u001b[0m Trial 22 finished with values: [0.0044719891607525614, 0.0031228205612017987] and parameters: {'hkb_1': -0.007289098378210816, 'vkb_1': 0.006805444923890392, 'hkb_2': 0.017377110442199795, 'vkb_2': 0.001153891147311601, 'hkb_3': 0.001944084622489359, 'vkb_3': 0.004567111537984458, 'hkb_4': 0.0015627360440970302, 'vkb_4': 0.009297733447799007}. \u001b[0m\n",
      "\u001b[32m[I 2022-08-31 16:10:29,132]\u001b[0m Trial 23 finished with values: [0.009843250810259543, 0.001556063359045383] and parameters: {'hkb_1': -0.018443676521224587, 'vkb_1': -0.0027400131353621585, 'hkb_2': -0.0010831184825433118, 'vkb_2': 0.016293417531388996, 'hkb_3': -0.003231720392340114, 'vkb_3': -0.0004109707332484343, 'hkb_4': 0.00721095894472853, 'vkb_4': -0.008176777100390362}. \u001b[0m\n",
      "\u001b[32m[I 2022-08-31 16:10:35,503]\u001b[0m Trial 24 finished with values: [0.005128493021678237, 0.012920006334496045] and parameters: {'hkb_1': 0.004389474339219782, 'vkb_1': 0.0052589506432654705, 'hkb_2': 0.010466135921229483, 'vkb_2': 0.016224677191514606, 'hkb_3': 9.540038186534906e-05, 'vkb_3': -0.002280833373509372, 'hkb_4': 0.006601909521933449, 'vkb_4': -0.005542761587868903}. \u001b[0m\n",
      "\u001b[32m[I 2022-08-31 16:10:41,330]\u001b[0m Trial 25 finished with values: [0.010330963535828495, 0.012868413310920196] and parameters: {'hkb_1': -0.0011477673971906494, 'vkb_1': 0.01168106016432956, 'hkb_2': 0.016037278883813285, 'vkb_2': 0.01701304318218504, 'hkb_3': -0.009668551528646794, 'vkb_3': 0.0037117713589050576, 'hkb_4': 0.008604486996074355, 'vkb_4': -0.006113463288424676}. \u001b[0m\n",
      "\u001b[32m[I 2022-08-31 16:10:47,304]\u001b[0m Trial 26 finished with values: [0.00995631320401431, 0.010877225372709815] and parameters: {'hkb_1': -0.0001730348598562234, 'vkb_1': 0.003097421316219342, 'hkb_2': 0.010205794320532764, 'vkb_2': 0.002566163792218693, 'hkb_3': -0.007821351911704851, 'vkb_3': 0.003444393979111657, 'hkb_4': 0.002469107195468244, 'vkb_4': -0.007590201075521474}. \u001b[0m\n",
      "\u001b[32m[I 2022-08-31 16:10:51,523]\u001b[0m Trial 27 finished with values: [0.014248759450940172, 0.0018792543885079633] and parameters: {'hkb_1': 0.0007371874071911352, 'vkb_1': 0.006446981721722707, 'hkb_2': -0.011980363932737697, 'vkb_2': 0.019175709905947556, 'hkb_3': -0.002355066471848812, 'vkb_3': -0.005509972082556736, 'hkb_4': -0.008395377463262754, 'vkb_4': 0.0088835214839949}. \u001b[0m\n",
      "\u001b[32m[I 2022-08-31 16:10:55,950]\u001b[0m Trial 28 finished with values: [0.006947175588586596, 0.0019450833066588869] and parameters: {'hkb_1': -0.012990443325616084, 'vkb_1': -0.0021328306620856247, 'hkb_2': 0.01888499115983482, 'vkb_2': -0.0002336157655702109, 'hkb_3': -0.004120199263004465, 'vkb_3': 0.00725660734999045, 'hkb_4': -0.002935718120119157, 'vkb_4': -0.0022628855580524186}. \u001b[0m\n",
      "\u001b[32m[I 2022-08-31 16:11:01,917]\u001b[0m Trial 29 finished with values: [0.008238011813486382, 0.01177145146455672] and parameters: {'hkb_1': -0.0015028665009361938, 'vkb_1': -0.012281369824966783, 'hkb_2': 0.010418266113367238, 'vkb_2': 0.017692063892735924, 'hkb_3': -0.008217702133973754, 'vkb_3': -0.001073895725162326, 'hkb_4': 0.0017142798793951131, 'vkb_4': 0.007980766308776257}. \u001b[0m\n",
      "\u001b[32m[I 2022-08-31 16:11:06,238]\u001b[0m Trial 30 finished with values: [0.007374939047388982, 0.009607946058127023] and parameters: {'hkb_1': -0.002005587224349608, 'vkb_1': -0.0013757419748959727, 'hkb_2': 0.0016279884351315006, 'vkb_2': 0.0038753732268194327, 'hkb_3': 0.0051936154112731826, 'vkb_3': 0.004896581682593826, 'hkb_4': 0.009756951598695286, 'vkb_4': 0.009988855170393983}. \u001b[0m\n",
      "\u001b[32m[I 2022-08-31 16:11:10,788]\u001b[0m Trial 31 finished with values: [0.004938882640354107, 0.005374969653997335] and parameters: {'hkb_1': -0.011501456647073591, 'vkb_1': -0.016434234939315617, 'hkb_2': 0.019632785468822602, 'vkb_2': -0.009501018340945792, 'hkb_3': -0.0005894444465613172, 'vkb_3': -0.004550336589566295, 'hkb_4': -0.006374940010716099, 'vkb_4': 0.0012796148014668947}. \u001b[0m\n",
      "\u001b[32m[I 2022-08-31 16:11:15,094]\u001b[0m Trial 32 finished with values: [0.00857401484499982, 0.0023624851373362835] and parameters: {'hkb_1': -0.013693580708726866, 'vkb_1': 0.0107509646641437, 'hkb_2': 0.019411930906644042, 'vkb_2': 0.011650954061786702, 'hkb_3': 0.009166858616878758, 'vkb_3': 0.009674446994222036, 'hkb_4': -0.004065603930232993, 'vkb_4': -0.000817632684247312}. \u001b[0m\n",
      "\u001b[32m[I 2022-08-31 16:11:21,470]\u001b[0m Trial 33 finished with values: [0.0026019093481053665, 0.014644840628147053] and parameters: {'hkb_1': 0.008471500392230689, 'vkb_1': 0.009504459343377365, 'hkb_2': 0.015121735640104297, 'vkb_2': -0.013341049005232898, 'hkb_3': 0.005412913414941845, 'vkb_3': -0.0025161130911354303, 'hkb_4': 0.005698782762204499, 'vkb_4': -0.00041947435498533234}. \u001b[0m\n",
      "\u001b[32m[I 2022-08-31 16:11:24,592]\u001b[0m Trial 34 finished with values: [0.009944886289756798, 0.008000975489269558] and parameters: {'hkb_1': -0.01697658437438419, 'vkb_1': 0.011488463442788147, 'hkb_2': 0.0018914087535712165, 'vkb_2': 0.010209713352174587, 'hkb_3': 0.0027921181359745056, 'vkb_3': 0.0008664361125189785, 'hkb_4': -0.007693515837467979, 'vkb_4': 0.007683351692612443}. \u001b[0m\n",
      "\u001b[32m[I 2022-08-31 16:11:30,971]\u001b[0m Trial 35 finished with values: [0.0062381175101691765, 0.04699624975460481] and parameters: {'hkb_1': 0.012008685259338066, 'vkb_1': 0.004109616077992779, 'hkb_2': 0.015969697974474836, 'vkb_2': 0.005674497342402135, 'hkb_3': 0.004740931813520855, 'vkb_3': -0.00011545569738586822, 'hkb_4': 0.0018546701317048268, 'vkb_4': -0.009085432012677338}. \u001b[0m\n",
      "\u001b[32m[I 2022-08-31 16:11:36,767]\u001b[0m Trial 36 finished with values: [0.011859782396507756, 0.012808288904866178] and parameters: {'hkb_1': -0.00014477666064192582, 'vkb_1': -0.008612197953726905, 'hkb_2': 0.011503376664785878, 'vkb_2': -0.015024050977399481, 'hkb_3': 0.0062288103054030045, 'vkb_3': 0.005408290653180367, 'hkb_4': -0.009937181545768543, 'vkb_4': -0.0024626286783595705}. \u001b[0m\n",
      "\u001b[32m[I 2022-08-31 16:11:42,386]\u001b[0m Trial 37 finished with values: [0.008829359781452568, 0.012149565536374843] and parameters: {'hkb_1': 0.005379207099376934, 'vkb_1': 0.01660075152576818, 'hkb_2': 0.0029453836366499578, 'vkb_2': 0.016640934619716833, 'hkb_3': -0.0006110172448939091, 'vkb_3': -0.005008027670813411, 'hkb_4': 0.004374972454432061, 'vkb_4': 0.008322931535828687}. \u001b[0m\n",
      "\u001b[32m[I 2022-08-31 16:11:48,569]\u001b[0m Trial 38 finished with values: [0.0042470834982262975, 0.01156597410046785] and parameters: {'hkb_1': 0.0019273607758509836, 'vkb_1': -0.002223877429098065, 'hkb_2': 0.012959321948559869, 'vkb_2': 0.009011351809493286, 'hkb_3': 0.004830610677947567, 'vkb_3': 0.002071920103179163, 'hkb_4': 0.0034328795709177157, 'vkb_4': -0.002716658793337925}. \u001b[0m\n",
      "\u001b[32m[I 2022-08-31 16:11:51,636]\u001b[0m Trial 39 finished with values: [0.00726672123972667, 0.0051477058457861415] and parameters: {'hkb_1': -0.008587854444087694, 'vkb_1': -0.0007802640687594141, 'hkb_2': -0.005963538278707294, 'vkb_2': 0.01271747909797247, 'hkb_3': -0.0018684217403516466, 'vkb_3': -0.0021720192123969827, 'hkb_4': 0.007228653700752869, 'vkb_4': 0.006769229288078505}. \u001b[0m\n",
      "\u001b[32m[I 2022-08-31 16:11:55,079]\u001b[0m Trial 40 finished with values: [0.0021168033696694843, 0.006767579738235909] and parameters: {'hkb_1': -0.006055391327457107, 'vkb_1': -0.01821248484992964, 'hkb_2': -0.003589403980994176, 'vkb_2': -0.005616210510804347, 'hkb_3': 0.0018768839993201954, 'vkb_3': -0.002870513429856763, 'hkb_4': 0.004358271875946583, 'vkb_4': 0.002290437872031082}. \u001b[0m\n",
      "\u001b[32m[I 2022-08-31 16:11:58,090]\u001b[0m Trial 41 finished with values: [0.0011743543149073745, 0.0012746964402878646] and parameters: {'hkb_1': -0.006367500067747542, 'vkb_1': 0.006428044677235994, 'hkb_2': -0.01711221093064595, 'vkb_2': -0.013535341775771738, 'hkb_3': -0.003958874206107006, 'vkb_3': 0.007747101208291715, 'hkb_4': 0.003498294619636879, 'vkb_4': 0.007636444287762658}. \u001b[0m\n",
      "\u001b[32m[I 2022-08-31 16:12:02,682]\u001b[0m Trial 42 finished with values: [0.0053831812355318405, 0.0021366363965701863] and parameters: {'hkb_1': -0.013293617798079773, 'vkb_1': 0.0017869946599535572, 'hkb_2': 0.019132095150133522, 'vkb_2': 3.1637127448139873e-05, 'hkb_3': -0.008874071761591853, 'vkb_3': -0.0048653747919236495, 'hkb_4': -0.0032292429600628237, 'vkb_4': 0.0055080988164015}. \u001b[0m\n",
      "\u001b[32m[I 2022-08-31 16:12:07,635]\u001b[0m Trial 43 finished with values: [0.003861512363633355, 0.008849150946500616] and parameters: {'hkb_1': -0.006374874043908943, 'vkb_1': 0.01286797094124231, 'hkb_2': 0.012539642759713535, 'vkb_2': 0.0049441547829658546, 'hkb_3': 3.326743621159638e-05, 'vkb_3': 0.006864768921245717, 'hkb_4': 0.007666165920416237, 'vkb_4': 0.0063975184224661415}. \u001b[0m\n",
      "\u001b[32m[I 2022-08-31 16:12:11,997]\u001b[0m Trial 44 finished with values: [0.0020680823326893402, 0.004665621245251053] and parameters: {'hkb_1': 0.0031020510714985204, 'vkb_1': -0.008085120320365307, 'hkb_2': -0.00977785667693293, 'vkb_2': 0.0014287960600592002, 'hkb_3': -0.0020920574510532725, 'vkb_3': 0.0036674493908030303, 'hkb_4': 0.007950188121687846, 'vkb_4': 0.003539705381480131}. \u001b[0m\n",
      "\u001b[32m[I 2022-08-31 16:12:15,934]\u001b[0m Trial 45 finished with values: [0.00630373575680882, 0.0015103543513256931] and parameters: {'hkb_1': -0.016740723487739216, 'vkb_1': 0.0024439499924046176, 'hkb_2': 0.008083614304190849, 'vkb_2': 0.010479682430690002, 'hkb_3': 0.0036574158701847374, 'vkb_3': -0.005807599308200869, 'hkb_4': -0.0021128009594207735, 'vkb_4': 0.004825221236506276}. \u001b[0m\n",
      "\u001b[32m[I 2022-08-31 16:12:21,235]\u001b[0m Trial 46 finished with values: [0.01365906589796763, 0.009959410773273022] and parameters: {'hkb_1': -0.005549046410399603, 'vkb_1': 0.011155774147260922, 'hkb_2': 0.013499293516165956, 'vkb_2': -0.017436262318396588, 'hkb_3': 0.0041572437367614155, 'vkb_3': -0.005648030519671668, 'hkb_4': -0.001601101516786196, 'vkb_4': -0.009091149069261893}. \u001b[0m\n",
      "\u001b[32m[I 2022-08-31 16:12:23,780]\u001b[0m Trial 47 finished with values: [0.007738178798921088, 0.004594512963644318] and parameters: {'hkb_1': -0.017678189047214535, 'vkb_1': 0.01896324781977948, 'hkb_2': -0.006816104641486031, 'vkb_2': -0.0030074937064790176, 'hkb_3': 0.004322739044209737, 'vkb_3': -0.005766871816670352, 'hkb_4': -0.002758398042557915, 'vkb_4': 0.007014326287232255}. \u001b[0m\n",
      "\u001b[32m[I 2022-08-31 16:12:26,574]\u001b[0m Trial 48 finished with values: [0.005592411618574159, 0.0033552833517175554] and parameters: {'hkb_1': -0.0077696516073166005, 'vkb_1': -0.01808262961681796, 'hkb_2': -0.019704108000138033, 'vkb_2': 0.0020434288414477135, 'hkb_3': -0.00038779565536940265, 'vkb_3': 0.0023926340780056014, 'hkb_4': -0.001184236120699577, 'vkb_4': 0.007189422795963905}. \u001b[0m\n",
      "\u001b[32m[I 2022-08-31 16:12:30,943]\u001b[0m Trial 49 finished with values: [0.009077616197362842, 0.0031977761293020537] and parameters: {'hkb_1': -0.014472135279944238, 'vkb_1': 0.011662963878565847, 'hkb_2': 0.009691090200122376, 'vkb_2': 0.014466625627138473, 'hkb_3': -0.002898510781082506, 'vkb_3': 0.0023325368089827155, 'hkb_4': 0.008487357992851717, 'vkb_4': -0.0019168408266537589}. \u001b[0m\n",
      "\u001b[32m[I 2022-08-31 16:12:35,127]\u001b[0m Trial 50 finished with values: [0.00842936986618458, 0.0016482328719361154] and parameters: {'hkb_1': -0.01852387107311268, 'vkb_1': -0.0021328306620856247, 'hkb_2': 0.01888499115983482, 'vkb_2': -0.014316495768826844, 'hkb_3': -0.004120199263004465, 'vkb_3': 0.00725660734999045, 'hkb_4': -0.002935718120119157, 'vkb_4': -0.0011875648898318075}. \u001b[0m\n",
      "\u001b[32m[I 2022-08-31 16:12:37,909]\u001b[0m Trial 51 finished with values: [0.007933107018105836, 0.0012439142081334784] and parameters: {'hkb_1': -0.006367500067747542, 'vkb_1': 0.0024439499924046176, 'hkb_2': -0.01711221093064595, 'vkb_2': 0.010479682430690002, 'hkb_3': 0.0036574158701847374, 'vkb_3': 0.007747101208291715, 'hkb_4': -0.005164855835165971, 'vkb_4': 0.007636444287762658}. \u001b[0m\n",
      "\u001b[32m[I 2022-08-31 16:12:42,134]\u001b[0m Trial 52 finished with values: [0.011300893963189472, 0.008059028824688723] and parameters: {'hkb_1': -0.0077696516073166005, 'vkb_1': -0.01808262961681796, 'hkb_2': 0.004995174702434376, 'vkb_2': 0.0020434288414477135, 'hkb_3': -0.00038779565536940265, 'vkb_3': 0.0023926340780056014, 'hkb_4': -0.001184236120699577, 'vkb_4': -0.008859811048518388}. \u001b[0m\n",
      "\u001b[32m[I 2022-08-31 16:12:47,194]\u001b[0m Trial 53 finished with values: [0.007149559449180052, 0.00841333512987349] and parameters: {'hkb_1': -0.006374874043908943, 'vkb_1': 0.01286797094124231, 'hkb_2': 0.012539642759713535, 'vkb_2': -0.005616210510804347, 'hkb_3': -0.0002635601148213238, 'vkb_3': 0.006864768921245717, 'hkb_4': 0.007666165920416237, 'vkb_4': 0.002290437872031082}. \u001b[0m\n",
      "\u001b[32m[I 2022-08-31 16:12:49,256]\u001b[0m Trial 54 finished with values: [0.005822007758699028, 0.002257453328651126] and parameters: {'hkb_1': -0.016308335637180503, 'vkb_1': 0.0022180021231622757, 'hkb_2': -0.01269680038287861, 'vkb_2': -0.0019425794688063165, 'hkb_3': 0.005710364434145977, 'vkb_3': -0.0030483187066206877, 'hkb_4': -0.003048192300221515, 'vkb_4': -0.0011421723031144453}. \u001b[0m\n",
      "\u001b[32m[I 2022-08-31 16:12:55,791]\u001b[0m Trial 55 finished with values: [0.006715676837087735, 0.013190826758892759] and parameters: {'hkb_1': 0.004389474339219782, 'vkb_1': 0.0052589506432654705, 'hkb_2': 0.010466135921229483, 'vkb_2': 0.0012208542139410597, 'hkb_3': 9.540038186534906e-05, 'vkb_3': -0.002280833373509372, 'hkb_4': 0.006601909521933449, 'vkb_4': -0.005542761587868903}. \u001b[0m\n",
      "\u001b[32m[I 2022-08-31 16:13:00,298]\u001b[0m Trial 56 finished with values: [0.0017713725638121229, 0.0032340916009169136] and parameters: {'hkb_1': 0.0031020510714985204, 'vkb_1': 0.008689538540816506, 'hkb_2': -0.00977785667693293, 'vkb_2': 0.0014287960600592002, 'hkb_3': -0.0020920574510532725, 'vkb_3': 0.005603166782077848, 'hkb_4': 0.0009344851438581742, 'vkb_4': 0.003539705381480131}. \u001b[0m\n",
      "\u001b[32m[I 2022-08-31 16:13:04,924]\u001b[0m Trial 57 finished with values: [0.007195273880815564, 0.002115553823167035] and parameters: {'hkb_1': -0.011501456647073591, 'vkb_1': -0.016434234939315617, 'hkb_2': 0.019632785468822602, 'vkb_2': -0.009501018340945792, 'hkb_3': -0.0005894444465613172, 'vkb_3': -0.004550336589566295, 'hkb_4': 0.0015627360440970302, 'vkb_4': -0.007811006723623962}. \u001b[0m\n",
      "\u001b[32m[I 2022-08-31 16:13:09,563]\u001b[0m Trial 58 finished with values: [0.006921212748870449, 0.0037728267168816447] and parameters: {'hkb_1': -0.011404939219231913, 'vkb_1': -0.012281369824966783, 'hkb_2': 0.010418266113367238, 'vkb_2': 0.017692063892735924, 'hkb_3': -0.008217702133973754, 'vkb_3': 0.004567111537984458, 'hkb_4': 0.0017142798793951131, 'vkb_4': 0.007980766308776257}. \u001b[0m\n",
      "\u001b[32m[I 2022-08-31 16:13:13,915]\u001b[0m Trial 59 finished with values: [0.003540348926595874, 0.0064735355832949305] and parameters: {'hkb_1': 0.0031020510714985204, 'vkb_1': -0.008085120320365307, 'hkb_2': -0.00977785667693293, 'vkb_2': 0.0049441547829658546, 'hkb_3': 0.004517036596368989, 'vkb_3': 0.006864768921245717, 'hkb_4': 0.007666165920416237, 'vkb_4': 0.0063975184224661415}. \u001b[0m\n",
      "\u001b[32m[I 2022-08-31 16:13:18,213]\u001b[0m Trial 60 finished with values: [0.00996727655311124, 0.001869073770091474] and parameters: {'hkb_1': 0.0069710603869362585, 'vkb_1': 0.008036066512205054, 'hkb_2': -0.01269680038287861, 'vkb_2': -0.007801831900349559, 'hkb_3': 0.008040307465033017, 'vkb_3': 0.007747101208291715, 'hkb_4': -0.006711604883293094, 'vkb_4': 0.007636444287762658}. \u001b[0m\n",
      "\u001b[32m[I 2022-08-31 16:13:21,148]\u001b[0m Trial 61 finished with values: [0.006722739018568757, 0.00620664160210376] and parameters: {'hkb_1': -0.008587854444087694, 'vkb_1': -0.014839514711000739, 'hkb_2': -0.005963538278707294, 'vkb_2': 0.001153891147311601, 'hkb_3': 0.001944084622489359, 'vkb_3': 0.004567111537984458, 'hkb_4': 0.0015627360440970302, 'vkb_4': 0.009297733447799007}. \u001b[0m\n",
      "\u001b[32m[I 2022-08-31 16:13:25,976]\u001b[0m Trial 62 finished with values: [0.006203786777630602, 0.0090338692435454] and parameters: {'hkb_1': -0.0077696516073166005, 'vkb_1': -0.01808262961681796, 'hkb_2': 0.019411930906644042, 'vkb_2': 0.0020434288414477135, 'hkb_3': 0.009166858616878758, 'vkb_3': 0.009674446994222036, 'hkb_4': -0.001184236120699577, 'vkb_4': -0.0009390846374302472}. \u001b[0m\n",
      "\u001b[32m[I 2022-08-31 16:13:28,662]\u001b[0m Trial 63 finished with values: [0.005021672167014004, 0.003991523992741696] and parameters: {'hkb_1': -0.0077696516073166005, 'vkb_1': 0.012556529478748326, 'hkb_2': -0.019704108000138033, 'vkb_2': 0.00951078176565786, 'hkb_3': 0.00434156246465347, 'vkb_3': 0.008769823995122586, 'hkb_4': -0.001184236120699577, 'vkb_4': 0.006566378295610192}. \u001b[0m\n",
      "\u001b[32m[I 2022-08-31 16:13:33,032]\u001b[0m Trial 64 finished with values: [0.008017406249534965, 0.002457453935225761] and parameters: {'hkb_1': 0.0031020510714985204, 'vkb_1': -0.008085120320365307, 'hkb_2': -0.00977785667693293, 'vkb_2': 0.0014287960600592002, 'hkb_3': 0.00982440451340436, 'vkb_3': 0.009674446994222036, 'hkb_4': 0.007950188121687846, 'vkb_4': -0.0038239048897955622}. \u001b[0m\n",
      "\u001b[32m[I 2022-08-31 16:13:38,703]\u001b[0m Trial 65 finished with values: [0.0041543867389463515, 0.012500687465016664] and parameters: {'hkb_1': 0.018583617717162656, 'vkb_1': 0.007847466482846038, 'hkb_2': 0.0034815423673221733, 'vkb_2': 0.016224677191514606, 'hkb_3': 9.540038186534906e-05, 'vkb_3': -0.002280833373509372, 'hkb_4': 0.006601909521933449, 'vkb_4': -0.005542761587868903}. \u001b[0m\n",
      "\u001b[32m[I 2022-08-31 16:13:42,879]\u001b[0m Trial 66 finished with values: [0.010025742195931433, 0.001542480265330216] and parameters: {'hkb_1': 0.014739682087840083, 'vkb_1': 0.015160904997955967, 'hkb_2': -0.016841778107397, 'vkb_2': -0.01072613174362342, 'hkb_3': -0.006589046920636615, 'vkb_3': 0.0018975715900564367, 'hkb_4': -0.0017991391295045147, 'vkb_4': -0.007317989426200827}. \u001b[0m\n",
      "\u001b[32m[I 2022-08-31 16:13:45,077]\u001b[0m Trial 67 finished with values: [0.004668274792741318, 0.0014977162683071632] and parameters: {'hkb_1': -0.01967299242512186, 'vkb_1': -0.012281369824966783, 'hkb_2': -0.012236060081261421, 'vkb_2': -0.014316495768826844, 'hkb_3': 0.007434451992494132, 'vkb_3': 0.005603166782077848, 'hkb_4': 0.0028027522696830644, 'vkb_4': -0.0011875648898318075}. \u001b[0m\n",
      "\u001b[32m[I 2022-08-31 16:13:49,209]\u001b[0m Trial 68 finished with values: [0.007054428985337283, 0.006747879611895868] and parameters: {'hkb_1': -0.007231103035185024, 'vkb_1': 0.005134475951923886, 'hkb_2': -0.00019782451535715548, 'vkb_2': -0.014676999351327309, 'hkb_3': -0.006589046920636615, 'vkb_3': -0.00886638045181467, 'hkb_4': -0.0021632133631736654, 'vkb_4': 0.005235733377070067}. \u001b[0m\n",
      "\u001b[32m[I 2022-08-31 16:13:54,413]\u001b[0m Trial 69 finished with values: [0.007015294706581573, 0.0023915098204524304] and parameters: {'hkb_1': -0.013293617798079773, 'vkb_1': 0.0017869946599535572, 'hkb_2': 0.01040071466105652, 'vkb_2': 3.1637127448139873e-05, 'hkb_3': -0.008874071761591853, 'vkb_3': -0.0048653747919236495, 'hkb_4': -0.0004911275571347889, 'vkb_4': 0.0055080988164015}. \u001b[0m\n",
      "\u001b[32m[I 2022-08-31 16:13:57,841]\u001b[0m Trial 70 finished with values: [0.011081222625899384, 0.00533255384073931] and parameters: {'hkb_1': -0.008587854444087694, 'vkb_1': 0.0006549532436575592, 'hkb_2': -0.005963538278707294, 'vkb_2': 0.002566163792218693, 'hkb_3': -0.007821351911704851, 'vkb_3': -0.0021720192123969827, 'hkb_4': 0.007228653700752869, 'vkb_4': -0.007590201075521474}. \u001b[0m\n",
      "\u001b[32m[I 2022-08-31 16:14:00,653]\u001b[0m Trial 71 finished with values: [0.008861696872468613, 0.0016695194819211956] and parameters: {'hkb_1': -0.0077696516073166005, 'vkb_1': -0.01808262961681796, 'hkb_2': -0.01711221093064595, 'vkb_2': -0.013535341775771738, 'hkb_3': -0.00038779565536940265, 'vkb_3': -0.0053271624182049246, 'hkb_4': 0.0013016039965703715, 'vkb_4': 0.007636444287762658}. \u001b[0m\n",
      "\u001b[32m[I 2022-08-31 16:14:04,523]\u001b[0m Trial 72 finished with values: [0.007872900095991908, 0.0018916742715219135] and parameters: {'hkb_1': -0.0013616791477847057, 'vkb_1': 0.008689538540816506, 'hkb_2': -0.012236060081261421, 'vkb_2': 0.019175709905947556, 'hkb_3': -0.002355066471848812, 'vkb_3': -0.005509972082556736, 'hkb_4': -0.008395377463262754, 'vkb_4': -0.0011875648898318075}. \u001b[0m\n",
      "\u001b[32m[I 2022-08-31 16:14:08,328]\u001b[0m Trial 73 finished with values: [0.00213152163054215, 0.002321543046680745] and parameters: {'hkb_1': -0.012929958613602674, 'vkb_1': 0.003159167676430562, 'hkb_2': 0.007152735758300343, 'vkb_2': -0.007816095177030177, 'hkb_3': 0.006471644891285105, 'vkb_3': 0.002074912446446151, 'hkb_4': 0.0007119852165729124, 'vkb_4': 0.0003236126927320532}. \u001b[0m\n",
      "\u001b[32m[I 2022-08-31 16:14:13,336]\u001b[0m Trial 74 finished with values: [0.006598425894135363, 0.008684264097412334] and parameters: {'hkb_1': -0.007289098378210816, 'vkb_1': 0.006805444923890392, 'hkb_2': 0.017377110442199795, 'vkb_2': -0.004448217795572562, 'hkb_3': -0.0020920574510532725, 'vkb_3': 0.0036674493908030303, 'hkb_4': 0.0015627360440970302, 'vkb_4': 0.009297733447799007}. \u001b[0m\n",
      "\u001b[32m[I 2022-08-31 16:14:18,409]\u001b[0m Trial 75 finished with values: [0.007171893454792321, 0.0039384070257575] and parameters: {'hkb_1': -0.006367500067747542, 'vkb_1': 0.006428044677235994, 'hkb_2': 0.012959321948559869, 'vkb_2': 0.009011351809493286, 'hkb_3': 0.004830610677947567, 'vkb_3': -0.0016491137802974662, 'hkb_4': 0.003498294619636879, 'vkb_4': 0.007636444287762658}. \u001b[0m\n",
      "\u001b[32m[I 2022-08-31 16:14:22,803]\u001b[0m Trial 76 finished with values: [0.006233135577045683, 0.0028555470066921104] and parameters: {'hkb_1': -0.012014105868658902, 'vkb_1': 0.0107509646641437, 'hkb_2': 0.019411930906644042, 'vkb_2': 0.011650954061786702, 'hkb_3': 0.009166858616878758, 'vkb_3': 0.009674446994222036, 'hkb_4': -0.004065603930232993, 'vkb_4': -0.000817632684247312}. \u001b[0m\n",
      "\u001b[32m[I 2022-08-31 16:14:27,044]\u001b[0m Trial 77 finished with values: [0.0037694695158798173, 0.002062408378932672] and parameters: {'hkb_1': 0.005117418683078322, 'vkb_1': -0.008612197953726905, 'hkb_2': -0.015811181890463107, 'vkb_2': -0.015024050977399481, 'hkb_3': 0.005710364434145977, 'vkb_3': -0.0030483187066206877, 'hkb_4': 0.006891702479344128, 'vkb_4': 0.00305956128936858}. \u001b[0m\n",
      "\u001b[32m[I 2022-08-31 16:14:31,429]\u001b[0m Trial 78 finished with values: [0.01274524917393468, 0.002806118481120818] and parameters: {'hkb_1': 0.016346688324845825, 'vkb_1': 0.014839553615533501, 'hkb_2': -0.011980363932737697, 'vkb_2': 0.013112546986490819, 'hkb_3': -0.002355066471848812, 'vkb_3': -0.005509972082556736, 'hkb_4': -0.008395377463262754, 'vkb_4': 0.0088835214839949}. \u001b[0m\n",
      "\u001b[32m[I 2022-08-31 16:14:36,088]\u001b[0m Trial 79 finished with values: [0.007979409416821215, 0.002491535625324068] and parameters: {'hkb_1': -0.009476314859455326, 'vkb_1': -0.01068658144829378, 'hkb_2': 0.011503376664785878, 'vkb_2': -0.015024050977399481, 'hkb_3': 9.313197936195936e-05, 'vkb_3': 0.005408290653180367, 'hkb_4': 0.0006807248888727503, 'vkb_4': -0.003994111551112753}. \u001b[0m\n",
      "\u001b[32m[I 2022-08-31 16:14:39,961]\u001b[0m Trial 80 finished with values: [0.00609920170593367, 0.002412149137406134] and parameters: {'hkb_1': -0.016308335637180503, 'vkb_1': 0.01135705662787365, 'hkb_2': 0.00814389688685654, 'vkb_2': -0.007801831900349559, 'hkb_3': -0.0014011010961410709, 'vkb_3': -0.003783757587433794, 'hkb_4': 0.004496908377552813, 'vkb_4': -5.770870502760754e-05}. \u001b[0m\n",
      "\u001b[32m[I 2022-08-31 16:14:44,193]\u001b[0m Trial 81 finished with values: [0.0023255816583613435, 0.001912683423135203] and parameters: {'hkb_1': 0.005117418683078322, 'vkb_1': -1.694373568207272e-05, 'hkb_2': -0.015811181890463107, 'vkb_2': -0.0019425794688063165, 'hkb_3': 0.005710364434145977, 'vkb_3': -0.0030483187066206877, 'hkb_4': 0.006891702479344128, 'vkb_4': 1.6938476211642364e-05}. \u001b[0m\n",
      "\u001b[32m[I 2022-08-31 16:14:50,364]\u001b[0m Trial 82 finished with values: [0.0038791184843268186, 0.011735738968156448] and parameters: {'hkb_1': 0.0019273607758509836, 'vkb_1': -0.002223877429098065, 'hkb_2': 0.012959321948559869, 'vkb_2': -0.014316495768826844, 'hkb_3': 0.004830610677947567, 'vkb_3': 0.002071920103179163, 'hkb_4': 0.0034328795709177157, 'vkb_4': -0.0011875648898318075}. \u001b[0m\n",
      "\u001b[32m[I 2022-08-31 16:14:53,906]\u001b[0m Trial 83 finished with values: [0.0027533441835317007, 0.006673459169160927] and parameters: {'hkb_1': -0.006055391327457107, 'vkb_1': -0.01821248484992964, 'hkb_2': -0.003589403980994176, 'vkb_2': -0.01539888023507527, 'hkb_3': 0.0018768839993201954, 'vkb_3': -0.002870513429856763, 'hkb_4': 0.0007242482806940672, 'vkb_4': 0.002290437872031082}. \u001b[0m\n",
      "\u001b[32m[I 2022-08-31 16:14:58,563]\u001b[0m Trial 84 finished with values: [0.0030267266443841844, 0.009247918841147989] and parameters: {'hkb_1': -0.009476314859455326, 'vkb_1': -1.694373568207272e-05, 'hkb_2': 0.01394977561493099, 'vkb_2': -0.0019425794688063165, 'hkb_3': 9.313197936195936e-05, 'vkb_3': 0.0029220744740146905, 'hkb_4': 0.0005080516708398704, 'vkb_4': 1.6938476211642364e-05}. \u001b[0m\n",
      "\u001b[32m[I 2022-08-31 16:15:02,828]\u001b[0m Trial 85 finished with values: [0.006560824849074303, 0.001973641989844724] and parameters: {'hkb_1': 0.007764862255961142, 'vkb_1': 0.0052589506432654705, 'hkb_2': -0.016841778107397, 'vkb_2': 0.0007482595069701024, 'hkb_3': -0.009170663331313184, 'vkb_3': -0.002280833373509372, 'hkb_4': 0.006807092413784502, 'vkb_4': 0.00288978869236956}. \u001b[0m\n",
      "\u001b[32m[I 2022-08-31 16:15:06,851]\u001b[0m Trial 86 finished with values: [0.005285913513619621, 0.0022243844920185932] and parameters: {'hkb_1': 0.007764862255961142, 'vkb_1': -0.008085120320365307, 'hkb_2': -0.016841778107397, 'vkb_2': 0.0014287960600592002, 'hkb_3': -0.0020920574510532725, 'vkb_3': 0.0018975715900564367, 'hkb_4': 0.007950188121687846, 'vkb_4': 0.00288978869236956}. \u001b[0m\n",
      "\u001b[32m[I 2022-08-31 16:15:10,496]\u001b[0m Trial 87 finished with values: [0.0079034309409775, 0.006953614960612177] and parameters: {'hkb_1': -0.0077696516073166005, 'vkb_1': -0.01808262961681796, 'hkb_2': -0.0010831184825433118, 'vkb_2': 0.0020434288414477135, 'hkb_3': -0.00038779565536940265, 'vkb_3': -0.0004109707332484343, 'hkb_4': -0.001184236120699577, 'vkb_4': 0.007189422795963905}. \u001b[0m\n",
      "\u001b[32m[I 2022-08-31 16:15:13,254]\u001b[0m Trial 88 finished with values: [0.004659787577967033, 0.0016934209799783937] and parameters: {'hkb_1': -0.006382883081584452, 'vkb_1': 0.007367326624450103, 'hkb_2': -0.016918278270798087, 'vkb_2': 0.005448889181420776, 'hkb_3': 0.00475516241166783, 'vkb_3': 0.009147009919451334, 'hkb_4': -0.003158319068411808, 'vkb_4': 0.00319524122336025}. \u001b[0m\n",
      "\u001b[32m[I 2022-08-31 16:15:17,898]\u001b[0m Trial 89 finished with values: [0.008174418432544846, 0.00643974369259467] and parameters: {'hkb_1': -0.006374874043908943, 'vkb_1': 0.008523038555380506, 'hkb_2': 0.00814389688685654, 'vkb_2': 0.0049441547829658546, 'hkb_3': 0.0033955519592052848, 'vkb_3': -0.003783757587433794, 'hkb_4': 0.004496908377552813, 'vkb_4': 0.0063975184224661415}. \u001b[0m\n",
      "\u001b[32m[I 2022-08-31 16:15:22,285]\u001b[0m Trial 90 finished with values: [0.010107175923505763, 0.009044137981286287] and parameters: {'hkb_1': -0.002005587224349608, 'vkb_1': -0.0013757419748959727, 'hkb_2': 0.0016279884351315006, 'vkb_2': 0.0038753732268194327, 'hkb_3': 0.0051936154112731826, 'vkb_3': 0.004896581682593826, 'hkb_4': 0.009756951598695286, 'vkb_4': 0.009988855170393983}. \u001b[0m\n",
      "\u001b[32m[I 2022-08-31 16:15:25,947]\u001b[0m Trial 91 finished with values: [0.0006389550881833394, 0.006765929628163884] and parameters: {'hkb_1': -0.0077696516073166005, 'vkb_1': 0.007367326624450103, 'hkb_2': -0.0023080376192776905, 'vkb_2': 0.005448889181420776, 'hkb_3': -0.00038779565536940265, 'vkb_3': 0.0023926340780056014, 'hkb_4': -0.001184236120699577, 'vkb_4': 0.0009323280732364946}. \u001b[0m\n",
      "\u001b[32m[I 2022-08-31 16:15:30,200]\u001b[0m Trial 92 finished with values: [0.0028007975557936596, 0.0663146748650969] and parameters: {'hkb_1': -0.0007121640621719771, 'vkb_1': 0.01501715354423758, 'hkb_2': -0.007264693512997078, 'vkb_2': 0.0008833541803668875, 'hkb_3': -0.0023375684351115344, 'vkb_3': -0.00568365890564249, 'hkb_4': 0.0018885304778815427, 'vkb_4': -0.009727877182983086}. \u001b[0m\n",
      "\u001b[32m[I 2022-08-31 16:15:34,893]\u001b[0m Trial 93 finished with values: [0.0042932775540944455, 0.009971779241119177] and parameters: {'hkb_1': -0.006055391327457107, 'vkb_1': -0.01821248484992964, 'hkb_2': 0.0036170275205475097, 'vkb_2': 0.011191078339680846, 'hkb_3': -0.007927345983665164, 'vkb_3': -0.002870513429856763, 'hkb_4': -0.00897920332176547, 'vkb_4': -0.0004122267116481691}. \u001b[0m\n",
      "\u001b[32m[I 2022-08-31 16:15:36,991]\u001b[0m Trial 94 finished with values: [0.004859253740052456, 0.005147504992757511] and parameters: {'hkb_1': -0.017678189047214535, 'vkb_1': 0.01896324781977948, 'hkb_2': -0.00977785667693293, 'vkb_2': 0.0014287960600592002, 'hkb_3': 0.007285923282729751, 'vkb_3': 0.0036674493908030303, 'hkb_4': -0.002758398042557915, 'vkb_4': 0.007014326287232255}. \u001b[0m\n",
      "\u001b[32m[I 2022-08-31 16:15:39,332]\u001b[0m Trial 95 finished with values: [0.001642201299939897, 0.002860718493119287] and parameters: {'hkb_1': -0.01535920258917872, 'vkb_1': 0.007760596483507444, 'hkb_2': -0.01269680038287861, 'vkb_2': 0.005448889181420776, 'hkb_3': -0.006003791171996795, 'vkb_3': -0.00039922633668829435, 'hkb_4': -0.003048192300221515, 'vkb_4': 0.00319524122336025}. \u001b[0m\n",
      "\u001b[32m[I 2022-08-31 16:15:44,249]\u001b[0m Trial 96 finished with values: [0.0063393138931377175, 0.00953714369286155] and parameters: {'hkb_1': -0.0077696516073166005, 'vkb_1': -0.01808262961681796, 'hkb_2': 0.013127596009176654, 'vkb_2': 0.0020434288414477135, 'hkb_3': 0.0036574158701847374, 'vkb_3': -0.005807599308200869, 'hkb_4': -0.001184236120699577, 'vkb_4': 0.004825221236506276}. \u001b[0m\n",
      "\u001b[32m[I 2022-08-31 16:15:47,307]\u001b[0m Trial 97 finished with values: [0.00935393275910265, 0.005430982814373308] and parameters: {'hkb_1': -0.0077696516073166005, 'vkb_1': -0.01808262961681796, 'hkb_2': -0.00977785667693293, 'vkb_2': 0.00430837054711453, 'hkb_3': -0.008326840047500155, 'vkb_3': 0.0023926340780056014, 'hkb_4': -0.001184236120699577, 'vkb_4': -0.007252367517888754}. \u001b[0m\n",
      "\u001b[32m[I 2022-08-31 16:15:52,256]\u001b[0m Trial 98 finished with values: [0.006845306018750794, 0.0076771185935082765] and parameters: {'hkb_1': -0.006374874043908943, 'vkb_1': 0.014839553615533501, 'hkb_2': 0.012539642759713535, 'vkb_2': -0.004126697151656467, 'hkb_3': 3.326743621159638e-05, 'vkb_3': 0.006864768921245717, 'hkb_4': 0.007666165920416237, 'vkb_4': 0.0063975184224661415}. \u001b[0m\n",
      "\u001b[32m[I 2022-08-31 16:15:55,526]\u001b[0m Trial 99 finished with values: [0.005678096217307057, 0.004599995977655608] and parameters: {'hkb_1': -0.009536059895427785, 'vkb_1': 0.006277915975202834, 'hkb_2': -0.005963538278707294, 'vkb_2': 0.01271747909797247, 'hkb_3': -0.009238997920998398, 'vkb_3': -0.0021720192123969827, 'hkb_4': -0.0055575949124096, 'vkb_4': 0.005926921770177484}. \u001b[0m\n",
      "\u001b[32m[I 2022-08-31 16:15:58,193]\u001b[0m Trial 100 finished with values: [0.005575939342256564, 0.004223595218050305] and parameters: {'hkb_1': -0.0077696516073166005, 'vkb_1': 0.0052589506432654705, 'hkb_2': -0.016841778107397, 'vkb_2': -0.010390554247064428, 'hkb_3': -0.00038779565536940265, 'vkb_3': -0.002280833373509372, 'hkb_4': 0.006807092413784502, 'vkb_4': 0.00288978869236956}. \u001b[0m\n",
      "\u001b[32m[I 2022-08-31 16:16:01,373]\u001b[0m Trial 101 finished with values: [0.009208857460865395, 0.005408250533088435] and parameters: {'hkb_1': -0.006367500067747542, 'vkb_1': -0.008085120320365307, 'hkb_2': -0.00977785667693293, 'vkb_2': 0.0014287960600592002, 'hkb_3': -0.0044544200194443495, 'vkb_3': -0.008277375685254352, 'hkb_4': 0.007950188121687846, 'vkb_4': 0.003539705381480131}. \u001b[0m\n",
      "\u001b[32m[I 2022-08-31 16:16:05,624]\u001b[0m Trial 102 finished with values: [0.004567977245708366, 0.00354017868872523] and parameters: {'hkb_1': -0.01967299242512186, 'vkb_1': -0.012281369824966783, 'hkb_2': 0.019411930906644042, 'vkb_2': 0.011650954061786702, 'hkb_3': 0.009166858616878758, 'vkb_3': 0.005603166782077848, 'hkb_4': -0.004065603930232993, 'vkb_4': -0.000817632684247312}. \u001b[0m\n",
      "\u001b[32m[I 2022-08-31 16:16:08,550]\u001b[0m Trial 103 finished with values: [0.007185347107000536, 0.0050262094707837] and parameters: {'hkb_1': -0.006367500067747542, 'vkb_1': 0.008689538540816506, 'hkb_2': -0.01711221093064595, 'vkb_2': 0.002231766654661769, 'hkb_3': -0.0020920574510532725, 'vkb_3': 0.007747101208291715, 'hkb_4': 0.009359143576988012, 'vkb_4': 0.003539705381480131}. \u001b[0m\n",
      "\u001b[32m[I 2022-08-31 16:16:12,991]\u001b[0m Trial 104 finished with values: [0.0009357624323045183, 0.002532890400893125] and parameters: {'hkb_1': -0.013293617798079773, 'vkb_1': -0.008085120320365307, 'hkb_2': 0.019132095150133522, 'vkb_2': 0.0014287960600592002, 'hkb_3': -0.0020920574510532725, 'vkb_3': 0.0036674493908030303, 'hkb_4': -0.0032292429600628237, 'vkb_4': 0.003539705381480131}. \u001b[0m\n",
      "\u001b[32m[I 2022-08-31 16:16:17,144]\u001b[0m Trial 105 finished with values: [0.0007651861815814253, 0.0038389971207668312] and parameters: {'hkb_1': 0.005117418683078322, 'vkb_1': -0.01821248484992964, 'hkb_2': -0.015811181890463107, 'vkb_2': 0.014167000196373496, 'hkb_3': 0.0018768839993201954, 'vkb_3': -0.002870513429856763, 'hkb_4': 0.004358271875946583, 'vkb_4': 1.6938476211642364e-05}. \u001b[0m\n",
      "\u001b[32m[I 2022-08-31 16:16:20,168]\u001b[0m Trial 106 finished with values: [0.008963158290666145, 0.0045568060842324214] and parameters: {'hkb_1': -0.006458589789362623, 'vkb_1': -0.01068658144829378, 'hkb_2': -0.012085179748046758, 'vkb_2': 0.0014287960600592002, 'hkb_3': 9.313197936195936e-05, 'vkb_3': 0.006745399643543476, 'hkb_4': 0.0005080516708398704, 'vkb_4': -0.003994111551112753}. \u001b[0m\n",
      "\u001b[32m[I 2022-08-31 16:16:25,096]\u001b[0m Trial 107 finished with values: [0.006603440506297322, 0.008344336019035342] and parameters: {'hkb_1': -0.007231103035185024, 'vkb_1': 0.0017869946599535572, 'hkb_2': 0.008634051365770761, 'vkb_2': 0.015286451729923146, 'hkb_3': -0.008874071761591853, 'vkb_3': -0.0048653747919236495, 'hkb_4': -0.0004911275571347889, 'vkb_4': 0.0055080988164015}. \u001b[0m\n",
      "\u001b[32m[I 2022-08-31 16:16:29,287]\u001b[0m Trial 108 finished with values: [0.008333995357323844, 0.0022602467085104123] and parameters: {'hkb_1': 0.004174579388499584, 'vkb_1': 0.00964066227526375, 'hkb_2': -0.013025168960623678, 'vkb_2': -0.007801831900349559, 'hkb_3': 0.008040307465033017, 'vkb_3': 0.007747101208291715, 'hkb_4': -0.004055894042093023, 'vkb_4': 0.007636444287762658}. \u001b[0m\n",
      "\u001b[32m[I 2022-08-31 16:16:33,744]\u001b[0m Trial 109 finished with values: [0.002959339300424609, 0.0020918607761802226] and parameters: {'hkb_1': -0.012491110217684741, 'vkb_1': 0.0024439499924046176, 'hkb_2': 0.008083614304190849, 'vkb_2': 0.00751677595774165, 'hkb_3': -0.008874071761591853, 'vkb_3': -0.005807599308200869, 'hkb_4': -0.0032292429600628237, 'vkb_4': 0.0015954085490286311}. \u001b[0m\n",
      "\u001b[32m[I 2022-08-31 16:16:36,784]\u001b[0m Trial 110 finished with values: [0.003891129881212049, 0.0012137535982260804] and parameters: {'hkb_1': -0.0077696516073166005, 'vkb_1': -0.01808262961681796, 'hkb_2': -0.016918278270798087, 'vkb_2': -0.013365253182888712, 'hkb_3': -0.00038779565536940265, 'vkb_3': 0.009147009919451334, 'hkb_4': -0.0009396857045493815, 'vkb_4': 0.007636444287762658}. \u001b[0m\n",
      "\u001b[32m[I 2022-08-31 16:16:39,086]\u001b[0m Trial 111 finished with values: [0.012731599755445792, 0.0018313328609812101] and parameters: {'hkb_1': -0.012929958613602674, 'vkb_1': 0.003159167676430562, 'hkb_2': -0.01269680038287861, 'vkb_2': -0.007816095177030177, 'hkb_3': 0.006471644891285105, 'vkb_3': -0.0030483187066206877, 'hkb_4': -0.009958433189161215, 'vkb_4': -0.0011421723031144453}. \u001b[0m\n",
      "\u001b[32m[I 2022-08-31 16:16:43,338]\u001b[0m Trial 112 finished with values: [0.0018656809780874218, 0.0012612673407778915] and parameters: {'hkb_1': 0.005117418683078322, 'vkb_1': 0.008689538540816506, 'hkb_2': -0.015811181890463107, 'vkb_2': -0.015024050977399481, 'hkb_3': -0.0077792008288849026, 'vkb_3': 0.005603166782077848, 'hkb_4': 0.0009344851438581742, 'vkb_4': 0.003539705381480131}. \u001b[0m\n",
      "\u001b[32m[I 2022-08-31 16:16:47,879]\u001b[0m Trial 113 finished with values: [0.0009150689730534885, 0.00939448820039653] and parameters: {'hkb_1': -0.00716890583403362, 'vkb_1': -1.694373568207272e-05, 'hkb_2': 0.00814389688685654, 'vkb_2': -0.0019425794688063165, 'hkb_3': 9.313197936195936e-05, 'vkb_3': -0.003783757587433794, 'hkb_4': 0.0005080516708398704, 'vkb_4': -5.770870502760754e-05}. \u001b[0m\n",
      "\u001b[32m[I 2022-08-31 16:16:49,893]\u001b[0m Trial 114 finished with values: [0.0036014862352275463, 0.0011725674012909503] and parameters: {'hkb_1': -0.01852387107311268, 'vkb_1': 0.006428044677235994, 'hkb_2': -0.01711221093064595, 'vkb_2': 0.013295709938121712, 'hkb_3': -0.004120199263004465, 'vkb_3': 0.007747101208291715, 'hkb_4': -0.002935718120119157, 'vkb_4': 0.007636444287762658}. \u001b[0m\n",
      "\u001b[32m[I 2022-08-31 16:16:53,977]\u001b[0m Trial 115 finished with values: [0.006208387891882337, 0.007263586880879008] and parameters: {'hkb_1': -0.0007121640621719771, 'vkb_1': 0.01501715354423758, 'hkb_2': -0.007264693512997078, 'vkb_2': 0.0049441547829658546, 'hkb_3': -0.0023375684351115344, 'vkb_3': -0.00568365890564249, 'hkb_4': 0.0018885304778815427, 'vkb_4': 0.0063975184224661415}. \u001b[0m\n",
      "\u001b[32m[I 2022-08-31 16:16:58,120]\u001b[0m Trial 116 finished with values: [0.003278158701465448, 0.0024552051692155346] and parameters: {'hkb_1': 0.007764862255961142, 'vkb_1': -0.008085120320365307, 'hkb_2': -0.016841778107397, 'vkb_2': 0.0014287960600592002, 'hkb_3': -0.00038779565536940265, 'vkb_3': 0.0023926340780056014, 'hkb_4': 0.007950188121687846, 'vkb_4': 0.0009323280732364946}. \u001b[0m\n",
      "\u001b[32m[I 2022-08-31 16:17:02,321]\u001b[0m Trial 117 finished with values: [0.0035801521501562755, 0.003324854661198286] and parameters: {'hkb_1': 0.005117418683078322, 'vkb_1': 0.01286797094124231, 'hkb_2': -0.015811181890463107, 'vkb_2': -0.0019425794688063165, 'hkb_3': 3.326743621159638e-05, 'vkb_3': -0.0030483187066206877, 'hkb_4': 0.007666165920416237, 'vkb_4': 1.6938476211642364e-05}. \u001b[0m\n",
      "\u001b[32m[I 2022-08-31 16:17:04,794]\u001b[0m Trial 118 finished with values: [0.008285010047203289, 0.0032961081450455653] and parameters: {'hkb_1': -0.010007989194252498, 'vkb_1': 0.0052589506432654705, 'hkb_2': -0.016841778107397, 'vkb_2': 0.0049441547829658546, 'hkb_3': -0.009170663331313184, 'vkb_3': -0.002280833373509372, 'hkb_4': 0.007666165920416237, 'vkb_4': 0.00288978869236956}. \u001b[0m\n",
      "\u001b[32m[I 2022-08-31 16:17:06,945]\u001b[0m Trial 119 finished with values: [0.004359641874169091, 0.0018311306430141836] and parameters: {'hkb_1': -0.016308335637180503, 'vkb_1': -1.694373568207272e-05, 'hkb_2': -0.01269680038287861, 'vkb_2': -0.007801831900349559, 'hkb_3': 0.005710364434145977, 'vkb_3': -0.0030483187066206877, 'hkb_4': 0.006891702479344128, 'vkb_4': 1.6938476211642364e-05}. \u001b[0m\n",
      "\u001b[32m[I 2022-08-31 16:17:11,637]\u001b[0m Trial 120 finished with values: [0.004878538213530365, 0.00373213688055429] and parameters: {'hkb_1': -0.009476314859455326, 'vkb_1': 0.008689538540816506, 'hkb_2': 0.01394977561493099, 'vkb_2': -0.0019425794688063165, 'hkb_3': 9.313197936195936e-05, 'vkb_3': 0.005603166782077848, 'hkb_4': 0.0009344851438581742, 'vkb_4': 1.6938476211642364e-05}. \u001b[0m\n",
      "\u001b[32m[I 2022-08-31 16:17:16,207]\u001b[0m Trial 121 finished with values: [0.008355477096286512, 0.0023055941690810415] and parameters: {'hkb_1': -0.011501456647073591, 'vkb_1': 0.008523038555380506, 'hkb_2': 0.019632785468822602, 'vkb_2': -0.009501018340945792, 'hkb_3': 0.0033955519592052848, 'vkb_3': -0.004550336589566295, 'hkb_4': 0.0015627360440970302, 'vkb_4': -0.007811006723623962}. \u001b[0m\n",
      "\u001b[32m[I 2022-08-31 16:17:20,337]\u001b[0m Trial 122 finished with values: [0.0021545328489096763, 0.0020564834434431624] and parameters: {'hkb_1': -0.016308335637180503, 'vkb_1': 0.0022180021231622757, 'hkb_2': 0.01040071466105652, 'vkb_2': -0.0019425794688063165, 'hkb_3': 0.006572970794348097, 'vkb_3': -0.0030483187066206877, 'hkb_4': -0.0004911275571347889, 'vkb_4': -0.0011421723031144453}. \u001b[0m\n",
      "\u001b[32m[I 2022-08-31 16:17:24,617]\u001b[0m Trial 123 finished with values: [0.006883065206091404, 0.001745428224363945] and parameters: {'hkb_1': 0.00633714583636838, 'vkb_1': 0.014211559466019718, 'hkb_2': -0.016918278270798087, 'vkb_2': -0.013365253182888712, 'hkb_3': -0.006003791171996795, 'vkb_3': -0.005725409647555477, 'hkb_4': -0.0009396857045493815, 'vkb_4': 0.006427445650982607}. \u001b[0m\n",
      "\u001b[32m[I 2022-08-31 16:17:28,791]\u001b[0m Trial 124 finished with values: [0.010819821766574497, 0.0014121024739748862] and parameters: {'hkb_1': 0.014739682087840083, 'vkb_1': 0.015160904997955967, 'hkb_2': -0.016841778107397, 'vkb_2': -0.01072613174362342, 'hkb_3': -0.006589046920636615, 'vkb_3': 0.0018975715900564367, 'hkb_4': -0.0017991391295045147, 'vkb_4': -0.007317989426200827}. \u001b[0m\n",
      "\u001b[32m[I 2022-08-31 16:17:34,934]\u001b[0m Trial 125 finished with values: [0.005835874658164802, 0.01261293208851513] and parameters: {'hkb_1': 0.001413418253145414, 'vkb_1': 0.006805444923890392, 'hkb_2': 0.01328951338745005, 'vkb_2': 0.001153891147311601, 'hkb_3': 0.004420524621524133, 'vkb_3': 0.0060383965865563795, 'hkb_4': 0.002408616072149719, 'vkb_4': 0.009297733447799007}. \u001b[0m\n",
      "\u001b[32m[I 2022-08-31 16:17:38,979]\u001b[0m Trial 126 finished with values: [0.007465044388945599, 0.0018162453828191067] and parameters: {'hkb_1': 0.0007371874071911352, 'vkb_1': -0.002120235433595675, 'hkb_2': -0.011980363932737697, 'vkb_2': 0.005448889181420776, 'hkb_3': -0.002355066471848812, 'vkb_3': -0.005509972082556736, 'hkb_4': -0.003158319068411808, 'vkb_4': 0.00319524122336025}. \u001b[0m\n",
      "\u001b[32m[I 2022-08-31 16:17:43,205]\u001b[0m Trial 127 finished with values: [0.011672669804494216, 0.001585638715833265] and parameters: {'hkb_1': 0.014739682087840083, 'vkb_1': 0.0107509646641437, 'hkb_2': -0.016841778107397, 'vkb_2': -0.01072613174362342, 'hkb_3': -0.006589046920636615, 'vkb_3': 0.002377933511388002, 'hkb_4': -0.004065603930232993, 'vkb_4': -0.007317989426200827}. \u001b[0m\n",
      "\u001b[32m[I 2022-08-31 16:17:45,801]\u001b[0m Trial 128 finished with values: [0.0039601115660025995, 0.0016541591701452066] and parameters: {'hkb_1': -0.016308335637180503, 'vkb_1': -0.00858244129818039, 'hkb_2': -0.003589403980994176, 'vkb_2': -0.005616210510804347, 'hkb_3': 0.0018768839993201954, 'vkb_3': -0.002870513429856763, 'hkb_4': 0.004358271875946583, 'vkb_4': 0.002290437872031082}. \u001b[0m\n",
      "\u001b[32m[I 2022-08-31 16:17:48,759]\u001b[0m Trial 129 finished with values: [0.008041772138600922, 0.0017510548222441644] and parameters: {'hkb_1': -0.006367500067747542, 'vkb_1': 0.0021488642570130535, 'hkb_2': -0.01711221093064595, 'vkb_2': 0.005448889181420776, 'hkb_3': -0.003958874206107006, 'vkb_3': 0.007747101208291715, 'hkb_4': 0.003498294619636879, 'vkb_4': -0.004952085753011617}. \u001b[0m\n",
      "\u001b[32m[I 2022-08-31 16:17:51,127]\u001b[0m Trial 130 finished with values: [0.005828454231557927, 0.003235250151475166] and parameters: {'hkb_1': -0.013693580708726866, 'vkb_1': 0.0107509646641437, 'hkb_2': -0.00977785667693293, 'vkb_2': 0.011650954061786702, 'hkb_3': -0.0020920574510532725, 'vkb_3': 0.009674446994222036, 'hkb_4': -0.004065603930232993, 'vkb_4': 0.003539705381480131}. \u001b[0m\n",
      "\u001b[32m[I 2022-08-31 16:17:55,028]\u001b[0m Trial 131 finished with values: [0.007678679261876047, 0.0014021726460992563] and parameters: {'hkb_1': -0.016740723487739216, 'vkb_1': 0.0024439499924046176, 'hkb_2': 0.008083614304190849, 'vkb_2': 0.010479682430690002, 'hkb_3': 0.0036574158701847374, 'vkb_3': -0.005807599308200869, 'hkb_4': -0.0021128009594207735, 'vkb_4': 0.004825221236506276}. \u001b[0m\n",
      "\u001b[32m[I 2022-08-31 16:18:01,439]\u001b[0m Trial 132 finished with values: [0.004934904067783308, 0.014585946610715255] and parameters: {'hkb_1': 0.0077190306226480945, 'vkb_1': -0.008085120320365307, 'hkb_2': 0.01328951338745005, 'vkb_2': 0.016078197574263552, 'hkb_3': 0.004420524621524133, 'vkb_3': 0.002074912446446151, 'hkb_4': 0.007950188121687846, 'vkb_4': -0.0038051732348690966}. \u001b[0m\n",
      "\u001b[32m[I 2022-08-31 16:18:04,073]\u001b[0m Trial 133 finished with values: [0.007240903566705745, 0.004121743478730086] and parameters: {'hkb_1': -0.0077696516073166005, 'vkb_1': -0.01808262961681796, 'hkb_2': -0.019704108000138033, 'vkb_2': 0.0020434288414477135, 'hkb_3': -0.00038779565536940265, 'vkb_3': 0.0023926340780056014, 'hkb_4': -0.001184236120699577, 'vkb_4': 0.007189422795963905}. \u001b[0m\n",
      "\u001b[32m[I 2022-08-31 16:18:08,950]\u001b[0m Trial 134 finished with values: [0.0026221228309421646, 0.012500114722818008] and parameters: {'hkb_1': 0.00809233204894157, 'vkb_1': -0.008085120320365307, 'hkb_2': -0.0023080376192776905, 'vkb_2': 0.005448889181420776, 'hkb_3': -0.0020920574510532725, 'vkb_3': 0.0023926340780056014, 'hkb_4': 0.007950188121687846, 'vkb_4': 0.0009323280732364946}. \u001b[0m\n",
      "\u001b[32m[I 2022-08-31 16:18:13,388]\u001b[0m Trial 135 finished with values: [0.005168327455839826, 0.007769617828701654] and parameters: {'hkb_1': -0.007289098378210816, 'vkb_1': 0.006805444923890392, 'hkb_2': 0.008083614304190849, 'vkb_2': -0.013527178224056469, 'hkb_3': 0.001944084622489359, 'vkb_3': 0.004567111537984458, 'hkb_4': 0.0015627360440970302, 'vkb_4': 0.009297733447799007}. \u001b[0m\n",
      "\u001b[32m[I 2022-08-31 16:18:19,861]\u001b[0m Trial 136 finished with values: [0.0051543701297997605, 0.01496178525269273] and parameters: {'hkb_1': 0.008471500392230689, 'vkb_1': 0.009504459343377365, 'hkb_2': 0.015121735640104297, 'vkb_2': -0.013341049005232898, 'hkb_3': 0.005412913414941845, 'vkb_3': -0.0030483187066206877, 'hkb_4': -0.003048192300221515, 'vkb_4': -0.00041947435498533234}. \u001b[0m\n",
      "\u001b[32m[I 2022-08-31 16:18:24,266]\u001b[0m Trial 137 finished with values: [0.006271852940814016, 0.0013551641386044932] and parameters: {'hkb_1': -0.01852387107311268, 'vkb_1': 0.0024439499924046176, 'hkb_2': 0.01888499115983482, 'vkb_2': 0.010479682430690002, 'hkb_3': -0.004120199263004465, 'vkb_3': 0.007747101208291715, 'hkb_4': -0.005164855835165971, 'vkb_4': -0.0011875648898318075}. \u001b[0m\n",
      "\u001b[32m[I 2022-08-31 16:18:28,387]\u001b[0m Trial 138 finished with values: [0.0005534569128364321, 0.0023364247448829727] and parameters: {'hkb_1': 0.0031020510714985204, 'vkb_1': -0.008085120320365307, 'hkb_2': -0.01711221093064595, 'vkb_2': 0.0014287960600592002, 'hkb_3': -0.0020920574510532725, 'vkb_3': 0.0036674493908030303, 'hkb_4': 0.003498294619636879, 'vkb_4': 0.003539705381480131}. \u001b[0m\n",
      "\u001b[32m[I 2022-08-31 16:18:32,152]\u001b[0m Trial 139 finished with values: [0.0028440217472269404, 0.0019204232771619974] and parameters: {'hkb_1': -0.012929958613602674, 'vkb_1': 0.0045718212464778245, 'hkb_2': 0.007152735758300343, 'vkb_2': -0.007816095177030177, 'hkb_3': 0.006471644891285105, 'vkb_3': 0.002074912446446151, 'hkb_4': 0.0007119852165729124, 'vkb_4': 0.005240899494802222}. \u001b[0m\n",
      "\u001b[32m[I 2022-08-31 16:18:34,125]\u001b[0m Trial 140 finished with values: [0.007816585877285917, 0.0012239340845228033] and parameters: {'hkb_1': -0.01852387107311268, 'vkb_1': 0.006428044677235994, 'hkb_2': -0.01711221093064595, 'vkb_2': -0.014316495768826844, 'hkb_3': -0.003958874206107006, 'vkb_3': 0.007747101208291715, 'hkb_4': -0.002935718120119157, 'vkb_4': -0.0011875648898318075}. \u001b[0m\n",
      "\u001b[32m[I 2022-08-31 16:18:36,133]\u001b[0m Trial 141 finished with values: [0.002678340913073981, 0.001189271426432805] and parameters: {'hkb_1': -0.01967299242512186, 'vkb_1': 0.007367326624450103, 'hkb_2': -0.012236060081261421, 'vkb_2': -0.014316495768826844, 'hkb_3': 0.0037426201722246272, 'vkb_3': 0.0016561916339226917, 'hkb_4': 0.0003510762663945892, 'vkb_4': 0.00319524122336025}. \u001b[0m\n",
      "\u001b[32m[I 2022-08-31 16:18:40,458]\u001b[0m Trial 142 finished with values: [0.001979417413196499, 0.003556288486682386] and parameters: {'hkb_1': 0.005117418683078322, 'vkb_1': 0.01501715354423758, 'hkb_2': -0.015811181890463107, 'vkb_2': -0.0019425794688063165, 'hkb_3': 0.005710364434145977, 'vkb_3': -0.008285314508022161, 'hkb_4': 0.008772853908755597, 'vkb_4': 1.6938476211642364e-05}. \u001b[0m\n",
      "\u001b[32m[I 2022-08-31 16:18:42,491]\u001b[0m Trial 143 finished with values: [0.007658437407174027, 0.0021174997198269625] and parameters: {'hkb_1': -0.01852387107311268, 'vkb_1': 0.012774884087579059, 'hkb_2': -0.012236060081261421, 'vkb_2': -0.014316495768826844, 'hkb_3': -0.00038779565536940265, 'vkb_3': -0.0053271624182049246, 'hkb_4': 0.0013016039965703715, 'vkb_4': 0.007636444287762658}. \u001b[0m\n",
      "\u001b[32m[I 2022-08-31 16:18:45,315]\u001b[0m Trial 144 finished with values: [0.0101590255514626, 0.003978543161726745] and parameters: {'hkb_1': -0.0077696516073166005, 'vkb_1': -0.008612197953726905, 'hkb_2': -0.019704108000138033, 'vkb_2': 0.018517142986969718, 'hkb_3': 0.005710364434145977, 'vkb_3': -0.00572518913959019, 'hkb_4': 0.006891702479344128, 'vkb_4': 0.007189422795963905}. \u001b[0m\n",
      "\u001b[32m[I 2022-08-31 16:18:47,605]\u001b[0m Trial 145 finished with values: [0.004697421363803722, 0.002634926529012057] and parameters: {'hkb_1': -0.011913808464467959, 'vkb_1': -0.008085120320365307, 'hkb_2': -0.019402654625377172, 'vkb_2': -0.0019425794688063165, 'hkb_3': -0.0020920574510532725, 'vkb_3': -0.006593457173939497, 'hkb_4': 0.006891702479344128, 'vkb_4': 1.6938476211642364e-05}. \u001b[0m\n",
      "\u001b[32m[I 2022-08-31 16:18:50,145]\u001b[0m Trial 146 finished with values: [0.008536047385386655, 0.0011917433388325997] and parameters: {'hkb_1': -0.009476314859455326, 'vkb_1': -0.01068658144829378, 'hkb_2': -0.016841778107397, 'vkb_2': -0.010779194008761714, 'hkb_3': -0.0020920574510532725, 'vkb_3': 0.006745399643543476, 'hkb_4': 0.0005080516708398704, 'vkb_4': -0.003994111551112753}. \u001b[0m\n",
      "\u001b[32m[I 2022-08-31 16:18:56,639]\u001b[0m Trial 147 finished with values: [0.0019233255309780205, 0.013350593789525023] and parameters: {'hkb_1': 0.0036431005721407096, 'vkb_1': 0.0017869946599535572, 'hkb_2': 0.01040071466105652, 'vkb_2': -0.006979505575287589, 'hkb_3': -0.008874071761591853, 'vkb_3': -0.0048653747919236495, 'hkb_4': 0.00031044684616723245, 'vkb_4': 0.0009731767696229722}. \u001b[0m\n",
      "\u001b[32m[I 2022-08-31 16:19:00,845]\u001b[0m Trial 148 finished with values: [0.010694113046870296, 0.0012355329392646091] and parameters: {'hkb_1': -0.018443676521224587, 'vkb_1': -0.0027400131353621585, 'hkb_2': 0.015435679784416841, 'vkb_2': 0.016293417531388996, 'hkb_3': -0.003231720392340114, 'vkb_3': -0.0004109707332484343, 'hkb_4': 0.00721095894472853, 'vkb_4': -0.008176777100390362}. \u001b[0m\n",
      "\u001b[32m[I 2022-08-31 16:19:07,028]\u001b[0m Trial 149 finished with values: [0.002411277084043904, 0.014280249621361688] and parameters: {'hkb_1': 0.007764862255961142, 'vkb_1': 0.01976655485982397, 'hkb_2': 0.00814389688685654, 'vkb_2': 0.001094704612867023, 'hkb_3': 0.0033955519592052848, 'vkb_3': -0.003783757587433794, 'hkb_4': 0.004496908377552813, 'vkb_4': 0.00288978869236956}. \u001b[0m\n",
      "\u001b[32m[I 2022-08-31 16:19:13,618]\u001b[0m Trial 150 finished with values: [0.0025928313371232792, 0.019923399527260962] and parameters: {'hkb_1': 0.018300576974150076, 'vkb_1': 0.006428044677235994, 'hkb_2': 0.017377110442199795, 'vkb_2': 0.001153891147311601, 'hkb_3': -0.003958874206107006, 'vkb_3': 0.007747101208291715, 'hkb_4': 0.003498294619636879, 'vkb_4': 0.007636444287762658}. \u001b[0m\n",
      "\u001b[32m[I 2022-08-31 16:19:17,834]\u001b[0m Trial 151 finished with values: [0.002169318202817666, 0.0021758112438387905] and parameters: {'hkb_1': 0.007764862255961142, 'vkb_1': -0.006118105350351627, 'hkb_2': -0.016841778107397, 'vkb_2': 0.0024846805282561363, 'hkb_3': -0.00038779565536940265, 'vkb_3': 0.0023926340780056014, 'hkb_4': 0.007950188121687846, 'vkb_4': 0.0009323280732364946}. \u001b[0m\n",
      "\u001b[32m[I 2022-08-31 16:19:20,707]\u001b[0m Trial 152 finished with values: [0.0024922722024862463, 0.0014736503867896287] and parameters: {'hkb_1': -0.006367500067747542, 'vkb_1': 0.006428044677235994, 'hkb_2': -0.01711221093064595, 'vkb_2': -0.013535341775771738, 'hkb_3': -0.003958874206107006, 'vkb_3': 0.007747101208291715, 'hkb_4': 0.003498294619636879, 'vkb_4': 0.007636444287762658}. \u001b[0m\n",
      "\u001b[32m[I 2022-08-31 16:19:24,983]\u001b[0m Trial 153 finished with values: [0.0005111074259302764, 0.00420631651124032] and parameters: {'hkb_1': 0.005117418683078322, 'vkb_1': -1.694373568207272e-05, 'hkb_2': -0.00977785667693293, 'vkb_2': 0.0014287960600592002, 'hkb_3': 0.005398523963045909, 'vkb_3': -0.0030483187066206877, 'hkb_4': 0.006891702479344128, 'vkb_4': 1.6938476211642364e-05}. \u001b[0m\n",
      "\u001b[32m[I 2022-08-31 16:19:26,914]\u001b[0m Trial 154 finished with values: [0.002555543551053279, 0.0018744332990372524] and parameters: {'hkb_1': -0.016308335637180503, 'vkb_1': 0.006428044677235994, 'hkb_2': -0.01711221093064595, 'vkb_2': -0.005616210510804347, 'hkb_3': -0.004120199263004465, 'vkb_3': -0.002870513429856763, 'hkb_4': 0.004358271875946583, 'vkb_4': 0.002290437872031082}. \u001b[0m\n",
      "\u001b[32m[I 2022-08-31 16:19:28,921]\u001b[0m Trial 155 finished with values: [0.015499239891923422, 0.0012260168298957887] and parameters: {'hkb_1': -0.01852387107311268, 'vkb_1': -0.008085120320365307, 'hkb_2': -0.019402654625377172, 'vkb_2': -0.014316495768826844, 'hkb_3': -0.0020920574510532725, 'vkb_3': 0.00725660734999045, 'hkb_4': 0.006891702479344128, 'vkb_4': -0.008325806822744523}. \u001b[0m\n",
      "\u001b[32m[I 2022-08-31 16:19:33,398]\u001b[0m Trial 156 finished with values: [0.0016844259194558633, 0.003529677727481091] and parameters: {'hkb_1': 0.005117418683078322, 'vkb_1': 0.01501715354423758, 'hkb_2': -0.015811181890463107, 'vkb_2': -0.0019425794688063165, 'hkb_3': 0.005710364434145977, 'vkb_3': -0.008285314508022161, 'hkb_4': 0.008772853908755597, 'vkb_4': 1.6938476211642364e-05}. \u001b[0m\n",
      "\u001b[32m[I 2022-08-31 16:19:39,591]\u001b[0m Trial 157 finished with values: [0.003769215267210983, 0.013992620438120811] and parameters: {'hkb_1': 0.011761903597853281, 'vkb_1': 0.0189973224929593, 'hkb_2': 0.007152735758300343, 'vkb_2': -0.007816095177030177, 'hkb_3': -0.00038779565536940265, 'vkb_3': 0.009150846271296543, 'hkb_4': 0.0007119852165729124, 'vkb_4': 0.005240899494802222}. \u001b[0m\n",
      "\u001b[32m[I 2022-08-31 16:19:43,848]\u001b[0m Trial 158 finished with values: [0.005082356921522909, 0.002484389209284111] and parameters: {'hkb_1': 0.005117418683078322, 'vkb_1': -0.01068658144829378, 'hkb_2': -0.015811181890463107, 'vkb_2': -0.0019425794688063165, 'hkb_3': 0.005710364434145977, 'vkb_3': -0.0030483187066206877, 'hkb_4': 0.006891702479344128, 'vkb_4': -0.003994111551112753}. \u001b[0m\n",
      "\u001b[32m[I 2022-08-31 16:19:49,772]\u001b[0m Trial 159 finished with values: [0.004516740614111511, 0.011411097984459303] and parameters: {'hkb_1': 0.0036431005721407096, 'vkb_1': 0.007534555425431733, 'hkb_2': 0.007152735758300343, 'vkb_2': -0.006979505575287589, 'hkb_3': 0.006471644891285105, 'vkb_3': -0.0048653747919236495, 'hkb_4': 0.0007119852165729124, 'vkb_4': 0.005240899494802222}. \u001b[0m\n",
      "\u001b[32m[I 2022-08-31 16:19:51,779]\u001b[0m Trial 160 finished with values: [0.0029854214311894165, 0.0013417534495686286] and parameters: {'hkb_1': -0.014934653602911272, 'vkb_1': -0.008612197953726905, 'hkb_2': -0.015811181890463107, 'vkb_2': -0.013374448333223127, 'hkb_3': -0.001791030819870058, 'vkb_3': -0.006462782909666385, 'hkb_4': 0.0009344851438581742, 'vkb_4': 0.00305956128936858}. \u001b[0m\n",
      "\u001b[32m[I 2022-08-31 16:19:56,005]\u001b[0m Trial 161 finished with values: [0.005637675337731854, 0.0014329765782719643] and parameters: {'hkb_1': 0.005117418683078322, 'vkb_1': 0.0018871422278518186, 'hkb_2': -0.015811181890463107, 'vkb_2': -0.015024050977399481, 'hkb_3': 0.005710364434145977, 'vkb_3': -0.0030483187066206877, 'hkb_4': -0.0009396857045493815, 'vkb_4': 0.00305956128936858}. \u001b[0m\n",
      "\u001b[32m[I 2022-08-31 16:19:58,673]\u001b[0m Trial 162 finished with values: [0.009693018525574935, 0.0015054589763838309] and parameters: {'hkb_1': -0.0077696516073166005, 'vkb_1': 0.007367326624450103, 'hkb_2': -0.01711221093064595, 'vkb_2': 0.005448889181420776, 'hkb_3': 0.006074885388752912, 'vkb_3': -0.0053271624182049246, 'hkb_4': -0.003158319068411808, 'vkb_4': 0.007636444287762658}. \u001b[0m\n",
      "\u001b[32m[I 2022-08-31 16:20:00,803]\u001b[0m Trial 163 finished with values: [0.00584942238351261, 0.0012057412117000522] and parameters: {'hkb_1': -0.01852387107311268, 'vkb_1': 0.006428044677235994, 'hkb_2': -0.01711221093064595, 'vkb_2': -0.014316495768826844, 'hkb_3': -0.0006666308088237542, 'vkb_3': 0.007853236420988069, 'hkb_4': 0.006316103109847438, 'vkb_4': 0.00319524122336025}. \u001b[0m\n",
      "\u001b[32m[I 2022-08-31 16:20:04,981]\u001b[0m Trial 164 finished with values: [0.007909848774620289, 0.001179179396088136] and parameters: {'hkb_1': 0.015905251790069106, 'vkb_1': 0.006428044677235994, 'hkb_2': -0.01711221093064595, 'vkb_2': -0.014316495768826844, 'hkb_3': -0.0077792008288849026, 'vkb_3': 0.007747101208291715, 'hkb_4': 0.0018011494123306541, 'vkb_4': -0.0011875648898318075}. \u001b[0m\n",
      "\u001b[32m[I 2022-08-31 16:20:09,241]\u001b[0m Trial 165 finished with values: [0.0012286004890820295, 0.0019174229768211893] and parameters: {'hkb_1': 0.005117418683078322, 'vkb_1': -1.694373568207272e-05, 'hkb_2': -0.015811181890463107, 'vkb_2': -0.0019425794688063165, 'hkb_3': 0.005710364434145977, 'vkb_3': -0.0030483187066206877, 'hkb_4': 0.006891702479344128, 'vkb_4': 1.6938476211642364e-05}. \u001b[0m\n",
      "\u001b[32m[I 2022-08-31 16:20:12,030]\u001b[0m Trial 166 finished with values: [0.0036841022770494627, 0.0021048196602913237] and parameters: {'hkb_1': -0.0077696516073166005, 'vkb_1': 0.008689538540816506, 'hkb_2': -0.016918278270798087, 'vkb_2': 0.009744058144983647, 'hkb_3': -0.00038779565536940265, 'vkb_3': 0.009147009919451334, 'hkb_4': 0.0009344851438581742, 'vkb_4': 0.003539705381480131}. \u001b[0m\n",
      "\u001b[32m[I 2022-08-31 16:20:14,801]\u001b[0m Trial 167 finished with values: [0.004680992045591095, 0.0044520632352326815] and parameters: {'hkb_1': -0.00716890583403362, 'vkb_1': -1.694373568207272e-05, 'hkb_2': -0.015811181890463107, 'vkb_2': -0.0019425794688063165, 'hkb_3': -0.000663351423852352, 'vkb_3': -0.0030483187066206877, 'hkb_4': 0.00849297872797711, 'vkb_4': -5.770870502760754e-05}. \u001b[0m\n",
      "\u001b[32m[I 2022-08-31 16:20:17,753]\u001b[0m Trial 168 finished with values: [0.007641260990363846, 0.0011601510011571203] and parameters: {'hkb_1': -0.006367500067747542, 'vkb_1': 0.006428044677235994, 'hkb_2': -0.01711221093064595, 'vkb_2': -0.013535341775771738, 'hkb_3': -0.003958874206107006, 'vkb_3': 0.007747101208291715, 'hkb_4': 0.003498294619636879, 'vkb_4': -0.0011875648898318075}. \u001b[0m\n",
      "\u001b[32m[I 2022-08-31 16:20:22,380]\u001b[0m Trial 169 finished with values: [0.0054448015152576135, 0.008676189583526403] and parameters: {'hkb_1': -0.00716890583403362, 'vkb_1': -1.694373568207272e-05, 'hkb_2': 0.00814389688685654, 'vkb_2': -0.0019425794688063165, 'hkb_3': 9.313197936195936e-05, 'vkb_3': -0.003783757587433794, 'hkb_4': 0.0005080516708398704, 'vkb_4': -0.00523242696038003}. \u001b[0m\n",
      "\u001b[32m[I 2022-08-31 16:20:26,587]\u001b[0m Trial 170 finished with values: [0.008296885405087977, 0.0025077510085319936] and parameters: {'hkb_1': 0.007764862255961142, 'vkb_1': -0.008085120320365307, 'hkb_2': -0.016918278270798087, 'vkb_2': 0.0014287960600592002, 'hkb_3': -0.006003791171996795, 'vkb_3': -0.005725409647555477, 'hkb_4': 0.007950188121687846, 'vkb_4': 0.006427445650982607}. \u001b[0m\n",
      "\u001b[32m[I 2022-08-31 16:20:30,983]\u001b[0m Trial 171 finished with values: [0.004656053636886472, 0.0013827223781558912] and parameters: {'hkb_1': 0.013800437149787976, 'vkb_1': 0.006805444923890392, 'hkb_2': -0.016918278270798087, 'vkb_2': 0.001153891147311601, 'hkb_3': 0.001944084622489359, 'vkb_3': 0.009147009919451334, 'hkb_4': 0.0015627360440970302, 'vkb_4': 0.007636444287762658}. \u001b[0m\n",
      "\u001b[32m[I 2022-08-31 16:20:35,927]\u001b[0m Trial 172 finished with values: [0.0056950053134273235, 0.0071104532663659415] and parameters: {'hkb_1': -0.007289098378210816, 'vkb_1': 0.006805444923890392, 'hkb_2': 0.017377110442199795, 'vkb_2': -0.007801831900349559, 'hkb_3': 0.005710364434145977, 'vkb_3': 0.004567111537984458, 'hkb_4': 0.006891702479344128, 'vkb_4': 0.009297733447799007}. \u001b[0m\n",
      "\u001b[32m[I 2022-08-31 16:20:40,075]\u001b[0m Trial 173 finished with values: [0.007079877640197702, 0.0020670533549184272] and parameters: {'hkb_1': -0.016888217242327485, 'vkb_1': 0.007367326624450103, 'hkb_2': 0.015513062427152894, 'vkb_2': 0.0031156234560833287, 'hkb_3': 0.0036574158701847374, 'vkb_3': -0.005807599308200869, 'hkb_4': -0.003158319068411808, 'vkb_4': 0.004825221236506276}. \u001b[0m\n",
      "\u001b[32m[I 2022-08-31 16:20:44,412]\u001b[0m Trial 174 finished with values: [0.0025891057996133113, 0.00485868285217392] and parameters: {'hkb_1': 0.0031020510714985204, 'vkb_1': -0.008085120320365307, 'hkb_2': -0.00977785667693293, 'vkb_2': 0.0014287960600592002, 'hkb_3': -0.0020920574510532725, 'vkb_3': 0.0036674493908030303, 'hkb_4': 0.006398721437602081, 'vkb_4': 0.003539705381480131}. \u001b[0m\n",
      "\u001b[32m[I 2022-08-31 16:20:46,970]\u001b[0m Trial 175 finished with values: [0.0033844959315160366, 0.0024219921229739617] and parameters: {'hkb_1': -0.016308335637180503, 'vkb_1': 0.008523038555380506, 'hkb_2': -0.003589403980994176, 'vkb_2': -0.005616210510804347, 'hkb_3': 0.0018768839993201954, 'vkb_3': -0.003783757587433794, 'hkb_4': 0.004358271875946583, 'vkb_4': 0.002290437872031082}. \u001b[0m\n",
      "\u001b[32m[I 2022-08-31 16:20:51,171]\u001b[0m Trial 176 finished with values: [0.01316273131782517, 0.002236165467135422] and parameters: {'hkb_1': 0.014034508079771506, 'vkb_1': 0.007147351066118787, 'hkb_2': -0.01269680038287861, 'vkb_2': -0.0019425794688063165, 'hkb_3': 0.006572970794348097, 'vkb_3': -0.005686935660776571, 'hkb_4': -0.007678342230292963, 'vkb_4': 0.00319524122336025}. \u001b[0m\n",
      "\u001b[32m[I 2022-08-31 16:20:53,168]\u001b[0m Trial 177 finished with values: [0.00626183826518809, 0.0015192195201690563] and parameters: {'hkb_1': -0.01967299242512186, 'vkb_1': 0.007853456057161243, 'hkb_2': -0.01711221093064595, 'vkb_2': 0.019071728022810073, 'hkb_3': 0.0037426201722246272, 'vkb_3': 0.0036674493908030303, 'hkb_4': 0.009750954869160304, 'vkb_4': 0.003539705381480131}. \u001b[0m\n",
      "\u001b[32m[I 2022-08-31 16:20:55,754]\u001b[0m Trial 178 finished with values: [0.003257631665651989, 0.0013897607439041153] and parameters: {'hkb_1': -0.016308335637180503, 'vkb_1': 0.006428044677235994, 'hkb_2': -0.003589403980994176, 'vkb_2': -0.014316495768826844, 'hkb_3': -0.003958874206107006, 'vkb_3': -0.002870513429856763, 'hkb_4': 0.004358271875946583, 'vkb_4': -0.0011875648898318075}. \u001b[0m\n",
      "\u001b[32m[I 2022-08-31 16:20:59,552]\u001b[0m Trial 179 finished with values: [0.004492488134235528, 0.00214270320636401] and parameters: {'hkb_1': -0.012929958613602674, 'vkb_1': 0.007367326624450103, 'hkb_2': 0.007152735758300343, 'vkb_2': 0.005448889181420776, 'hkb_3': 0.006471644891285105, 'vkb_3': 0.002074912446446151, 'hkb_4': -0.0005805059813791796, 'vkb_4': 0.005240899494802222}. \u001b[0m\n",
      "\u001b[32m[I 2022-08-31 16:21:03,661]\u001b[0m Trial 180 finished with values: [0.009259457754513615, 0.002226662604638188] and parameters: {'hkb_1': -0.01852387107311268, 'vkb_1': 0.012780424655465094, 'hkb_2': 0.008083614304190849, 'vkb_2': 0.013295709938121712, 'hkb_3': 0.0008212386666775744, 'vkb_3': -0.005807599308200869, 'hkb_4': -0.0021128009594207735, 'vkb_4': 0.007636444287762658}. \u001b[0m\n",
      "\u001b[32m[I 2022-08-31 16:21:07,936]\u001b[0m Trial 181 finished with values: [0.003779152287024535, 0.0032212298185006543] and parameters: {'hkb_1': 0.007764862255961142, 'vkb_1': 0.011509234698392861, 'hkb_2': -0.016841778107397, 'vkb_2': 0.001294689196528035, 'hkb_3': -0.009170663331313184, 'vkb_3': 0.0023926340780056014, 'hkb_4': 0.007950188121687846, 'vkb_4': 0.0009323280732364946}. \u001b[0m\n",
      "\u001b[32m[I 2022-08-31 16:21:12,384]\u001b[0m Trial 182 finished with values: [0.009321100371091027, 0.002233417491831606] and parameters: {'hkb_1': 0.007764862255961142, 'vkb_1': -0.008085120320365307, 'hkb_2': -0.016841778107397, 'vkb_2': 0.0014287960600592002, 'hkb_3': -0.00038779565536940265, 'vkb_3': 0.0023926340780056014, 'hkb_4': -0.0049222684158554955, 'vkb_4': 0.0009323280732364946}. \u001b[0m\n",
      "\u001b[32m[I 2022-08-31 16:21:17,315]\u001b[0m Trial 183 finished with values: [0.002612187735328588, 0.00784152739177732] and parameters: {'hkb_1': -0.0077696516073166005, 'vkb_1': -1.694373568207272e-05, 'hkb_2': 0.00814389688685654, 'vkb_2': -0.013365253182888712, 'hkb_3': -0.00038779565536940265, 'vkb_3': -0.0019384792408590323, 'hkb_4': 0.0005080516708398704, 'vkb_4': -5.770870502760754e-05}. \u001b[0m\n",
      "\u001b[32m[I 2022-08-31 16:21:21,685]\u001b[0m Trial 184 finished with values: [0.007641488606449217, 0.0019161309437104041] and parameters: {'hkb_1': 0.007764862255961142, 'vkb_1': 0.0045718212464778245, 'hkb_2': -0.016841778107397, 'vkb_2': 0.0007482595069701024, 'hkb_3': 0.006471644891285105, 'vkb_3': -0.002280833373509372, 'hkb_4': 0.0007119852165729124, 'vkb_4': 0.00494222976223984}. \u001b[0m\n",
      "\u001b[32m[I 2022-08-31 16:21:27,115]\u001b[0m Trial 185 finished with values: [0.005319115047592556, 0.011803777209173822] and parameters: {'hkb_1': 0.006852393577834931, 'vkb_1': 0.007367326624450103, 'hkb_2': 0.004413423926662968, 'vkb_2': -0.014316495768826844, 'hkb_3': 0.007434451992494132, 'vkb_3': 0.0016561916339226917, 'hkb_4': 0.0003510762663945892, 'vkb_4': 0.00319524122336025}. \u001b[0m\n",
      "\u001b[32m[I 2022-08-31 16:21:31,033]\u001b[0m Trial 186 finished with values: [0.007364481819196501, 0.0031776314810306973] and parameters: {'hkb_1': -0.011913808464467959, 'vkb_1': -0.008085120320365307, 'hkb_2': 0.008083614304190849, 'vkb_2': 0.010479682430690002, 'hkb_3': 0.0036574158701847374, 'vkb_3': -0.006593457173939497, 'hkb_4': 0.006891702479344128, 'vkb_4': 0.004825221236506276}. \u001b[0m\n",
      "\u001b[32m[I 2022-08-31 16:21:34,963]\u001b[0m Trial 187 finished with values: [0.003335190208754694, 0.0018820673097749612] and parameters: {'hkb_1': -0.01967299242512186, 'vkb_1': 0.007367326624450103, 'hkb_2': 0.007152735758300343, 'vkb_2': -0.007816095177030177, 'hkb_3': 0.006471644891285105, 'vkb_3': 0.002074912446446151, 'hkb_4': 0.0003510762663945892, 'vkb_4': 0.00319524122336025}. \u001b[0m\n",
      "\u001b[32m[I 2022-08-31 16:21:38,924]\u001b[0m Trial 188 finished with values: [0.0031431342477940567, 0.002985216851672495] and parameters: {'hkb_1': -0.012929958613602674, 'vkb_1': 0.0017917213503029182, 'hkb_2': 0.007152735758300343, 'vkb_2': -0.013365253182888712, 'hkb_3': -0.00038779565536940265, 'vkb_3': 0.009147009919451334, 'hkb_4': -0.0009396857045493815, 'vkb_4': 0.005240899494802222}. \u001b[0m\n",
      "\u001b[32m[I 2022-08-31 16:21:41,788]\u001b[0m Trial 189 finished with values: [0.008580463545428315, 0.001451489055406218] and parameters: {'hkb_1': -0.006367500067747542, 'vkb_1': 0.0024439499924046176, 'hkb_2': -0.01711221093064595, 'vkb_2': 0.010479682430690002, 'hkb_3': -0.003958874206107006, 'vkb_3': 0.007747101208291715, 'hkb_4': -0.005164855835165971, 'vkb_4': 0.007636444287762658}. \u001b[0m\n",
      "\u001b[32m[I 2022-08-31 16:21:46,081]\u001b[0m Trial 190 finished with values: [0.012794518058016213, 0.0020159438022063765] and parameters: {'hkb_1': -0.013293617798079773, 'vkb_1': 0.015160904997955967, 'hkb_2': 0.019132095150133522, 'vkb_2': -0.01072613174362342, 'hkb_3': -0.008874071761591853, 'vkb_3': 0.0018975715900564367, 'hkb_4': 0.005575687187209162, 'vkb_4': -0.007317989426200827}. \u001b[0m\n",
      "\u001b[32m[I 2022-08-31 16:21:50,319]\u001b[0m Trial 191 finished with values: [0.00281310918995429, 0.001905491839155647] and parameters: {'hkb_1': -0.01535920258917872, 'vkb_1': -0.00858244129818039, 'hkb_2': 0.015513062427152894, 'vkb_2': -0.005616210510804347, 'hkb_3': -0.00967258766988828, 'vkb_3': -0.005725409647555477, 'hkb_4': -0.003158319068411808, 'vkb_4': 0.002290437872031082}. \u001b[0m\n",
      "\u001b[32m[I 2022-08-31 16:21:52,260]\u001b[0m Trial 192 finished with values: [0.009780239670860488, 0.0021535887699694173] and parameters: {'hkb_1': -0.016308335637180503, 'vkb_1': -1.694373568207272e-05, 'hkb_2': -0.01269680038287861, 'vkb_2': 0.0014287960600592002, 'hkb_3': -0.00038779565536940265, 'vkb_3': -0.0030483187066206877, 'hkb_4': 0.007950188121687846, 'vkb_4': -0.008196281569931903}. \u001b[0m\n",
      "\u001b[32m[I 2022-08-31 16:21:56,478]\u001b[0m Trial 193 finished with values: [0.00786254945859633, 0.001542938614428234] and parameters: {'hkb_1': 0.005117418683078322, 'vkb_1': -0.008612197953726905, 'hkb_2': -0.015811181890463107, 'vkb_2': -0.015024050977399481, 'hkb_3': 3.326743621159638e-05, 'vkb_3': -0.0030483187066206877, 'hkb_4': 0.007666165920416237, 'vkb_4': -0.005769898541238534}. \u001b[0m\n",
      "\u001b[32m[I 2022-08-31 16:22:00,399]\u001b[0m Trial 194 finished with values: [0.009039563987786747, 0.001648539052610374] and parameters: {'hkb_1': -0.016740723487739216, 'vkb_1': 0.0024439499924046176, 'hkb_2': 0.008083614304190849, 'vkb_2': 0.010479682430690002, 'hkb_3': 0.006572970794348097, 'vkb_3': -0.005807599308200869, 'hkb_4': -0.0021128009594207735, 'vkb_4': -0.009161432995306504}. \u001b[0m\n",
      "\u001b[32m[I 2022-08-31 16:22:04,637]\u001b[0m Trial 195 finished with values: [0.006580192773702703, 0.002265193851335283] and parameters: {'hkb_1': 0.007764862255961142, 'vkb_1': -0.008085120320365307, 'hkb_2': -0.016841778107397, 'vkb_2': 3.1637127448139873e-05, 'hkb_3': -0.008874071761591853, 'vkb_3': -0.0048653747919236495, 'hkb_4': -0.0032292429600628237, 'vkb_4': 0.00288978869236956}. \u001b[0m\n",
      "\u001b[32m[I 2022-08-31 16:22:09,644]\u001b[0m Trial 196 finished with values: [0.0011407059774341019, 0.00883043830182169] and parameters: {'hkb_1': -0.00716890583403362, 'vkb_1': -0.013221915197722365, 'hkb_2': 0.014454230706486156, 'vkb_2': 0.01587046299753855, 'hkb_3': -0.009494124111476154, 'vkb_3': -0.003783757587433794, 'hkb_4': -0.002653741510456586, 'vkb_4': -5.770870502760754e-05}. \u001b[0m\n",
      "\u001b[32m[I 2022-08-31 16:22:14,105]\u001b[0m Trial 197 finished with values: [0.006176849674230292, 0.004032201426549632] and parameters: {'hkb_1': 0.00524573304890355, 'vkb_1': 0.015160904997955967, 'hkb_2': -0.016841778107397, 'vkb_2': 0.0007482595069701024, 'hkb_3': 0.006471644891285105, 'vkb_3': 0.002074912446446151, 'hkb_4': 0.0007119852165729124, 'vkb_4': 0.005240899494802222}. \u001b[0m\n",
      "\u001b[32m[I 2022-08-31 16:22:18,791]\u001b[0m Trial 198 finished with values: [0.002871670353078143, 0.00909726821403754] and parameters: {'hkb_1': 0.007764862255961142, 'vkb_1': 0.008206886063340333, 'hkb_2': -0.003589403980994176, 'vkb_2': 0.0014287960600592002, 'hkb_3': -0.00038779565536940265, 'vkb_3': 0.0023926340780056014, 'hkb_4': 0.004358271875946583, 'vkb_4': 0.0009323280732364946}. \u001b[0m\n",
      "\u001b[32m[I 2022-08-31 16:22:23,293]\u001b[0m Trial 199 finished with values: [0.010705360837107275, 0.00921056877732421] and parameters: {'hkb_1': -0.006367500067747542, 'vkb_1': 0.0024439499924046176, 'hkb_2': 0.008083614304190849, 'vkb_2': 0.007342536392984007, 'hkb_3': 0.0036574158701847374, 'vkb_3': -0.005807599308200869, 'hkb_4': -0.005164855835165971, 'vkb_4': 0.007636444287762658}. \u001b[0m\n"
     ]
    }
   ],
   "source": [
    "study.optimize(opt_trial.objective, n_trials=200)"
   ]
  },
  {
   "cell_type": "code",
   "execution_count": 26,
   "id": "ed307af1-23a4-483a-b2cf-af38b0e8db97",
   "metadata": {},
   "outputs": [],
   "source": [
    "trials = study.best_trials"
   ]
  },
  {
   "cell_type": "code",
   "execution_count": 27,
   "id": "760afaad-ddb3-4e36-9ef7-59391bdcbe0f",
   "metadata": {},
   "outputs": [
    {
     "data": {
      "text/plain": [
       "[FrozenTrial(number=41, values=[0.0011743543149073745, 0.0012746964402878646], datetime_start=datetime.datetime(2022, 8, 31, 16, 11, 55, 80706), datetime_complete=datetime.datetime(2022, 8, 31, 16, 11, 58, 89911), params={'hkb_1': -0.006367500067747542, 'vkb_1': 0.006428044677235994, 'hkb_2': -0.01711221093064595, 'vkb_2': -0.013535341775771738, 'hkb_3': -0.003958874206107006, 'vkb_3': 0.007747101208291715, 'hkb_4': 0.003498294619636879, 'vkb_4': 0.007636444287762658}, distributions={'hkb_1': UniformDistribution(high=0.02, low=-0.02), 'vkb_1': UniformDistribution(high=0.02, low=-0.02), 'hkb_2': UniformDistribution(high=0.02, low=-0.02), 'vkb_2': UniformDistribution(high=0.02, low=-0.02), 'hkb_3': UniformDistribution(high=0.01, low=-0.01), 'vkb_3': UniformDistribution(high=0.01, low=-0.01), 'hkb_4': UniformDistribution(high=0.01, low=-0.01), 'vkb_4': UniformDistribution(high=0.01, low=-0.01)}, user_attrs={}, system_attrs={'nsga2:generation': 0}, intermediate_values={}, trial_id=41, state=TrialState.COMPLETE, value=None),\n",
       " FrozenTrial(number=112, values=[0.0018656809780874218, 0.0012612673407778915], datetime_start=datetime.datetime(2022, 8, 31, 16, 16, 39, 88571), datetime_complete=datetime.datetime(2022, 8, 31, 16, 16, 43, 338497), params={'hkb_1': 0.005117418683078322, 'vkb_1': 0.008689538540816506, 'hkb_2': -0.015811181890463107, 'vkb_2': -0.015024050977399481, 'hkb_3': -0.0077792008288849026, 'vkb_3': 0.005603166782077848, 'hkb_4': 0.0009344851438581742, 'vkb_4': 0.003539705381480131}, distributions={'hkb_1': UniformDistribution(high=0.02, low=-0.02), 'vkb_1': UniformDistribution(high=0.02, low=-0.02), 'hkb_2': UniformDistribution(high=0.02, low=-0.02), 'vkb_2': UniformDistribution(high=0.02, low=-0.02), 'hkb_3': UniformDistribution(high=0.01, low=-0.01), 'vkb_3': UniformDistribution(high=0.01, low=-0.01), 'hkb_4': UniformDistribution(high=0.01, low=-0.01), 'vkb_4': UniformDistribution(high=0.01, low=-0.01)}, user_attrs={}, system_attrs={'nsga2:generation': 2, 'nsga2:parents': [56, 77]}, intermediate_values={}, trial_id=112, state=TrialState.COMPLETE, value=None),\n",
       " FrozenTrial(number=114, values=[0.0036014862352275463, 0.0011725674012909503], datetime_start=datetime.datetime(2022, 8, 31, 16, 16, 47, 881073), datetime_complete=datetime.datetime(2022, 8, 31, 16, 16, 49, 893431), params={'hkb_1': -0.01852387107311268, 'vkb_1': 0.006428044677235994, 'hkb_2': -0.01711221093064595, 'vkb_2': 0.013295709938121712, 'hkb_3': -0.004120199263004465, 'vkb_3': 0.007747101208291715, 'hkb_4': -0.002935718120119157, 'vkb_4': 0.007636444287762658}, distributions={'hkb_1': UniformDistribution(high=0.02, low=-0.02), 'vkb_1': UniformDistribution(high=0.02, low=-0.02), 'hkb_2': UniformDistribution(high=0.02, low=-0.02), 'vkb_2': UniformDistribution(high=0.02, low=-0.02), 'hkb_3': UniformDistribution(high=0.01, low=-0.01), 'vkb_3': UniformDistribution(high=0.01, low=-0.01), 'hkb_4': UniformDistribution(high=0.01, low=-0.01), 'vkb_4': UniformDistribution(high=0.01, low=-0.01)}, user_attrs={}, system_attrs={'nsga2:generation': 2, 'nsga2:parents': [41, 50]}, intermediate_values={}, trial_id=114, state=TrialState.COMPLETE, value=None),\n",
       " FrozenTrial(number=138, values=[0.0005534569128364321, 0.0023364247448829727], datetime_start=datetime.datetime(2022, 8, 31, 16, 18, 24, 267171), datetime_complete=datetime.datetime(2022, 8, 31, 16, 18, 28, 387225), params={'hkb_1': 0.0031020510714985204, 'vkb_1': -0.008085120320365307, 'hkb_2': -0.01711221093064595, 'vkb_2': 0.0014287960600592002, 'hkb_3': -0.0020920574510532725, 'vkb_3': 0.0036674493908030303, 'hkb_4': 0.003498294619636879, 'vkb_4': 0.003539705381480131}, distributions={'hkb_1': UniformDistribution(high=0.02, low=-0.02), 'vkb_1': UniformDistribution(high=0.02, low=-0.02), 'hkb_2': UniformDistribution(high=0.02, low=-0.02), 'vkb_2': UniformDistribution(high=0.02, low=-0.02), 'hkb_3': UniformDistribution(high=0.01, low=-0.01), 'vkb_3': UniformDistribution(high=0.01, low=-0.01), 'hkb_4': UniformDistribution(high=0.01, low=-0.01), 'vkb_4': UniformDistribution(high=0.01, low=-0.01)}, user_attrs={}, system_attrs={'nsga2:generation': 2, 'nsga2:parents': [44, 41]}, intermediate_values={}, trial_id=138, state=TrialState.COMPLETE, value=None),\n",
       " FrozenTrial(number=141, values=[0.002678340913073981, 0.001189271426432805], datetime_start=datetime.datetime(2022, 8, 31, 16, 18, 34, 126255), datetime_complete=datetime.datetime(2022, 8, 31, 16, 18, 36, 133326), params={'hkb_1': -0.01967299242512186, 'vkb_1': 0.007367326624450103, 'hkb_2': -0.012236060081261421, 'vkb_2': -0.014316495768826844, 'hkb_3': 0.0037426201722246272, 'vkb_3': 0.0016561916339226917, 'hkb_4': 0.0003510762663945892, 'vkb_4': 0.00319524122336025}, distributions={'hkb_1': UniformDistribution(high=0.02, low=-0.02), 'vkb_1': UniformDistribution(high=0.02, low=-0.02), 'hkb_2': UniformDistribution(high=0.02, low=-0.02), 'vkb_2': UniformDistribution(high=0.02, low=-0.02), 'hkb_3': UniformDistribution(high=0.01, low=-0.01), 'vkb_3': UniformDistribution(high=0.01, low=-0.01), 'hkb_4': UniformDistribution(high=0.01, low=-0.01), 'vkb_4': UniformDistribution(high=0.01, low=-0.01)}, user_attrs={}, system_attrs={'nsga2:generation': 2, 'nsga2:parents': [67, 5]}, intermediate_values={}, trial_id=141, state=TrialState.COMPLETE, value=None),\n",
       " FrozenTrial(number=153, values=[0.0005111074259302764, 0.00420631651124032], datetime_start=datetime.datetime(2022, 8, 31, 16, 19, 20, 708717), datetime_complete=datetime.datetime(2022, 8, 31, 16, 19, 24, 983660), params={'hkb_1': 0.005117418683078322, 'vkb_1': -1.694373568207272e-05, 'hkb_2': -0.00977785667693293, 'vkb_2': 0.0014287960600592002, 'hkb_3': 0.005398523963045909, 'vkb_3': -0.0030483187066206877, 'hkb_4': 0.006891702479344128, 'vkb_4': 1.6938476211642364e-05}, distributions={'hkb_1': UniformDistribution(high=0.02, low=-0.02), 'vkb_1': UniformDistribution(high=0.02, low=-0.02), 'hkb_2': UniformDistribution(high=0.02, low=-0.02), 'vkb_2': UniformDistribution(high=0.02, low=-0.02), 'hkb_3': UniformDistribution(high=0.01, low=-0.01), 'vkb_3': UniformDistribution(high=0.01, low=-0.01), 'hkb_4': UniformDistribution(high=0.01, low=-0.01), 'vkb_4': UniformDistribution(high=0.01, low=-0.01)}, user_attrs={}, system_attrs={'nsga2:generation': 3, 'nsga2:parents': [81, 56]}, intermediate_values={}, trial_id=153, state=TrialState.COMPLETE, value=None),\n",
       " FrozenTrial(number=168, values=[0.007641260990363846, 0.0011601510011571203], datetime_start=datetime.datetime(2022, 8, 31, 16, 20, 14, 802277), datetime_complete=datetime.datetime(2022, 8, 31, 16, 20, 17, 753418), params={'hkb_1': -0.006367500067747542, 'vkb_1': 0.006428044677235994, 'hkb_2': -0.01711221093064595, 'vkb_2': -0.013535341775771738, 'hkb_3': -0.003958874206107006, 'vkb_3': 0.007747101208291715, 'hkb_4': 0.003498294619636879, 'vkb_4': -0.0011875648898318075}, distributions={'hkb_1': UniformDistribution(high=0.02, low=-0.02), 'vkb_1': UniformDistribution(high=0.02, low=-0.02), 'hkb_2': UniformDistribution(high=0.02, low=-0.02), 'vkb_2': UniformDistribution(high=0.02, low=-0.02), 'hkb_3': UniformDistribution(high=0.01, low=-0.01), 'vkb_3': UniformDistribution(high=0.01, low=-0.01), 'hkb_4': UniformDistribution(high=0.01, low=-0.01), 'vkb_4': UniformDistribution(high=0.01, low=-0.01)}, user_attrs={}, system_attrs={'nsga2:generation': 3, 'nsga2:parents': [41, 140]}, intermediate_values={}, trial_id=168, state=TrialState.COMPLETE, value=None)]"
      ]
     },
     "execution_count": 27,
     "metadata": {},
     "output_type": "execute_result"
    }
   ],
   "source": [
    "trials"
   ]
  },
  {
   "cell_type": "code",
   "execution_count": null,
   "id": "e1853a8a-ae68-4a80-b148-8445921fdede",
   "metadata": {},
   "outputs": [],
   "source": []
  },
  {
   "cell_type": "code",
   "execution_count": 28,
   "id": "04638da3-8e3f-44c1-8a63-94f802101c81",
   "metadata": {},
   "outputs": [],
   "source": [
    "xvals = []\n",
    "yvals = []\n",
    "idxs = []\n",
    "params = []\n",
    "for t in trials:\n",
    "    xvals.append(t.values[0])\n",
    "    yvals.append(t.values[1])\n",
    "    idxs.append(t.number)\n",
    "    params.append(t.params.values())\n",
    "    "
   ]
  },
  {
   "cell_type": "code",
   "execution_count": 29,
   "id": "b4d3d00d-4499-4f6d-94d5-5448bfed58db",
   "metadata": {},
   "outputs": [
    {
     "data": {
      "text/plain": [
       "<matplotlib.colorbar.Colorbar at 0x2b9c3ada92d0>"
      ]
     },
     "execution_count": 29,
     "metadata": {},
     "output_type": "execute_result"
    },
    {
     "data": {
      "image/png": "[encoded data removed]",
      "text/plain": [
       "<Figure size 432x288 with 2 Axes>"
      ]
     },
     "metadata": {
      "needs_background": "light"
     },
     "output_type": "display_data"
    }
   ],
   "source": [
    "plt.scatter(xvals, yvals, c=idxs)\n",
    "plt.xlabel('centroid')\n",
    "plt.ylabel('fwhm')\n",
    "plt.colorbar()"
   ]
  },
  {
   "cell_type": "code",
   "execution_count": 30,
   "id": "5ed2a46c-68b1-4fa5-9bac-b9f1840cbe8d",
   "metadata": {},
   "outputs": [
    {
     "name": "stdout",
     "output_type": "stream",
     "text": [
      "dict_values([-0.006367500067747542, 0.006428044677235994, -0.01711221093064595, -0.013535341775771738, -0.003958874206107006, 0.007747101208291715, 0.003498294619636879, 0.007636444287762658])\n"
     ]
    },
    {
     "data": {
      "image/png": "[encoded data removed]",
      "text/plain": [
       "<Figure size 432x288 with 1 Axes>"
      ]
     },
     "metadata": {
      "needs_background": "light"
     },
     "output_type": "display_data"
    },
    {
     "name": "stdout",
     "output_type": "stream",
     "text": [
      "dict_values([0.005117418683078322, 0.008689538540816506, -0.015811181890463107, -0.015024050977399481, -0.0077792008288849026, 0.005603166782077848, 0.0009344851438581742, 0.003539705381480131])\n"
     ]
    },
    {
     "data": {
      "image/png": "[encoded data removed]",
      "text/plain": [
       "<Figure size 432x288 with 1 Axes>"
      ]
     },
     "metadata": {
      "needs_background": "light"
     },
     "output_type": "display_data"
    },
    {
     "name": "stdout",
     "output_type": "stream",
     "text": [
      "dict_values([-0.01852387107311268, 0.006428044677235994, -0.01711221093064595, 0.013295709938121712, -0.004120199263004465, 0.007747101208291715, -0.002935718120119157, 0.007636444287762658])\n"
     ]
    },
    {
     "data": {
      "image/png": "[encoded data removed]",
      "text/plain": [
       "<Figure size 432x288 with 1 Axes>"
      ]
     },
     "metadata": {
      "needs_background": "light"
     },
     "output_type": "display_data"
    },
    {
     "name": "stdout",
     "output_type": "stream",
     "text": [
      "dict_values([0.0031020510714985204, -0.008085120320365307, -0.01711221093064595, 0.0014287960600592002, -0.0020920574510532725, 0.0036674493908030303, 0.003498294619636879, 0.003539705381480131])\n"
     ]
    },
    {
     "data": {
      "image/png": "[encoded data removed]",
      "text/plain": [
       "<Figure size 432x288 with 1 Axes>"
      ]
     },
     "metadata": {
      "needs_background": "light"
     },
     "output_type": "display_data"
    },
    {
     "name": "stdout",
     "output_type": "stream",
     "text": [
      "dict_values([-0.01967299242512186, 0.007367326624450103, -0.012236060081261421, -0.014316495768826844, 0.0037426201722246272, 0.0016561916339226917, 0.0003510762663945892, 0.00319524122336025])\n"
     ]
    },
    {
     "data": {
      "image/png": "[encoded data removed]",
      "text/plain": [
       "<Figure size 432x288 with 1 Axes>"
      ]
     },
     "metadata": {
      "needs_background": "light"
     },
     "output_type": "display_data"
    },
    {
     "name": "stdout",
     "output_type": "stream",
     "text": [
      "dict_values([0.005117418683078322, -1.694373568207272e-05, -0.00977785667693293, 0.0014287960600592002, 0.005398523963045909, -0.0030483187066206877, 0.006891702479344128, 1.6938476211642364e-05])\n"
     ]
    },
    {
     "data": {
      "image/png": "[encoded data removed]",
      "text/plain": [
       "<Figure size 432x288 with 1 Axes>"
      ]
     },
     "metadata": {
      "needs_background": "light"
     },
     "output_type": "display_data"
    },
    {
     "name": "stdout",
     "output_type": "stream",
     "text": [
      "dict_values([-0.006367500067747542, 0.006428044677235994, -0.01711221093064595, -0.013535341775771738, -0.003958874206107006, 0.007747101208291715, 0.003498294619636879, -0.0011875648898318075])\n"
     ]
    },
    {
     "data": {
      "image/png": "[encoded data removed]",
      "text/plain": [
       "<Figure size 432x288 with 1 Axes>"
      ]
     },
     "metadata": {
      "needs_background": "light"
     },
     "output_type": "display_data"
    }
   ],
   "source": [
    "for pars in params:\n",
    "    opt_trial._lossfn_this(np.array(list(pars)))\n",
    "    beam, hist, dw = opt_common.get_beam_hist_dw(focusing_system=focusing_system, random_seed=DEFAULT_RANDOM_SEED, xrange=[-0.03, 0.03], yrange=[-0.03, 0.03], nbins=128)\n",
    "    print(pars)\n",
    "    plt.pcolormesh(hist.hh, hist.vv, hist.data_2D)\n",
    "    plt.show()"
   ]
  },
  {
   "cell_type": "code",
   "execution_count": 31,
   "id": "8ab72e5a-e76d-482a-8a5e-5d4b3d86a0a8",
   "metadata": {},
   "outputs": [
    {
     "data": {
      "text/plain": [
       "[0.0007027590282581755, 0.004738928391451592]"
      ]
     },
     "execution_count": 31,
     "metadata": {},
     "output_type": "execute_result"
    }
   ],
   "source": [
    "opt_trial._lossfn_this(np.array(list(params[-2])))"
   ]
  },
  {
   "cell_type": "code",
   "execution_count": null,
   "id": "d53992d8-7b94-40e5-9b2f-5e58668a9bdc",
   "metadata": {},
   "outputs": [],
   "source": []
  },
  {
   "cell_type": "code",
   "execution_count": null,
   "id": "5c356446-df2a-4c96-b429-70d4460aef88",
   "metadata": {},
   "outputs": [],
   "source": []
  }
 ],
 "metadata": {
  "kernelspec": {
   "display_name": "oasys",
   "language": "python",
   "name": "oasys"
  },
  "language_info": {
   "codemirror_mode": {
    "name": "ipython",
    "version": 3
   },
   "file_extension": ".py",
   "mimetype": "text/x-python",
   "name": "python",
   "nbconvert_exporter": "python",
   "pygments_lexer": "ipython3",
   "version": "3.7.10"
  }
 },
 "nbformat": 4,
 "nbformat_minor": 5
}
