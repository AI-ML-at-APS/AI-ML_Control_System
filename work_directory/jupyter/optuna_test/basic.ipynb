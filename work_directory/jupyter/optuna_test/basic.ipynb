{
 "cells": [
  {
   "cell_type": "code",
   "execution_count": 1,
   "id": "aab51d34-3de5-4dec-a4ba-29ac23e8f015",
   "metadata": {},
   "outputs": [
    {
     "name": "stderr",
     "output_type": "stream",
     "text": [
      "\u001b[32m[I 2022-08-28 16:40:44,804]\u001b[0m A new study created in memory with name: no-name-cd2a48dd-5941-4578-bbf9-1d4230369765\u001b[0m\n",
      "\u001b[32m[I 2022-08-28 16:40:44,805]\u001b[0m Trial 0 finished with value: 10.248010011155207 and parameters: {'x': -2.2908535551525784, 'y': 5}. Best is trial 0 with value: 10.248010011155207.\u001b[0m\n",
      "\u001b[32m[I 2022-08-28 16:40:44,810]\u001b[0m Trial 1 finished with value: 79.54772920950168 and parameters: {'x': -8.862715679152846, 'y': 1}. Best is trial 0 with value: 10.248010011155207.\u001b[0m\n",
      "\u001b[32m[I 2022-08-28 16:40:44,813]\u001b[0m Trial 2 finished with value: 60.251128905400634 and parameters: {'x': 7.632242717930335, 'y': 2}. Best is trial 0 with value: 10.248010011155207.\u001b[0m\n",
      "\u001b[32m[I 2022-08-28 16:40:44,818]\u001b[0m Trial 3 finished with value: 27.461427307264366 and parameters: {'x': 4.843699754037647, 'y': 4}. Best is trial 0 with value: 10.248010011155207.\u001b[0m\n",
      "\u001b[32m[I 2022-08-28 16:40:44,822]\u001b[0m Trial 4 finished with value: 6.888932567509432 and parameters: {'x': 1.3743844322129934, 'y': 5}. Best is trial 4 with value: 6.888932567509432.\u001b[0m\n",
      "\u001b[32m[I 2022-08-28 16:40:44,825]\u001b[0m Trial 5 finished with value: 11.09358907972766 and parameters: {'x': 1.4469240062033872, 'y': 9}. Best is trial 4 with value: 6.888932567509432.\u001b[0m\n",
      "\u001b[32m[I 2022-08-28 16:40:44,829]\u001b[0m Trial 6 finished with value: 15.504549143103993 and parameters: {'x': -3.9375816363732694, 'y': 0}. Best is trial 4 with value: 6.888932567509432.\u001b[0m\n",
      "\u001b[32m[I 2022-08-28 16:40:44,833]\u001b[0m Trial 7 finished with value: 12.640311993578756 and parameters: {'x': 1.9079601656163465, 'y': 9}. Best is trial 4 with value: 6.888932567509432.\u001b[0m\n",
      "\u001b[32m[I 2022-08-28 16:40:44,837]\u001b[0m Trial 8 finished with value: 12.682311852663274 and parameters: {'x': 3.1116413438349984, 'y': 3}. Best is trial 4 with value: 6.888932567509432.\u001b[0m\n",
      "\u001b[32m[I 2022-08-28 16:40:44,840]\u001b[0m Trial 9 finished with value: 95.08460410213118 and parameters: {'x': 9.648036282173237, 'y': 2}. Best is trial 4 with value: 6.888932567509432.\u001b[0m\n"
     ]
    }
   ],
   "source": [
    "import optuna\n",
    "\n",
    "\n",
    "def objective(trial):\n",
    "    x = trial.suggest_float(\"x\", -10, 10)\n",
    "    y = trial.suggest_int(\"y\", 0, 10)\n",
    "    return x ** 2 + y\n",
    "\n",
    "\n",
    "sampler = optuna.integration.SkoptSampler()\n",
    "study = optuna.create_study(sampler=sampler)\n",
    "study.optimize(objective, n_trials=10)"
   ]
  },
  {
   "cell_type": "code",
   "execution_count": 2,
   "id": "41ab40b9-f0c2-4986-a85f-55081118a7d2",
   "metadata": {},
   "outputs": [
    {
     "data": {
      "text/plain": [
       "<optuna.study.study.Study at 0x14b38f0be510>"
      ]
     },
     "execution_count": 2,
     "metadata": {},
     "output_type": "execute_result"
    }
   ],
   "source": [
    "study"
   ]
  },
  {
   "cell_type": "code",
   "execution_count": null,
   "id": "e73dfb55-df0d-4246-b030-c2c1d061f6d8",
   "metadata": {},
   "outputs": [],
   "source": []
  }
 ],
 "metadata": {
  "kernelspec": {
   "display_name": "oasys_default",
   "language": "python",
   "name": "oasys_default"
  },
  "language_info": {
   "codemirror_mode": {
    "name": "ipython",
    "version": 3
   },
   "file_extension": ".py",
   "mimetype": "text/x-python",
   "name": "python",
   "nbconvert_exporter": "python",
   "pygments_lexer": "ipython3",
   "version": "3.8.10"
  }
 },
 "nbformat": 4,
 "nbformat_minor": 5
}
