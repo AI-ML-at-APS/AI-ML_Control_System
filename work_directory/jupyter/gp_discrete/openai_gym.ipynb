{
 "cells": [
  {
   "cell_type": "code",
   "execution_count": 72,
   "id": "021bd706-ba90-4fa9-85cc-bd067a4f6613",
   "metadata": {},
   "outputs": [
    {
     "name": "stdout",
     "output_type": "stream",
     "text": [
      "The autoreload extension is already loaded. To reload it, use:\n",
      "  %reload_ext autoreload\n"
     ]
    }
   ],
   "source": [
    "%load_ext autoreload\n",
    "%autoreload 2"
   ]
  },
  {
   "cell_type": "code",
   "execution_count": 299,
   "id": "04581b1b-f628-4c7b-b0f1-73df06db3a66",
   "metadata": {},
   "outputs": [],
   "source": [
    "import os\n",
    "\n",
    "os.environ['CUDA_VISIBLE_DEVICES'] = ''\n",
    "from beamline34IDC.util.shadow.common import \\\n",
    "    plot_shadow_beam_spatial_distribution, get_shadow_beam_spatial_distribution,\\\n",
    "    load_shadow_beam, PreProcessorFiles, EmptyBeamException\n",
    "from beamline34IDC.optimization import movers, configs, display_utils, common as opt_common\n",
    "import beamline34IDC.optimization.movers as movers\n",
    "from beamline34IDC.optimization.skopt_gp import SkoptGaussianProcessOptimizer, SkoptDiscreteGPOptimizer\n",
    "from beamline34IDC.util import clean_up\n",
    "import matplotlib.pyplot as plt\n",
    "import numpy as np\n",
    "import scipy\n",
    "from tqdm import tqdm\n",
    "import shutil\n",
    "import glob\n",
    "import IPython\n",
    "import gym\n",
    "from stable_baselines3 import PPO"
   ]
  },
  {
   "cell_type": "code",
   "execution_count": 273,
   "id": "41328ae9-1a66-4092-b5b6-df801029a097",
   "metadata": {},
   "outputs": [],
   "source": [
    "class CustomOptimization(opt_common.OptimizationCommon):\n",
    "    def _optimize(self):\n",
    "        pass\n",
    "    \n",
    "    def set_optimizer_options(self):\n",
    "        pass\n",
    "    \n",
    "    def trials(self):\n",
    "        pass\n",
    "    \n",
    "\n",
    "class CustomEnv(gym.Env):\n",
    "    def __init__(self, focusing_system, motor_types, loss_parameters='centroid', random_seed=None):\n",
    "        super().__init__()\n",
    "        \n",
    "        self.optimizer = CustomOptimization(focusing_system, motor_types, random_seed=random_seed, loss_parameters=loss_parameters)\n",
    "        \n",
    "        #action_space_lows = []\n",
    "        #action_space_highs = []\n",
    "        #obs_space_lows = []\n",
    "        #obs_space_highs = []\n",
    "        obs_space_maxes = []\n",
    "        obs_space_origs = []\n",
    "        resolutions = []\n",
    "        \n",
    "        for mt in self.optimizer.motor_types:\n",
    "            obs_space_float = configs.DEFAULT_MOVEMENT_RANGES[mt]\n",
    "            res = configs.DEFAULT_MOTOR_RESOLUTIONS[mt]\n",
    "            \n",
    "            #act = 10 * res\n",
    "            #action_space_lows.append(-act)\n",
    "            #action_space_highs.append(act)\n",
    "            #obs_space_lows.append(obs_space_float[0])\n",
    "            #obs_space_highs.append(obs_space_float[1])\n",
    "            \n",
    "            obs_space_int = (np.array(obs_space_float) / res).astype('int')\n",
    "            obs_space_max = obs_space_int[1] - obs_space_int[0]\n",
    "            obs_space_orig = obs_space_max // 2\n",
    "            obs_space_maxes.append(obs_space_max)\n",
    "            obs_space_origs.append(obs_space_orig)\n",
    "            resolutions.append(res)\n",
    "            \n",
    "        \n",
    "        # Setting an action space of 20 steps (10 positive, 10 negative) for each motor.\n",
    "        self.action_space = gym.spaces.MultiDiscrete([20] * len(self.optimizer.motor_types))\n",
    "        self.action_space_origs = np.array([10] * len(self.optimizer.motor_types))\n",
    "        \n",
    "        self.observation_space = gym.spaces.MultiDiscrete(obs_space_maxes)\n",
    "        self.observation_space_origs = np.array(obs_space_origs)\n",
    "        \n",
    "        self.resolutions = np.array(resolutions)\n",
    "        self.absolute_pos = self.observation_space_origs\n",
    "        \n",
    "        #self.action_space = gym.spaces.Box(low=np.array(action_space_lows), high=np.array(action_space_highs))\n",
    "        #self.action_space\n",
    "        #self.observation_space = gym.spaces.Box(low=np.array(obs_space_lows), high=np.array(obs_space_highs))\n",
    "        #self.absolute_pos = np.zeros(len(self.optimizer.motor_types))\n",
    "        \n",
    "        self.current_loss = self.optimizer.loss_function(0, verbose=False)\n",
    "        self.current_reward = self.reward()\n",
    "        self.counter = 0\n",
    "        #print(self.absolute_pos)\n",
    "        \n",
    "    \n",
    "    def step(self, action):\n",
    "        #this gives the loss due to the relative motion \"action\"\n",
    "        action_this = action - self.action_space_origs\n",
    "        \n",
    "        self.absolute_pos = self.absolute_pos + action_this\n",
    "        \n",
    "        self.current_loss = self.optimizer.loss_function(action_this * self.resolutions, verbose=False)\n",
    "        self.counter += 1\n",
    "        \n",
    "        done = True if self.current_loss <= self.optimizer._loss_min_value else False\n",
    "        info = {}\n",
    "        print(\"Current loss is\", self.current_loss, \"for position\", self.absolute_pos, \"and action\", action, \"at\", self.counter)\n",
    "        return self.absolute_pos, self.reward(), done, info\n",
    "    \n",
    "    \n",
    "    def reward(self):\n",
    "        self.current_reward = 1 - self.current_loss\n",
    "        return self.current_reward\n",
    "    \n",
    "    \n",
    "    def reset(self):\n",
    "        self.current_loss = self.optimizer.loss_function((self.observation_space_origs - self.absolute_pos) * self.resolutions, verbose=False)\n",
    "        self.absolute_pos = self.observation_space_origs\n",
    "        print(\"Current loss is\", self.current_loss, \"for position\", self.absolute_pos, \"at counter\", self.counter)\n",
    "        return self.absolute_pos\n",
    "    \n"
   ]
  },
  {
   "cell_type": "code",
   "execution_count": 4,
   "id": "c26b9a50-de86-42ec-83b3-3ee31572952c",
   "metadata": {
    "collapsed": false,
    "jupyter": {
     "outputs_hidden": false
    },
    "pycharm": {
     "name": "#%%\n"
    }
   },
   "outputs": [
    {
     "name": "stdout",
     "output_type": "stream",
     "text": [
      "80562\n"
     ]
    }
   ],
   "source": [
    "DEFAULT_RANDOM_SEED = np.random.randint(100000)\n",
    "print(DEFAULT_RANDOM_SEED)"
   ]
  },
  {
   "cell_type": "code",
   "execution_count": 5,
   "id": "922de421-9c8d-4f54-98f7-c9eb9ae843be",
   "metadata": {},
   "outputs": [
    {
     "name": "stdout",
     "output_type": "stream",
     "text": [
      "/gpfs/fs1/home/skandel/code/oasys_ml/ML_Control_System/work_directory/jupyter/gp_discrete\n"
     ]
    }
   ],
   "source": [
    "!pwd"
   ]
  },
  {
   "cell_type": "code",
   "execution_count": 6,
   "id": "3feeca79-a578-4e5e-8e7b-ce3dfb76a7ba",
   "metadata": {},
   "outputs": [],
   "source": [
    "base_dir = '/gpfs/fs1/home/skandel/code/oasys_ml/ML_Control_System/'\n",
    "orig_work_dir = f'{base_dir}/work_directory'\n",
    "temp_work_dir = f'{base_dir}/tmp_work_dir_{DEFAULT_RANDOM_SEED}'"
   ]
  },
  {
   "cell_type": "code",
   "execution_count": 7,
   "id": "be426d93-0777-4b7e-83bc-d7a859ce3bfc",
   "metadata": {},
   "outputs": [],
   "source": [
    "os.mkdir(temp_work_dir)"
   ]
  },
  {
   "cell_type": "code",
   "execution_count": 8,
   "id": "84a50478-d82c-42b7-9df3-a9697d2938bf",
   "metadata": {},
   "outputs": [],
   "source": [
    "dat_files = glob.glob(f'{orig_work_dir}/*.dat')\n",
    "for df in dat_files:\n",
    "    shutil.copy(df, temp_work_dir)"
   ]
  },
  {
   "cell_type": "code",
   "execution_count": 9,
   "id": "ccc38c16-d5de-4656-968c-14da28813dde",
   "metadata": {},
   "outputs": [],
   "source": [
    "os.chdir(temp_work_dir)"
   ]
  },
  {
   "cell_type": "code",
   "execution_count": 10,
   "id": "397099b5-22c8-4b3b-8cb9-57b0e5b867b5",
   "metadata": {
    "collapsed": false,
    "jupyter": {
     "outputs_hidden": false
    },
    "pycharm": {
     "name": "#%%\n"
    }
   },
   "outputs": [],
   "source": [
    "input_beam_path = \"primary_optics_system_beam.dat\""
   ]
  },
  {
   "cell_type": "code",
   "execution_count": 280,
   "id": "147cf747-4ffa-43a5-973a-5e9dd48a9d28",
   "metadata": {},
   "outputs": [],
   "source": [
    "move_motors = ['hkb_4', 'vkb_4', 'hkb_3', 'vkb_3']"
   ]
  },
  {
   "cell_type": "code",
   "execution_count": 329,
   "id": "f6d70624-7127-47eb-a539-2f2ce36b96cd",
   "metadata": {
    "collapsed": false,
    "jupyter": {
     "outputs_hidden": false
    },
    "pycharm": {
     "name": "#%%\n"
    }
   },
   "outputs": [],
   "source": [
    "# Focusing Optics System -------------------------\n",
    "focusing_system = opt_common.reinitialize(input_beam_path=input_beam_path)"
   ]
  },
  {
   "cell_type": "code",
   "execution_count": 330,
   "id": "91702ba9-828b-465a-8b6f-acc9cc203210",
   "metadata": {},
   "outputs": [
    {
     "name": "stdout",
     "output_type": "stream",
     "text": [
      "[0. 0. 3. 3.]\n"
     ]
    }
   ],
   "source": [
    "initial_absolute_positions = np.array(movers.get_absolute_positions(focusing_system, move_motors))\n",
    "print(initial_absolute_positions)"
   ]
  },
  {
   "cell_type": "code",
   "execution_count": 334,
   "id": "5f7ba4ee-71c0-4dcb-8c76-54eb96ee5b73",
   "metadata": {},
   "outputs": [],
   "source": [
    "test_random_movement = np.array([0.07, 0.02, 0.004, 0.00])\n",
    "test_absolute_movements = initial_absolute_positions + test_random_movement\n",
    "focusing_system = movers.move_motors(focusing_system, move_motors, test_absolute_movements, movement='absolute')"
   ]
  },
  {
   "cell_type": "code",
   "execution_count": 335,
   "id": "45ab587b-3ce5-47a4-b7be-3ececc0967c2",
   "metadata": {},
   "outputs": [
    {
     "name": "stdout",
     "output_type": "stream",
     "text": [
      "Initial loss is 0.08956711138978926\n"
     ]
    }
   ],
   "source": [
    "centroid, out_beam, hist, dw = opt_common.get_centroid_distance(focusing_system, random_seed=DEFAULT_RANDOM_SEED)\n",
    "print('Initial loss is', centroid)"
   ]
  },
  {
   "cell_type": "code",
   "execution_count": 336,
   "id": "44e75082-66b3-40f7-a44e-3d50f8318a38",
   "metadata": {},
   "outputs": [
    {
     "data": {
      "image/png": "[encoded data removed]",
      "text/plain": [
       "<Figure size 1152x768 with 4 Axes>"
      ]
     },
     "metadata": {
      "needs_background": "light"
     },
     "output_type": "display_data"
    },
    {
     "name": "stdout",
     "output_type": "stream",
     "text": [
      "-0.0872518283221197\n"
     ]
    }
   ],
   "source": [
    "_ = plot_shadow_beam_spatial_distribution(out_beam)\n",
    "print(dw.get_parameter('h_centroid'))"
   ]
  },
  {
   "cell_type": "code",
   "execution_count": null,
   "id": "e45f7e11-59ce-420c-a52a-a25775889300",
   "metadata": {},
   "outputs": [],
   "source": []
  },
  {
   "cell_type": "code",
   "execution_count": null,
   "id": "3da7865a-07b2-4b2e-9bc0-dc583af541c0",
   "metadata": {},
   "outputs": [],
   "source": []
  },
  {
   "cell_type": "code",
   "execution_count": null,
   "id": "3ed982b2-6999-4a80-9074-23a29c579ce5",
   "metadata": {},
   "outputs": [],
   "source": []
  },
  {
   "cell_type": "code",
   "execution_count": null,
   "id": "a14fbf88-707f-4fc1-9bc7-a503ccb9f577",
   "metadata": {},
   "outputs": [],
   "source": []
  },
  {
   "cell_type": "code",
   "execution_count": 297,
   "id": "3d8043fe-36e2-44da-849c-8887235f21ed",
   "metadata": {},
   "outputs": [],
   "source": [
    "env = CustomEnv(focusing_system, move_motors, random_seed=DEFAULT_RANDOM_SEED, loss_parameters=['centroid', 'fwhm'])"
   ]
  },
  {
   "cell_type": "code",
   "execution_count": null,
   "id": "ed743b73-819a-477b-aa7f-08884717c83d",
   "metadata": {},
   "outputs": [],
   "source": [
    "model = PPO(\"MlpPolicy\", env, verbose=1, n_steps=2048)\n",
    "model.learn(total_timesteps=10)"
   ]
  },
  {
   "cell_type": "code",
   "execution_count": 271,
   "id": "de5dd186-140a-4164-82ed-392aab687de7",
   "metadata": {},
   "outputs": [
    {
     "name": "stdout",
     "output_type": "stream",
     "text": [
      "Current loss is 0.06984450871352048 for position [200] at counter 10\n"
     ]
    }
   ],
   "source": [
    "obs = env.reset()"
   ]
  },
  {
   "cell_type": "code",
   "execution_count": 272,
   "id": "6a7bd0e5-6ef6-4f0a-9ece-17985f8f155c",
   "metadata": {},
   "outputs": [
    {
     "name": "stdout",
     "output_type": "stream",
     "text": [
      "[11]\n",
      "Action is [11] [200]\n",
      "Current loss is 0.07084152430193735 for position [201] and action [11] at 11\n",
      "[9]\n",
      "Action is [9] [201]\n",
      "Current loss is 0.06984450871352048 for position [200] and action [9] at 12\n",
      "[11]\n",
      "Action is [11] [200]\n",
      "Current loss is 0.07084152430193735 for position [201] and action [11] at 13\n",
      "[9]\n",
      "Action is [9] [201]\n",
      "Current loss is 0.06984450871352048 for position [200] and action [9] at 14\n",
      "[11]\n",
      "Action is [11] [200]\n",
      "Current loss is 0.07084152430193735 for position [201] and action [11] at 15\n",
      "[9]\n",
      "Action is [9] [201]\n",
      "Current loss is 0.06984450871352048 for position [200] and action [9] at 16\n",
      "[11]\n",
      "Action is [11] [200]\n",
      "Current loss is 0.07084152430193735 for position [201] and action [11] at 17\n",
      "[9]\n",
      "Action is [9] [201]\n",
      "Current loss is 0.06984450871352048 for position [200] and action [9] at 18\n",
      "[11]\n",
      "Action is [11] [200]\n",
      "Current loss is 0.07084152430193735 for position [201] and action [11] at 19\n",
      "[9]\n",
      "Action is [9] [201]\n",
      "Current loss is 0.06984450871352048 for position [200] and action [9] at 20\n",
      "[11]\n",
      "Action is [11] [200]\n",
      "Current loss is 0.07084152430193735 for position [201] and action [11] at 21\n",
      "[9]\n",
      "Action is [9] [201]\n",
      "Current loss is 0.06984450871352048 for position [200] and action [9] at 22\n",
      "[11]\n",
      "Action is [11] [200]\n",
      "Current loss is 0.07084152430193735 for position [201] and action [11] at 23\n",
      "[9]\n",
      "Action is [9] [201]\n",
      "Current loss is 0.06984450871352048 for position [200] and action [9] at 24\n",
      "[11]\n",
      "Action is [11] [200]\n"
     ]
    },
    {
     "ename": "KeyboardInterrupt",
     "evalue": "",
     "output_type": "error",
     "traceback": [
      "\u001b[0;31m---------------------------------------------------------------------------\u001b[0m",
      "\u001b[0;31mKeyboardInterrupt\u001b[0m                         Traceback (most recent call last)",
      "\u001b[0;32m/tmp/ipykernel_3997712/2731650919.py\u001b[0m in \u001b[0;36m<module>\u001b[0;34m\u001b[0m\n\u001b[1;32m      2\u001b[0m     \u001b[0maction\u001b[0m\u001b[0;34m,\u001b[0m \u001b[0m_states\u001b[0m \u001b[0;34m=\u001b[0m \u001b[0mmodel\u001b[0m\u001b[0;34m.\u001b[0m\u001b[0mpredict\u001b[0m\u001b[0;34m(\u001b[0m\u001b[0mobs\u001b[0m\u001b[0;34m,\u001b[0m \u001b[0mdeterministic\u001b[0m\u001b[0;34m=\u001b[0m\u001b[0;32mTrue\u001b[0m\u001b[0;34m)\u001b[0m\u001b[0;34m\u001b[0m\u001b[0;34m\u001b[0m\u001b[0m\n\u001b[1;32m      3\u001b[0m     \u001b[0mprint\u001b[0m\u001b[0;34m(\u001b[0m\u001b[0maction\u001b[0m\u001b[0;34m)\u001b[0m\u001b[0;34m\u001b[0m\u001b[0;34m\u001b[0m\u001b[0m\n\u001b[0;32m----> 4\u001b[0;31m     \u001b[0mobs\u001b[0m\u001b[0;34m,\u001b[0m \u001b[0mreward\u001b[0m\u001b[0;34m,\u001b[0m \u001b[0mdone\u001b[0m\u001b[0;34m,\u001b[0m \u001b[0minfo\u001b[0m \u001b[0;34m=\u001b[0m \u001b[0menv\u001b[0m\u001b[0;34m.\u001b[0m\u001b[0mstep\u001b[0m\u001b[0;34m(\u001b[0m\u001b[0maction\u001b[0m\u001b[0;34m)\u001b[0m\u001b[0;34m\u001b[0m\u001b[0;34m\u001b[0m\u001b[0m\n\u001b[0m",
      "\u001b[0;32m/tmp/ipykernel_3997712/1571539110.py\u001b[0m in \u001b[0;36mstep\u001b[0;34m(self, action)\u001b[0m\n\u001b[1;32m     83\u001b[0m         \u001b[0mself\u001b[0m\u001b[0;34m.\u001b[0m\u001b[0mabsolute_pos\u001b[0m \u001b[0;34m=\u001b[0m \u001b[0mself\u001b[0m\u001b[0;34m.\u001b[0m\u001b[0mabsolute_pos\u001b[0m \u001b[0;34m+\u001b[0m \u001b[0maction_this\u001b[0m\u001b[0;34m\u001b[0m\u001b[0;34m\u001b[0m\u001b[0m\n\u001b[1;32m     84\u001b[0m \u001b[0;34m\u001b[0m\u001b[0m\n\u001b[0;32m---> 85\u001b[0;31m         \u001b[0mself\u001b[0m\u001b[0;34m.\u001b[0m\u001b[0mcurrent_loss\u001b[0m \u001b[0;34m=\u001b[0m \u001b[0mself\u001b[0m\u001b[0;34m.\u001b[0m\u001b[0moptimizer\u001b[0m\u001b[0;34m.\u001b[0m\u001b[0mloss_function\u001b[0m\u001b[0;34m(\u001b[0m\u001b[0maction_this\u001b[0m \u001b[0;34m*\u001b[0m \u001b[0mself\u001b[0m\u001b[0;34m.\u001b[0m\u001b[0mresolutions\u001b[0m\u001b[0;34m,\u001b[0m \u001b[0mverbose\u001b[0m\u001b[0;34m=\u001b[0m\u001b[0;32mFalse\u001b[0m\u001b[0;34m)\u001b[0m\u001b[0;34m\u001b[0m\u001b[0;34m\u001b[0m\u001b[0m\n\u001b[0m\u001b[1;32m     86\u001b[0m         \u001b[0mself\u001b[0m\u001b[0;34m.\u001b[0m\u001b[0mcounter\u001b[0m \u001b[0;34m+=\u001b[0m \u001b[0;36m1\u001b[0m\u001b[0;34m\u001b[0m\u001b[0;34m\u001b[0m\u001b[0m\n\u001b[1;32m     87\u001b[0m \u001b[0;34m\u001b[0m\u001b[0m\n",
      "\u001b[0;32m/gpfs/fs1/home/skandel/code/oasys_ml/ML_Control_System/beamline34IDC/optimization/common.py\u001b[0m in \u001b[0;36mloss_function\u001b[0;34m(self, translations, verbose)\u001b[0m\n\u001b[1;32m    225\u001b[0m         self.focusing_system = movers.move_motors(self.focusing_system, self.motor_types, translations,\n\u001b[1;32m    226\u001b[0m                                                   movement='relative')\n\u001b[0;32m--> 227\u001b[0;31m         \u001b[0mloss\u001b[0m \u001b[0;34m=\u001b[0m \u001b[0mself\u001b[0m\u001b[0;34m.\u001b[0m\u001b[0m_loss_function\u001b[0m\u001b[0;34m(\u001b[0m\u001b[0;34m)\u001b[0m\u001b[0;34m\u001b[0m\u001b[0;34m\u001b[0m\u001b[0m\n\u001b[0m\u001b[1;32m    228\u001b[0m         \u001b[0mself\u001b[0m\u001b[0;34m.\u001b[0m\u001b[0m_opt_trials_motor_positions\u001b[0m\u001b[0;34m.\u001b[0m\u001b[0mappend\u001b[0m\u001b[0;34m(\u001b[0m\u001b[0mtranslations\u001b[0m\u001b[0;34m)\u001b[0m\u001b[0;34m\u001b[0m\u001b[0;34m\u001b[0m\u001b[0m\n\u001b[1;32m    229\u001b[0m         \u001b[0mself\u001b[0m\u001b[0;34m.\u001b[0m\u001b[0m_opt_trials_losses\u001b[0m\u001b[0;34m.\u001b[0m\u001b[0mappend\u001b[0m\u001b[0;34m(\u001b[0m\u001b[0mloss\u001b[0m\u001b[0;34m)\u001b[0m\u001b[0;34m\u001b[0m\u001b[0;34m\u001b[0m\u001b[0m\n",
      "\u001b[0;32m/gpfs/fs1/home/skandel/code/oasys_ml/ML_Control_System/beamline34IDC/optimization/common.py\u001b[0m in \u001b[0;36m<lambda>\u001b[0;34m()\u001b[0m\n\u001b[1;32m    190\u001b[0m                 \u001b[0;32mraise\u001b[0m \u001b[0mValueError\u001b[0m\u001b[0;34m(\u001b[0m\u001b[0;34m\"Supplied loss parameter is not valid.\"\u001b[0m\u001b[0;34m)\u001b[0m\u001b[0;34m\u001b[0m\u001b[0;34m\u001b[0m\u001b[0m\n\u001b[1;32m    191\u001b[0m             \u001b[0mtemp_loss_min_value\u001b[0m \u001b[0;34m+=\u001b[0m \u001b[0mconfigs\u001b[0m\u001b[0;34m.\u001b[0m\u001b[0mDEFAULT_LOSS_TOLERANCES\u001b[0m\u001b[0;34m[\u001b[0m\u001b[0mloss_type\u001b[0m\u001b[0;34m]\u001b[0m\u001b[0;34m\u001b[0m\u001b[0;34m\u001b[0m\u001b[0m\n\u001b[0;32m--> 192\u001b[0;31m         \u001b[0mself\u001b[0m\u001b[0;34m.\u001b[0m\u001b[0m_loss_function\u001b[0m \u001b[0;34m=\u001b[0m \u001b[0;32mlambda\u001b[0m\u001b[0;34m:\u001b[0m \u001b[0mnp\u001b[0m\u001b[0;34m.\u001b[0m\u001b[0msum\u001b[0m\u001b[0;34m(\u001b[0m\u001b[0;34m[\u001b[0m\u001b[0mlossfn\u001b[0m\u001b[0;34m(\u001b[0m\u001b[0;34m)\u001b[0m \u001b[0;32mfor\u001b[0m \u001b[0mlossfn\u001b[0m \u001b[0;32min\u001b[0m \u001b[0mself\u001b[0m\u001b[0;34m.\u001b[0m\u001b[0m_loss_function_list\u001b[0m\u001b[0;34m]\u001b[0m\u001b[0;34m)\u001b[0m\u001b[0;34m\u001b[0m\u001b[0;34m\u001b[0m\u001b[0m\n\u001b[0m\u001b[1;32m    193\u001b[0m \u001b[0;34m\u001b[0m\u001b[0m\n\u001b[1;32m    194\u001b[0m         \u001b[0mself\u001b[0m\u001b[0;34m.\u001b[0m\u001b[0m_loss_min_value\u001b[0m \u001b[0;34m=\u001b[0m \u001b[0mtemp_loss_min_value\u001b[0m \u001b[0;32mif\u001b[0m \u001b[0mloss_min_value\u001b[0m \u001b[0;32mis\u001b[0m \u001b[0;32mNone\u001b[0m \u001b[0;32melse\u001b[0m \u001b[0mloss_min_value\u001b[0m\u001b[0;34m\u001b[0m\u001b[0;34m\u001b[0m\u001b[0m\n",
      "\u001b[0;32m/gpfs/fs1/home/skandel/code/oasys_ml/ML_Control_System/beamline34IDC/optimization/common.py\u001b[0m in \u001b[0;36m<listcomp>\u001b[0;34m(.0)\u001b[0m\n\u001b[1;32m    190\u001b[0m                 \u001b[0;32mraise\u001b[0m \u001b[0mValueError\u001b[0m\u001b[0;34m(\u001b[0m\u001b[0;34m\"Supplied loss parameter is not valid.\"\u001b[0m\u001b[0;34m)\u001b[0m\u001b[0;34m\u001b[0m\u001b[0;34m\u001b[0m\u001b[0m\n\u001b[1;32m    191\u001b[0m             \u001b[0mtemp_loss_min_value\u001b[0m \u001b[0;34m+=\u001b[0m \u001b[0mconfigs\u001b[0m\u001b[0;34m.\u001b[0m\u001b[0mDEFAULT_LOSS_TOLERANCES\u001b[0m\u001b[0;34m[\u001b[0m\u001b[0mloss_type\u001b[0m\u001b[0;34m]\u001b[0m\u001b[0;34m\u001b[0m\u001b[0;34m\u001b[0m\u001b[0m\n\u001b[0;32m--> 192\u001b[0;31m         \u001b[0mself\u001b[0m\u001b[0;34m.\u001b[0m\u001b[0m_loss_function\u001b[0m \u001b[0;34m=\u001b[0m \u001b[0;32mlambda\u001b[0m\u001b[0;34m:\u001b[0m \u001b[0mnp\u001b[0m\u001b[0;34m.\u001b[0m\u001b[0msum\u001b[0m\u001b[0;34m(\u001b[0m\u001b[0;34m[\u001b[0m\u001b[0mlossfn\u001b[0m\u001b[0;34m(\u001b[0m\u001b[0;34m)\u001b[0m \u001b[0;32mfor\u001b[0m \u001b[0mlossfn\u001b[0m \u001b[0;32min\u001b[0m \u001b[0mself\u001b[0m\u001b[0;34m.\u001b[0m\u001b[0m_loss_function_list\u001b[0m\u001b[0;34m]\u001b[0m\u001b[0;34m)\u001b[0m\u001b[0;34m\u001b[0m\u001b[0;34m\u001b[0m\u001b[0m\n\u001b[0m\u001b[1;32m    193\u001b[0m \u001b[0;34m\u001b[0m\u001b[0m\n\u001b[1;32m    194\u001b[0m         \u001b[0mself\u001b[0m\u001b[0;34m.\u001b[0m\u001b[0m_loss_min_value\u001b[0m \u001b[0;34m=\u001b[0m \u001b[0mtemp_loss_min_value\u001b[0m \u001b[0;32mif\u001b[0m \u001b[0mloss_min_value\u001b[0m \u001b[0;32mis\u001b[0m \u001b[0;32mNone\u001b[0m \u001b[0;32melse\u001b[0m \u001b[0mloss_min_value\u001b[0m\u001b[0;34m\u001b[0m\u001b[0;34m\u001b[0m\u001b[0m\n",
      "\u001b[0;32m/gpfs/fs1/home/skandel/code/oasys_ml/ML_Control_System/beamline34IDC/optimization/common.py\u001b[0m in \u001b[0;36mget_centroid_distance\u001b[0;34m(self)\u001b[0m\n\u001b[1;32m    212\u001b[0m         centroid_distance, photon_beam, hist, dw = get_centroid_distance(focusing_system=self.focusing_system,\n\u001b[1;32m    213\u001b[0m                                                                          \u001b[0mrandom_seed\u001b[0m\u001b[0;34m=\u001b[0m\u001b[0mself\u001b[0m\u001b[0;34m.\u001b[0m\u001b[0mrandom_seed\u001b[0m\u001b[0;34m,\u001b[0m\u001b[0;34m\u001b[0m\u001b[0;34m\u001b[0m\u001b[0m\n\u001b[0;32m--> 214\u001b[0;31m                                                                          out_of_bounds_value=self._out_of_bounds_loss)\n\u001b[0m\u001b[1;32m    215\u001b[0m         \u001b[0;32mreturn\u001b[0m \u001b[0mcentroid_distance\u001b[0m\u001b[0;34m\u001b[0m\u001b[0;34m\u001b[0m\u001b[0m\n\u001b[1;32m    216\u001b[0m \u001b[0;34m\u001b[0m\u001b[0m\n",
      "\u001b[0;32m/gpfs/fs1/home/skandel/code/oasys_ml/ML_Control_System/beamline34IDC/optimization/common.py\u001b[0m in \u001b[0;36mget_centroid_distance\u001b[0;34m(focusing_system, photon_beam, random_seed, out_of_bounds_value)\u001b[0m\n\u001b[1;32m    116\u001b[0m                           random_seed: float = None, out_of_bounds_value: float = 1e4) -> BeamParameterOutput:\n\u001b[1;32m    117\u001b[0m \u001b[0;34m\u001b[0m\u001b[0m\n\u001b[0;32m--> 118\u001b[0;31m     \u001b[0mphoton_beam\u001b[0m \u001b[0;34m=\u001b[0m \u001b[0mcheck_beam_out_of_bounds\u001b[0m\u001b[0;34m(\u001b[0m\u001b[0mfocusing_system\u001b[0m\u001b[0;34m,\u001b[0m \u001b[0mphoton_beam\u001b[0m\u001b[0;34m,\u001b[0m \u001b[0mrandom_seed\u001b[0m\u001b[0;34m)\u001b[0m\u001b[0;34m\u001b[0m\u001b[0;34m\u001b[0m\u001b[0m\n\u001b[0m\u001b[1;32m    119\u001b[0m     \u001b[0;32mif\u001b[0m \u001b[0mphoton_beam\u001b[0m \u001b[0;32mis\u001b[0m \u001b[0;32mNone\u001b[0m\u001b[0;34m:\u001b[0m\u001b[0;34m\u001b[0m\u001b[0;34m\u001b[0m\u001b[0m\n\u001b[1;32m    120\u001b[0m         \u001b[0;32mreturn\u001b[0m \u001b[0mBeamParameterOutput\u001b[0m\u001b[0;34m(\u001b[0m\u001b[0mout_of_bounds_value\u001b[0m\u001b[0;34m,\u001b[0m \u001b[0;32mNone\u001b[0m\u001b[0;34m,\u001b[0m \u001b[0;32mNone\u001b[0m\u001b[0;34m,\u001b[0m \u001b[0;32mNone\u001b[0m\u001b[0;34m)\u001b[0m\u001b[0;34m\u001b[0m\u001b[0;34m\u001b[0m\u001b[0m\n",
      "\u001b[0;32m/gpfs/fs1/home/skandel/code/oasys_ml/ML_Control_System/beamline34IDC/optimization/common.py\u001b[0m in \u001b[0;36mcheck_beam_out_of_bounds\u001b[0;34m(focusing_system, photon_beam, random_seed)\u001b[0m\n\u001b[1;32m     90\u001b[0m \u001b[0;32mdef\u001b[0m \u001b[0mcheck_beam_out_of_bounds\u001b[0m\u001b[0;34m(\u001b[0m\u001b[0mfocusing_system\u001b[0m\u001b[0;34m:\u001b[0m \u001b[0mobject\u001b[0m\u001b[0;34m,\u001b[0m \u001b[0mphoton_beam\u001b[0m\u001b[0;34m:\u001b[0m \u001b[0mobject\u001b[0m\u001b[0;34m,\u001b[0m \u001b[0mrandom_seed\u001b[0m\u001b[0;34m:\u001b[0m \u001b[0mfloat\u001b[0m\u001b[0;34m)\u001b[0m \u001b[0;34m->\u001b[0m \u001b[0mobject\u001b[0m\u001b[0;34m:\u001b[0m\u001b[0;34m\u001b[0m\u001b[0;34m\u001b[0m\u001b[0m\n\u001b[1;32m     91\u001b[0m     \u001b[0;32mtry\u001b[0m\u001b[0;34m:\u001b[0m\u001b[0;34m\u001b[0m\u001b[0;34m\u001b[0m\u001b[0m\n\u001b[0;32m---> 92\u001b[0;31m         \u001b[0mphoton_beam\u001b[0m \u001b[0;34m=\u001b[0m \u001b[0mcheck_input_for_beam\u001b[0m\u001b[0;34m(\u001b[0m\u001b[0mfocusing_system\u001b[0m\u001b[0;34m,\u001b[0m \u001b[0mphoton_beam\u001b[0m\u001b[0;34m,\u001b[0m \u001b[0mrandom_seed\u001b[0m\u001b[0;34m)\u001b[0m\u001b[0;34m\u001b[0m\u001b[0;34m\u001b[0m\u001b[0m\n\u001b[0m\u001b[1;32m     93\u001b[0m     \u001b[0;32mexcept\u001b[0m \u001b[0mException\u001b[0m \u001b[0;32mas\u001b[0m \u001b[0mexc\u001b[0m\u001b[0;34m:\u001b[0m\u001b[0;34m\u001b[0m\u001b[0;34m\u001b[0m\u001b[0m\n\u001b[1;32m     94\u001b[0m         if (isinstance(exc, EmptyBeamException) or\n",
      "\u001b[0;32m/gpfs/fs1/home/skandel/code/oasys_ml/ML_Control_System/beamline34IDC/optimization/common.py\u001b[0m in \u001b[0;36mcheck_input_for_beam\u001b[0;34m(focusing_system, photon_beam, random_seed)\u001b[0m\n\u001b[1;32m     84\u001b[0m         \u001b[0;32mif\u001b[0m \u001b[0mfocusing_system\u001b[0m \u001b[0;32mis\u001b[0m \u001b[0;32mNone\u001b[0m\u001b[0;34m:\u001b[0m\u001b[0;34m\u001b[0m\u001b[0;34m\u001b[0m\u001b[0m\n\u001b[1;32m     85\u001b[0m             \u001b[0;32mraise\u001b[0m \u001b[0mValueError\u001b[0m\u001b[0;34m(\u001b[0m\u001b[0;34m\"Need to supply at least one of photon_beam or focusing_system.\"\u001b[0m\u001b[0;34m)\u001b[0m\u001b[0;34m\u001b[0m\u001b[0;34m\u001b[0m\u001b[0m\n\u001b[0;32m---> 86\u001b[0;31m         \u001b[0mphoton_beam\u001b[0m \u001b[0;34m=\u001b[0m \u001b[0mget_beam\u001b[0m\u001b[0;34m(\u001b[0m\u001b[0mfocusing_system\u001b[0m\u001b[0;34m,\u001b[0m \u001b[0mrandom_seed\u001b[0m\u001b[0;34m=\u001b[0m\u001b[0mrandom_seed\u001b[0m\u001b[0;34m)\u001b[0m\u001b[0;34m\u001b[0m\u001b[0;34m\u001b[0m\u001b[0m\n\u001b[0m\u001b[1;32m     87\u001b[0m     \u001b[0;32mreturn\u001b[0m \u001b[0mphoton_beam\u001b[0m\u001b[0;34m\u001b[0m\u001b[0;34m\u001b[0m\u001b[0m\n\u001b[1;32m     88\u001b[0m \u001b[0;34m\u001b[0m\u001b[0m\n",
      "\u001b[0;32m/gpfs/fs1/home/skandel/code/oasys_ml/ML_Control_System/beamline34IDC/optimization/common.py\u001b[0m in \u001b[0;36mget_beam\u001b[0;34m(focusing_system, random_seed, remove_lost_rays)\u001b[0m\n\u001b[1;32m     76\u001b[0m \u001b[0;34m\u001b[0m\u001b[0m\n\u001b[1;32m     77\u001b[0m \u001b[0;32mdef\u001b[0m \u001b[0mget_beam\u001b[0m\u001b[0;34m(\u001b[0m\u001b[0mfocusing_system\u001b[0m\u001b[0;34m:\u001b[0m \u001b[0mobject\u001b[0m\u001b[0;34m,\u001b[0m \u001b[0mrandom_seed\u001b[0m\u001b[0;34m:\u001b[0m \u001b[0mfloat\u001b[0m \u001b[0;34m=\u001b[0m \u001b[0;32mNone\u001b[0m\u001b[0;34m,\u001b[0m \u001b[0mremove_lost_rays\u001b[0m\u001b[0;34m:\u001b[0m \u001b[0mbool\u001b[0m \u001b[0;34m=\u001b[0m \u001b[0;32mTrue\u001b[0m\u001b[0;34m)\u001b[0m \u001b[0;34m->\u001b[0m \u001b[0mobject\u001b[0m\u001b[0;34m:\u001b[0m\u001b[0;34m\u001b[0m\u001b[0;34m\u001b[0m\u001b[0m\n\u001b[0;32m---> 78\u001b[0;31m     \u001b[0mphoton_beam\u001b[0m \u001b[0;34m=\u001b[0m \u001b[0mfocusing_system\u001b[0m\u001b[0;34m.\u001b[0m\u001b[0mget_photon_beam\u001b[0m\u001b[0;34m(\u001b[0m\u001b[0mrandom_seed\u001b[0m\u001b[0;34m=\u001b[0m\u001b[0mrandom_seed\u001b[0m\u001b[0;34m,\u001b[0m \u001b[0mremove_lost_rays\u001b[0m\u001b[0;34m=\u001b[0m\u001b[0mremove_lost_rays\u001b[0m\u001b[0;34m)\u001b[0m\u001b[0;34m\u001b[0m\u001b[0;34m\u001b[0m\u001b[0m\n\u001b[0m\u001b[1;32m     79\u001b[0m     \u001b[0;32mreturn\u001b[0m \u001b[0mphoton_beam\u001b[0m\u001b[0;34m\u001b[0m\u001b[0;34m\u001b[0m\u001b[0m\n\u001b[1;32m     80\u001b[0m \u001b[0;34m\u001b[0m\u001b[0m\n",
      "\u001b[0;32m/gpfs/fs1/home/skandel/code/oasys_ml/ML_Control_System/beamline34IDC/simulation/shadow/focusing_optics.py\u001b[0m in \u001b[0;36mget_photon_beam\u001b[0;34m(self, near_field_calculation, remove_lost_rays, **kwargs)\u001b[0m\n\u001b[1;32m    433\u001b[0m \u001b[0;34m\u001b[0m\u001b[0m\n\u001b[1;32m    434\u001b[0m             \u001b[0;32mif\u001b[0m \u001b[0mrun_all\u001b[0m \u001b[0;32mor\u001b[0m \u001b[0mself\u001b[0m\u001b[0;34m.\u001b[0m\u001b[0m_hkb\u001b[0m \u001b[0;32min\u001b[0m \u001b[0mself\u001b[0m\u001b[0;34m.\u001b[0m\u001b[0m_modified_elements\u001b[0m\u001b[0;34m:\u001b[0m\u001b[0;34m\u001b[0m\u001b[0;34m\u001b[0m\u001b[0m\n\u001b[0;32m--> 435\u001b[0;31m                 \u001b[0moutput_beam\u001b[0m \u001b[0;34m=\u001b[0m \u001b[0mself\u001b[0m\u001b[0;34m.\u001b[0m\u001b[0m_trace_hkb\u001b[0m\u001b[0;34m(\u001b[0m\u001b[0mremove_lost_rays\u001b[0m\u001b[0;34m)\u001b[0m\u001b[0;34m\u001b[0m\u001b[0;34m\u001b[0m\u001b[0m\n\u001b[0m\u001b[1;32m    436\u001b[0m \u001b[0;34m\u001b[0m\u001b[0m\n\u001b[1;32m    437\u001b[0m                 \u001b[0;32mif\u001b[0m \u001b[0;32mnot\u001b[0m \u001b[0mnear_field_calculation\u001b[0m\u001b[0;34m:\u001b[0m\u001b[0;34m\u001b[0m\u001b[0;34m\u001b[0m\u001b[0m\n",
      "\u001b[0;32m/gpfs/fs1/home/skandel/code/oasys_ml/ML_Control_System/beamline34IDC/simulation/shadow/focusing_optics.py\u001b[0m in \u001b[0;36m_trace_hkb\u001b[0;34m(self, remove_lost_rays)\u001b[0m\n\u001b[1;32m    700\u001b[0m                                \u001b[0mwidget_class_name\u001b[0m\u001b[0;34m=\u001b[0m\u001b[0;34m\"DoubleRodBenderEllypticalMirror\"\u001b[0m\u001b[0;34m,\u001b[0m\u001b[0;34m\u001b[0m\u001b[0;34m\u001b[0m\u001b[0m\n\u001b[1;32m    701\u001b[0m                                \u001b[0moe_name\u001b[0m\u001b[0;34m=\u001b[0m\u001b[0;34m\"H-KB\"\u001b[0m\u001b[0;34m,\u001b[0m\u001b[0;34m\u001b[0m\u001b[0;34m\u001b[0m\u001b[0m\n\u001b[0;32m--> 702\u001b[0;31m                                remove_lost_rays=remove_lost_rays)\n\u001b[0m\u001b[1;32m    703\u001b[0m \u001b[0;34m\u001b[0m\u001b[0m\n\u001b[1;32m    704\u001b[0m     \u001b[0;32mdef\u001b[0m \u001b[0m__trace_kb\u001b[0m\u001b[0;34m(\u001b[0m\u001b[0mself\u001b[0m\u001b[0;34m,\u001b[0m \u001b[0mwidget\u001b[0m\u001b[0;34m,\u001b[0m \u001b[0minput_beam\u001b[0m\u001b[0;34m,\u001b[0m \u001b[0mshadow_oe\u001b[0m\u001b[0;34m,\u001b[0m \u001b[0mwidget_class_name\u001b[0m\u001b[0;34m,\u001b[0m \u001b[0moe_name\u001b[0m\u001b[0;34m,\u001b[0m \u001b[0mremove_lost_rays\u001b[0m\u001b[0;34m)\u001b[0m\u001b[0;34m:\u001b[0m\u001b[0;34m\u001b[0m\u001b[0;34m\u001b[0m\u001b[0m\n",
      "\u001b[0;32m/gpfs/fs1/home/skandel/code/oasys_ml/ML_Control_System/beamline34IDC/simulation/shadow/focusing_optics.py\u001b[0m in \u001b[0;36m__trace_kb\u001b[0;34m(self, widget, input_beam, shadow_oe, widget_class_name, oe_name, remove_lost_rays)\u001b[0m\n\u001b[1;32m    705\u001b[0m         \u001b[0mwidget\u001b[0m\u001b[0;34m.\u001b[0m\u001b[0mR0\u001b[0m              \u001b[0;34m=\u001b[0m \u001b[0mwidget\u001b[0m\u001b[0;34m.\u001b[0m\u001b[0mR0_out\u001b[0m  \u001b[0;31m# use last fit result\u001b[0m\u001b[0;34m\u001b[0m\u001b[0;34m\u001b[0m\u001b[0m\n\u001b[1;32m    706\u001b[0m         \u001b[0mshadow_oe\u001b[0m\u001b[0;34m.\u001b[0m\u001b[0m_oe\u001b[0m\u001b[0;34m.\u001b[0m\u001b[0mFILE_RIP\u001b[0m \u001b[0;34m=\u001b[0m \u001b[0mbytes\u001b[0m\u001b[0;34m(\u001b[0m\u001b[0mwidget\u001b[0m\u001b[0;34m.\u001b[0m\u001b[0mms_defect_file_name\u001b[0m\u001b[0;34m,\u001b[0m \u001b[0;34m'utf-8'\u001b[0m\u001b[0;34m)\u001b[0m \u001b[0;31m# restore original error profile\u001b[0m\u001b[0;34m\u001b[0m\u001b[0;34m\u001b[0m\u001b[0m\n\u001b[0;32m--> 707\u001b[0;31m         \u001b[0mapply_bender_surface\u001b[0m\u001b[0;34m(\u001b[0m\u001b[0mwidget\u001b[0m\u001b[0;34m=\u001b[0m\u001b[0mwidget\u001b[0m\u001b[0;34m,\u001b[0m \u001b[0mshadow_oe\u001b[0m\u001b[0;34m=\u001b[0m\u001b[0mshadow_oe\u001b[0m\u001b[0;34m,\u001b[0m \u001b[0minput_beam\u001b[0m\u001b[0;34m=\u001b[0m\u001b[0minput_beam\u001b[0m\u001b[0;34m.\u001b[0m\u001b[0mduplicate\u001b[0m\u001b[0;34m(\u001b[0m\u001b[0;34m)\u001b[0m\u001b[0;34m)\u001b[0m\u001b[0;34m\u001b[0m\u001b[0;34m\u001b[0m\u001b[0m\n\u001b[0m\u001b[1;32m    708\u001b[0m         \u001b[0;31m# Redo raytracing with the bender correction as error profile\u001b[0m\u001b[0;34m\u001b[0m\u001b[0;34m\u001b[0m\u001b[0;34m\u001b[0m\u001b[0m\n\u001b[1;32m    709\u001b[0m         return self._trace_oe(input_beam=input_beam,\n",
      "\u001b[0;32m~/.conda/envs/oasys_env/lib/python3.7/site-packages/orangecontrib/shadow_advanced_tools/widgets/optical_elements/bl/double_rod_bendable_ellispoid_mirror_bl.py\u001b[0m in \u001b[0;36mapply_bender_surface\u001b[0;34m(widget, input_beam, shadow_oe)\u001b[0m\n\u001b[1;32m     68\u001b[0m                            \u001b[0mwrite_start_file\u001b[0m\u001b[0;34m=\u001b[0m\u001b[0;36m0\u001b[0m\u001b[0;34m,\u001b[0m\u001b[0;34m\u001b[0m\u001b[0;34m\u001b[0m\u001b[0m\n\u001b[1;32m     69\u001b[0m                            \u001b[0mwrite_end_file\u001b[0m\u001b[0;34m=\u001b[0m\u001b[0;36m0\u001b[0m\u001b[0;34m,\u001b[0m\u001b[0;34m\u001b[0m\u001b[0;34m\u001b[0m\u001b[0m\n\u001b[0;32m---> 70\u001b[0;31m                            widget_class_name=type(widget).__name__)\n\u001b[0m\u001b[1;32m     71\u001b[0m \u001b[0;34m\u001b[0m\u001b[0m\n\u001b[1;32m     72\u001b[0m     \u001b[0mx\u001b[0m \u001b[0;34m=\u001b[0m \u001b[0mnumpy\u001b[0m\u001b[0;34m.\u001b[0m\u001b[0mlinspace\u001b[0m\u001b[0;34m(\u001b[0m\u001b[0;34m-\u001b[0m\u001b[0mwidget\u001b[0m\u001b[0;34m.\u001b[0m\u001b[0mdim_x_minus\u001b[0m\u001b[0;34m,\u001b[0m \u001b[0mwidget\u001b[0m\u001b[0;34m.\u001b[0m\u001b[0mdim_x_plus\u001b[0m\u001b[0;34m,\u001b[0m \u001b[0mwidget\u001b[0m\u001b[0;34m.\u001b[0m\u001b[0mbender_bin_x\u001b[0m \u001b[0;34m+\u001b[0m \u001b[0;36m1\u001b[0m\u001b[0;34m)\u001b[0m\u001b[0;34m\u001b[0m\u001b[0;34m\u001b[0m\u001b[0m\n",
      "\u001b[0;32m~/.conda/envs/oasys_env/lib/python3.7/site-packages/orangecontrib/shadow/util/shadow_objects.py\u001b[0m in \u001b[0;36mtraceFromOE\u001b[0;34m(cls, input_beam, shadow_oe, write_start_file, write_end_file, history, widget_class_name)\u001b[0m\n\u001b[1;32m    298\u001b[0m         \u001b[0;32mif\u001b[0m \u001b[0mwrite_start_file\u001b[0m \u001b[0;34m==\u001b[0m \u001b[0;36m1\u001b[0m\u001b[0;34m:\u001b[0m \u001b[0mshadow_oe\u001b[0m\u001b[0;34m.\u001b[0m\u001b[0m_oe\u001b[0m\u001b[0;34m.\u001b[0m\u001b[0mwrite\u001b[0m\u001b[0;34m(\u001b[0m\u001b[0;34m\"start.%02d\"\u001b[0m\u001b[0;34m%\u001b[0m\u001b[0m__shadow_beam\u001b[0m\u001b[0;34m.\u001b[0m\u001b[0m_oe_number\u001b[0m\u001b[0;34m)\u001b[0m\u001b[0;34m\u001b[0m\u001b[0;34m\u001b[0m\u001b[0m\n\u001b[1;32m    299\u001b[0m \u001b[0;34m\u001b[0m\u001b[0m\n\u001b[0;32m--> 300\u001b[0;31m         \u001b[0m__shadow_beam\u001b[0m\u001b[0;34m.\u001b[0m\u001b[0m_beam\u001b[0m\u001b[0;34m.\u001b[0m\u001b[0mtraceOE\u001b[0m\u001b[0;34m(\u001b[0m\u001b[0mshadow_oe\u001b[0m\u001b[0;34m.\u001b[0m\u001b[0m_oe\u001b[0m\u001b[0;34m,\u001b[0m \u001b[0m__shadow_beam\u001b[0m\u001b[0;34m.\u001b[0m\u001b[0m_oe_number\u001b[0m\u001b[0;34m)\u001b[0m\u001b[0;34m\u001b[0m\u001b[0;34m\u001b[0m\u001b[0m\n\u001b[0m\u001b[1;32m    301\u001b[0m \u001b[0;34m\u001b[0m\u001b[0m\n\u001b[1;32m    302\u001b[0m         \u001b[0mshadow_oe\u001b[0m\u001b[0;34m.\u001b[0m\u001b[0mself_repair\u001b[0m\u001b[0;34m(\u001b[0m\u001b[0;34m)\u001b[0m\u001b[0;34m\u001b[0m\u001b[0;34m\u001b[0m\u001b[0m\n",
      "\u001b[0;31mKeyboardInterrupt\u001b[0m: "
     ]
    }
   ],
   "source": [
    "while True:\n",
    "    action, _states = model.predict(obs, deterministic=True)\n",
    "    print(action)\n",
    "    obs, reward, done, info = env.step(action)"
   ]
  },
  {
   "cell_type": "code",
   "execution_count": 58,
   "id": "ecaa7dc1-c7c1-428d-9e32-73275d8335a3",
   "metadata": {},
   "outputs": [
    {
     "data": {
      "image/png": "[encoded data removed]",
      "text/plain": [
       "<Figure size 432x288 with 1 Axes>"
      ]
     },
     "metadata": {
      "needs_background": "light"
     },
     "output_type": "display_data"
    }
   ],
   "source": [
    "plt.plot(c.optimizer._opt_trials_losses)\n",
    "plt.yscale('log')"
   ]
  },
  {
   "cell_type": "code",
   "execution_count": null,
   "id": "58ca9b09-6089-4f85-ac16-a0341a591a3f",
   "metadata": {},
   "outputs": [],
   "source": []
  }
 ],
 "metadata": {
  "kernelspec": {
   "display_name": "oasys",
   "language": "python",
   "name": "oasys"
  },
  "language_info": {
   "codemirror_mode": {
    "name": "ipython",
    "version": 3
   },
   "file_extension": ".py",
   "mimetype": "text/x-python",
   "name": "python",
   "nbconvert_exporter": "python",
   "pygments_lexer": "ipython3",
   "version": "3.7.10"
  }
 },
 "nbformat": 4,
 "nbformat_minor": 5
}
