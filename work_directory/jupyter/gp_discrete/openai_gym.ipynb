{
 "cells": [
  {
   "cell_type": "code",
   "execution_count": 72,
   "id": "021bd706-ba90-4fa9-85cc-bd067a4f6613",
   "metadata": {},
   "outputs": [
    {
     "name": "stdout",
     "output_type": "stream",
     "text": [
      "The autoreload extension is already loaded. To reload it, use:\n",
      "  %reload_ext autoreload\n"
     ]
    }
   ],
   "source": [
    "%load_ext autoreload\n",
    "%autoreload 2"
   ]
  },
  {
   "cell_type": "code",
   "execution_count": 2,
   "id": "04581b1b-f628-4c7b-b0f1-73df06db3a66",
   "metadata": {},
   "outputs": [],
   "source": [
    "import os\n",
    "\n",
    "os.environ['CUDA_VISIBLE_DEVICES'] = ''\n",
    "from beamline34IDC.util.shadow.common import \\\n",
    "    plot_shadow_beam_spatial_distribution, get_shadow_beam_spatial_distribution,\\\n",
    "    load_shadow_beam, PreProcessorFiles, EmptyBeamException\n",
    "from beamline34IDC.optimization import movers, configs, display_utils, common as opt_common\n",
    "import beamline34IDC.optimization.movers as movers\n",
    "from beamline34IDC.util import clean_up\n",
    "import matplotlib.pyplot as plt\n",
    "import numpy as np\n",
    "import scipy\n",
    "from tqdm import tqdm\n",
    "import shutil\n",
    "import glob\n",
    "import IPython\n",
    "import gym\n",
    "from stable_baselines3 import PPO"
   ]
  },
  {
   "cell_type": "code",
   "execution_count": 195,
   "id": "41328ae9-1a66-4092-b5b6-df801029a097",
   "metadata": {},
   "outputs": [],
   "source": [
    "class CustomOptimization(opt_common.OptimizationCommon):\n",
    "    def _optimize(self):\n",
    "        pass\n",
    "    \n",
    "    def set_optimizer_options(self):\n",
    "        pass\n",
    "    \n",
    "    def trials(self):\n",
    "        pass\n",
    "    \n",
    "\n",
    "class CustomEnv(gym.Env):\n",
    "    def __init__(self, focusing_system, motor_types, loss_parameters='centroid', random_seed=None):\n",
    "        #super(CustomEnv, self).__init__()\n",
    "        super().__init__()\n",
    "        \n",
    "        self.optimizer = CustomOptimization(focusing_system, motor_types, random_seed=random_seed, loss_parameters=loss_parameters)\n",
    "        \n",
    "        #self.resolutions = [ for mt in self.optimizer.motor_types]\n",
    "        \n",
    "        #self.action_space = gym.spaces.Box(\n",
    "        \n",
    "        #observation_spaces_float = [ for mt in self.optimizer.motor_types]\n",
    "        \n",
    "        #observation_spaces = []\n",
    "        #observation_spaces_origins = []\n",
    "        #action_spaces = []\n",
    "        #action_spaces_origins = []\n",
    "        \n",
    "        #action_space_lows = []\n",
    "        #action_space_highs = []\n",
    "        #obs_space_lows = []\n",
    "        #obs_space_highs = []\n",
    "        obs_space_maxes = []\n",
    "        obs_space_origs = []\n",
    "        resolutions = []\n",
    "        \n",
    "        for mt in self.optimizer.motor_types:\n",
    "            obs_space_float = configs.DEFAULT_MOVEMENT_RANGES[mt]\n",
    "            res = configs.DEFAULT_MOTOR_RESOLUTIONS[mt]\n",
    "            \n",
    "            #act = 10 * res\n",
    "            #action_space_lows.append(-act)\n",
    "            #action_space_highs.append(act)\n",
    "            #obs_space_lows.append(obs_space_float[0])\n",
    "            #obs_space_highs.append(obs_space_float[1])\n",
    "            \n",
    "            obs_space_int = (np.array(obs_space_float) / res).astype('int')\n",
    "            obs_space_max = obs_space_int[1] - obs_space_int[0]\n",
    "            obs_space_orig = obs_space_max // 2\n",
    "            obs_space_maxes.append(obs_space_max)\n",
    "            obs_space_origs.append(obs_space_orig)\n",
    "            resolutions.append(res)\n",
    "            \n",
    "        \n",
    "        # Setting an action space of 20 steps (10 positive, 10 negative) for each motor.\n",
    "        self.action_space = gym.spaces.MultiDiscrete([20] * len(self.optimizer.motor_types))\n",
    "        self.action_space_origs = np.array([10] * len(self.optimizer.motor_types))\n",
    "        \n",
    "        \n",
    "        self.observation_space = gym.spaces.MultiDiscrete(obs_space_maxes)\n",
    "        self.observation_space_origs = np.array(obs_space_origs)\n",
    "        \n",
    "        self.resolutions = np.array(resolutions)\n",
    "        self.absolute_pos = self.observation_space_origs\n",
    "        \n",
    "        #self.action_space = gym.spaces.Box(low=np.array(action_space_lows), high=np.array(action_space_highs))\n",
    "        #self.action_space\n",
    "        #self.observation_space = gym.spaces.Box(low=np.array(obs_space_lows), high=np.array(obs_space_highs))\n",
    "        #self.absolute_pos = np.zeros(len(self.optimizer.motor_types))\n",
    "        \n",
    "        self.current_loss = None\n",
    "        self.current_reward = None\n",
    "        self.counter = 0\n",
    "        #print(self.absolute_pos)\n",
    "        \n",
    "    \n",
    "    def step(self, action):\n",
    "        \n",
    "        #this gives the loss due to the relative motion \"action\"\n",
    "        action_this = action - self.action_space_origs\n",
    "        \n",
    "        self.absolute_pos = self.absolute_pos + action_this\n",
    "        \n",
    "        self.current_loss = self.optimizer.loss_function(action_this * self.resolutions, verbose=False)\n",
    "        self.counter += 1\n",
    "        \n",
    "        done = True if self.current_loss <= self.optimizer._loss_min_value else False\n",
    "        info = {}\n",
    "        print(\"Current loss is\", self.current_loss, \"for position\", self.absolute_pos, \"and action\", action, \"at\", self.counter)\n",
    "        return self.absolute_pos, self.reward(), done, info\n",
    "    \n",
    "    \n",
    "    def reward(self):\n",
    "        self.current_reward = 1 - self.current_loss\n",
    "        return self.current_reward\n",
    "    \n",
    "    \n",
    "    def reset(self):\n",
    "        self.current_loss = self.optimizer.loss_function((self.observation_space_origs - self.absolute_pos) * self.resolutions, verbose=False)\n",
    "        self.absolute_pos = self.observation_space_origs\n",
    "        print(\"Current loss is\", self.current_loss, \"for position\", self.absolute_pos, \"at counter\", self.counter)\n",
    "        return self.absolute_pos\n",
    "    \n"
   ]
  },
  {
   "cell_type": "code",
   "execution_count": 4,
   "id": "c26b9a50-de86-42ec-83b3-3ee31572952c",
   "metadata": {
    "collapsed": false,
    "jupyter": {
     "outputs_hidden": false
    },
    "pycharm": {
     "name": "#%%\n"
    }
   },
   "outputs": [
    {
     "name": "stdout",
     "output_type": "stream",
     "text": [
      "80562\n"
     ]
    }
   ],
   "source": [
    "DEFAULT_RANDOM_SEED = np.random.randint(100000)\n",
    "print(DEFAULT_RANDOM_SEED)"
   ]
  },
  {
   "cell_type": "code",
   "execution_count": 5,
   "id": "922de421-9c8d-4f54-98f7-c9eb9ae843be",
   "metadata": {},
   "outputs": [
    {
     "name": "stdout",
     "output_type": "stream",
     "text": [
      "/gpfs/fs1/home/skandel/code/oasys_ml/ML_Control_System/work_directory/jupyter/gp_discrete\n"
     ]
    }
   ],
   "source": [
    "!pwd"
   ]
  },
  {
   "cell_type": "code",
   "execution_count": 6,
   "id": "3feeca79-a578-4e5e-8e7b-ce3dfb76a7ba",
   "metadata": {},
   "outputs": [],
   "source": [
    "base_dir = '/gpfs/fs1/home/skandel/code/oasys_ml/ML_Control_System/'\n",
    "orig_work_dir = f'{base_dir}/work_directory'\n",
    "temp_work_dir = f'{base_dir}/tmp_work_dir_{DEFAULT_RANDOM_SEED}'"
   ]
  },
  {
   "cell_type": "code",
   "execution_count": 7,
   "id": "be426d93-0777-4b7e-83bc-d7a859ce3bfc",
   "metadata": {},
   "outputs": [],
   "source": [
    "os.mkdir(temp_work_dir)"
   ]
  },
  {
   "cell_type": "code",
   "execution_count": 8,
   "id": "84a50478-d82c-42b7-9df3-a9697d2938bf",
   "metadata": {},
   "outputs": [],
   "source": [
    "dat_files = glob.glob(f'{orig_work_dir}/*.dat')\n",
    "for df in dat_files:\n",
    "    shutil.copy(df, temp_work_dir)"
   ]
  },
  {
   "cell_type": "code",
   "execution_count": 9,
   "id": "ccc38c16-d5de-4656-968c-14da28813dde",
   "metadata": {},
   "outputs": [],
   "source": [
    "os.chdir(temp_work_dir)"
   ]
  },
  {
   "cell_type": "code",
   "execution_count": 10,
   "id": "397099b5-22c8-4b3b-8cb9-57b0e5b867b5",
   "metadata": {
    "collapsed": false,
    "jupyter": {
     "outputs_hidden": false
    },
    "pycharm": {
     "name": "#%%\n"
    }
   },
   "outputs": [],
   "source": [
    "input_beam_path = \"primary_optics_system_beam.dat\""
   ]
  },
  {
   "cell_type": "code",
   "execution_count": 30,
   "id": "147cf747-4ffa-43a5-973a-5e9dd48a9d28",
   "metadata": {},
   "outputs": [],
   "source": [
    "move_motors = ['hkb_4']"
   ]
  },
  {
   "cell_type": "code",
   "execution_count": 205,
   "id": "f6d70624-7127-47eb-a539-2f2ce36b96cd",
   "metadata": {
    "collapsed": false,
    "jupyter": {
     "outputs_hidden": false
    },
    "pycharm": {
     "name": "#%%\n"
    }
   },
   "outputs": [],
   "source": [
    "# Focusing Optics System -------------------------\n",
    "focusing_system = opt_common.reinitialize(input_beam_path=input_beam_path)"
   ]
  },
  {
   "cell_type": "code",
   "execution_count": 206,
   "id": "91702ba9-828b-465a-8b6f-acc9cc203210",
   "metadata": {},
   "outputs": [
    {
     "name": "stdout",
     "output_type": "stream",
     "text": [
      "[0.]\n"
     ]
    }
   ],
   "source": [
    "initial_absolute_positions = np.array(movers.get_absolute_positions(focusing_system, move_motors))\n",
    "print(initial_absolute_positions)"
   ]
  },
  {
   "cell_type": "code",
   "execution_count": 216,
   "id": "5f7ba4ee-71c0-4dcb-8c76-54eb96ee5b73",
   "metadata": {},
   "outputs": [],
   "source": [
    "test_random_movement = np.array([0.07])#, 0.1, 5, 8])\n",
    "test_absolute_movements = initial_absolute_positions + test_random_movement\n",
    "focusing_system = movers.move_motors(focusing_system, move_motors, test_absolute_movements, movement='absolute')"
   ]
  },
  {
   "cell_type": "code",
   "execution_count": 217,
   "id": "45ab587b-3ce5-47a4-b7be-3ececc0967c2",
   "metadata": {},
   "outputs": [
    {
     "name": "stdout",
     "output_type": "stream",
     "text": [
      "Initial loss is 0.06984450871352056\n"
     ]
    }
   ],
   "source": [
    "centroid, out_beam, hist, dw = opt_common.get_centroid_distance(focusing_system, random_seed=DEFAULT_RANDOM_SEED)\n",
    "print('Initial loss is', centroid)"
   ]
  },
  {
   "cell_type": "code",
   "execution_count": 218,
   "id": "44e75082-66b3-40f7-a44e-3d50f8318a38",
   "metadata": {},
   "outputs": [
    {
     "data": {
      "image/png": "[encoded data removed]",
      "text/plain": [
       "<Figure size 1152x768 with 4 Axes>"
      ]
     },
     "metadata": {
      "needs_background": "light"
     },
     "output_type": "display_data"
    },
    {
     "name": "stdout",
     "output_type": "stream",
     "text": [
      "-0.06984448176214719\n"
     ]
    }
   ],
   "source": [
    "_ = plot_shadow_beam_spatial_distribution(out_beam)\n",
    "print(dw.get_parameter('h_centroid'))"
   ]
  },
  {
   "cell_type": "code",
   "execution_count": 219,
   "id": "3d8043fe-36e2-44da-849c-8887235f21ed",
   "metadata": {},
   "outputs": [],
   "source": [
    "env = CustomEnv(focusing_system, move_motors, random_seed=DEFAULT_RANDOM_SEED, loss_parameters=['centroid'])"
   ]
  },
  {
   "cell_type": "code",
   "execution_count": null,
   "id": "ed743b73-819a-477b-aa7f-08884717c83d",
   "metadata": {},
   "outputs": [
    {
     "name": "stdout",
     "output_type": "stream",
     "text": [
      "Using cpu device\n",
      "Wrapping the env with a `Monitor` wrapper\n",
      "Wrapping the env in a DummyVecEnv.\n",
      "Current loss is None for position [200] at counter 0\n",
      "Current loss is 0.06286634234519652 for position [193] and action [3] at 1\n",
      "Current loss is 0.06087239703555151 for position [191] and action [8] at 2\n",
      "Current loss is 0.0578831916884103 for position [188] and action [7] at 3\n",
      "Current loss is 0.06087239703555151 for position [191] and action [13] at 4\n",
      "Current loss is 0.06485910668143909 for position [195] and action [14] at 5\n",
      "Current loss is 0.058879643988362214 for position [189] and action [4] at 6\n",
      "Current loss is 0.04990351538638283 for position [180] and action [1] at 7\n",
      "Current loss is 0.05588960158883567 for position [186] and action [16] at 8\n",
      "Current loss is 0.047908226883171236 for position [178] and action [2] at 9\n",
      "Current loss is 0.05389452369588141 for position [184] and action [16] at 10\n",
      "Current loss is 0.05588960158883567 for position [186] and action [12] at 11\n",
      "Current loss is 0.059876320143331004 for position [190] and action [14] at 12\n",
      "Current loss is 0.05289764256082095 for position [183] and action [3] at 13\n",
      "Current loss is 0.05389452369588141 for position [184] and action [11] at 14\n",
      "Current loss is 0.0459152009451115 for position [176] and action [2] at 15\n",
      "Current loss is 0.05389452369588141 for position [184] and action [18] at 16\n",
      "Current loss is 0.06087239703555151 for position [191] and action [17] at 17\n",
      "Current loss is 0.06087239703555151 for position [191] and action [10] at 18\n",
      "Current loss is 0.05189981022064588 for position [182] and action [1] at 19\n",
      "Current loss is 0.047908226883171284 for position [178] and action [6] at 20\n",
      "Current loss is 0.04990351538638283 for position [180] and action [12] at 21\n",
      "Current loss is 0.05289764256082095 for position [183] and action [13] at 22\n",
      "Current loss is 0.04591520094511143 for position [176] and action [3] at 23\n",
      "Current loss is 0.04491872625802078 for position [175] and action [9] at 24\n",
      "Current loss is 0.05189981022064586 for position [182] and action [17] at 25\n",
      "Current loss is 0.059876320143331045 for position [190] and action [18] at 26\n",
      "Current loss is 0.06386237766978616 for position [194] and action [14] at 27\n",
      "Current loss is 0.05688551040874418 for position [187] and action [3] at 28\n",
      "Current loss is 0.05389452369588139 for position [184] and action [7] at 29\n",
      "Current loss is 0.059876320143331045 for position [190] and action [16] at 30\n",
      "Current loss is 0.04990351538638283 for position [180] and action [0] at 31\n",
      "Current loss is 0.046912187667520505 for position [177] and action [7] at 32\n",
      "Current loss is 0.05588960158883567 for position [186] and action [19] at 33\n",
      "Current loss is 0.05189981022064586 for position [182] and action [6] at 34\n",
      "Current loss is 0.05688551040874418 for position [187] and action [15] at 35\n",
      "Current loss is 0.05389452369588139 for position [184] and action [7] at 36\n",
      "Current loss is 0.052897642560820926 for position [183] and action [9] at 37\n",
      "Current loss is 0.04890622603800616 for position [179] and action [6] at 38\n",
      "Current loss is 0.040935058219028896 for position [171] and action [2] at 39\n",
      "Current loss is 0.047908226883171236 for position [178] and action [17] at 40\n",
      "Current loss is 0.04591520094511143 for position [176] and action [8] at 41\n",
      "Current loss is 0.03993813485086587 for position [170] and action [4] at 42\n",
      "Current loss is 0.03495608871523993 for position [165] and action [5] at 43\n",
      "Current loss is 0.038940998886978315 for position [169] and action [14] at 44\n",
      "Current loss is 0.029972702730065224 for position [160] and action [1] at 45\n",
      "Current loss is 0.03595041998055017 for position [166] and action [16] at 46\n",
      "Current loss is 0.040935058219028896 for position [171] and action [15] at 47\n",
      "Current loss is 0.037944898199081964 for position [168] and action [7] at 48\n",
      "Current loss is 0.04292797248258462 for position [173] and action [15] at 49\n",
      "Current loss is 0.04990351538638285 for position [180] and action [17] at 50\n",
      "Current loss is 0.05090084776235086 for position [181] and action [11] at 51\n",
      "Current loss is 0.057883191688410274 for position [188] and action [17] at 52\n",
      "Current loss is 0.06286634234519659 for position [193] and action [15] at 53\n",
      "Current loss is 0.06186928324832781 for position [192] and action [9] at 54\n",
      "Current loss is 0.058879643988362235 for position [189] and action [7] at 55\n",
      "Current loss is 0.06386237766978616 for position [194] and action [15] at 56\n",
      "Current loss is 0.06386237766978616 for position [194] and action [10] at 57\n",
      "Current loss is 0.07183813664473984 for position [202] and action [18] at 58\n",
      "Current loss is 0.06685248340162667 for position [197] and action [5] at 59\n",
      "Current loss is 0.06286634234519659 for position [193] and action [6] at 60\n",
      "Current loss is 0.058879643988362235 for position [189] and action [6] at 61\n",
      "Current loss is 0.06585561200754204 for position [196] and action [17] at 62\n",
      "Current loss is 0.07084152430193741 for position [201] and action [15] at 63\n",
      "Current loss is 0.06585561200754204 for position [196] and action [5] at 64\n",
      "Current loss is 0.07283434654953234 for position [203] and action [17] at 65\n",
      "Current loss is 0.07582282358524993 for position [206] and action [13] at 66\n",
      "Current loss is 0.07084152430193741 for position [201] and action [5] at 67\n",
      "Current loss is 0.07383020946328149 for position [204] and action [13] at 68\n",
      "Current loss is 0.06984450871352055 for position [200] and action [6] at 69\n",
      "Current loss is 0.06087239703555147 for position [191] and action [1] at 70\n",
      "Current loss is 0.06984450871352055 for position [200] and action [19] at 71\n",
      "Current loss is 0.0788114573356645 for position [209] and action [19] at 72\n",
      "Current loss is 0.08479080791946329 for position [215] and action [16] at 73\n",
      "Current loss is 0.08678607940314588 for position [217] and action [12] at 74\n",
      "Current loss is 0.08578743805371222 for position [216] and action [9] at 75\n",
      "Current loss is 0.09176884306728342 for position [222] and action [16] at 76\n",
      "Current loss is 0.08379436017866154 for position [214] and action [2] at 77\n",
      "Current loss is 0.07383020946328149 for position [204] and action [0] at 78\n",
      "Current loss is 0.07283434654953234 for position [203] and action [9] at 79\n",
      "Current loss is 0.07383020946328149 for position [204] and action [11] at 80\n",
      "Current loss is 0.08180013876203109 for position [212] and action [18] at 81\n",
      "Current loss is 0.07681805007674772 for position [207] and action [5] at 82\n",
      "Current loss is 0.07582282358524993 for position [206] and action [9] at 83\n",
      "Current loss is 0.07482692577239906 for position [205] and action [9] at 84\n",
      "Current loss is 0.08180013876203109 for position [212] and action [17] at 85\n",
      "Current loss is 0.08379436017866154 for position [214] and action [12] at 86\n",
      "Current loss is 0.08678607940314588 for position [217] and action [13] at 87\n",
      "Current loss is 0.09376036451162527 for position [224] and action [17] at 88\n",
      "Current loss is 0.09770867482234766 for position [228] and action [14] at 89\n",
      "Current loss is 0.09276481519156596 for position [223] and action [5] at 90\n",
      "Current loss is 0.08479080791946329 for position [215] and action [2] at 91\n",
      "Current loss is 0.08778318611107401 for position [218] and action [13] at 92\n",
      "Current loss is 0.07980829845396709 for position [210] and action [2] at 93\n",
      "Current loss is 0.07582282358525 for position [206] and action [6] at 94\n",
      "Current loss is 0.0827982453404458 for position [213] and action [17] at 95\n",
      "Current loss is 0.07283434654953234 for position [203] and action [0] at 96\n",
      "Current loss is 0.08180013876203109 for position [212] and action [19] at 97\n",
      "Current loss is 0.07482692577239906 for position [205] and action [3] at 98\n",
      "Current loss is 0.07482692577239906 for position [205] and action [10] at 99\n",
      "Current loss is 0.08180013876203109 for position [212] and action [17] at 100\n",
      "Current loss is 0.08379436017866154 for position [214] and action [12] at 101\n",
      "Current loss is 0.0808038922806866 for position [211] and action [7] at 102\n",
      "Current loss is 0.07681805007674772 for position [207] and action [6] at 103\n",
      "Current loss is 0.07183813664473984 for position [202] and action [5] at 104\n",
      "Current loss is 0.06984450871352055 for position [200] and action [8] at 105\n",
      "Current loss is 0.07582282358525 for position [206] and action [16] at 106\n",
      "Current loss is 0.07084152430193741 for position [201] and action [5] at 107\n",
      "Current loss is 0.0788114573356645 for position [209] and action [18] at 108\n",
      "Current loss is 0.08578743805371222 for position [216] and action [17] at 109\n",
      "Current loss is 0.08877961590874882 for position [219] and action [13] at 110\n",
      "Current loss is 0.09176884306728342 for position [222] and action [13] at 111\n",
      "Current loss is 0.09276481519156596 for position [223] and action [11] at 112\n",
      "Current loss is 0.09475753607074014 for position [225] and action [12] at 113\n",
      "Current loss is 0.08977663368776631 for position [220] and action [5] at 114\n",
      "Current loss is 0.09873999209191389 for position [229] and action [19] at 115\n",
      "Current loss is 0.09475753607074014 for position [225] and action [6] at 116\n",
      "Current loss is 0.08578743805371222 for position [216] and action [1] at 117\n",
      "Current loss is 0.07681805007674772 for position [207] and action [1] at 118\n",
      "Current loss is 0.0788114573356645 for position [209] and action [12] at 119\n",
      "Current loss is 0.0778144154408174 for position [208] and action [9] at 120\n",
      "Current loss is 0.07383020946328149 for position [204] and action [6] at 121\n",
      "Current loss is 0.06784885596212253 for position [198] and action [4] at 122\n",
      "Current loss is 0.07283434654953234 for position [203] and action [15] at 123\n",
      "Current loss is 0.06984450871352055 for position [200] and action [7] at 124\n",
      "Current loss is 0.05987632014333106 for position [190] and action [0] at 125\n",
      "Current loss is 0.06386237766978616 for position [194] and action [14] at 126\n",
      "Current loss is 0.05688551040874418 for position [187] and action [3] at 127\n",
      "Current loss is 0.052897642560820926 for position [183] and action [6] at 128\n",
      "Current loss is 0.052897642560820926 for position [183] and action [10] at 129\n",
      "Current loss is 0.05090084776235086 for position [181] and action [8] at 130\n",
      "Current loss is 0.05688551040874418 for position [187] and action [16] at 131\n",
      "Current loss is 0.05090084776235086 for position [181] and action [4] at 132\n",
      "Current loss is 0.04691218766752052 for position [177] and action [6] at 133\n",
      "Current loss is 0.05090084776235086 for position [181] and action [14] at 134\n",
      "Current loss is 0.05389452369588139 for position [184] and action [13] at 135\n",
      "Current loss is 0.05389452369588139 for position [184] and action [10] at 136\n",
      "Current loss is 0.05389452369588139 for position [184] and action [10] at 137\n",
      "Current loss is 0.05389452369588139 for position [184] and action [10] at 138\n",
      "Current loss is 0.05588960158883567 for position [186] and action [12] at 139\n",
      "Current loss is 0.06186928324832779 for position [192] and action [16] at 140\n",
      "Current loss is 0.05489164210474996 for position [185] and action [3] at 141\n",
      "Current loss is 0.06087239703555151 for position [191] and action [16] at 142\n",
      "Current loss is 0.05189981022064588 for position [182] and action [1] at 143\n",
      "Current loss is 0.05289764256082098 for position [183] and action [11] at 144\n",
      "Current loss is 0.05189981022064588 for position [182] and action [9] at 145\n",
      "Current loss is 0.05489164210474996 for position [185] and action [13] at 146\n",
      "Current loss is 0.06286634234519659 for position [193] and action [18] at 147\n",
      "Current loss is 0.05289764256082098 for position [183] and action [0] at 148\n",
      "Current loss is 0.05688551040874412 for position [187] and action [14] at 149\n",
      "Current loss is 0.04691218766752055 for position [177] and action [0] at 150\n",
      "Current loss is 0.03894099888697832 for position [169] and action [2] at 151\n",
      "Current loss is 0.04591520094511138 for position [176] and action [17] at 152\n",
      "Current loss is 0.04691218766752055 for position [177] and action [11] at 153\n",
      "Current loss is 0.04193001279017023 for position [172] and action [5] at 154\n",
      "Current loss is 0.04292790890274679 for position [173] and action [11] at 155\n",
      "Current loss is 0.03296215685037042 for position [163] and action [0] at 156\n",
      "Current loss is 0.03495608871523993 for position [165] and action [12] at 157\n",
      "Current loss is 0.02997270273006522 for position [160] and action [5] at 158\n",
      "Current loss is 0.027979227015029404 for position [158] and action [8] at 159\n",
      "Current loss is 0.03296215685037042 for position [163] and action [15] at 160\n",
      "Current loss is 0.028975764632641874 for position [159] and action [6] at 161\n",
      "Current loss is 0.027979227015029407 for position [158] and action [9] at 162\n",
      "Current loss is 0.03694756228936211 for position [167] and action [19] at 163\n",
      "Current loss is 0.03495608871523993 for position [165] and action [8] at 164\n",
      "Current loss is 0.03495608871523993 for position [165] and action [10] at 165\n",
      "Current loss is 0.02698271534143168 for position [157] and action [2] at 166\n",
      "Current loss is 0.02399151465206855 for position [154] and action [7] at 167\n",
      "Current loss is 0.022056426205021868 for position [152] and action [8] at 168\n",
      "Current loss is 0.015111626323101479 for position [145] and action [3] at 169\n",
      "Current loss is 0.020110974318570833 for position [150] and action [15] at 170\n",
      "Current loss is 0.013114663838527704 for position [143] and action [3] at 171\n",
      "Current loss is 0.012115926897007972 for position [142] and action [9] at 172\n",
      "Current loss is 0.006114066747343558 for position [136] and action [4] at 173\n",
      "Current loss is 0.012115926897007972 for position [142] and action [16] at 174\n",
      "Current loss is 0.013114663838527704 for position [143] and action [11] at 175\n",
      "Current loss is 0.011115600463091692 for position [141] and action [8] at 176\n",
      "Current loss is 0.01711194084840821 for position [147] and action [16] at 177\n",
      "Current loss is 0.023991514652068544 for position [154] and action [17] at 178\n",
      "Current loss is 0.026982715341431693 for position [157] and action [13] at 179\n",
      "Current loss is 0.03595041998055017 for position [166] and action [19] at 180\n",
      "Current loss is 0.034956088715239815 for position [165] and action [9] at 181\n",
      "Current loss is 0.025985078365271596 for position [156] and action [1] at 182\n",
      "Current loss is 0.02011097431857083 for position [150] and action [4] at 183\n",
      "Current loss is 0.016115433881249242 for position [146] and action [6] at 184\n",
      "Current loss is 0.022056426205021868 for position [152] and action [16] at 185\n",
      "Current loss is 0.014113725671654911 for position [144] and action [2] at 186\n",
      "Current loss is 0.02011097431857083 for position [150] and action [16] at 187\n",
      "Current loss is 0.02897576463264191 for position [159] and action [19] at 188\n",
      "Current loss is 0.02897576463264191 for position [159] and action [10] at 189\n",
      "Current loss is 0.023991514652068544 for position [154] and action [5] at 190\n",
      "Current loss is 0.02897576463264191 for position [159] and action [15] at 191\n",
      "Current loss is 0.027979227015029348 for position [158] and action [9] at 192\n",
      "Current loss is 0.01810575828275913 for position [148] and action [0] at 193\n",
      "Current loss is 0.013114663838527704 for position [143] and action [5] at 194\n",
      "Current loss is 0.008115507817527777 for position [138] and action [5] at 195\n",
      "Current loss is 0.010113779575990056 for position [140] and action [12] at 196\n",
      "Current loss is 0.012115926897007908 for position [142] and action [12] at 197\n",
      "Current loss is 0.012115926897007908 for position [142] and action [10] at 198\n",
      "Current loss is 0.015111626323101479 for position [145] and action [13] at 199\n",
      "Current loss is 0.00711562535348782 for position [137] and action [2] at 200\n",
      "Current loss is 0.0029050907974927554 for position [127] and action [0] at 201\n",
      "Current loss is 0.0011091448389129715 for position [131] and action [14] at 202\n",
      "Current loss is 0.00711562535348782 for position [137] and action [16] at 203\n",
      "Current loss is 0.012115926897007908 for position [142] and action [15] at 204\n",
      "Current loss is 0.015111626323101479 for position [145] and action [13] at 205\n",
      "Current loss is 0.01711194084840822 for position [147] and action [12] at 206\n",
      "Current loss is 0.022056426205021868 for position [152] and action [15] at 207\n",
      "Current loss is 0.013114663838527694 for position [143] and action [1] at 208\n",
      "Current loss is 0.00711562535348782 for position [137] and action [4] at 209\n",
      "Current loss is 0.0011091448389129715 for position [131] and action [4] at 210\n",
      "Current loss is 0.0008998038252492793 for position [129] and action [8] at 211\n",
      "Current loss is 0.005912943021567008 for position [124] and action [5] at 212\n",
      "Current loss is 0.0049116150735909496 for position [125] and action [11] at 213\n",
      "Current loss is 0.004113947051122528 for position [134] and action [19] at 214\n",
      "Current loss is 0.0051137702910611085 for position [135] and action [11] at 215\n",
      "Current loss is 0.0011091448389129715 for position [131] and action [6] at 216\n",
      "Current loss is 0.0029050907974927554 for position [127] and action [6] at 217\n",
      "Current loss is 0.008924906083383225 for position [121] and action [4] at 218\n",
      "Current loss is 0.01695274863727083 for position [113] and action [2] at 219\n",
      "Current loss is 0.00792040173046012 for position [122] and action [19] at 220\n",
      "Current loss is 0.002905090797492752 for position [127] and action [15] at 221\n",
      "Current loss is 0.006917521756540762 for position [123] and action [6] at 222\n",
      "Current loss is 0.0008998038252492822 for position [129] and action [16] at 223\n",
      "Current loss is 0.002905090797492752 for position [127] and action [8] at 224\n",
      "Current loss is 0.010931091823752584 for position [119] and action [2] at 225\n",
      "Current loss is 0.01193500577968032 for position [118] and action [9] at 226\n",
      "Current loss is 0.017959743629254347 for position [112] and action [4] at 227\n",
      "Current loss is 0.014948295684698094 for position [115] and action [13] at 228\n",
      "Current loss is 0.014948295684698094 for position [115] and action [10] at 229\n",
      "Current loss is 0.018967493634656406 for position [111] and action [6] at 230\n",
      "Current loss is 0.02889026346183846 for position [101] and action [0] at 231\n",
      "Current loss is 0.0348807098427051 for position [95] and action [4] at 232\n",
      "Current loss is 0.030885941866289655 for position [99] and action [14] at 233\n",
      "Current loss is 0.031884922842413455 for position [98] and action [9] at 234\n",
      "Current loss is 0.030885941866289655 for position [99] and action [11] at 235\n",
      "Current loss is 0.030885941866289655 for position [99] and action [10] at 236\n",
      "Current loss is 0.040871825045439666 for position [89] and action [0] at 237\n",
      "Current loss is 0.032884651046830776 for position [97] and action [18] at 238\n",
      "Current loss is 0.032884651046830776 for position [97] and action [10] at 239\n",
      "Current loss is 0.025894750588001517 for position [104] and action [17] at 240\n",
      "Current loss is 0.021935653575610028 for position [108] and action [14] at 241\n",
      "Current loss is 0.01595033712015588 for position [114] and action [16] at 242\n",
      "Current loss is 0.010931091823752584 for position [119] and action [15] at 243\n",
      "Current loss is 0.012939826798639498 for position [117] and action [8] at 244\n",
      "Current loss is 0.010931091823752584 for position [119] and action [12] at 245\n",
      "Current loss is 0.01896748880382891 for position [111] and action [2] at 246\n",
      "Current loss is 0.009928536319762413 for position [120] and action [19] at 247\n",
      "Current loss is 0.01695274863727083 for position [113] and action [3] at 248\n",
      "Current loss is 0.022908213781444448 for position [107] and action [4] at 249\n",
      "Current loss is 0.023897794379304508 for position [106] and action [9] at 250\n",
      "Current loss is 0.02889026346183846 for position [101] and action [5] at 251\n",
      "Current loss is 0.03588016206369092 for position [94] and action [3] at 252\n",
      "Current loss is 0.04087182504543961 for position [89] and action [5] at 253\n",
      "Current loss is 0.04486631837663158 for position [85] and action [6] at 254\n",
      "Current loss is 0.03887433165229219 for position [91] and action [16] at 255\n",
      "Current loss is 0.032884651046830776 for position [97] and action [16] at 256\n",
      "Current loss is 0.04087182504543961 for position [89] and action [2] at 257\n",
      "Current loss is 0.04286948288556561 for position [87] and action [8] at 258\n",
      "Current loss is 0.04286948288556561 for position [87] and action [10] at 259\n",
      "Current loss is 0.04386722427033152 for position [86] and action [9] at 260\n",
      "Current loss is 0.051858101362452655 for position [78] and action [2] at 261\n",
      "Current loss is 0.05085844247864144 for position [79] and action [11] at 262\n",
      "Current loss is 0.052855520991029914 for position [77] and action [8] at 263\n",
      "Current loss is 0.05385447316973545 for position [76] and action [9] at 264\n",
      "Current loss is 0.05085844247864144 for position [79] and action [13] at 265\n",
      "Current loss is 0.052855520991029914 for position [77] and action [8] at 266\n",
      "Current loss is 0.061839821602664276 for position [68] and action [1] at 267\n",
      "Current loss is 0.06683347785392098 for position [63] and action [5] at 268\n",
      "Current loss is 0.06383746542846967 for position [66] and action [13] at 269\n",
      "Current loss is 0.0608424637017706 for position [69] and action [13] at 270\n"
     ]
    }
   ],
   "source": [
    "model = PPO(\"MlpPolicy\", env, verbose=1)\n",
    "model.learn(total_timesteps=1000)"
   ]
  },
  {
   "cell_type": "code",
   "execution_count": 212,
   "id": "de5dd186-140a-4164-82ed-392aab687de7",
   "metadata": {},
   "outputs": [
    {
     "name": "stdout",
     "output_type": "stream",
     "text": [
      "Current loss is 0.06984450871352056 for position [200] at counter 20\n"
     ]
    }
   ],
   "source": [
    "obs = env.reset()"
   ]
  },
  {
   "cell_type": "code",
   "execution_count": 213,
   "id": "6a7bd0e5-6ef6-4f0a-9ece-17985f8f155c",
   "metadata": {},
   "outputs": [
    {
     "name": "stdout",
     "output_type": "stream",
     "text": [
      "Current loss is 10000.0 for position [115.955275] and action [19]\n",
      "Current loss is 10000.0 for position [132.955275] and action [17]\n",
      "Current loss is 10000.0 for position [142.955275] and action [10]\n",
      "Current loss is 10000.0 for position [143.955275] and action [1]\n",
      "Current loss is 10000.0 for position [148.955275] and action [5]\n",
      "Current loss is 10000.0 for position [150.955275] and action [2]\n",
      "Current loss is 10000.0 for position [164.955275] and action [14]\n",
      "Current loss is 10000.0 for position [178.955275] and action [14]\n",
      "Current loss is 10000.0 for position [186.955275] and action [8]\n",
      "Current loss is 10000.0 for position [189.955275] and action [3]\n",
      "Current loss is 10000.0 for position [191.955275] and action [2]\n",
      "Current loss is 10000.0 for position [197.955275] and action [6]\n",
      "Current loss is 10000.0 for position [212.955275] and action [15]\n",
      "Current loss is 10000.0 for position [220.955275] and action [8]\n",
      "Current loss is 10000.0 for position [234.955275] and action [14]\n",
      "Current loss is 10000.0 for position [246.955275] and action [12]\n",
      "Current loss is 10000.0 for position [264.955275] and action [18]\n",
      "Current loss is 10000.0 for position [276.955275] and action [12]\n",
      "Current loss is 10000.0 for position [293.955275] and action [17]\n",
      "Current loss is 10000.0 for position [303.955275] and action [10]\n",
      "Current loss is 10000.0 for position [316.955275] and action [13]\n",
      "Current loss is 10000.0 for position [334.955275] and action [18]\n",
      "Current loss is 10000.0 for position [336.955275] and action [2]\n",
      "Current loss is 10000.0 for position [344.955275] and action [8]\n",
      "Current loss is 10000.0 for position [352.955275] and action [8]\n",
      "Current loss is 10000.0 for position [368.955275] and action [16]\n",
      "Current loss is 10000.0 for position [385.955275] and action [17]\n",
      "Current loss is 10000.0 for position [394.955275] and action [9]\n",
      "Current loss is 10000.0 for position [406.955275] and action [12]\n"
     ]
    },
    {
     "ename": "RuntimeError",
     "evalue": "Class values must be smaller than num_classes.",
     "output_type": "error",
     "traceback": [
      "\u001b[0;31m---------------------------------------------------------------------------\u001b[0m",
      "\u001b[0;31mRuntimeError\u001b[0m                              Traceback (most recent call last)",
      "\u001b[0;32m/tmp/ipykernel_3997712/824553400.py\u001b[0m in \u001b[0;36m<module>\u001b[0;34m\u001b[0m\n\u001b[1;32m      1\u001b[0m \u001b[0;32mwhile\u001b[0m \u001b[0;32mTrue\u001b[0m\u001b[0;34m:\u001b[0m\u001b[0;34m\u001b[0m\u001b[0;34m\u001b[0m\u001b[0m\n\u001b[0;32m----> 2\u001b[0;31m     \u001b[0maction\u001b[0m\u001b[0;34m,\u001b[0m \u001b[0m_states\u001b[0m \u001b[0;34m=\u001b[0m \u001b[0mmodel\u001b[0m\u001b[0;34m.\u001b[0m\u001b[0mpredict\u001b[0m\u001b[0;34m(\u001b[0m\u001b[0mobs\u001b[0m\u001b[0;34m,\u001b[0m \u001b[0mdeterministic\u001b[0m\u001b[0;34m=\u001b[0m\u001b[0;32mTrue\u001b[0m\u001b[0;34m)\u001b[0m\u001b[0;34m\u001b[0m\u001b[0;34m\u001b[0m\u001b[0m\n\u001b[0m\u001b[1;32m      3\u001b[0m     \u001b[0mobs\u001b[0m\u001b[0;34m,\u001b[0m \u001b[0mreward\u001b[0m\u001b[0;34m,\u001b[0m \u001b[0mdone\u001b[0m\u001b[0;34m,\u001b[0m \u001b[0minfo\u001b[0m \u001b[0;34m=\u001b[0m \u001b[0mc\u001b[0m\u001b[0;34m.\u001b[0m\u001b[0mstep\u001b[0m\u001b[0;34m(\u001b[0m\u001b[0maction\u001b[0m\u001b[0;34m)\u001b[0m\u001b[0;34m\u001b[0m\u001b[0;34m\u001b[0m\u001b[0m\n",
      "\u001b[0;32m~/.conda/envs/oasys_env/lib/python3.7/site-packages/stable_baselines3/common/base_class.py\u001b[0m in \u001b[0;36mpredict\u001b[0;34m(self, observation, state, episode_start, deterministic)\u001b[0m\n\u001b[1;32m    560\u001b[0m             \u001b[0;34m(\u001b[0m\u001b[0mused\u001b[0m \u001b[0;32min\u001b[0m \u001b[0mrecurrent\u001b[0m \u001b[0mpolicies\u001b[0m\u001b[0;34m)\u001b[0m\u001b[0;34m\u001b[0m\u001b[0;34m\u001b[0m\u001b[0m\n\u001b[1;32m    561\u001b[0m         \"\"\"\n\u001b[0;32m--> 562\u001b[0;31m         \u001b[0;32mreturn\u001b[0m \u001b[0mself\u001b[0m\u001b[0;34m.\u001b[0m\u001b[0mpolicy\u001b[0m\u001b[0;34m.\u001b[0m\u001b[0mpredict\u001b[0m\u001b[0;34m(\u001b[0m\u001b[0mobservation\u001b[0m\u001b[0;34m,\u001b[0m \u001b[0mstate\u001b[0m\u001b[0;34m,\u001b[0m \u001b[0mepisode_start\u001b[0m\u001b[0;34m,\u001b[0m \u001b[0mdeterministic\u001b[0m\u001b[0;34m)\u001b[0m\u001b[0;34m\u001b[0m\u001b[0;34m\u001b[0m\u001b[0m\n\u001b[0m\u001b[1;32m    563\u001b[0m \u001b[0;34m\u001b[0m\u001b[0m\n\u001b[1;32m    564\u001b[0m     \u001b[0;32mdef\u001b[0m \u001b[0mset_random_seed\u001b[0m\u001b[0;34m(\u001b[0m\u001b[0mself\u001b[0m\u001b[0;34m,\u001b[0m \u001b[0mseed\u001b[0m\u001b[0;34m:\u001b[0m \u001b[0mOptional\u001b[0m\u001b[0;34m[\u001b[0m\u001b[0mint\u001b[0m\u001b[0;34m]\u001b[0m \u001b[0;34m=\u001b[0m \u001b[0;32mNone\u001b[0m\u001b[0;34m)\u001b[0m \u001b[0;34m->\u001b[0m \u001b[0;32mNone\u001b[0m\u001b[0;34m:\u001b[0m\u001b[0;34m\u001b[0m\u001b[0;34m\u001b[0m\u001b[0m\n",
      "\u001b[0;32m~/.conda/envs/oasys_env/lib/python3.7/site-packages/stable_baselines3/common/policies.py\u001b[0m in \u001b[0;36mpredict\u001b[0;34m(self, observation, state, episode_start, deterministic)\u001b[0m\n\u001b[1;32m    336\u001b[0m \u001b[0;34m\u001b[0m\u001b[0m\n\u001b[1;32m    337\u001b[0m         \u001b[0;32mwith\u001b[0m \u001b[0mth\u001b[0m\u001b[0;34m.\u001b[0m\u001b[0mno_grad\u001b[0m\u001b[0;34m(\u001b[0m\u001b[0;34m)\u001b[0m\u001b[0;34m:\u001b[0m\u001b[0;34m\u001b[0m\u001b[0;34m\u001b[0m\u001b[0m\n\u001b[0;32m--> 338\u001b[0;31m             \u001b[0mactions\u001b[0m \u001b[0;34m=\u001b[0m \u001b[0mself\u001b[0m\u001b[0;34m.\u001b[0m\u001b[0m_predict\u001b[0m\u001b[0;34m(\u001b[0m\u001b[0mobservation\u001b[0m\u001b[0;34m,\u001b[0m \u001b[0mdeterministic\u001b[0m\u001b[0;34m=\u001b[0m\u001b[0mdeterministic\u001b[0m\u001b[0;34m)\u001b[0m\u001b[0;34m\u001b[0m\u001b[0;34m\u001b[0m\u001b[0m\n\u001b[0m\u001b[1;32m    339\u001b[0m         \u001b[0;31m# Convert to numpy\u001b[0m\u001b[0;34m\u001b[0m\u001b[0;34m\u001b[0m\u001b[0;34m\u001b[0m\u001b[0m\n\u001b[1;32m    340\u001b[0m         \u001b[0mactions\u001b[0m \u001b[0;34m=\u001b[0m \u001b[0mactions\u001b[0m\u001b[0;34m.\u001b[0m\u001b[0mcpu\u001b[0m\u001b[0;34m(\u001b[0m\u001b[0;34m)\u001b[0m\u001b[0;34m.\u001b[0m\u001b[0mnumpy\u001b[0m\u001b[0;34m(\u001b[0m\u001b[0;34m)\u001b[0m\u001b[0;34m\u001b[0m\u001b[0;34m\u001b[0m\u001b[0m\n",
      "\u001b[0;32m~/.conda/envs/oasys_env/lib/python3.7/site-packages/stable_baselines3/common/policies.py\u001b[0m in \u001b[0;36m_predict\u001b[0;34m(self, observation, deterministic)\u001b[0m\n\u001b[1;32m    628\u001b[0m         \u001b[0;34m:\u001b[0m\u001b[0;32mreturn\u001b[0m\u001b[0;34m:\u001b[0m \u001b[0mTaken\u001b[0m \u001b[0maction\u001b[0m \u001b[0maccording\u001b[0m \u001b[0mto\u001b[0m \u001b[0mthe\u001b[0m \u001b[0mpolicy\u001b[0m\u001b[0;34m\u001b[0m\u001b[0;34m\u001b[0m\u001b[0m\n\u001b[1;32m    629\u001b[0m         \"\"\"\n\u001b[0;32m--> 630\u001b[0;31m         \u001b[0;32mreturn\u001b[0m \u001b[0mself\u001b[0m\u001b[0;34m.\u001b[0m\u001b[0mget_distribution\u001b[0m\u001b[0;34m(\u001b[0m\u001b[0mobservation\u001b[0m\u001b[0;34m)\u001b[0m\u001b[0;34m.\u001b[0m\u001b[0mget_actions\u001b[0m\u001b[0;34m(\u001b[0m\u001b[0mdeterministic\u001b[0m\u001b[0;34m=\u001b[0m\u001b[0mdeterministic\u001b[0m\u001b[0;34m)\u001b[0m\u001b[0;34m\u001b[0m\u001b[0;34m\u001b[0m\u001b[0m\n\u001b[0m\u001b[1;32m    631\u001b[0m \u001b[0;34m\u001b[0m\u001b[0m\n\u001b[1;32m    632\u001b[0m     \u001b[0;32mdef\u001b[0m \u001b[0mevaluate_actions\u001b[0m\u001b[0;34m(\u001b[0m\u001b[0mself\u001b[0m\u001b[0;34m,\u001b[0m \u001b[0mobs\u001b[0m\u001b[0;34m:\u001b[0m \u001b[0mth\u001b[0m\u001b[0;34m.\u001b[0m\u001b[0mTensor\u001b[0m\u001b[0;34m,\u001b[0m \u001b[0mactions\u001b[0m\u001b[0;34m:\u001b[0m \u001b[0mth\u001b[0m\u001b[0;34m.\u001b[0m\u001b[0mTensor\u001b[0m\u001b[0;34m)\u001b[0m \u001b[0;34m->\u001b[0m \u001b[0mTuple\u001b[0m\u001b[0;34m[\u001b[0m\u001b[0mth\u001b[0m\u001b[0;34m.\u001b[0m\u001b[0mTensor\u001b[0m\u001b[0;34m,\u001b[0m \u001b[0mth\u001b[0m\u001b[0;34m.\u001b[0m\u001b[0mTensor\u001b[0m\u001b[0;34m,\u001b[0m \u001b[0mth\u001b[0m\u001b[0;34m.\u001b[0m\u001b[0mTensor\u001b[0m\u001b[0;34m]\u001b[0m\u001b[0;34m:\u001b[0m\u001b[0;34m\u001b[0m\u001b[0;34m\u001b[0m\u001b[0m\n",
      "\u001b[0;32m~/.conda/envs/oasys_env/lib/python3.7/site-packages/stable_baselines3/common/policies.py\u001b[0m in \u001b[0;36mget_distribution\u001b[0;34m(self, obs)\u001b[0m\n\u001b[1;32m    655\u001b[0m         \u001b[0;34m:\u001b[0m\u001b[0;32mreturn\u001b[0m\u001b[0;34m:\u001b[0m \u001b[0mthe\u001b[0m \u001b[0maction\u001b[0m \u001b[0mdistribution\u001b[0m\u001b[0;34m.\u001b[0m\u001b[0;34m\u001b[0m\u001b[0;34m\u001b[0m\u001b[0m\n\u001b[1;32m    656\u001b[0m         \"\"\"\n\u001b[0;32m--> 657\u001b[0;31m         \u001b[0mfeatures\u001b[0m \u001b[0;34m=\u001b[0m \u001b[0mself\u001b[0m\u001b[0;34m.\u001b[0m\u001b[0mextract_features\u001b[0m\u001b[0;34m(\u001b[0m\u001b[0mobs\u001b[0m\u001b[0;34m)\u001b[0m\u001b[0;34m\u001b[0m\u001b[0;34m\u001b[0m\u001b[0m\n\u001b[0m\u001b[1;32m    658\u001b[0m         \u001b[0mlatent_pi\u001b[0m \u001b[0;34m=\u001b[0m \u001b[0mself\u001b[0m\u001b[0;34m.\u001b[0m\u001b[0mmlp_extractor\u001b[0m\u001b[0;34m.\u001b[0m\u001b[0mforward_actor\u001b[0m\u001b[0;34m(\u001b[0m\u001b[0mfeatures\u001b[0m\u001b[0;34m)\u001b[0m\u001b[0;34m\u001b[0m\u001b[0;34m\u001b[0m\u001b[0m\n\u001b[1;32m    659\u001b[0m         \u001b[0;32mreturn\u001b[0m \u001b[0mself\u001b[0m\u001b[0;34m.\u001b[0m\u001b[0m_get_action_dist_from_latent\u001b[0m\u001b[0;34m(\u001b[0m\u001b[0mlatent_pi\u001b[0m\u001b[0;34m)\u001b[0m\u001b[0;34m\u001b[0m\u001b[0;34m\u001b[0m\u001b[0m\n",
      "\u001b[0;32m~/.conda/envs/oasys_env/lib/python3.7/site-packages/stable_baselines3/common/policies.py\u001b[0m in \u001b[0;36mextract_features\u001b[0;34m(self, obs)\u001b[0m\n\u001b[1;32m    126\u001b[0m         \"\"\"\n\u001b[1;32m    127\u001b[0m         \u001b[0;32massert\u001b[0m \u001b[0mself\u001b[0m\u001b[0;34m.\u001b[0m\u001b[0mfeatures_extractor\u001b[0m \u001b[0;32mis\u001b[0m \u001b[0;32mnot\u001b[0m \u001b[0;32mNone\u001b[0m\u001b[0;34m,\u001b[0m \u001b[0;34m\"No features extractor was set\"\u001b[0m\u001b[0;34m\u001b[0m\u001b[0;34m\u001b[0m\u001b[0m\n\u001b[0;32m--> 128\u001b[0;31m         \u001b[0mpreprocessed_obs\u001b[0m \u001b[0;34m=\u001b[0m \u001b[0mpreprocess_obs\u001b[0m\u001b[0;34m(\u001b[0m\u001b[0mobs\u001b[0m\u001b[0;34m,\u001b[0m \u001b[0mself\u001b[0m\u001b[0;34m.\u001b[0m\u001b[0mobservation_space\u001b[0m\u001b[0;34m,\u001b[0m \u001b[0mnormalize_images\u001b[0m\u001b[0;34m=\u001b[0m\u001b[0mself\u001b[0m\u001b[0;34m.\u001b[0m\u001b[0mnormalize_images\u001b[0m\u001b[0;34m)\u001b[0m\u001b[0;34m\u001b[0m\u001b[0;34m\u001b[0m\u001b[0m\n\u001b[0m\u001b[1;32m    129\u001b[0m         \u001b[0;32mreturn\u001b[0m \u001b[0mself\u001b[0m\u001b[0;34m.\u001b[0m\u001b[0mfeatures_extractor\u001b[0m\u001b[0;34m(\u001b[0m\u001b[0mpreprocessed_obs\u001b[0m\u001b[0;34m)\u001b[0m\u001b[0;34m\u001b[0m\u001b[0;34m\u001b[0m\u001b[0m\n\u001b[1;32m    130\u001b[0m \u001b[0;34m\u001b[0m\u001b[0m\n",
      "\u001b[0;32m~/.conda/envs/oasys_env/lib/python3.7/site-packages/stable_baselines3/common/preprocessing.py\u001b[0m in \u001b[0;36mpreprocess_obs\u001b[0;34m(obs, observation_space, normalize_images)\u001b[0m\n\u001b[1;32m    113\u001b[0m             [\n\u001b[1;32m    114\u001b[0m                 \u001b[0mF\u001b[0m\u001b[0;34m.\u001b[0m\u001b[0mone_hot\u001b[0m\u001b[0;34m(\u001b[0m\u001b[0mobs_\u001b[0m\u001b[0;34m.\u001b[0m\u001b[0mlong\u001b[0m\u001b[0;34m(\u001b[0m\u001b[0;34m)\u001b[0m\u001b[0;34m,\u001b[0m \u001b[0mnum_classes\u001b[0m\u001b[0;34m=\u001b[0m\u001b[0mint\u001b[0m\u001b[0;34m(\u001b[0m\u001b[0mobservation_space\u001b[0m\u001b[0;34m.\u001b[0m\u001b[0mnvec\u001b[0m\u001b[0;34m[\u001b[0m\u001b[0midx\u001b[0m\u001b[0;34m]\u001b[0m\u001b[0;34m)\u001b[0m\u001b[0;34m)\u001b[0m\u001b[0;34m.\u001b[0m\u001b[0mfloat\u001b[0m\u001b[0;34m(\u001b[0m\u001b[0;34m)\u001b[0m\u001b[0;34m\u001b[0m\u001b[0;34m\u001b[0m\u001b[0m\n\u001b[0;32m--> 115\u001b[0;31m                 \u001b[0;32mfor\u001b[0m \u001b[0midx\u001b[0m\u001b[0;34m,\u001b[0m \u001b[0mobs_\u001b[0m \u001b[0;32min\u001b[0m \u001b[0menumerate\u001b[0m\u001b[0;34m(\u001b[0m\u001b[0mth\u001b[0m\u001b[0;34m.\u001b[0m\u001b[0msplit\u001b[0m\u001b[0;34m(\u001b[0m\u001b[0mobs\u001b[0m\u001b[0;34m.\u001b[0m\u001b[0mlong\u001b[0m\u001b[0;34m(\u001b[0m\u001b[0;34m)\u001b[0m\u001b[0;34m,\u001b[0m \u001b[0;36m1\u001b[0m\u001b[0;34m,\u001b[0m \u001b[0mdim\u001b[0m\u001b[0;34m=\u001b[0m\u001b[0;36m1\u001b[0m\u001b[0;34m)\u001b[0m\u001b[0;34m)\u001b[0m\u001b[0;34m\u001b[0m\u001b[0;34m\u001b[0m\u001b[0m\n\u001b[0m\u001b[1;32m    116\u001b[0m             ],\n\u001b[1;32m    117\u001b[0m             \u001b[0mdim\u001b[0m\u001b[0;34m=\u001b[0m\u001b[0;34m-\u001b[0m\u001b[0;36m1\u001b[0m\u001b[0;34m,\u001b[0m\u001b[0;34m\u001b[0m\u001b[0;34m\u001b[0m\u001b[0m\n",
      "\u001b[0;32m~/.conda/envs/oasys_env/lib/python3.7/site-packages/stable_baselines3/common/preprocessing.py\u001b[0m in \u001b[0;36m<listcomp>\u001b[0;34m(.0)\u001b[0m\n\u001b[1;32m    113\u001b[0m             [\n\u001b[1;32m    114\u001b[0m                 \u001b[0mF\u001b[0m\u001b[0;34m.\u001b[0m\u001b[0mone_hot\u001b[0m\u001b[0;34m(\u001b[0m\u001b[0mobs_\u001b[0m\u001b[0;34m.\u001b[0m\u001b[0mlong\u001b[0m\u001b[0;34m(\u001b[0m\u001b[0;34m)\u001b[0m\u001b[0;34m,\u001b[0m \u001b[0mnum_classes\u001b[0m\u001b[0;34m=\u001b[0m\u001b[0mint\u001b[0m\u001b[0;34m(\u001b[0m\u001b[0mobservation_space\u001b[0m\u001b[0;34m.\u001b[0m\u001b[0mnvec\u001b[0m\u001b[0;34m[\u001b[0m\u001b[0midx\u001b[0m\u001b[0;34m]\u001b[0m\u001b[0;34m)\u001b[0m\u001b[0;34m)\u001b[0m\u001b[0;34m.\u001b[0m\u001b[0mfloat\u001b[0m\u001b[0;34m(\u001b[0m\u001b[0;34m)\u001b[0m\u001b[0;34m\u001b[0m\u001b[0;34m\u001b[0m\u001b[0m\n\u001b[0;32m--> 115\u001b[0;31m                 \u001b[0;32mfor\u001b[0m \u001b[0midx\u001b[0m\u001b[0;34m,\u001b[0m \u001b[0mobs_\u001b[0m \u001b[0;32min\u001b[0m \u001b[0menumerate\u001b[0m\u001b[0;34m(\u001b[0m\u001b[0mth\u001b[0m\u001b[0;34m.\u001b[0m\u001b[0msplit\u001b[0m\u001b[0;34m(\u001b[0m\u001b[0mobs\u001b[0m\u001b[0;34m.\u001b[0m\u001b[0mlong\u001b[0m\u001b[0;34m(\u001b[0m\u001b[0;34m)\u001b[0m\u001b[0;34m,\u001b[0m \u001b[0;36m1\u001b[0m\u001b[0;34m,\u001b[0m \u001b[0mdim\u001b[0m\u001b[0;34m=\u001b[0m\u001b[0;36m1\u001b[0m\u001b[0;34m)\u001b[0m\u001b[0;34m)\u001b[0m\u001b[0;34m\u001b[0m\u001b[0;34m\u001b[0m\u001b[0m\n\u001b[0m\u001b[1;32m    116\u001b[0m             ],\n\u001b[1;32m    117\u001b[0m             \u001b[0mdim\u001b[0m\u001b[0;34m=\u001b[0m\u001b[0;34m-\u001b[0m\u001b[0;36m1\u001b[0m\u001b[0;34m,\u001b[0m\u001b[0;34m\u001b[0m\u001b[0;34m\u001b[0m\u001b[0m\n",
      "\u001b[0;31mRuntimeError\u001b[0m: Class values must be smaller than num_classes."
     ]
    }
   ],
   "source": [
    "while True:\n",
    "    action, _states = model.predict(obs, deterministic=True)\n",
    "    obs, reward, done, info = c.step(action)"
   ]
  },
  {
   "cell_type": "code",
   "execution_count": 58,
   "id": "ecaa7dc1-c7c1-428d-9e32-73275d8335a3",
   "metadata": {},
   "outputs": [
    {
     "data": {
      "image/png": "[encoded data removed]",
      "text/plain": [
       "<Figure size 432x288 with 1 Axes>"
      ]
     },
     "metadata": {
      "needs_background": "light"
     },
     "output_type": "display_data"
    }
   ],
   "source": [
    "plt.plot(c.optimizer._opt_trials_losses)\n",
    "plt.yscale('log')"
   ]
  },
  {
   "cell_type": "code",
   "execution_count": null,
   "id": "58ca9b09-6089-4f85-ac16-a0341a591a3f",
   "metadata": {},
   "outputs": [],
   "source": []
  }
 ],
 "metadata": {
  "kernelspec": {
   "display_name": "oasys",
   "language": "python",
   "name": "oasys"
  },
  "language_info": {
   "codemirror_mode": {
    "name": "ipython",
    "version": 3
   },
   "file_extension": ".py",
   "mimetype": "text/x-python",
   "name": "python",
   "nbconvert_exporter": "python",
   "pygments_lexer": "ipython3",
   "version": "3.7.10"
  }
 },
 "nbformat": 4,
 "nbformat_minor": 5
}
