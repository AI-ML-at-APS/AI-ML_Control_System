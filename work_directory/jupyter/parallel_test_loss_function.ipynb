{
 "cells": [
  {
   "cell_type": "markdown",
   "id": "b74e7965",
   "metadata": {},
   "source": [
    "## This is not working in the mac m1 due to some mpi issues. I would need to try this in some other system."
   ]
  },
  {
   "cell_type": "code",
   "execution_count": 1,
   "id": "13b23d83-42ae-407e-a0a5-ba65c91f2979",
   "metadata": {},
   "outputs": [],
   "source": [
    "%load_ext autoreload\n",
    "%autoreload 2"
   ]
  },
  {
   "cell_type": "code",
   "execution_count": 2,
   "id": "edca921a-8d4e-4ca4-92fe-0c4a443a25a1",
   "metadata": {},
   "outputs": [],
   "source": [
    "import os\n",
    "os.environ[\"OMPI_MCA_rmaps_base_oversubscribe\"] = \"1\""
   ]
  },
  {
   "cell_type": "code",
   "execution_count": 4,
   "id": "938e34ee-43c1-497e-b2c9-b2d3bbe56eb4",
   "metadata": {},
   "outputs": [],
   "source": [
    "import ipyparallel as ipp"
   ]
  },
  {
   "cell_type": "code",
   "execution_count": 5,
   "id": "30470817-11b0-4795-99b3-9a91da13e4a0",
   "metadata": {},
   "outputs": [],
   "source": [
    "cluster = ipp.Cluster(engines='mpi', n=4)"
   ]
  },
  {
   "cell_type": "code",
   "execution_count": 6,
   "id": "e3ce1b5d-1097-49b7-9382-99741c81bc26",
   "metadata": {},
   "outputs": [
    {
     "name": "stdout",
     "output_type": "stream",
     "text": [
      "Starting 4 engines with <class 'ipyparallel.cluster.launcher.MPIEngineSetLauncher'>\n"
     ]
    },
    {
     "ename": "FileNotFoundError",
     "evalue": "[Errno 2] No such file or directory: 'mpiexec'",
     "output_type": "error",
     "traceback": [
      "\u001b[0;31m---------------------------------------------------------------------------\u001b[0m",
      "\u001b[0;31mFileNotFoundError\u001b[0m                         Traceback (most recent call last)",
      "Cell \u001b[0;32mIn [6], line 1\u001b[0m\n\u001b[0;32m----> 1\u001b[0m rc \u001b[38;5;241m=\u001b[39m \u001b[43mcluster\u001b[49m\u001b[38;5;241;43m.\u001b[39;49m\u001b[43mstart_and_connect_sync\u001b[49m\u001b[43m(\u001b[49m\u001b[43m)\u001b[49m\n",
      "File \u001b[0;32m/Applications/Oasys1.3.app/Contents/Frameworks/Python.framework/Versions/3.8/lib/python3.8/site-packages/ipyparallel/_async.py:70\u001b[0m, in \u001b[0;36mAsyncFirst._synchronize\u001b[0;34m(self, async_f, *args, **kwargs)\u001b[0m\n\u001b[1;32m     68\u001b[0m     loop \u001b[39m=\u001b[39m \u001b[39mNone\u001b[39;00m\n\u001b[1;32m     69\u001b[0m \u001b[39mif\u001b[39;00m loop:\n\u001b[0;32m---> 70\u001b[0m     \u001b[39mreturn\u001b[39;00m \u001b[39mself\u001b[39;49m\u001b[39m.\u001b[39;49m_in_thread(async_f, \u001b[39m*\u001b[39;49margs, \u001b[39m*\u001b[39;49m\u001b[39m*\u001b[39;49mkwargs)\n\u001b[1;32m     71\u001b[0m \u001b[39melse\u001b[39;00m:\n\u001b[1;32m     72\u001b[0m     \u001b[39mreturn\u001b[39;00m _asyncio_run(async_f(\u001b[39m*\u001b[39margs, \u001b[39m*\u001b[39m\u001b[39m*\u001b[39mkwargs))\n",
      "File \u001b[0;32m/Applications/Oasys1.3.app/Contents/Frameworks/Python.framework/Versions/3.8/lib/python3.8/site-packages/ipyparallel/_async.py:56\u001b[0m, in \u001b[0;36mAsyncFirst._in_thread\u001b[0;34m(self, async_f, *args, **kwargs)\u001b[0m\n\u001b[1;32m     53\u001b[0m         future\u001b[39m.\u001b[39mset_exception(e)\n\u001b[1;32m     55\u001b[0m \u001b[39mself\u001b[39m\u001b[39m.\u001b[39m_thread_loop\u001b[39m.\u001b[39madd_callback(thread_callback)\n\u001b[0;32m---> 56\u001b[0m \u001b[39mreturn\u001b[39;00m future\u001b[39m.\u001b[39;49mresult()\n",
      "File \u001b[0;32m/Applications/Oasys1.3.app/Contents/Frameworks/Python.framework/Versions/3.8/lib/python3.8/concurrent/futures/_base.py:444\u001b[0m, in \u001b[0;36mFuture.result\u001b[0;34m(self, timeout)\u001b[0m\n\u001b[1;32m    442\u001b[0m     \u001b[39mraise\u001b[39;00m CancelledError()\n\u001b[1;32m    443\u001b[0m \u001b[39melif\u001b[39;00m \u001b[39mself\u001b[39m\u001b[39m.\u001b[39m_state \u001b[39m==\u001b[39m FINISHED:\n\u001b[0;32m--> 444\u001b[0m     \u001b[39mreturn\u001b[39;00m \u001b[39mself\u001b[39;49m\u001b[39m.\u001b[39;49m__get_result()\n\u001b[1;32m    445\u001b[0m \u001b[39melse\u001b[39;00m:\n\u001b[1;32m    446\u001b[0m     \u001b[39mraise\u001b[39;00m \u001b[39mTimeoutError\u001b[39;00m()\n",
      "File \u001b[0;32m/Applications/Oasys1.3.app/Contents/Frameworks/Python.framework/Versions/3.8/lib/python3.8/concurrent/futures/_base.py:389\u001b[0m, in \u001b[0;36mFuture.__get_result\u001b[0;34m(self)\u001b[0m\n\u001b[1;32m    387\u001b[0m \u001b[39mif\u001b[39;00m \u001b[39mself\u001b[39m\u001b[39m.\u001b[39m_exception:\n\u001b[1;32m    388\u001b[0m     \u001b[39mtry\u001b[39;00m:\n\u001b[0;32m--> 389\u001b[0m         \u001b[39mraise\u001b[39;00m \u001b[39mself\u001b[39m\u001b[39m.\u001b[39m_exception\n\u001b[1;32m    390\u001b[0m     \u001b[39mfinally\u001b[39;00m:\n\u001b[1;32m    391\u001b[0m         \u001b[39m# Break a reference cycle with the exception in self._exception\u001b[39;00m\n\u001b[1;32m    392\u001b[0m         \u001b[39mself\u001b[39m \u001b[39m=\u001b[39m \u001b[39mNone\u001b[39;00m\n",
      "File \u001b[0;32m/Applications/Oasys1.3.app/Contents/Frameworks/Python.framework/Versions/3.8/lib/python3.8/site-packages/ipyparallel/_async.py:51\u001b[0m, in \u001b[0;36mAsyncFirst._in_thread.<locals>.thread_callback\u001b[0;34m()\u001b[0m\n\u001b[1;32m     49\u001b[0m \u001b[39masync\u001b[39;00m \u001b[39mdef\u001b[39;00m \u001b[39mthread_callback\u001b[39m():\n\u001b[1;32m     50\u001b[0m     \u001b[39mtry\u001b[39;00m:\n\u001b[0;32m---> 51\u001b[0m         future\u001b[39m.\u001b[39mset_result(\u001b[39mawait\u001b[39;00m async_f(\u001b[39m*\u001b[39margs, \u001b[39m*\u001b[39m\u001b[39m*\u001b[39mkwargs))\n\u001b[1;32m     52\u001b[0m     \u001b[39mexcept\u001b[39;00m \u001b[39mException\u001b[39;00m \u001b[39mas\u001b[39;00m e:\n\u001b[1;32m     53\u001b[0m         future\u001b[39m.\u001b[39mset_exception(e)\n",
      "File \u001b[0;32m/Applications/Oasys1.3.app/Contents/Frameworks/Python.framework/Versions/3.8/lib/python3.8/site-packages/ipyparallel/cluster/cluster.py:749\u001b[0m, in \u001b[0;36mCluster.start_and_connect\u001b[0;34m(self, n, activate)\u001b[0m\n\u001b[1;32m    747\u001b[0m \u001b[39mif\u001b[39;00m n \u001b[39mis\u001b[39;00m \u001b[39mNone\u001b[39;00m:\n\u001b[1;32m    748\u001b[0m     n \u001b[39m=\u001b[39m \u001b[39mself\u001b[39m\u001b[39m.\u001b[39mn\n\u001b[0;32m--> 749\u001b[0m \u001b[39mawait\u001b[39;00m \u001b[39mself\u001b[39m\u001b[39m.\u001b[39mstart_cluster(n\u001b[39m=\u001b[39mn)\n\u001b[1;32m    750\u001b[0m client \u001b[39m=\u001b[39m \u001b[39mawait\u001b[39;00m \u001b[39mself\u001b[39m\u001b[39m.\u001b[39mconnect_client()\n\u001b[1;32m    752\u001b[0m \u001b[39mif\u001b[39;00m n \u001b[39mis\u001b[39;00m \u001b[39mNone\u001b[39;00m:\n\u001b[1;32m    753\u001b[0m     \u001b[39m# number of engines to wait for\u001b[39;00m\n\u001b[1;32m    754\u001b[0m     \u001b[39m# if not specified, derive current value from EngineSets\u001b[39;00m\n",
      "File \u001b[0;32m/Applications/Oasys1.3.app/Contents/Frameworks/Python.framework/Versions/3.8/lib/python3.8/site-packages/ipyparallel/cluster/cluster.py:780\u001b[0m, in \u001b[0;36mCluster.start_cluster\u001b[0;34m(self, n)\u001b[0m\n\u001b[1;32m    778\u001b[0m \u001b[39mif\u001b[39;00m \u001b[39mself\u001b[39m\u001b[39m.\u001b[39mdelay:\n\u001b[1;32m    779\u001b[0m     \u001b[39mawait\u001b[39;00m asyncio\u001b[39m.\u001b[39msleep(\u001b[39mself\u001b[39m\u001b[39m.\u001b[39mdelay)\n\u001b[0;32m--> 780\u001b[0m \u001b[39mawait\u001b[39;00m \u001b[39mself\u001b[39m\u001b[39m.\u001b[39mstart_engines(n)\n\u001b[1;32m    781\u001b[0m \u001b[39m# return self to allow chaining\u001b[39;00m\n\u001b[1;32m    782\u001b[0m \u001b[39mreturn\u001b[39;00m \u001b[39mself\u001b[39m\n",
      "File \u001b[0;32m/Applications/Oasys1.3.app/Contents/Frameworks/Python.framework/Versions/3.8/lib/python3.8/site-packages/ipyparallel/cluster/cluster.py:708\u001b[0m, in \u001b[0;36mCluster.start_engines\u001b[0;34m(self, n, engine_set_id, **kwargs)\u001b[0m\n\u001b[1;32m    706\u001b[0m     n \u001b[39m=\u001b[39m cpu_count()\n\u001b[1;32m    707\u001b[0m \u001b[39mself\u001b[39m\u001b[39m.\u001b[39mlog\u001b[39m.\u001b[39minfo(\u001b[39mf\u001b[39m\u001b[39m\"\u001b[39m\u001b[39mStarting \u001b[39m\u001b[39m{\u001b[39;00mn \u001b[39mor\u001b[39;00m \u001b[39m'\u001b[39m\u001b[39m'\u001b[39m\u001b[39m}\u001b[39;00m\u001b[39m engines with \u001b[39m\u001b[39m{\u001b[39;00m\u001b[39mself\u001b[39m\u001b[39m.\u001b[39mengine_launcher_class\u001b[39m}\u001b[39;00m\u001b[39m\"\u001b[39m)\n\u001b[0;32m--> 708\u001b[0m r \u001b[39m=\u001b[39m engine_set\u001b[39m.\u001b[39;49mstart(n)\n\u001b[1;32m    709\u001b[0m engine_set\u001b[39m.\u001b[39mon_stop(partial(\u001b[39mself\u001b[39m\u001b[39m.\u001b[39m_engines_stopped, engine_set_id))\n\u001b[1;32m    710\u001b[0m \u001b[39mif\u001b[39;00m inspect\u001b[39m.\u001b[39misawaitable(r):\n",
      "File \u001b[0;32m/Applications/Oasys1.3.app/Contents/Frameworks/Python.framework/Versions/3.8/lib/python3.8/site-packages/ipyparallel/cluster/launcher.py:950\u001b[0m, in \u001b[0;36mMPIEngineSetLauncher.start\u001b[0;34m(self, n)\u001b[0m\n\u001b[1;32m    948\u001b[0m \u001b[39m\"\"\"Start n engines by profile or profile_dir.\"\"\"\u001b[39;00m\n\u001b[1;32m    949\u001b[0m \u001b[39mself\u001b[39m\u001b[39m.\u001b[39mn \u001b[39m=\u001b[39m n\n\u001b[0;32m--> 950\u001b[0m \u001b[39mreturn\u001b[39;00m \u001b[39msuper\u001b[39;49m()\u001b[39m.\u001b[39;49mstart(n)\n",
      "File \u001b[0;32m/Applications/Oasys1.3.app/Contents/Frameworks/Python.framework/Versions/3.8/lib/python3.8/site-packages/ipyparallel/cluster/launcher.py:861\u001b[0m, in \u001b[0;36mMPILauncher.start\u001b[0;34m(self, n)\u001b[0m\n\u001b[1;32m    859\u001b[0m \u001b[39m\"\"\"Start n instances of the program using mpiexec.\"\"\"\u001b[39;00m\n\u001b[1;32m    860\u001b[0m \u001b[39mself\u001b[39m\u001b[39m.\u001b[39mn \u001b[39m=\u001b[39m n\n\u001b[0;32m--> 861\u001b[0m \u001b[39mreturn\u001b[39;00m \u001b[39msuper\u001b[39;49m()\u001b[39m.\u001b[39;49mstart()\n",
      "File \u001b[0;32m/Applications/Oasys1.3.app/Contents/Frameworks/Python.framework/Versions/3.8/lib/python3.8/site-packages/ipyparallel/cluster/launcher.py:520\u001b[0m, in \u001b[0;36mLocalProcessLauncher.start\u001b[0;34m(self)\u001b[0m\n\u001b[1;32m    517\u001b[0m \u001b[39mself\u001b[39m\u001b[39m.\u001b[39mlog\u001b[39m.\u001b[39mdebug(\u001b[39mf\u001b[39m\u001b[39m\"\u001b[39m\u001b[39mSetting environment: \u001b[39m\u001b[39m{\u001b[39;00m\u001b[39m'\u001b[39m\u001b[39m,\u001b[39m\u001b[39m'\u001b[39m\u001b[39m.\u001b[39mjoin(\u001b[39mself\u001b[39m\u001b[39m.\u001b[39mget_env())\u001b[39m}\u001b[39;00m\u001b[39m\"\u001b[39m)\n\u001b[1;32m    519\u001b[0m \u001b[39mwith\u001b[39;00m \u001b[39mopen\u001b[39m(\u001b[39mself\u001b[39m\u001b[39m.\u001b[39moutput_file, \u001b[39m\"\u001b[39m\u001b[39mab\u001b[39m\u001b[39m\"\u001b[39m) \u001b[39mas\u001b[39;00m f:\n\u001b[0;32m--> 520\u001b[0m     proc \u001b[39m=\u001b[39m Popen(\n\u001b[1;32m    521\u001b[0m         \u001b[39mself\u001b[39;49m\u001b[39m.\u001b[39;49margs,\n\u001b[1;32m    522\u001b[0m         stdout\u001b[39m=\u001b[39;49mf\u001b[39m.\u001b[39;49mfileno(),\n\u001b[1;32m    523\u001b[0m         stderr\u001b[39m=\u001b[39;49mSTDOUT,\n\u001b[1;32m    524\u001b[0m         stdin\u001b[39m=\u001b[39;49mPIPE,\n\u001b[1;32m    525\u001b[0m         env\u001b[39m=\u001b[39;49menv,\n\u001b[1;32m    526\u001b[0m         cwd\u001b[39m=\u001b[39;49m\u001b[39mself\u001b[39;49m\u001b[39m.\u001b[39;49mwork_dir,\n\u001b[1;32m    527\u001b[0m         start_new_session\u001b[39m=\u001b[39;49m\u001b[39mTrue\u001b[39;49;00m,  \u001b[39m# don't forward signals\u001b[39;49;00m\n\u001b[1;32m    528\u001b[0m     )\n\u001b[1;32m    529\u001b[0m \u001b[39mself\u001b[39m\u001b[39m.\u001b[39mpid \u001b[39m=\u001b[39m proc\u001b[39m.\u001b[39mpid\n\u001b[1;32m    530\u001b[0m \u001b[39m# use psutil API for self.process\u001b[39;00m\n",
      "File \u001b[0;32m/Applications/Oasys1.3.app/Contents/Frameworks/Python.framework/Versions/3.8/lib/python3.8/subprocess.py:858\u001b[0m, in \u001b[0;36mPopen.__init__\u001b[0;34m(self, args, bufsize, executable, stdin, stdout, stderr, preexec_fn, close_fds, shell, cwd, env, universal_newlines, startupinfo, creationflags, restore_signals, start_new_session, pass_fds, encoding, errors, text)\u001b[0m\n\u001b[1;32m    854\u001b[0m         \u001b[39mif\u001b[39;00m \u001b[39mself\u001b[39m\u001b[39m.\u001b[39mtext_mode:\n\u001b[1;32m    855\u001b[0m             \u001b[39mself\u001b[39m\u001b[39m.\u001b[39mstderr \u001b[39m=\u001b[39m io\u001b[39m.\u001b[39mTextIOWrapper(\u001b[39mself\u001b[39m\u001b[39m.\u001b[39mstderr,\n\u001b[1;32m    856\u001b[0m                     encoding\u001b[39m=\u001b[39mencoding, errors\u001b[39m=\u001b[39merrors)\n\u001b[0;32m--> 858\u001b[0m     \u001b[39mself\u001b[39;49m\u001b[39m.\u001b[39;49m_execute_child(args, executable, preexec_fn, close_fds,\n\u001b[1;32m    859\u001b[0m                         pass_fds, cwd, env,\n\u001b[1;32m    860\u001b[0m                         startupinfo, creationflags, shell,\n\u001b[1;32m    861\u001b[0m                         p2cread, p2cwrite,\n\u001b[1;32m    862\u001b[0m                         c2pread, c2pwrite,\n\u001b[1;32m    863\u001b[0m                         errread, errwrite,\n\u001b[1;32m    864\u001b[0m                         restore_signals, start_new_session)\n\u001b[1;32m    865\u001b[0m \u001b[39mexcept\u001b[39;00m:\n\u001b[1;32m    866\u001b[0m     \u001b[39m# Cleanup if the child failed starting.\u001b[39;00m\n\u001b[1;32m    867\u001b[0m     \u001b[39mfor\u001b[39;00m f \u001b[39min\u001b[39;00m \u001b[39mfilter\u001b[39m(\u001b[39mNone\u001b[39;00m, (\u001b[39mself\u001b[39m\u001b[39m.\u001b[39mstdin, \u001b[39mself\u001b[39m\u001b[39m.\u001b[39mstdout, \u001b[39mself\u001b[39m\u001b[39m.\u001b[39mstderr)):\n",
      "File \u001b[0;32m/Applications/Oasys1.3.app/Contents/Frameworks/Python.framework/Versions/3.8/lib/python3.8/subprocess.py:1704\u001b[0m, in \u001b[0;36mPopen._execute_child\u001b[0;34m(self, args, executable, preexec_fn, close_fds, pass_fds, cwd, env, startupinfo, creationflags, shell, p2cread, p2cwrite, c2pread, c2pwrite, errread, errwrite, restore_signals, start_new_session)\u001b[0m\n\u001b[1;32m   1702\u001b[0m     \u001b[39mif\u001b[39;00m errno_num \u001b[39m!=\u001b[39m \u001b[39m0\u001b[39m:\n\u001b[1;32m   1703\u001b[0m         err_msg \u001b[39m=\u001b[39m os\u001b[39m.\u001b[39mstrerror(errno_num)\n\u001b[0;32m-> 1704\u001b[0m     \u001b[39mraise\u001b[39;00m child_exception_type(errno_num, err_msg, err_filename)\n\u001b[1;32m   1705\u001b[0m \u001b[39mraise\u001b[39;00m child_exception_type(err_msg)\n",
      "\u001b[0;31mFileNotFoundError\u001b[0m: [Errno 2] No such file or directory: 'mpiexec'"
     ]
    }
   ],
   "source": [
    "rc = cluster.start_and_connect_sync()"
   ]
  },
  {
   "cell_type": "code",
   "execution_count": 6,
   "id": "a4839669-dc72-413b-9885-f8335c4cf0d5",
   "metadata": {},
   "outputs": [],
   "source": [
    "dv = rc[:]"
   ]
  },
  {
   "cell_type": "code",
   "execution_count": 31,
   "id": "71a9d040-77d2-4972-a0e1-f09fb7535955",
   "metadata": {},
   "outputs": [],
   "source": [
    "%%px --local\n",
    "import os\n",
    "from aps_ai.beamline34IDC.util.shadow.common import plot_shadow_beam_spatial_distribution, get_shadow_beam_spatial_distribution\n",
    "import beamline34IDC.optimization.common as opt_common\n",
    "import beamline34IDC.optimization.movers as movers\n",
    "from aps_ai.beamline34IDC.util import clean_up\n",
    "import matplotlib.pyplot as plt\n",
    "import numpy as np\n",
    "import scipy\n",
    "from tqdm import tqdm\n",
    "import shutil\n",
    "import glob\n",
    "    "
   ]
  },
  {
   "cell_type": "code",
   "execution_count": 10,
   "id": "afa5cb68-3b03-4b3b-a9f0-d77cca32f2e6",
   "metadata": {},
   "outputs": [],
   "source": [
    "%%px\n",
    "from mpi4py import MPI\n",
    "comm = MPI.COMM_WORLD\n",
    "rank = comm.Get_rank()\n",
    "size = comm.Get_size()"
   ]
  },
  {
   "cell_type": "code",
   "execution_count": 11,
   "id": "3e846fc1-bce0-4c6a-bedf-e12525a6d3d5",
   "metadata": {},
   "outputs": [],
   "source": [
    "%%px\n",
    "%load_ext autoreload\n",
    "%autoreload 2"
   ]
  },
  {
   "cell_type": "code",
   "execution_count": 14,
   "id": "ebef8821-5b1f-4b76-a6eb-626d06b7f432",
   "metadata": {},
   "outputs": [],
   "source": [
    "DEFAULT_RANDOM_SEED = np.random.randint(100000)\n",
    "dv['DEFAULT_RANDOM_SEED'] = DEFAULT_RANDOM_SEED"
   ]
  },
  {
   "cell_type": "code",
   "execution_count": 20,
   "id": "3ccc5420-b584-45c6-ae86-2580c7fd2495",
   "metadata": {},
   "outputs": [],
   "source": [
    "base_dir = '/gpfs/fs1/home/skandel/code/oasys_ml/ML_Control_System/'\n",
    "orig_work_dir = f'{base_dir}/work_directory'\n",
    "\n",
    "temp_work_dir_root = f'{base_dir}/tmp_work_dir_{DEFAULT_RANDOM_SEED}'\n",
    "if not os.path.isdir(temp_work_dir_root):\n",
    "    os.mkdir(temp_work_dir_root)\n",
    "dv['orig_work_dir'] = orig_work_dir\n",
    "dv['temp_work_dir_root'] = temp_work_dir_root"
   ]
  },
  {
   "cell_type": "code",
   "execution_count": 17,
   "id": "872afe5c-9673-4946-be6b-608d56b2d4c5",
   "metadata": {},
   "outputs": [],
   "source": [
    "%%px \n",
    "os.chdir(temp_work_dir_root)\n",
    "temp_work_dir = f'{temp_work_dir_root}/rank_{rank}'\n",
    "os.mkdir(temp_work_dir)\n",
    "os.chdir(temp_work_dir)"
   ]
  },
  {
   "cell_type": "code",
   "execution_count": 21,
   "id": "4844503d-729d-4695-ad1f-b5cd86baf1e1",
   "metadata": {},
   "outputs": [],
   "source": [
    "%%px\n",
    "dat_files = glob.glob(f'{orig_work_dir}/*.dat')\n",
    "for df in dat_files:\n",
    "    shutil.copy(df, temp_work_dir)"
   ]
  },
  {
   "cell_type": "code",
   "execution_count": 24,
   "id": "7bf56163-c6bd-4188-b35c-ebd43602d724",
   "metadata": {},
   "outputs": [],
   "source": [
    "%%px --local\n",
    "move_motors = ['hkb_4']\n",
    "input_beam_path = \"primary_optics_system_beam.dat\"\n",
    "\n",
    "motors_str = move_motors[0] if len(move_motors) == 1 else '_'.join(move_motors)\n",
    "fig_save_path = f'{orig_work_dir}/figures/{motors_str}/'"
   ]
  },
  {
   "cell_type": "code",
   "execution_count": 25,
   "id": "a2935b0f-f69b-41d9-bf7a-97975e582d09",
   "metadata": {},
   "outputs": [],
   "source": [
    "if not os.path.isdir(fig_save_path):\n",
    "    os.mkdir(fig_save_path)"
   ]
  },
  {
   "cell_type": "code",
   "execution_count": 33,
   "id": "cdeccf19-76b2-439f-8eb6-aa30c7125843",
   "metadata": {},
   "outputs": [],
   "source": [
    "%%px\n",
    "focusing_system = opt_common.reinitialize(input_beam_path=input_beam_path)"
   ]
  },
  {
   "cell_type": "code",
   "execution_count": 34,
   "id": "58853bed-0963-45b7-868c-1534836727d3",
   "metadata": {},
   "outputs": [
    {
     "name": "stdout",
     "output_type": "stream",
     "text": [
      "%px:   0%|          | 0/1 [00:02<?, ?tasks/s]"
     ]
    },
    {
     "data": {
      "text/plain": [
       "[stdout:0] 0.00011041596492043902\n"
      ]
     },
     "metadata": {},
     "output_type": "display_data"
    },
    {
     "name": "stdout",
     "output_type": "stream",
     "text": [
      "%px:   0%|          | 0/1 [00:02<?, ?tasks/s]"
     ]
    },
    {
     "data": {
      "text/plain": [
       "[output:0]"
      ]
     },
     "metadata": {},
     "output_type": "display_data"
    },
    {
     "data": {
      "image/png": "[encoded data removed]",
      "text/plain": [
       "<Figure size 1152x768 with 4 Axes>"
      ]
     },
     "metadata": {
      "engine": 0,
      "needs_background": "light"
     },
     "output_type": "display_data"
    },
    {
     "name": "stdout",
     "output_type": "stream",
     "text": [
      "%px: 100%|██████████| 1/1 [00:02<00:00,  2.48s/tasks]\n"
     ]
    }
   ],
   "source": [
    "%%px --targets 0 \n",
    "# this is equivalent to using if rank == 0\n",
    "centroid, out_beam, hist, dw = opt_common.get_centroid_distance(focusing_system=focusing_system, \n",
    "                                                                random_seed=DEFAULT_RANDOM_SEED)\n",
    "print(centroid)\n",
    "\n",
    "_ = plot_shadow_beam_spatial_distribution(out_beam)"
   ]
  },
  {
   "cell_type": "code",
   "execution_count": 56,
   "id": "c2c8217d-9998-4f51-a79d-155794f952c6",
   "metadata": {},
   "outputs": [],
   "source": [
    "%%px --targets 0\n",
    "initial_absolute_positions = np.array(movers.get_absolute_positions(focusing_system, move_motors))"
   ]
  },
  {
   "cell_type": "code",
   "execution_count": 59,
   "id": "0b09e603-6db5-4708-b0f1-125bf2ad014e",
   "metadata": {},
   "outputs": [
    {
     "ename": "NameError",
     "evalue": "name 'initial_absolute_positions' is not defined",
     "output_type": "error",
     "traceback": [
      "\u001b[0;31m---------------------------------------------------------------------------\u001b[0m",
      "\u001b[0;31mNameError\u001b[0m                                 Traceback (most recent call last)",
      "\u001b[0;32m/tmp/ipykernel_1557834/4286694399.py\u001b[0m in \u001b[0;36m<module>\u001b[0;34m\u001b[0m\n\u001b[0;32m----> 1\u001b[0;31m \u001b[0mroot\u001b[0m\u001b[0;34m.\u001b[0m\u001b[0mpush\u001b[0m\u001b[0;34m(\u001b[0m\u001b[0;34m{\u001b[0m\u001b[0;34m'initial_absolute_positions'\u001b[0m\u001b[0;34m:\u001b[0m\u001b[0minitial_absolute_positions\u001b[0m\u001b[0;34m}\u001b[0m\u001b[0;34m)\u001b[0m\u001b[0;34m\u001b[0m\u001b[0;34m\u001b[0m\u001b[0m\n\u001b[0m",
      "\u001b[0;31mNameError\u001b[0m: name 'initial_absolute_positions' is not defined"
     ]
    }
   ],
   "source": [
    "root.push({'initial_absolute_positions':initial_absolute_positions})"
   ]
  },
  {
   "cell_type": "code",
   "execution_count": 66,
   "id": "776555bd-5c5f-4024-abd6-dc5f067bb5de",
   "metadata": {},
   "outputs": [
    {
     "data": {
      "text/plain": [
       "{'_trait_values': {'client': <ipyparallel.client.client.Client at 0x14afc77d5a90>,\n",
       "  '_socket': <zmq.eventloop.zmqstream.ZMQStream at 0x14afc77cd450>,\n",
       "  'results': defaultdict(dict, {}),\n",
       "  'block': False,\n",
       "  'targets': 0,\n",
       "  '_flag_names': ['targets', 'block', 'track']},\n",
       " '_trait_notifiers': {},\n",
       " '_trait_validators': {},\n",
       " '_cross_validation_lock': False,\n",
       " 'executor': <ipyparallel.client.view.ViewExecutor at 0x14ae90e59390>}"
      ]
     },
     "execution_count": 66,
     "metadata": {},
     "output_type": "execute_result"
    }
   ],
   "source": [
    "root.__dict__"
   ]
  },
  {
   "cell_type": "code",
   "execution_count": 64,
   "id": "86e154de-a491-4dfa-a1d3-44ea71ede7ae",
   "metadata": {},
   "outputs": [
    {
     "ename": "IndexError",
     "evalue": "No such engine: 4",
     "output_type": "error",
     "traceback": [
      "\u001b[0;31m---------------------------------------------------------------------------\u001b[0m",
      "\u001b[0;31mIndexError\u001b[0m                                Traceback (most recent call last)",
      "\u001b[0;32m/tmp/ipykernel_1557834/3499426699.py\u001b[0m in \u001b[0;36m<module>\u001b[0;34m\u001b[0m\n\u001b[0;32m----> 1\u001b[0;31m \u001b[0mrc\u001b[0m\u001b[0;34m[\u001b[0m\u001b[0;36m4\u001b[0m\u001b[0;34m]\u001b[0m\u001b[0;34m\u001b[0m\u001b[0;34m\u001b[0m\u001b[0m\n\u001b[0m",
      "\u001b[0;32m~/.conda/envs/oasys_env/lib/python3.7/site-packages/ipyparallel/client/client.py\u001b[0m in \u001b[0;36m__getitem__\u001b[0;34m(self, key)\u001b[0m\n\u001b[1;32m   1348\u001b[0m             )\n\u001b[1;32m   1349\u001b[0m         \u001b[0;32melse\u001b[0m\u001b[0;34m:\u001b[0m\u001b[0;34m\u001b[0m\u001b[0;34m\u001b[0m\u001b[0m\n\u001b[0;32m-> 1350\u001b[0;31m             \u001b[0;32mreturn\u001b[0m \u001b[0mself\u001b[0m\u001b[0;34m.\u001b[0m\u001b[0mdirect_view\u001b[0m\u001b[0;34m(\u001b[0m\u001b[0mkey\u001b[0m\u001b[0;34m)\u001b[0m\u001b[0;34m\u001b[0m\u001b[0;34m\u001b[0m\u001b[0m\n\u001b[0m\u001b[1;32m   1351\u001b[0m \u001b[0;34m\u001b[0m\u001b[0m\n\u001b[1;32m   1352\u001b[0m     \u001b[0;32mdef\u001b[0m \u001b[0m__iter__\u001b[0m\u001b[0;34m(\u001b[0m\u001b[0mself\u001b[0m\u001b[0;34m)\u001b[0m\u001b[0;34m:\u001b[0m\u001b[0;34m\u001b[0m\u001b[0;34m\u001b[0m\u001b[0m\n",
      "\u001b[0;32m~/.conda/envs/oasys_env/lib/python3.7/site-packages/ipyparallel/client/client.py\u001b[0m in \u001b[0;36mdirect_view\u001b[0;34m(self, targets, **kwargs)\u001b[0m\n\u001b[1;32m   2073\u001b[0m         \u001b[0;31m# allow 'all' to be lazily evaluated at each execution\u001b[0m\u001b[0;34m\u001b[0m\u001b[0;34m\u001b[0m\u001b[0;34m\u001b[0m\u001b[0m\n\u001b[1;32m   2074\u001b[0m         \u001b[0;32mif\u001b[0m \u001b[0mtargets\u001b[0m \u001b[0;34m!=\u001b[0m \u001b[0;34m'all'\u001b[0m\u001b[0;34m:\u001b[0m\u001b[0;34m\u001b[0m\u001b[0;34m\u001b[0m\u001b[0m\n\u001b[0;32m-> 2075\u001b[0;31m             \u001b[0mtargets\u001b[0m \u001b[0;34m=\u001b[0m \u001b[0mself\u001b[0m\u001b[0;34m.\u001b[0m\u001b[0m_build_targets\u001b[0m\u001b[0;34m(\u001b[0m\u001b[0mtargets\u001b[0m\u001b[0;34m)\u001b[0m\u001b[0;34m[\u001b[0m\u001b[0;36m1\u001b[0m\u001b[0;34m]\u001b[0m\u001b[0;34m\u001b[0m\u001b[0;34m\u001b[0m\u001b[0m\n\u001b[0m\u001b[1;32m   2076\u001b[0m         \u001b[0;32mif\u001b[0m \u001b[0msingle\u001b[0m\u001b[0;34m:\u001b[0m\u001b[0;34m\u001b[0m\u001b[0;34m\u001b[0m\u001b[0m\n\u001b[1;32m   2077\u001b[0m             \u001b[0mtargets\u001b[0m \u001b[0;34m=\u001b[0m \u001b[0mtargets\u001b[0m\u001b[0;34m[\u001b[0m\u001b[0;36m0\u001b[0m\u001b[0;34m]\u001b[0m\u001b[0;34m\u001b[0m\u001b[0;34m\u001b[0m\u001b[0m\n",
      "\u001b[0;32m~/.conda/envs/oasys_env/lib/python3.7/site-packages/ipyparallel/client/client.py\u001b[0m in \u001b[0;36m_build_targets\u001b[0;34m(self, targets)\u001b[0m\n\u001b[1;32m    719\u001b[0m                 \u001b[0mtargets\u001b[0m \u001b[0;34m=\u001b[0m \u001b[0mself\u001b[0m\u001b[0;34m.\u001b[0m\u001b[0mids\u001b[0m\u001b[0;34m[\u001b[0m\u001b[0mtargets\u001b[0m\u001b[0;34m]\u001b[0m\u001b[0;34m\u001b[0m\u001b[0;34m\u001b[0m\u001b[0m\n\u001b[1;32m    720\u001b[0m             \u001b[0;32mif\u001b[0m \u001b[0mtargets\u001b[0m \u001b[0;32mnot\u001b[0m \u001b[0;32min\u001b[0m \u001b[0mself\u001b[0m\u001b[0;34m.\u001b[0m\u001b[0m_ids\u001b[0m\u001b[0;34m:\u001b[0m\u001b[0;34m\u001b[0m\u001b[0;34m\u001b[0m\u001b[0m\n\u001b[0;32m--> 721\u001b[0;31m                 \u001b[0;32mraise\u001b[0m \u001b[0mIndexError\u001b[0m\u001b[0;34m(\u001b[0m\u001b[0;34m\"No such engine: %i\"\u001b[0m \u001b[0;34m%\u001b[0m \u001b[0mtargets\u001b[0m\u001b[0;34m)\u001b[0m\u001b[0;34m\u001b[0m\u001b[0;34m\u001b[0m\u001b[0m\n\u001b[0m\u001b[1;32m    722\u001b[0m             \u001b[0mtargets\u001b[0m \u001b[0;34m=\u001b[0m \u001b[0;34m[\u001b[0m\u001b[0mtargets\u001b[0m\u001b[0;34m]\u001b[0m\u001b[0;34m\u001b[0m\u001b[0;34m\u001b[0m\u001b[0m\n\u001b[1;32m    723\u001b[0m \u001b[0;34m\u001b[0m\u001b[0m\n",
      "\u001b[0;31mIndexError\u001b[0m: No such engine: 4"
     ]
    }
   ],
   "source": [
    "rc[4]"
   ]
  },
  {
   "cell_type": "code",
   "execution_count": 54,
   "id": "8584eca4-4296-40f6-b171-d59ba152c192",
   "metadata": {},
   "outputs": [
    {
     "ename": "CompositeError",
     "evalue": "one or more exceptions raised in: _pull\n[1:apply]NameError: name 'initial_absolute_positions' is not defined\n[2:apply]NameError: name 'initial_absolute_positions' is not defined\n[3:apply]NameError: name 'initial_absolute_positions' is not defined",
     "output_type": "error",
     "traceback": [
      "[1:apply]:",
      "\u001b[0;31m---------------------------------------------------------------------------\u001b[0m",
      "\u001b[0;31mNameError\u001b[0m                                 Traceback (most recent call last)",
      "\u001b[0;32m<string>\u001b[0m in \u001b[0;36m<module>\u001b[0;34m\u001b[0m",
      "",
      "\u001b[0;32m~/.conda/envs/oasys_env/lib/python3.7/site-packages/ipyparallel/util.py\u001b[0m in \u001b[0;36m_pull\u001b[0;34m(keys)\u001b[0m",
      "\u001b[1;32m    325\u001b[0m         \u001b[0;32mreturn\u001b[0m \u001b[0;34m[\u001b[0m\u001b[0meval\u001b[0m\u001b[0;34m(\u001b[0m\u001b[0mkey\u001b[0m\u001b[0;34m,\u001b[0m \u001b[0muser_ns\u001b[0m\u001b[0;34m)\u001b[0m \u001b[0;32mfor\u001b[0m \u001b[0mkey\u001b[0m \u001b[0;32min\u001b[0m \u001b[0mkeys\u001b[0m\u001b[0;34m]\u001b[0m\u001b[0;34m\u001b[0m\u001b[0;34m\u001b[0m\u001b[0m",
      "\u001b[1;32m    326\u001b[0m     \u001b[0;32melse\u001b[0m\u001b[0;34m:\u001b[0m\u001b[0;34m\u001b[0m\u001b[0;34m\u001b[0m\u001b[0m",
      "\u001b[0;32m--> 327\u001b[0;31m         \u001b[0;32mreturn\u001b[0m \u001b[0meval\u001b[0m\u001b[0;34m(\u001b[0m\u001b[0mkeys\u001b[0m\u001b[0;34m,\u001b[0m \u001b[0muser_ns\u001b[0m\u001b[0;34m)\u001b[0m\u001b[0;34m\u001b[0m\u001b[0;34m\u001b[0m\u001b[0m",
      "\u001b[0m\u001b[1;32m    328\u001b[0m \u001b[0;34m\u001b[0m\u001b[0m",
      "\u001b[1;32m    329\u001b[0m \u001b[0;34m\u001b[0m\u001b[0m",
      "",
      "\u001b[0;32m<string>\u001b[0m in \u001b[0;36m<module>\u001b[0;34m\u001b[0m",
      "",
      "\u001b[0;31mNameError\u001b[0m: name 'initial_absolute_positions' is not defined",
      "",
      "[2:apply]:",
      "\u001b[0;31m---------------------------------------------------------------------------\u001b[0m",
      "\u001b[0;31mNameError\u001b[0m                                 Traceback (most recent call last)",
      "\u001b[0;32m<string>\u001b[0m in \u001b[0;36m<module>\u001b[0;34m\u001b[0m",
      "",
      "\u001b[0;32m~/.conda/envs/oasys_env/lib/python3.7/site-packages/ipyparallel/util.py\u001b[0m in \u001b[0;36m_pull\u001b[0;34m(keys)\u001b[0m",
      "\u001b[1;32m    325\u001b[0m         \u001b[0;32mreturn\u001b[0m \u001b[0;34m[\u001b[0m\u001b[0meval\u001b[0m\u001b[0;34m(\u001b[0m\u001b[0mkey\u001b[0m\u001b[0;34m,\u001b[0m \u001b[0muser_ns\u001b[0m\u001b[0;34m)\u001b[0m \u001b[0;32mfor\u001b[0m \u001b[0mkey\u001b[0m \u001b[0;32min\u001b[0m \u001b[0mkeys\u001b[0m\u001b[0;34m]\u001b[0m\u001b[0;34m\u001b[0m\u001b[0;34m\u001b[0m\u001b[0m",
      "\u001b[1;32m    326\u001b[0m     \u001b[0;32melse\u001b[0m\u001b[0;34m:\u001b[0m\u001b[0;34m\u001b[0m\u001b[0;34m\u001b[0m\u001b[0m",
      "\u001b[0;32m--> 327\u001b[0;31m         \u001b[0;32mreturn\u001b[0m \u001b[0meval\u001b[0m\u001b[0;34m(\u001b[0m\u001b[0mkeys\u001b[0m\u001b[0;34m,\u001b[0m \u001b[0muser_ns\u001b[0m\u001b[0;34m)\u001b[0m\u001b[0;34m\u001b[0m\u001b[0;34m\u001b[0m\u001b[0m",
      "\u001b[0m\u001b[1;32m    328\u001b[0m \u001b[0;34m\u001b[0m\u001b[0m",
      "\u001b[1;32m    329\u001b[0m \u001b[0;34m\u001b[0m\u001b[0m",
      "",
      "\u001b[0;32m<string>\u001b[0m in \u001b[0;36m<module>\u001b[0;34m\u001b[0m",
      "",
      "\u001b[0;31mNameError\u001b[0m: name 'initial_absolute_positions' is not defined",
      "",
      "[3:apply]:",
      "\u001b[0;31m---------------------------------------------------------------------------\u001b[0m",
      "\u001b[0;31mNameError\u001b[0m                                 Traceback (most recent call last)",
      "\u001b[0;32m<string>\u001b[0m in \u001b[0;36m<module>\u001b[0;34m\u001b[0m",
      "",
      "\u001b[0;32m~/.conda/envs/oasys_env/lib/python3.7/site-packages/ipyparallel/util.py\u001b[0m in \u001b[0;36m_pull\u001b[0;34m(keys)\u001b[0m",
      "\u001b[1;32m    325\u001b[0m         \u001b[0;32mreturn\u001b[0m \u001b[0;34m[\u001b[0m\u001b[0meval\u001b[0m\u001b[0;34m(\u001b[0m\u001b[0mkey\u001b[0m\u001b[0;34m,\u001b[0m \u001b[0muser_ns\u001b[0m\u001b[0;34m)\u001b[0m \u001b[0;32mfor\u001b[0m \u001b[0mkey\u001b[0m \u001b[0;32min\u001b[0m \u001b[0mkeys\u001b[0m\u001b[0;34m]\u001b[0m\u001b[0;34m\u001b[0m\u001b[0;34m\u001b[0m\u001b[0m",
      "\u001b[1;32m    326\u001b[0m     \u001b[0;32melse\u001b[0m\u001b[0;34m:\u001b[0m\u001b[0;34m\u001b[0m\u001b[0;34m\u001b[0m\u001b[0m",
      "\u001b[0;32m--> 327\u001b[0;31m         \u001b[0;32mreturn\u001b[0m \u001b[0meval\u001b[0m\u001b[0;34m(\u001b[0m\u001b[0mkeys\u001b[0m\u001b[0;34m,\u001b[0m \u001b[0muser_ns\u001b[0m\u001b[0;34m)\u001b[0m\u001b[0;34m\u001b[0m\u001b[0;34m\u001b[0m\u001b[0m",
      "\u001b[0m\u001b[1;32m    328\u001b[0m \u001b[0;34m\u001b[0m\u001b[0m",
      "\u001b[1;32m    329\u001b[0m \u001b[0;34m\u001b[0m\u001b[0m",
      "",
      "\u001b[0;32m<string>\u001b[0m in \u001b[0;36m<module>\u001b[0;34m\u001b[0m",
      "",
      "\u001b[0;31mNameError\u001b[0m: name 'initial_absolute_positions' is not defined",
      ""
     ]
    }
   ],
   "source": [
    "dv['initial_absolute_positions']"
   ]
  },
  {
   "cell_type": "code",
   "execution_count": 52,
   "id": "ebb586fd-a272-4e92-b5b5-4fe080c866fb",
   "metadata": {},
   "outputs": [
    {
     "data": {
      "text/plain": [
       "<AsyncResult(_push): finished>"
      ]
     },
     "execution_count": 52,
     "metadata": {},
     "output_type": "execute_result"
    }
   ],
   "source": [
    "initial_absolute_positions"
   ]
  },
  {
   "cell_type": "code",
   "execution_count": 48,
   "id": "e7159259-0760-4d6a-91b6-4a5c07c6fb53",
   "metadata": {},
   "outputs": [
    {
     "ename": "TypeError",
     "evalue": "names must be strs, not 0",
     "output_type": "error",
     "traceback": [
      "\u001b[0;31m---------------------------------------------------------------------------\u001b[0m",
      "\u001b[0;31mTypeError\u001b[0m                                 Traceback (most recent call last)",
      "\u001b[0;32m/tmp/ipykernel_1557834/357555043.py\u001b[0m in \u001b[0;36m<module>\u001b[0;34m\u001b[0m\n\u001b[0;32m----> 1\u001b[0;31m \u001b[0mdv\u001b[0m\u001b[0;34m[\u001b[0m\u001b[0;36m0\u001b[0m\u001b[0;34m]\u001b[0m\u001b[0;34m\u001b[0m\u001b[0;34m\u001b[0m\u001b[0m\n\u001b[0m",
      "\u001b[0;32m~/.conda/envs/oasys_env/lib/python3.7/site-packages/ipyparallel/client/view.py\u001b[0m in \u001b[0;36m__getitem__\u001b[0;34m(self, key)\u001b[0m\n\u001b[1;32m    828\u001b[0m \u001b[0;34m\u001b[0m\u001b[0m\n\u001b[1;32m    829\u001b[0m     \u001b[0;32mdef\u001b[0m \u001b[0m__getitem__\u001b[0m\u001b[0;34m(\u001b[0m\u001b[0mself\u001b[0m\u001b[0;34m,\u001b[0m \u001b[0mkey\u001b[0m\u001b[0;34m)\u001b[0m\u001b[0;34m:\u001b[0m\u001b[0;34m\u001b[0m\u001b[0;34m\u001b[0m\u001b[0m\n\u001b[0;32m--> 830\u001b[0;31m         \u001b[0;32mreturn\u001b[0m \u001b[0mself\u001b[0m\u001b[0;34m.\u001b[0m\u001b[0mget\u001b[0m\u001b[0;34m(\u001b[0m\u001b[0mkey\u001b[0m\u001b[0;34m)\u001b[0m\u001b[0;34m\u001b[0m\u001b[0;34m\u001b[0m\u001b[0m\n\u001b[0m\u001b[1;32m    831\u001b[0m \u001b[0;34m\u001b[0m\u001b[0m\n\u001b[1;32m    832\u001b[0m     \u001b[0;32mdef\u001b[0m \u001b[0m__setitem__\u001b[0m\u001b[0;34m(\u001b[0m\u001b[0mself\u001b[0m\u001b[0;34m,\u001b[0m \u001b[0mkey\u001b[0m\u001b[0;34m,\u001b[0m \u001b[0mvalue\u001b[0m\u001b[0;34m)\u001b[0m\u001b[0;34m:\u001b[0m\u001b[0;34m\u001b[0m\u001b[0;34m\u001b[0m\u001b[0m\n",
      "\u001b[0;32m~/.conda/envs/oasys_env/lib/python3.7/site-packages/ipyparallel/client/view.py\u001b[0m in \u001b[0;36mget\u001b[0;34m(self, key_s)\u001b[0m\n\u001b[1;32m    743\u001b[0m         \"\"\"\n\u001b[1;32m    744\u001b[0m         \u001b[0;31m# block = block if block is not None else self.block\u001b[0m\u001b[0;34m\u001b[0m\u001b[0;34m\u001b[0m\u001b[0;34m\u001b[0m\u001b[0m\n\u001b[0;32m--> 745\u001b[0;31m         \u001b[0;32mreturn\u001b[0m \u001b[0mself\u001b[0m\u001b[0;34m.\u001b[0m\u001b[0mpull\u001b[0m\u001b[0;34m(\u001b[0m\u001b[0mkey_s\u001b[0m\u001b[0;34m,\u001b[0m \u001b[0mblock\u001b[0m\u001b[0;34m=\u001b[0m\u001b[0;32mTrue\u001b[0m\u001b[0;34m)\u001b[0m\u001b[0;34m\u001b[0m\u001b[0;34m\u001b[0m\u001b[0m\n\u001b[0m\u001b[1;32m    746\u001b[0m \u001b[0;34m\u001b[0m\u001b[0m\n\u001b[1;32m    747\u001b[0m     \u001b[0;32mdef\u001b[0m \u001b[0mpull\u001b[0m\u001b[0;34m(\u001b[0m\u001b[0mself\u001b[0m\u001b[0;34m,\u001b[0m \u001b[0mnames\u001b[0m\u001b[0;34m,\u001b[0m \u001b[0mtargets\u001b[0m\u001b[0;34m=\u001b[0m\u001b[0;32mNone\u001b[0m\u001b[0;34m,\u001b[0m \u001b[0mblock\u001b[0m\u001b[0;34m=\u001b[0m\u001b[0;32mNone\u001b[0m\u001b[0;34m)\u001b[0m\u001b[0;34m:\u001b[0m\u001b[0;34m\u001b[0m\u001b[0;34m\u001b[0m\u001b[0m\n",
      "\u001b[0;32m~/.conda/envs/oasys_env/lib/python3.7/site-packages/ipyparallel/client/view.py\u001b[0m in \u001b[0;36mpull\u001b[0;34m(self, names, targets, block)\u001b[0m\n\u001b[1;32m    760\u001b[0m                     \u001b[0;32mraise\u001b[0m \u001b[0mTypeError\u001b[0m\u001b[0;34m(\u001b[0m\u001b[0;34m\"keys must be str, not type %r\"\u001b[0m \u001b[0;34m%\u001b[0m \u001b[0mtype\u001b[0m\u001b[0;34m(\u001b[0m\u001b[0mkey\u001b[0m\u001b[0;34m)\u001b[0m\u001b[0;34m)\u001b[0m\u001b[0;34m\u001b[0m\u001b[0;34m\u001b[0m\u001b[0m\n\u001b[1;32m    761\u001b[0m         \u001b[0;32melse\u001b[0m\u001b[0;34m:\u001b[0m\u001b[0;34m\u001b[0m\u001b[0;34m\u001b[0m\u001b[0m\n\u001b[0;32m--> 762\u001b[0;31m             \u001b[0;32mraise\u001b[0m \u001b[0mTypeError\u001b[0m\u001b[0;34m(\u001b[0m\u001b[0;34m\"names must be strs, not %r\"\u001b[0m \u001b[0;34m%\u001b[0m \u001b[0mnames\u001b[0m\u001b[0;34m)\u001b[0m\u001b[0;34m\u001b[0m\u001b[0;34m\u001b[0m\u001b[0m\n\u001b[0m\u001b[1;32m    763\u001b[0m         \u001b[0;32mreturn\u001b[0m \u001b[0mself\u001b[0m\u001b[0;34m.\u001b[0m\u001b[0m_really_apply\u001b[0m\u001b[0;34m(\u001b[0m\u001b[0mutil\u001b[0m\u001b[0;34m.\u001b[0m\u001b[0m_pull\u001b[0m\u001b[0;34m,\u001b[0m \u001b[0;34m(\u001b[0m\u001b[0mnames\u001b[0m\u001b[0;34m,\u001b[0m\u001b[0;34m)\u001b[0m\u001b[0;34m,\u001b[0m \u001b[0mblock\u001b[0m\u001b[0;34m=\u001b[0m\u001b[0mblock\u001b[0m\u001b[0;34m,\u001b[0m \u001b[0mtargets\u001b[0m\u001b[0;34m=\u001b[0m\u001b[0mtargets\u001b[0m\u001b[0;34m)\u001b[0m\u001b[0;34m\u001b[0m\u001b[0;34m\u001b[0m\u001b[0m\n\u001b[1;32m    764\u001b[0m \u001b[0;34m\u001b[0m\u001b[0m\n",
      "\u001b[0;31mTypeError\u001b[0m: names must be strs, not 0"
     ]
    }
   ],
   "source": [
    "dv[0]"
   ]
  },
  {
   "cell_type": "code",
   "execution_count": 44,
   "id": "186daf8c-8f92-4b09-b6a5-96a348b4f536",
   "metadata": {},
   "outputs": [],
   "source": [
    "initial_absolute_positions = dv.pull('initial_absolute_positions', targets = 0)"
   ]
  },
  {
   "cell_type": "code",
   "execution_count": 45,
   "id": "bf090aec-032f-4667-a495-f38fd7c14b6e",
   "metadata": {},
   "outputs": [
    {
     "data": {
      "text/plain": [
       "array([0.])"
      ]
     },
     "execution_count": 45,
     "metadata": {},
     "output_type": "execute_result"
    }
   ],
   "source": [
    "dv['initial_absolute_positons'] = initial_absolute_positions"
   ]
  },
  {
   "cell_type": "code",
   "execution_count": 46,
   "id": "f62e2db9-419d-4aa7-b83b-296d98baf8f3",
   "metadata": {},
   "outputs": [
    {
     "data": {
      "text/plain": [
       "\u001b[0;31mSignature:\u001b[0m \u001b[0mdv\u001b[0m\u001b[0;34m.\u001b[0m\u001b[0mpush\u001b[0m\u001b[0;34m(\u001b[0m\u001b[0mns\u001b[0m\u001b[0;34m,\u001b[0m \u001b[0mtargets\u001b[0m\u001b[0;34m=\u001b[0m\u001b[0;32mNone\u001b[0m\u001b[0;34m,\u001b[0m \u001b[0mblock\u001b[0m\u001b[0;34m=\u001b[0m\u001b[0;32mNone\u001b[0m\u001b[0;34m,\u001b[0m \u001b[0mtrack\u001b[0m\u001b[0;34m=\u001b[0m\u001b[0;32mNone\u001b[0m\u001b[0;34m)\u001b[0m\u001b[0;34m\u001b[0m\u001b[0;34m\u001b[0m\u001b[0m\n",
       "\u001b[0;31mSource:\u001b[0m   \n",
       "    \u001b[0;32mdef\u001b[0m \u001b[0mpush\u001b[0m\u001b[0;34m(\u001b[0m\u001b[0mself\u001b[0m\u001b[0;34m,\u001b[0m \u001b[0mns\u001b[0m\u001b[0;34m,\u001b[0m \u001b[0mtargets\u001b[0m\u001b[0;34m=\u001b[0m\u001b[0;32mNone\u001b[0m\u001b[0;34m,\u001b[0m \u001b[0mblock\u001b[0m\u001b[0;34m=\u001b[0m\u001b[0;32mNone\u001b[0m\u001b[0;34m,\u001b[0m \u001b[0mtrack\u001b[0m\u001b[0;34m=\u001b[0m\u001b[0;32mNone\u001b[0m\u001b[0;34m)\u001b[0m\u001b[0;34m:\u001b[0m\u001b[0;34m\u001b[0m\n",
       "\u001b[0;34m\u001b[0m        \u001b[0;34m\"\"\"update remote namespace with dict `ns`\u001b[0m\n",
       "\u001b[0;34m\u001b[0m\n",
       "\u001b[0;34m        Parameters\u001b[0m\n",
       "\u001b[0;34m        ----------\u001b[0m\n",
       "\u001b[0;34m        ns : dict\u001b[0m\n",
       "\u001b[0;34m            dict of keys with which to update engine namespace(s)\u001b[0m\n",
       "\u001b[0;34m        block : bool [default : self.block]\u001b[0m\n",
       "\u001b[0;34m            whether to wait to be notified of engine receipt\u001b[0m\n",
       "\u001b[0;34m\u001b[0m\n",
       "\u001b[0;34m        \"\"\"\u001b[0m\u001b[0;34m\u001b[0m\n",
       "\u001b[0;34m\u001b[0m\u001b[0;34m\u001b[0m\n",
       "\u001b[0;34m\u001b[0m        \u001b[0mblock\u001b[0m \u001b[0;34m=\u001b[0m \u001b[0mblock\u001b[0m \u001b[0;32mif\u001b[0m \u001b[0mblock\u001b[0m \u001b[0;32mis\u001b[0m \u001b[0;32mnot\u001b[0m \u001b[0;32mNone\u001b[0m \u001b[0;32melse\u001b[0m \u001b[0mself\u001b[0m\u001b[0;34m.\u001b[0m\u001b[0mblock\u001b[0m\u001b[0;34m\u001b[0m\n",
       "\u001b[0;34m\u001b[0m        \u001b[0mtrack\u001b[0m \u001b[0;34m=\u001b[0m \u001b[0mtrack\u001b[0m \u001b[0;32mif\u001b[0m \u001b[0mtrack\u001b[0m \u001b[0;32mis\u001b[0m \u001b[0;32mnot\u001b[0m \u001b[0;32mNone\u001b[0m \u001b[0;32melse\u001b[0m \u001b[0mself\u001b[0m\u001b[0;34m.\u001b[0m\u001b[0mtrack\u001b[0m\u001b[0;34m\u001b[0m\n",
       "\u001b[0;34m\u001b[0m        \u001b[0mtargets\u001b[0m \u001b[0;34m=\u001b[0m \u001b[0mtargets\u001b[0m \u001b[0;32mif\u001b[0m \u001b[0mtargets\u001b[0m \u001b[0;32mis\u001b[0m \u001b[0;32mnot\u001b[0m \u001b[0;32mNone\u001b[0m \u001b[0;32melse\u001b[0m \u001b[0mself\u001b[0m\u001b[0;34m.\u001b[0m\u001b[0mtargets\u001b[0m\u001b[0;34m\u001b[0m\n",
       "\u001b[0;34m\u001b[0m        \u001b[0;31m# applier = self.apply_sync if block else self.apply_async\u001b[0m\u001b[0;34m\u001b[0m\n",
       "\u001b[0;34m\u001b[0m        \u001b[0;32mif\u001b[0m \u001b[0;32mnot\u001b[0m \u001b[0misinstance\u001b[0m\u001b[0;34m(\u001b[0m\u001b[0mns\u001b[0m\u001b[0;34m,\u001b[0m \u001b[0mdict\u001b[0m\u001b[0;34m)\u001b[0m\u001b[0;34m:\u001b[0m\u001b[0;34m\u001b[0m\n",
       "\u001b[0;34m\u001b[0m            \u001b[0;32mraise\u001b[0m \u001b[0mTypeError\u001b[0m\u001b[0;34m(\u001b[0m\u001b[0;34m\"Must be a dict, not %s\"\u001b[0m \u001b[0;34m%\u001b[0m \u001b[0mtype\u001b[0m\u001b[0;34m(\u001b[0m\u001b[0mns\u001b[0m\u001b[0;34m)\u001b[0m\u001b[0;34m)\u001b[0m\u001b[0;34m\u001b[0m\n",
       "\u001b[0;34m\u001b[0m        \u001b[0;32mreturn\u001b[0m \u001b[0mself\u001b[0m\u001b[0;34m.\u001b[0m\u001b[0m_really_apply\u001b[0m\u001b[0;34m(\u001b[0m\u001b[0;34m\u001b[0m\n",
       "\u001b[0;34m\u001b[0m            \u001b[0mutil\u001b[0m\u001b[0;34m.\u001b[0m\u001b[0m_push\u001b[0m\u001b[0;34m,\u001b[0m \u001b[0mkwargs\u001b[0m\u001b[0;34m=\u001b[0m\u001b[0mns\u001b[0m\u001b[0;34m,\u001b[0m \u001b[0mblock\u001b[0m\u001b[0;34m=\u001b[0m\u001b[0mblock\u001b[0m\u001b[0;34m,\u001b[0m \u001b[0mtrack\u001b[0m\u001b[0;34m=\u001b[0m\u001b[0mtrack\u001b[0m\u001b[0;34m,\u001b[0m \u001b[0mtargets\u001b[0m\u001b[0;34m=\u001b[0m\u001b[0mtargets\u001b[0m\u001b[0;34m\u001b[0m\n",
       "\u001b[0;34m\u001b[0m        \u001b[0;34m)\u001b[0m\u001b[0;34m\u001b[0m\u001b[0;34m\u001b[0m\u001b[0m\n",
       "\u001b[0;31mFile:\u001b[0m      ~/.conda/envs/oasys_env/lib/python3.7/site-packages/ipyparallel/client/view.py\n",
       "\u001b[0;31mType:\u001b[0m      method\n"
      ]
     },
     "metadata": {},
     "output_type": "display_data"
    }
   ],
   "source": [
    "??dv.push"
   ]
  },
  {
   "cell_type": "code",
   "execution_count": 42,
   "id": "ced2ec4b-d30b-48cc-be73-4f500fea5e12",
   "metadata": {},
   "outputs": [],
   "source": [
    "dv.block = True"
   ]
  },
  {
   "cell_type": "code",
   "execution_count": 25,
   "id": "6ea4ba8c-9d82-433c-959a-13582b599c9f",
   "metadata": {},
   "outputs": [
    {
     "data": {
      "text/plain": [
       "[stdout:0] [0.]\n"
      ]
     },
     "metadata": {},
     "output_type": "display_data"
    }
   ],
   "source": [
    "%%px --targets 0\n",
    "if rank == 0:\n",
    "    initial_absolute_positions = np.array(movers.get_absolute_positions(focusing_system, move_motors))\n",
    "    print(initial_absolute_positions)\n",
    "else:\n",
    "    initial_absolute_positions = None\n",
    "\n",
    "initial_absolute_positions = MPI.COMM_WORLD.bcast(initial_absolute_positions, root=0)"
   ]
  },
  {
   "cell_type": "code",
   "execution_count": 27,
   "id": "45b266f0-0635-4834-addd-c33f7f889b53",
   "metadata": {},
   "outputs": [
    {
     "data": {
      "text/plain": [
       "[stderr:2]   0%|          | 0/1 [00:00<?, ?it/s]/home/skandel/.conda/envs/oasys_env/lib/python3.7/site-packages/orangecontrib/shadow/widgets/special_elements/bl/hybrid_control.py:168: RankWarning: Polyfit may be poorly conditioned\n",
       "  hy_readfiles(input_parameters, calculation_parameters)\t#Read shadow output files needed by HYBRID\n",
       "/home/skandel/.conda/envs/oasys_env/lib/python3.7/site-packages/orangecontrib/shadow/widgets/special_elements/bl/hybrid_control.py:168: RankWarning: Polyfit may be poorly conditioned\n",
       "  hy_readfiles(input_parameters, calculation_parameters)\t#Read shadow output files needed by HYBRID\n",
       "/home/skandel/.conda/envs/oasys_env/lib/python3.7/site-packages/orangecontrib/shadow/widgets/special_elements/bl/hybrid_control.py:168: RankWarning: Polyfit may be poorly conditioned\n",
       "  hy_readfiles(input_parameters, calculation_parameters)\t#Read shadow output files needed by HYBRID\n",
       "/home/skandel/.conda/envs/oasys_env/lib/python3.7/site-packages/orangecontrib/shadow/widgets/special_elements/bl/hybrid_control.py:168: RankWarning: Polyfit may be poorly conditioned\n",
       "  hy_readfiles(input_parameters, calculation_parameters)\t#Read shadow output files needed by HYBRID\n",
       "/home/skandel/.conda/envs/oasys_env/lib/python3.7/site-packages/orangecontrib/shadow/widgets/special_elements/bl/hybrid_control.py:168: RankWarning: Polyfit may be poorly conditioned\n",
       "  hy_readfiles(input_parameters, calculation_parameters)\t#Read shadow output files needed by HYBRID\n",
       "/home/skandel/.conda/envs/oasys_env/lib/python3.7/site-packages/orangecontrib/shadow/widgets/special_elements/bl/hybrid_control.py:168: RankWarning: Polyfit may be poorly conditioned\n",
       "  hy_readfiles(input_parameters, calculation_parameters)\t#Read shadow output files needed by HYBRID\n",
       "/home/skandel/.conda/envs/oasys_env/lib/python3.7/site-packages/orangecontrib/shadow/widgets/special_elements/bl/hybrid_control.py:168: RankWarning: Polyfit may be poorly conditioned\n",
       "  hy_readfiles(input_parameters, calculation_parameters)\t#Read shadow output files needed by HYBRID\n",
       "/home/skandel/.conda/envs/oasys_env/lib/python3.7/site-packages/orangecontrib/shadow/widgets/special_elements/bl/hybrid_control.py:168: RankWarning: Polyfit may be poorly conditioned\n",
       "  hy_readfiles(input_parameters, calculation_parameters)\t#Read shadow output files needed by HYBRID\n",
       "100%|██████████| 1/1 [00:53<00:00, 53.77s/it]\n"
      ]
     },
     "metadata": {},
     "output_type": "display_data"
    },
    {
     "data": {
      "text/plain": [
       "[stderr:1] 100%|██████████| 1/1 [00:40<00:00, 40.65s/it]\n"
      ]
     },
     "metadata": {},
     "output_type": "display_data"
    },
    {
     "data": {
      "text/plain": [
       "[stderr:3] 100%|██████████| 1/1 [00:28<00:00, 28.35s/it]\n"
      ]
     },
     "metadata": {},
     "output_type": "display_data"
    },
    {
     "data": {
      "text/plain": [
       "[stderr:0] 100%|██████████| 1/1 [00:31<00:00, 31.29s/it]\n"
      ]
     },
     "metadata": {},
     "output_type": "display_data"
    },
    {
     "data": {
      "text/plain": [
       "[stdout:0] Initial motor positions are [0.09666443]\n",
       "Initial loss is 0.09641166181973959\n",
       "initial guess is [-0.11091503]\n",
       "Test 0 success True\n"
      ]
     },
     "metadata": {},
     "output_type": "display_data"
    },
    {
     "data": {
      "text/plain": [
       "[stdout:2] Initial motor positions are [0.03663923]\n",
       "Initial loss is 0.036573898383821135\n",
       "initial guess is [0.1311414]\n",
       "Initial loss is 0.036573898383821135\n",
       "initial guess is [0.01119911]\n",
       "Test 0 success True\n"
      ]
     },
     "metadata": {},
     "output_type": "display_data"
    },
    {
     "data": {
      "text/plain": [
       "[stdout:1] Initial motor positions are [0.00715946]\n",
       "Initial loss is 0.007222521064733849\n",
       "initial guess is [-0.12097998]\n",
       "Test 0 success True\n"
      ]
     },
     "metadata": {},
     "output_type": "display_data"
    },
    {
     "data": {
      "text/plain": [
       "[stdout:3] Initial motor positions are [-0.09857697]\n",
       "Initial loss is 0.09837007039132002\n",
       "initial guess is [0.08428886]\n",
       "Test 0 success True\n"
      ]
     },
     "metadata": {},
     "output_type": "display_data"
    },
    {
     "name": "stdout",
     "output_type": "stream",
     "text": [
      "%px: 100%|██████████| 4/4 [00:51<00:00, 12.96s/tasks]\n"
     ]
    }
   ],
   "source": [
    "%%px \n",
    "initial_centroids = []\n",
    "initial_out_beams = []\n",
    "absolute_movements = []\n",
    "\n",
    "start_guesses = []\n",
    "overall_successes = []\n",
    "final_centroids = []\n",
    "final_out_beams = []\n",
    "opt_results_all = []\n",
    "\n",
    "min_trans = -0.14\n",
    "max_trans = 0.14\n",
    "\n",
    "for outer in tqdm(range(1)):\n",
    "    translations = np.random.uniform(min_trans, max_trans, size=1)\n",
    "    test_absolute_movements = initial_absolute_positions + translations\n",
    "    print(\"Initial motor positions are\", test_absolute_movements)\n",
    "    absolute_movements.append(test_absolute_movements)\n",
    "    \n",
    "    focusing_system = movers.move_motors(focusing_system, move_motors, \n",
    "                                         test_absolute_movements,\n",
    "                                         movement='absolute')\n",
    "    centroid, out_beam, hist, dw = opt_common.get_centroid_distance(focusing_system, random_seed=DEFAULT_RANDOM_SEED)\n",
    "    \n",
    "    initial_centroids.append(centroid)\n",
    "    initial_out_beams.append(out_beam)\n",
    "    \n",
    "    opt_trial = opt_common.OptimizationCommon(focusing_system, \n",
    "                                          motor_types=move_motors, \n",
    "                                          initial_motor_positions=test_absolute_movements, \n",
    "                                          random_seed=DEFAULT_RANDOM_SEED)\n",
    "    \n",
    "    opt_results, guesses, solution, success = opt_trial.trials(verbose=False, guess_min=min_trans, guess_max=max_trans)\n",
    "    focusing_system = opt_trial.focusing_system\n",
    "    opt_results_all.append(opt_results)\n",
    "    \n",
    "    start_guesses.append(guesses)\n",
    "    overall_successes.append(success)\n",
    "    centroid, out_beam, *_ = opt_common.get_centroid_distance(focusing_system, random_seed=DEFAULT_RANDOM_SEED)\n",
    "    final_centroids.append(centroid)\n",
    "    final_out_beams.append(out_beam)\n",
    "    print(f'Test {outer} success {success}')"
   ]
  },
  {
   "cell_type": "code",
   "execution_count": 34,
   "id": "f917d91e-210b-443b-9307-faab63c6a43d",
   "metadata": {},
   "outputs": [],
   "source": [
    "%px absolute_movements = MPI.COMM_WORLD.gather(absolute_movements)"
   ]
  },
  {
   "cell_type": "code",
   "execution_count": 44,
   "id": "2674f8b5-fe7a-4104-a357-513c8c86e0d5",
   "metadata": {},
   "outputs": [],
   "source": [
    "%%px\n",
    "sendbuf = None\n",
    "if rank == 0:\n",
    "    sendbuf = np.array(absolute_movements)\n",
    "    \n",
    "recvbuf = np.empty(1)\n",
    "MPI.COMM_WORLD.Scatter(sendbuf, recvbuf, root=0)"
   ]
  },
  {
   "cell_type": "code",
   "execution_count": 52,
   "id": "ba5a1328-4e45-46b1-9d56-08f58723e528",
   "metadata": {},
   "outputs": [],
   "source": [
    "%%px\n",
    "absolute_movements = np.empty(4)\n",
    "MPI.COMM_WORLD.Gather(recvbuf, absolute_movements, root=0)"
   ]
  },
  {
   "cell_type": "code",
   "execution_count": 53,
   "id": "8d289ac3-9ca0-46cb-8fd3-db61e17aee9d",
   "metadata": {},
   "outputs": [
    {
     "data": {
      "text/plain": [
       "[stdout:0] [0.09666443] [ 0.09666443  0.00715946  0.03663923 -0.09857697]\n"
      ]
     },
     "metadata": {},
     "output_type": "display_data"
    },
    {
     "data": {
      "text/plain": [
       "[stdout:2] [0.03663923] [45.12669836 44.79343723 48.10218485 44.21614995]\n"
      ]
     },
     "metadata": {},
     "output_type": "display_data"
    },
    {
     "data": {
      "text/plain": [
       "[stdout:3] [-0.09857697] [45.12582566 45.31459505 47.58268951 44.21613378]\n"
      ]
     },
     "metadata": {},
     "output_type": "display_data"
    },
    {
     "data": {
      "text/plain": [
       "[stdout:1] [0.00715946] [44.8318965  44.43958139 48.45648057 44.21621856]\n"
      ]
     },
     "metadata": {},
     "output_type": "display_data"
    }
   ],
   "source": [
    "%%px\n",
    "print(recvbuf, absolute_movements)"
   ]
  },
  {
   "cell_type": "code",
   "execution_count": 41,
   "id": "41f147e0-f63b-412c-98be-36f4e1f202a7",
   "metadata": {},
   "outputs": [
    {
     "data": {
      "text/plain": [
       "[stdout:2] None\n"
      ]
     },
     "metadata": {},
     "output_type": "display_data"
    },
    {
     "data": {
      "text/plain": [
       "[stdout:1] None\n"
      ]
     },
     "metadata": {},
     "output_type": "display_data"
    },
    {
     "data": {
      "text/plain": [
       "[stdout:3] None\n"
      ]
     },
     "metadata": {},
     "output_type": "display_data"
    },
    {
     "data": {
      "text/plain": [
       "[stdout:0] [[array([0.09666443])], [array([0.00715946])], [array([0.03663923])], [array([-0.09857697])]]\n"
      ]
     },
     "metadata": {},
     "output_type": "display_data"
    }
   ],
   "source": [
    "%%px\n",
    "print(absolute_movements)"
   ]
  },
  {
   "cell_type": "code",
   "execution_count": 30,
   "id": "ea564fdf-5aec-4b87-a86d-d56a4f37aece",
   "metadata": {},
   "outputs": [],
   "source": [
    "%%px\n",
    "movements_mpi = MPI.COMM_WORLD.gather(absolute_movements)\n",
    "opt_results_all_mpi = MPI.COMM_WORLD.gather(opt_results_all)"
   ]
  },
  {
   "cell_type": "code",
   "execution_count": 31,
   "id": "bbaa0972-ce1e-4473-99a8-629d02dd4614",
   "metadata": {},
   "outputs": [
    {
     "data": {
      "text/plain": [
       "\u001b[0;31mOut[0:23]: \u001b[0m\n",
       "[[[ final_simplex: (array([[-0.09668238],\n",
       "          [-0.09661739]]), array([0.00013461, 0.00017186]))\n",
       "              fun: 0.00013460594840493964\n",
       "          message: 'Optimization terminated successfully.'\n",
       "             nfev: 14\n",
       "              nit: 7\n",
       "           status: 0\n",
       "          success: True\n",
       "                x: array([-0.09668238])]],\n",
       " [[ final_simplex: (array([[-0.00718909],\n",
       "          [-0.00713593]]), array([0.00013026, 0.00015626]))\n",
       "              fun: 0.00013026281909920027\n",
       "          message: 'Optimization terminated successfully.'\n",
       "             nfev: 20\n",
       "              nit: 10\n",
       "           status: 0\n",
       "          success: True\n",
       "                x: array([-0.00718909])]],\n",
       " [[ final_simplex: (array([[0.1311414],\n",
       "          [0.1311414]]), array([0.13337013, 0.13337013]))\n",
       "              fun: 0.1333701263469785\n",
       "          message: 'Optimization terminated successfully.'\n",
       "             nfev: 5\n",
       "              nit: 2\n",
       "           status: 0\n",
       "          success: True\n",
       "                x: array([0.1311414]),\n",
       "    final_simplex: (array([[-0.03668364],\n",
       "          [-0.03662459]]), array([0.00012614, 0.00015095]))\n",
       "              fun: 0.00012614180666263916\n",
       "          message: 'Optimization terminated successfully.'\n",
       "             nfev: 22\n",
       "              nit: 11\n",
       "           status: 0\n",
       "          success: True\n",
       "                x: array([-0.03668364])]],\n",
       " [[ final_simplex: (array([[0.09852907],\n",
       "          [0.09857846]]), array([0.0001254, 0.0001437]))\n",
       "              fun: 0.0001254016072590942\n",
       "          message: 'Optimization terminated successfully.'\n",
       "             nfev: 12\n",
       "              nit: 6\n",
       "           status: 0\n",
       "          success: True\n",
       "                x: array([0.09852907])]]]"
      ]
     },
     "metadata": {
      "after": null,
      "completed": null,
      "data": {},
      "engine_id": 0,
      "engine_uuid": "e73e4ab0-6c1c0cbc4841d488e55dab44",
      "error": null,
      "execute_input": "opt_results_all_mpi\n",
      "execute_result": {
       "data": {
        "text/plain": "[[[ final_simplex: (array([[-0.09668238],\n          [-0.09661739]]), array([0.00013461, 0.00017186]))\n              fun: 0.00013460594840493964\n          message: 'Optimization terminated successfully.'\n             nfev: 14\n              nit: 7\n           status: 0\n          success: True\n                x: array([-0.09668238])]],\n [[ final_simplex: (array([[-0.00718909],\n          [-0.00713593]]), array([0.00013026, 0.00015626]))\n              fun: 0.00013026281909920027\n          message: 'Optimization terminated successfully.'\n             nfev: 20\n              nit: 10\n           status: 0\n          success: True\n                x: array([-0.00718909])]],\n [[ final_simplex: (array([[0.1311414],\n          [0.1311414]]), array([0.13337013, 0.13337013]))\n              fun: 0.1333701263469785\n          message: 'Optimization terminated successfully.'\n             nfev: 5\n              nit: 2\n           status: 0\n          success: True\n                x: array([0.1311414]),\n    final_simplex: (array([[-0.03668364],\n          [-0.03662459]]), array([0.00012614, 0.00015095]))\n              fun: 0.00012614180666263916\n          message: 'Optimization terminated successfully.'\n             nfev: 22\n              nit: 11\n           status: 0\n          success: True\n                x: array([-0.03668364])]],\n [[ final_simplex: (array([[0.09852907],\n          [0.09857846]]), array([0.0001254, 0.0001437]))\n              fun: 0.0001254016072590942\n          message: 'Optimization terminated successfully.'\n             nfev: 12\n              nit: 6\n           status: 0\n          success: True\n                x: array([0.09852907])]]]"
       },
       "execution_count": 23,
       "metadata": {}
      },
      "follow": null,
      "msg_id": null,
      "outputs": [],
      "received": null,
      "started": null,
      "status": null,
      "stderr": "",
      "stdout": "",
      "submitted": "2022-03-20T22:58:49.005757Z"
     },
     "output_type": "display_data"
    }
   ],
   "source": [
    "%%px --targets 0\n",
    "opt_results_all_mpi"
   ]
  },
  {
   "cell_type": "code",
   "execution_count": 54,
   "id": "7eb54e67-6240-449e-ac5e-6e4c4d7f5547",
   "metadata": {},
   "outputs": [
    {
     "name": "stdout",
     "output_type": "stream",
     "text": [
      "gaussian_process_vkb_4_hkb_4.ipynb  scrap.ipynb\n",
      "hkb_3_opt.ipynb\t\t\t    test_all_motors_clean.ipynb\n",
      "hkb_4_gp_domain_kernel_tests.ipynb  test_all_motors.ipynb\n",
      "hkb_4_opt.ipynb\t\t\t    untitled.py\n",
      "hkb_4_vkb_4.ipynb\t\t    vkb_3_opt.ipynb\n",
      "hkb_q_opt.ipynb\t\t\t    vkb_4_opt.ipynb\n",
      "parallel_test_loss_function.ipynb   vkb_q_hkb_q.ipynb\n",
      "readme.md\t\t\t    vkb_q.ipynb\n",
      "run_focusing_system.ipynb\n"
     ]
    }
   ],
   "source": [
    "!ls"
   ]
  },
  {
   "cell_type": "code",
   "execution_count": null,
   "id": "d2136b5e-29d6-4fb0-912d-506c84528a0e",
   "metadata": {},
   "outputs": [],
   "source": []
  }
 ],
 "metadata": {
  "kernelspec": {
   "display_name": "Python 3.8.10 64-bit",
   "language": "python",
   "name": "python3"
  },
  "language_info": {
   "codemirror_mode": {
    "name": "ipython",
    "version": 3
   },
   "file_extension": ".py",
   "mimetype": "text/x-python",
   "name": "python",
   "nbconvert_exporter": "python",
   "pygments_lexer": "ipython3",
   "version": "3.8.10"
  },
  "vscode": {
   "interpreter": {
    "hash": "319abe4fc19b2f1354c1cc304b9df29b270660cb23fbbb403dd6b55d10b33a89"
   }
  }
 },
 "nbformat": 4,
 "nbformat_minor": 5
}
