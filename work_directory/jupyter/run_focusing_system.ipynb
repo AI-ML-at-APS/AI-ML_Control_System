{
 "cells": [
  {
   "cell_type": "code",
   "execution_count": 1,
   "id": "47552c43-e5f5-450f-ab54-35364dae03ae",
   "metadata": {},
   "outputs": [],
   "source": [
    "%load_ext autoreload\n",
    "%autoreload 2"
   ]
  },
  {
   "cell_type": "code",
   "execution_count": 2,
   "id": "7811e733-b733-4bcf-9c8d-6f2f6dcc51d8",
   "metadata": {},
   "outputs": [],
   "source": [
    "import os\n",
    "\n",
    "from beamline34IDC.simulation.focusing_optics_system import FocusingOpticsSystem, Movement\n",
    "from beamline34IDC.util.common import PreProcessorFiles, plot_shadow_beam_spatial_distribution, load_shadow_beam, get_hybrid_input_parameters\n",
    "from beamline34IDC.util import clean_up"
   ]
  },
  {
   "cell_type": "code",
   "execution_count": 3,
   "id": "988dc490-fdf4-46cd-b00e-3c69aa4d98c2",
   "metadata": {},
   "outputs": [],
   "source": [
    "from orangecontrib.shadow.util.shadow_objects import ShadowBeam, ShadowOpticalElement\n",
    "from orangecontrib.shadow.util.shadow_util import ShadowPhysics"
   ]
  },
  {
   "cell_type": "code",
   "execution_count": 4,
   "id": "e6309444-5df4-4a53-a3bc-c9ef43cdcf82",
   "metadata": {},
   "outputs": [],
   "source": [
    "clean_up()"
   ]
  },
  {
   "cell_type": "code",
   "execution_count": 5,
   "id": "d2d103c2-ba23-4f76-baa8-53fad8366b22",
   "metadata": {},
   "outputs": [],
   "source": [
    "input_beam = load_shadow_beam(\"primary_optics_system_beam.dat\")"
   ]
  },
  {
   "cell_type": "code",
   "execution_count": 6,
   "id": "f724ddcd-d22b-4fb8-8f89-3dff885dc890",
   "metadata": {},
   "outputs": [],
   "source": [
    "# Focusing Optics System -------------------------\n",
    "\n",
    "focusing_system = FocusingOpticsSystem()\n",
    "\n",
    "focusing_system.initialize(input_beam=input_beam,\n",
    "                           rewrite_preprocessor_files=PreProcessorFiles.NO,\n",
    "                           rewrite_height_error_profile_files=False)"
   ]
  },
  {
   "cell_type": "code",
   "execution_count": 7,
   "id": "12bc1a4a-e82c-442e-92c5-2978aca9384d",
   "metadata": {},
   "outputs": [],
   "source": [
    "# ----------------------------------------------------------------\n",
    "# perturbation of the incident beam to make adjustements necessary\n",
    "\n",
    "focusing_system.perturbate_input_beam(shift_h=0.0, shift_v=0.0)"
   ]
  },
  {
   "cell_type": "markdown",
   "id": "c22580ba-409f-4bf0-adb6-52c704b91592",
   "metadata": {},
   "source": [
    "##### Running the focusing_system.get_beam function results in the jupyter kernel crashing."
   ]
  },
  {
   "cell_type": "code",
   "execution_count": 8,
   "id": "110fc203-1858-4e8c-8003-544e0f518fbd",
   "metadata": {},
   "outputs": [],
   "source": [
    "# output_beam = focusing_system.get_beam(verbose=False, near_field_calculation=False, debug_mode=False)"
   ]
  },
  {
   "cell_type": "markdown",
   "id": "568760fb-4f06-4659-a158-fd60ab9f3a54",
   "metadata": {},
   "source": [
    "##### The code in focusing_system.get_beam looks like this:\n",
    "```Python\n",
    "def get_beam(self, verbose=False, **kwargs):\n",
    "        if self.__input_beam is None: raise ValueError(\"Focusing Optical System is not initialized\")\n",
    "\n",
    "        try: debug_mode = kwargs[\"debug_mode\"]\n",
    "        except: debug_mode = False\n",
    "\n",
    "        try: near_field_calculation = kwargs[\"near_field_calculation\"]\n",
    "        except: near_field_calculation = False\n",
    "\n",
    "        run_all = self.__modified_elements == [] or len(self.__modified_elements) == 3\n",
    "\n",
    "        if run_all or self.__coherence_slits in self.__modified_elements:\n",
    "            # HYBRID CORRECTION TO CONSIDER DIFFRACTION FROM SLITS\n",
    "            output_beam = ShadowBeam.traceFromOE(self.__input_beam.duplicate(), self.__coherence_slits.duplicate(), widget_class_name=\"ScreenSlits\")\n",
    "            output_beam = hybrid_control.hy_run(get_hybrid_input_parameters(output_beam,\n",
    "                                                                            diffraction_plane=4,  # BOTH 1D+1D (3 is 2D)\n",
    "                                                                            calcType=1,  # Diffraction by Simple Aperture\n",
    "                                                                            verbose=verbose)).ff_beam\n",
    "\n",
    "\n",
    "            if debug_mode: plot_shadow_beam_spatial_distribution(output_beam, title=\"Coherence Slits\", xrange=None, yrange=None)\n",
    "\n",
    "            self.__slits_beam = output_beam.duplicate()\n",
    "\n",
    "        if run_all or self.__vkb in self.__modified_elements:\n",
    "            output_beam = ShadowBeam.traceFromOE(self.__slits_beam.duplicate(), self.__vkb.duplicate(), widget_class_name=\"EllypticalMirror\")\n",
    "\n",
    "            if not near_field_calculation:\n",
    "                output_beam = hybrid_control.hy_run(get_hybrid_input_parameters(output_beam,\n",
    "                                                                                diffraction_plane=2,  # Tangential\n",
    "                                                                                calcType=3,  # Diffraction by Mirror Size + Errors\n",
    "                                                                                verbose=verbose)).ff_beam\n",
    "            else:\n",
    "                output_beam = hybrid_control.hy_run(get_hybrid_input_parameters(output_beam,\n",
    "                                                                                diffraction_plane=2,  # Tangential\n",
    "                                                                                calcType=3,  # Diffraction by Mirror Size + Errors\n",
    "                                                                                nf=1,\n",
    "                                                                                focal_length=self.__vkb._oe.SIMAG, # at focus\n",
    "                                                                                image_distance=self.__vkb._oe.SIMAG, # at focus\n",
    "                                                                                verbose=verbose)).nf_beam\n",
    "                output_beam._beam.retrace(self.__vkb._oe.T_IMAGE - self.__vkb._oe.SIMAG)\n",
    "\n",
    "            if debug_mode: plot_shadow_beam_spatial_distribution(output_beam, title=\"VKB\", xrange=None, yrange=None)\n",
    "\n",
    "            self.__vkb_beam = output_beam\n",
    "\n",
    "        if run_all or self.__hkb in self.__modified_elements:\n",
    "            output_beam = ShadowBeam.traceFromOE(self.__vkb_beam.duplicate(), self.__hkb.duplicate(), widget_class_name=\"EllypticalMirror\")\n",
    "\n",
    "            if not near_field_calculation:\n",
    "                output_beam = hybrid_control.hy_run(get_hybrid_input_parameters(output_beam,\n",
    "                                                                                diffraction_plane=2,  # Tangential\n",
    "                                                                                calcType=3,  # Diffraction by Mirror Size + Errors\n",
    "                                                                                verbose=verbose)).ff_beam\n",
    "            else:\n",
    "                output_beam = hybrid_control.hy_run(get_hybrid_input_parameters(output_beam,\n",
    "                                                                                diffraction_plane=2,  # Tangential\n",
    "                                                                                calcType=3,  # Diffraction by Mirror Size + Errors\n",
    "                                                                                nf=1,\n",
    "                                                                                verbose=verbose)).nf_beam\n",
    "\n",
    "            if debug_mode: plot_shadow_beam_spatial_distribution(output_beam, title=\"HKB\", xrange=None, yrange=None)\n",
    "\n",
    "            self.__hkb_beam = output_beam\n",
    "\n",
    "        # after every run, we assume to start again from scratch\n",
    "        self.__modified_elements = []\n",
    "\n",
    "        return rotate_axis_system(output_beam, rotation_angle=270.0)\n",
    " ```\n",
    " \n",
    " To try to diagnose where it fails, I am running it step by step below:"
   ]
  },
  {
   "cell_type": "code",
   "execution_count": 9,
   "id": "32cab91c-f09d-4a49-8fd5-55e7b90a2eeb",
   "metadata": {},
   "outputs": [
    {
     "name": "stdout",
     "output_type": "stream",
     "text": [
      " Call to RESET\n",
      " Exit from RESET\n",
      " Call to SETSOUR\n",
      " Exit from SETSOUR\n",
      " Call to IMREF\n",
      " Exit from IMREF\n",
      " Call to OPTAXIS\n",
      " Exit from OPTAXIS\n",
      " Call to MSETUP\n",
      " Exit from MSETUP\n",
      " Call to RESTART\n",
      " Exit from RESTART\n",
      " Call to MIRROR\n",
      " MIRROR1: Warning: Empty element (no mirr.xx file)\n",
      " Call to SCREEN\n",
      " Exit from SCREEN\n",
      " Call to IMAGE\n",
      " Exit from IMAGE\n",
      " Call to DEALLOC\n",
      " Exit from DEALLOC\n"
     ]
    }
   ],
   "source": [
    "output_beam = ShadowBeam.traceFromOE(focusing_system._FocusingOpticsSystem__input_beam.duplicate(),\n",
    "                                     focusing_system._FocusingOpticsSystem__coherence_slits.duplicate(), widget_class_name=\"ScreenSlits\")"
   ]
  },
  {
   "cell_type": "code",
   "execution_count": 10,
   "id": "e6f375ce-7c6d-429b-b5a0-2a03d5234adf",
   "metadata": {},
   "outputs": [],
   "source": [
    "\n",
    "from orangecontrib.shadow.widgets.special_elements.bl import hybrid_control"
   ]
  },
  {
   "cell_type": "code",
   "execution_count": 11,
   "id": "5cc19a3f-062d-4688-adbc-0e900dde2bf6",
   "metadata": {},
   "outputs": [
    {
     "name": "stdout",
     "output_type": "stream",
     "text": [
      " Call to RESET\n",
      " Exit from RESET\n",
      " Call to SETSOUR\n",
      " Exit from SETSOUR\n",
      " Call to IMREF\n",
      " Exit from IMREF\n",
      " Call to OPTAXIS\n",
      " Exit from OPTAXIS\n",
      " Call to MSETUP\n",
      " Exit from MSETUP\n",
      " Call to RESTART\n",
      " Exit from RESTART\n",
      " Call to MIRROR\n",
      " MIRROR1: Warning: Empty element (no mirr.xx file)\n",
      " Call to SCREEN\n",
      " Exit from SCREEN\n",
      " Call to SCREEN\n",
      " Exit from SCREEN\n",
      " Call to IMAGE\n",
      " Exit from IMAGE\n",
      " Call to DEALLOC\n",
      " Exit from DEALLOC\n"
     ]
    }
   ],
   "source": [
    "output_beam = hybrid_control.hy_run(get_hybrid_input_parameters(output_beam,\n",
    "                                                                            diffraction_plane=4,  # BOTH 1D+1D (3 is 2D)\n",
    "                                                                            calcType=1,  # Diffraction by Simple Aperture\n",
    "                                                                            verbose=False)).ff_beam"
   ]
  },
  {
   "cell_type": "code",
   "execution_count": 12,
   "id": "fb305f2d-1136-47de-8a11-482fa73e3a3a",
   "metadata": {},
   "outputs": [],
   "source": [
    "focusing_system._FocusingOpticsSystem__slits_beam = output_beam.duplicate()"
   ]
  },
  {
   "cell_type": "code",
   "execution_count": null,
   "id": "a3a3d1f1-f84c-43f3-acf3-8e19bc0ab486",
   "metadata": {},
   "outputs": [],
   "source": []
  },
  {
   "cell_type": "code",
   "execution_count": null,
   "id": "9070e4a1-684b-41f8-8312-49e6c45e80ca",
   "metadata": {},
   "outputs": [],
   "source": [
    "# This is where it crashes the kernel\n",
    "output_beam = ShadowBeam.traceFromOE(focusing_system._FocusingOpticsSystem__slits_beam.duplicate(), \n",
    "                                     focusing_system._FocusingOpticsSystem__vkb.duplicate(), \n",
    "                                     widget_class_name=\"EllypticalMirror\")"
   ]
  },
  {
   "cell_type": "code",
   "execution_count": null,
   "id": "96d63b76-6393-49e4-bcb9-067749367af8",
   "metadata": {},
   "outputs": [],
   "source": []
  }
 ],
 "metadata": {
  "kernelspec": {
   "display_name": "oasys",
   "language": "python",
   "name": "oasys"
  },
  "language_info": {
   "codemirror_mode": {
    "name": "ipython",
    "version": 3
   },
   "file_extension": ".py",
   "mimetype": "text/x-python",
   "name": "python",
   "nbconvert_exporter": "python",
   "pygments_lexer": "ipython3",
   "version": "3.7.10"
  }
 },
 "nbformat": 4,
 "nbformat_minor": 5
}
