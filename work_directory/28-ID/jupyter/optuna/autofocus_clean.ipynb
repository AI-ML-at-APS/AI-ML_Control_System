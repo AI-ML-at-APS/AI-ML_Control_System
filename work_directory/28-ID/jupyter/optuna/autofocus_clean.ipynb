{
 "cells": [
  {
   "cell_type": "markdown",
   "id": "caa92bcf-fd1a-438c-a89a-f4c2e1b7bca9",
   "metadata": {
    "tags": []
   },
   "source": [
    "# Autofocus\n"
   ]
  },
  {
   "cell_type": "code",
   "execution_count": 1,
   "id": "a723c339-367b-4ed4-9da1-3367aa810e3a",
   "metadata": {},
   "outputs": [],
   "source": [
    "%load_ext autoreload\n",
    "%autoreload 2"
   ]
  },
  {
   "cell_type": "code",
   "execution_count": 80,
   "id": "29795e4c-58c6-4c54-acac-6e1ebb1457fd",
   "metadata": {
    "tags": []
   },
   "outputs": [],
   "source": [
    "import os\n",
    "import shutil\n",
    "from pathlib import Path\n",
    "\n",
    "import aps\n",
    "import aps.ai.autoalignment.beamline28IDB.optimization.common as opt_common\n",
    "import aps.ai.autoalignment.beamline28IDB.optimization.configs as configs\n",
    "import aps.ai.autoalignment.beamline28IDB.optimization.movers as movers\n",
    "import joblib\n",
    "import matplotlib.pyplot as plt\n",
    "import numpy as np\n",
    "import optuna\n",
    "from aps.ai.autoalignment.beamline28IDB.facade.focusing_optics_factory import (\n",
    "    ExecutionMode,\n",
    "    focusing_optics_factory_method,\n",
    ")\n",
    "from aps.ai.autoalignment.beamline28IDB.optimization.optuna_botorch import OptunaOptimizer\n",
    "from aps.ai.autoalignment.beamline28IDB.simulation.facade.focusing_optics_interface import (\n",
    "    Layout,\n",
    "    get_default_input_features,\n",
    ")\n",
    "from aps.ai.autoalignment.common.simulation.facade.parameters import Implementors\n",
    "from aps.ai.autoalignment.common.util import clean_up\n",
    "from aps.ai.autoalignment.common.util.common import AspectRatio, ColorMap, PlotMode\n",
    "from aps.ai.autoalignment.common.util.shadow.common import (\n",
    "    EmptyBeamException,\n",
    "    HybridFailureException,\n",
    "    PreProcessorFiles,\n",
    "    load_shadow_beam,\n",
    ")\n",
    "from aps.ai.autoalignment.common.util.wrappers import get_distribution_info, load_beam, plot_distribution\n",
    "from datetime import datetime\n",
    "import joblib\n",
    "\n",
    "%matplotlib inline"
   ]
  },
  {
   "cell_type": "code",
   "execution_count": 3,
   "id": "e0896a8c-12e7-4d35-9546-b7f654369e76",
   "metadata": {},
   "outputs": [],
   "source": [
    "def select_best_trial_params(trials):\n",
    "    rms_metrics = []\n",
    "    for t in trials:\n",
    "        vals = t.values\n",
    "        rms_metrics.append(np.sum(np.array(vals) ** 2) ** 0.5)\n",
    "    idx = np.argmin(rms_metrics)\n",
    "    return trials[idx].params, trials[idx].values"
   ]
  },
  {
   "cell_type": "code",
   "execution_count": 4,
   "id": "d80ab6c2-371c-403c-8409-959d32d48728",
   "metadata": {},
   "outputs": [],
   "source": [
    "root_dir = Path(aps.__path__[0]).parents[0]\n",
    "work_dir = root_dir / \"work_directory/28-ID\"\n",
    "os.chdir(work_dir)"
   ]
  },
  {
   "cell_type": "code",
   "execution_count": 5,
   "id": "97c0eed0-e6e4-4ae3-a98a-e3efcca3ece4",
   "metadata": {},
   "outputs": [],
   "source": [
    "input_beam_path = \"primary_optics_system_beam.dat\""
   ]
  },
  {
   "cell_type": "code",
   "execution_count": 6,
   "id": "28066084-7a15-4c23-8866-ba58a06a9924",
   "metadata": {},
   "outputs": [
    {
     "name": "stdout",
     "output_type": "stream",
     "text": [
      "60650\n"
     ]
    }
   ],
   "source": [
    "plot_mode = PlotMode.INTERNAL\n",
    "aspect_ratio = AspectRatio.AUTO\n",
    "color_map = ColorMap.VIRIDIS\n",
    "DEFAULT_RANDOM_SEED = np.random.randint(100000)\n",
    "print(DEFAULT_RANDOM_SEED)"
   ]
  },
  {
   "cell_type": "code",
   "execution_count": 7,
   "id": "11555a5a-bc78-48eb-adfe-97b0126ca85a",
   "metadata": {},
   "outputs": [],
   "source": [
    "move_motors_ranges = {\n",
    "    \"hb_1\": [-200, 200],  # in V\n",
    "    \"hb_2\": [-200, 200],  # in V\n",
    "    \"hb_pitch\": [-0.02, 0.02],  # in mrad\n",
    "    \"hb_trans\": [-50, 50],  # in microns\n",
    "    \"vb_bender\": [-800, 900],  # in volt\n",
    "    \"vb_pitch\": [-0.02, 0.02],  # in mrad\n",
    "    \"vb_trans\": [-50, 50],  # in microns\n",
    "}"
   ]
  },
  {
   "cell_type": "code",
   "execution_count": null,
   "id": "b8fe0ad1-07e0-462a-9689-78f7d98ed499",
   "metadata": {},
   "outputs": [],
   "source": []
  },
  {
   "cell_type": "code",
   "execution_count": 8,
   "id": "8cb03682-aa8a-4b4e-984f-f6290bebb559",
   "metadata": {},
   "outputs": [],
   "source": []
  },
  {
   "cell_type": "code",
   "execution_count": 9,
   "id": "d32386ab-3da2-485a-a74b-72bdd4add8b5",
   "metadata": {},
   "outputs": [],
   "source": []
  },
  {
   "cell_type": "code",
   "execution_count": 29,
   "id": "e42975d1-edc3-4660-b415-ea0e0513cd30",
   "metadata": {},
   "outputs": [
    {
     "name": "stdout",
     "output_type": "stream",
     "text": [
      "Simulation parameters are:\n",
      "{'xrange': [-0.7020000000000001, 0.7020000000000001], 'yrange': [-0.8320000000000001, 0.8320000000000001], 'nbins_h': 1024, 'nbins_v': 1024, 'do_gaussian_fit': False, 'implementor': 0, 'random_seed': 60650}\n"
     ]
    }
   ],
   "source": [
    "print(\"Simulation parameters:\")\n",
    "print(exp_params)"
   ]
  },
  {
   "cell_type": "code",
   "execution_count": 30,
   "id": "59f6981b-a8ac-4305-9b43-e4a82dec59a0",
   "metadata": {},
   "outputs": [
    {
     "name": "stdout",
     "output_type": "stream",
     "text": [
      "motors and movement ranges:\n",
      "{'hb_1': [-200, 200], 'hb_2': [-200, 200], 'hb_pitch': [-0.02, 0.02], 'hb_trans': [-50, 50], 'vb_bender': [-800, 900], 'vb_pitch': [-0.02, 0.02], 'vb_trans': [-50, 50]}\n"
     ]
    }
   ],
   "source": [
    "print(\"motors and movement ranges:\")\n",
    "print(move_motors_ranges)"
   ]
  },
  {
   "cell_type": "code",
   "execution_count": 10,
   "id": "3d3a7af7-72e5-4d4a-b948-5a36a07dd82d",
   "metadata": {},
   "outputs": [],
   "source": [
    "input_features = get_default_input_features(layout=Layout.AUTO_FOCUSING)\n",
    "focusing_system = opt_common.reinitialize(\n",
    "    input_beam_path=input_beam_path, input_features=input_features, layout=Layout.AUTO_FOCUSING\n",
    ")"
   ]
  },
  {
   "cell_type": "code",
   "execution_count": 11,
   "id": "a8718752-33b0-44a5-ac34-a1009073f935",
   "metadata": {},
   "outputs": [],
   "source": [
    "clean_up()\n",
    "input_beam = load_shadow_beam(input_beam_path)\n",
    "\n",
    "focusing_system = focusing_optics_factory_method(\n",
    "    execution_mode=ExecutionMode.SIMULATION,\n",
    "    implementor=Implementors.SHADOW,\n",
    "    bender=True,\n",
    ")\n",
    "\n",
    "focusing_system.initialize(\n",
    "    input_photon_beam=input_beam,\n",
    "    rewrite_preprocessor_files=PreProcessorFiles.NO,\n",
    "    layout=Layout.AUTO_FOCUSING,\n",
    "    input_features=input_features,\n",
    ")"
   ]
  },
  {
   "cell_type": "code",
   "execution_count": 12,
   "id": "dc220364-792c-4907-92a4-5593b1dd750c",
   "metadata": {},
   "outputs": [
    {
     "name": "stdout",
     "output_type": "stream",
     "text": [
      "write_shadow_surface: File for SHADOW /Users/skandel/code/oasys/AI-ML_Control_System/work_directory/28-ID/Upstream_HKB_bender_profile.dat written to disk.\n",
      "write_shadow_surface: File for SHADOW /Users/skandel/code/oasys/AI-ML_Control_System/work_directory/28-ID/Downstream_HKB_bender_profile.dat written to disk.\n"
     ]
    }
   ],
   "source": [
    "beam, hist, dw = opt_common.get_beam_hist_dw(focusing_system=focusing_system, photon_beam=None, **exp_params)"
   ]
  },
  {
   "cell_type": "raw",
   "id": "e2b0d87a-e5b2-49ac-bf2b-9119fb62cd70",
   "metadata": {},
   "source": [
    "plot_distribution(\n",
    "    beam=beam, title=\"Initial Beam\", plot_mode=plot_mode, aspect_ratio=aspect_ratio, color_map=color_map, **exp_params\n",
    ")"
   ]
  },
  {
   "cell_type": "code",
   "execution_count": 13,
   "id": "61a15c52-9ee5-475a-bc47-6e3a661f4790",
   "metadata": {},
   "outputs": [],
   "source": [
    "centroid_ground, *_ = opt_common.get_centroid_distance(photon_beam=beam, **exp_params)\n",
    "sigma_ground, *_ = opt_common.get_sigma(photon_beam=beam, **exp_params)"
   ]
  },
  {
   "cell_type": "code",
   "execution_count": 20,
   "id": "0d65f279-7ae1-4d03-baff-cd7cce3d6942",
   "metadata": {},
   "outputs": [
    {
     "name": "stdout",
     "output_type": "stream",
     "text": [
      "centroid_ground: 4.907e-04, sigma_ground: 4.280e-03\n"
     ]
    }
   ],
   "source": [
    "print(f\"centroid_ground: {centroid_ground:4.3e}, sigma_ground: {sigma_ground:4.3e}\")"
   ]
  },
  {
   "cell_type": "code",
   "execution_count": 21,
   "id": "32f99cb8-79d6-4409-aa9f-d1c50b27588c",
   "metadata": {},
   "outputs": [
    {
     "name": "stdout",
     "output_type": "stream",
     "text": [
      "{'hb_1': -168.0, 'hb_2': -161.0, 'hb_pitch': 3.0000000000000506, 'hb_trans': 0.0, 'vb_bender': 419.0, 'vb_pitch': 3.0000000000000506, 'vb_trans': 0.0}\n"
     ]
    }
   ],
   "source": [
    "mots = list(move_motors_ranges.keys())\n",
    "initial_absolute_positions = {k: movers.get_absolute_positions(focusing_system, k)[0] for k in mots}\n",
    "print(initial_absolute_positions)"
   ]
  },
  {
   "cell_type": "code",
   "execution_count": 22,
   "id": "2e4537e4-791c-4108-893a-c4abd28a0da7",
   "metadata": {},
   "outputs": [
    {
     "name": "stdout",
     "output_type": "stream",
     "text": [
      "write_shadow_surface: File for SHADOW /Users/skandel/code/oasys/AI-ML_Control_System/work_directory/28-ID/Upstream_HKB_bender_profile.dat written to disk.\n",
      "Random guess [-118.7268670157171, -191.66760073697037, -0.010932246946648379, -35.348001003038796, -518.7483371401597, 0.015831399183874394, -32.765187255199535] produces beam out of bounds. Trying another guess.\n",
      "write_shadow_surface: File for SHADOW /Users/skandel/code/oasys/AI-ML_Control_System/work_directory/28-ID/Upstream_HKB_bender_profile.dat written to disk.\n",
      "write_shadow_surface: File for SHADOW /Users/skandel/code/oasys/AI-ML_Control_System/work_directory/28-ID/Downstream_HKB_bender_profile.dat written to disk.\n",
      "write_shadow_surface: File for SHADOW /Users/skandel/code/oasys/AI-ML_Control_System/work_directory/28-ID/Upstream_HKB_bender_profile.dat written to disk.\n",
      "Random guess [9.289885379647245, -198.97268554447, 0.013300261381974345, -23.369529737319063, 756.687421230924, -0.014122828384928877, -20.89126627749153] produces beam out of bounds. Trying another guess.\n",
      "write_shadow_surface: File for SHADOW /Users/skandel/code/oasys/AI-ML_Control_System/work_directory/28-ID/Upstream_HKB_bender_profile.dat written to disk.\n",
      "Random guess [88.4819308544204, -181.65272380652468, 0.014666731171797055, -42.238381766076515, 251.89251334268488, -0.0053520099746541, -11.919020388706429] produces beam out of bounds. Trying another guess.\n",
      "write_shadow_surface: File for SHADOW /Users/skandel/code/oasys/AI-ML_Control_System/work_directory/28-ID/Upstream_HKB_bender_profile.dat written to disk.\n",
      "write_shadow_surface: File for SHADOW /Users/skandel/code/oasys/AI-ML_Control_System/work_directory/28-ID/Downstream_HKB_bender_profile.dat written to disk.\n",
      "Random initialization is ['hb_1', 'hb_2', 'hb_pitch', 'hb_trans', 'vb_bender', 'vb_pitch', 'vb_trans'] [135.16917904768525, -36.05448803397144, -0.014481142591426997, 41.85642548717669, 90.49112876710194, 0.0017745091189553322, 19.31957193850937]\n"
     ]
    }
   ],
   "source": [
    "initial_movement, focusing_system, (beam, hist, dw) = opt_common.get_random_init(\n",
    "    focusing_system, motor_types_and_ranges=move_motors_ranges, intensity_sum_threshold=6.5e3,**exp_params\n",
    ")"
   ]
  },
  {
   "cell_type": "markdown",
   "id": "9ac326e1-b6d8-47e1-bd07-5467448b15ad",
   "metadata": {},
   "source": [
    "### We can consider this the actual start of the experiment"
   ]
  },
  {
   "cell_type": "code",
   "execution_count": 56,
   "id": "f0df6059-b608-42b2-bcc0-3f2d1f1d1490",
   "metadata": {},
   "outputs": [
    {
     "name": "stdout",
     "output_type": "stream",
     "text": [
      "0.02469957678409063 0.12173953326723234\n"
     ]
    }
   ],
   "source": [
    "focusing_system = movers.move_motors(\n",
    "    focusing_system,\n",
    "    list(move_motors_ranges.keys()),\n",
    "    initial_movement + np.array(list(initial_absolute_positions.values())),\n",
    "    movement=\"absolute\",\n",
    ")\n",
    "\n",
    "centroid_init, beam_init, hist_init, dw_init = opt_common.get_centroid_distance(\n",
    "    focusing_system=focusing_system, **exp_params\n",
    ")\n",
    "sigma_init = opt_common._get_sigma_from_dw(dw_init)\n",
    "print(centroid_init, sigma_init)"
   ]
  },
  {
   "cell_type": "raw",
   "id": "8cdfd457-0a35-471a-a65a-4bc91c380f2c",
   "metadata": {},
   "source": [
    "plot_distribution(\n",
    "    beam=beam_init,\n",
    "    title=\"Perturbed Beam\",\n",
    "    plot_mode=plot_mode,\n",
    "    aspect_ratio=aspect_ratio,\n",
    "    color_map=color_map,\n",
    "    **exp_params\n",
    ")"
   ]
  },
  {
   "cell_type": "code",
   "execution_count": 57,
   "id": "768d142a-f5a7-42e4-bfc9-611679d3fcd7",
   "metadata": {},
   "outputs": [],
   "source": [
    "optimization_params = {\n",
    "    \"sum_intensity_soft_constraint\": 7e3,\n",
    "    \"sum_intensity_hard_constraint\": 6.5e3,\n",
    "    \"centroid_sigma_hard_thresholds_tuple\": [0.025, 0.12],\n",
    "    \"n_pitch_trans_motor_trials\": 50,\n",
    "    \"n_all_motor_trials\": 50,\n",
    "}"
   ]
  },
  {
   "cell_type": "code",
   "execution_count": 58,
   "id": "b1a42b53-524a-4fbf-9c38-c50109af35f9",
   "metadata": {},
   "outputs": [],
   "source": [
    "opt_trial = OptunaOptimizer(\n",
    "    focusing_system,\n",
    "    motor_types=list(move_motors_ranges.keys()),\n",
    "    loss_parameters=[\"centroid\", \"sigma\"],\n",
    "    multi_objective_optimization=True,\n",
    "    **exp_params\n",
    ")"
   ]
  },
  {
   "cell_type": "code",
   "execution_count": 59,
   "id": "9f9156a9-3383-4544-83a6-0b0658a48348",
   "metadata": {},
   "outputs": [
    {
     "name": "stderr",
     "output_type": "stream",
     "text": [
      "\u001b[32m[I 2022-11-15 01:49:41,287]\u001b[0m A new study created in memory with name: no-name-a23343f0-851a-46f8-9df2-1b3526bb3503\u001b[0m\n"
     ]
    }
   ],
   "source": [
    "constraints = {\"sum_intensity\": optimization_params[\"sum_intensity_soft_constraint\"]}\n",
    "moo_thresholds = None\n",
    "if optimization_params[\"centroid_sigma_hard_thresholds_tuple\"] is not None:\n",
    "    moo_thresholds = {\n",
    "        \"centroid\": optimization_params[\"centroid_sigma_hard_thresholds_tuple\"][0],\n",
    "        \"sigma\": optimization_params[\"centroid_sigma_hard_thresholds_tuple\"][1],\n",
    "    }\n",
    "\n",
    "opt_trial.set_optimizer_options(\n",
    "    motor_ranges=list(move_motors_ranges.values()),\n",
    "    raise_prune_exception=True,\n",
    "    use_discrete_space=True,\n",
    "    sum_intensity_threshold=optimization_params[\"sum_intensity_hard_constraint\"],\n",
    "    constraints=constraints,\n",
    "    moo_thresholds=moo_thresholds\n",
    ")"
   ]
  },
  {
   "cell_type": "code",
   "execution_count": 60,
   "id": "02c89c2d-f352-4c91-9a5a-49a0e154402e",
   "metadata": {},
   "outputs": [
    {
     "name": "stdout",
     "output_type": "stream",
     "text": [
      "Optimizing only the pitch and translation motors\n"
     ]
    }
   ],
   "source": [
    "print(\"Optimizing only the pitch and translation motors\")"
   ]
  },
  {
   "cell_type": "code",
   "execution_count": 61,
   "id": "e12194e0-bedc-421c-8581-f7139b4fa44b",
   "metadata": {},
   "outputs": [
    {
     "name": "stderr",
     "output_type": "stream",
     "text": [
      "/Users/skandel/code/oasys/AI-ML_Control_System/aps/ai/autoalignment/beamline28IDB/optimization/optuna_botorch.py:285: ExperimentalWarning: PartialFixedSampler is experimental (supported from v2.4.0). The interface can change in the future.\n",
      "  partial_sampler = optuna.samplers.PartialFixedSampler(fixed_params, self._base_sampler)\n",
      "/Applications/Oasys1.3.app/Contents/Frameworks/Python.framework/Versions/3.8/lib/python3.8/site-packages/optuna/trial/_trial.py:618: UserWarning: Fixed parameter 'hb_pitch' with value 0.0 is out of range for distribution FloatDistribution(high=0.01995, log=False, low=-0.02, step=0.00017).\n",
      "  warnings.warn(\n",
      "/Applications/Oasys1.3.app/Contents/Frameworks/Python.framework/Versions/3.8/lib/python3.8/site-packages/optuna/trial/_trial.py:618: UserWarning: Fixed parameter 'vb_pitch' with value 0.0 is out of range for distribution FloatDistribution(high=0.0192, log=False, low=-0.02, step=0.0014).\n",
      "  warnings.warn(\n",
      "\u001b[32m[I 2022-11-15 01:49:45,081]\u001b[0m Trial 0 finished with values: [0.02469957678409063, 0.12173953326723234] and parameters: {'hb_1': 0.0, 'hb_2': 0.0, 'hb_pitch': 0.0, 'hb_trans': 0.0, 'vb_bender': 0.0, 'vb_pitch': 0.0, 'vb_trans': 0.0}. \u001b[0m\n",
      "\u001b[32m[I 2022-11-15 01:49:45,208]\u001b[0m Trial 1 pruned. \u001b[0m\n",
      "\u001b[32m[I 2022-11-15 01:49:45,331]\u001b[0m Trial 2 finished with values: [0.126800342608619, 0.1276719363329387] and parameters: {'hb_1': 0.0, 'hb_2': 0.0, 'hb_pitch': 0.013320000000000002, 'hb_trans': -16.5, 'vb_bender': 0.0, 'vb_pitch': 0.0192, 'vb_trans': 9.5}. \u001b[0m\n"
     ]
    },
    {
     "name": "stdout",
     "output_type": "stream",
     "text": [
      "Pruning trial with parameters [0.0, 0.0, -0.00793, -39.0, 0.0, -0.018600000000000002, 35.5]\n"
     ]
    },
    {
     "name": "stderr",
     "output_type": "stream",
     "text": [
      "\u001b[32m[I 2022-11-15 01:49:45,459]\u001b[0m Trial 3 finished with values: [0.09288144023162598, 0.12994353474509454] and parameters: {'hb_1': 0.0, 'hb_2': 0.0, 'hb_pitch': 0.0068600000000000015, 'hb_trans': -20.0, 'vb_bender': 0.0, 'vb_pitch': 0.0023999999999999994, 'vb_trans': -45.5}. \u001b[0m\n",
      "\u001b[32m[I 2022-11-15 01:49:45,583]\u001b[0m Trial 4 pruned. \u001b[0m\n",
      "\u001b[32m[I 2022-11-15 01:49:45,707]\u001b[0m Trial 5 finished with values: [0.09966507800956736, 0.11107652324533417] and parameters: {'hb_1': 0.0, 'hb_2': 0.0, 'hb_pitch': 0.016380000000000002, 'hb_trans': 46.0, 'vb_bender': 0.0, 'vb_pitch': 0.0192, 'vb_trans': 11.5}. \u001b[0m\n"
     ]
    },
    {
     "name": "stdout",
     "output_type": "stream",
     "text": [
      "Pruning trial with parameters [0.0, 0.0, 0.007710000000000002, -9.0, 0.0, -0.0074, 44.0]\n"
     ]
    },
    {
     "name": "stderr",
     "output_type": "stream",
     "text": [
      "\u001b[32m[I 2022-11-15 01:49:45,834]\u001b[0m Trial 6 pruned. \u001b[0m\n",
      "\u001b[32m[I 2022-11-15 01:49:45,958]\u001b[0m Trial 7 finished with values: [0.07124993682187172, 0.11325412800769877] and parameters: {'hb_1': 0.0, 'hb_2': 0.0, 'hb_pitch': -0.01082, 'hb_trans': 27.0, 'vb_bender': 0.0, 'vb_pitch': 0.0052, 'vb_trans': 15.0}. \u001b[0m\n"
     ]
    },
    {
     "name": "stdout",
     "output_type": "stream",
     "text": [
      "Pruning trial with parameters [0.0, 0.0, -0.01745, 8.5, 0.0, 0.0023999999999999994, 50.0]\n"
     ]
    },
    {
     "name": "stderr",
     "output_type": "stream",
     "text": [
      "\u001b[32m[I 2022-11-15 01:49:46,085]\u001b[0m Trial 8 finished with values: [0.08129030284568883, 0.1225594948280762] and parameters: {'hb_1': 0.0, 'hb_2': 0.0, 'hb_pitch': -0.01592, 'hb_trans': -1.0, 'vb_bender': 0.0, 'vb_pitch': 0.0023999999999999994, 'vb_trans': -17.5}. \u001b[0m\n",
      "\u001b[32m[I 2022-11-15 01:49:46,209]\u001b[0m Trial 9 finished with values: [0.09139496756133347, 0.13094778497563941] and parameters: {'hb_1': 0.0, 'hb_2': 0.0, 'hb_pitch': -0.01507, 'hb_trans': -23.5, 'vb_bender': 0.0, 'vb_pitch': 0.0178, 'vb_trans': -6.0}. \u001b[0m\n",
      "\u001b[32m[I 2022-11-15 01:49:46,335]\u001b[0m Trial 10 finished with values: [0.01596606645501266, 0.1256059497707211] and parameters: {'hb_1': 0.0, 'hb_2': 0.0, 'hb_pitch': -0.002489999999999999, 'hb_trans': -10.0, 'vb_bender': 0.0, 'vb_pitch': -0.011600000000000001, 'vb_trans': -44.5}. \u001b[0m\n",
      "\u001b[32m[I 2022-11-15 01:49:46,463]\u001b[0m Trial 11 finished with values: [0.02943155892808979, 0.12933276620403555] and parameters: {'hb_1': 0.0, 'hb_2': 0.0, 'hb_pitch': -0.002149999999999999, 'hb_trans': -23.5, 'vb_bender': 0.0, 'vb_pitch': 0.012199999999999999, 'vb_trans': 15.0}. \u001b[0m\n",
      "\u001b[32m[I 2022-11-15 01:49:46,586]\u001b[0m Trial 12 finished with values: [0.07937905500626403, 0.11960667950980042] and parameters: {'hb_1': 0.0, 'hb_2': 0.0, 'hb_pitch': -0.01456, 'hb_trans': -2.0, 'vb_bender': 0.0, 'vb_pitch': 0.0164, 'vb_trans': 17.5}. \u001b[0m\n",
      "\u001b[32m[I 2022-11-15 01:49:48,580]\u001b[0m Trial 13 finished with values: [0.022217453815403486, 0.11650187836174895] and parameters: {'hb_1': 0.0, 'hb_2': 0.0, 'hb_pitch': -0.002659999999999999, 'hb_trans': 25.5, 'vb_bender': 0.0, 'vb_pitch': -0.0017999999999999995, 'vb_trans': -10.0}. \u001b[0m\n",
      "\u001b[32m[I 2022-11-15 01:49:50,147]\u001b[0m Trial 14 finished with values: [0.03438373936679328, 0.11234251678305635] and parameters: {'hb_1': 0.0, 'hb_2': 0.0, 'hb_pitch': -0.001469999999999999, 'hb_trans': 33.0, 'vb_bender': 0.0, 'vb_pitch': 0.013599999999999998, 'vb_trans': 12.0}. \u001b[0m\n",
      "\u001b[32m[I 2022-11-15 01:49:51,871]\u001b[0m Trial 15 finished with values: [0.04023835644035151, 0.11671411924918562] and parameters: {'hb_1': 0.0, 'hb_2': 0.0, 'hb_pitch': -0.002149999999999999, 'hb_trans': 26.0, 'vb_bender': 0.0, 'vb_pitch': 0.008, 'vb_trans': -14.5}. \u001b[0m\n",
      "\u001b[32m[I 2022-11-15 01:49:57,289]\u001b[0m Trial 16 finished with values: [0.05944423971650204, 0.11532547106384128] and parameters: {'hb_1': 0.0, 'hb_2': 0.0, 'hb_pitch': -0.001979999999999999, 'hb_trans': 25.0, 'vb_bender': 0.0, 'vb_pitch': -0.0074, 'vb_trans': 5.0}. \u001b[0m\n",
      "\u001b[32m[I 2022-11-15 01:49:58,720]\u001b[0m Trial 17 finished with values: [0.017739123930352037, 0.11168433596406097] and parameters: {'hb_1': 0.0, 'hb_2': 0.0, 'hb_pitch': 0.0017600000000000011, 'hb_trans': 32.0, 'vb_bender': 0.0, 'vb_pitch': 0.006599999999999998, 'vb_trans': 24.0}. \u001b[0m\n",
      "\u001b[32m[I 2022-11-15 01:50:01,777]\u001b[0m Trial 18 finished with values: [0.009435030462117558, 0.11255439393286298] and parameters: {'hb_1': 0.0, 'hb_2': 0.0, 'hb_pitch': 0.0012500000000000011, 'hb_trans': 32.0, 'vb_bender': 0.0, 'vb_pitch': 0.009399999999999999, 'vb_trans': 13.0}. \u001b[0m\n",
      "\u001b[32m[I 2022-11-15 01:50:04,402]\u001b[0m Trial 19 finished with values: [0.011487318811145564, 0.11087396754445672] and parameters: {'hb_1': 0.0, 'hb_2': 0.0, 'hb_pitch': 0.0012500000000000011, 'hb_trans': 45.5, 'vb_bender': 0.0, 'vb_pitch': 0.006599999999999998, 'vb_trans': 12.0}. \u001b[0m\n",
      "\u001b[32m[I 2022-11-15 01:50:06,672]\u001b[0m Trial 20 finished with values: [0.008850717020438529, 0.11020120566948335] and parameters: {'hb_1': 0.0, 'hb_2': 0.0, 'hb_pitch': 0.0031200000000000012, 'hb_trans': 50.0, 'vb_bender': 0.0, 'vb_pitch': 0.009399999999999999, 'vb_trans': 14.0}. \u001b[0m\n",
      "\u001b[32m[I 2022-11-15 01:50:08,995]\u001b[0m Trial 21 finished with values: [0.00626029640585493, 0.11221971639162252] and parameters: {'hb_1': 0.0, 'hb_2': 0.0, 'hb_pitch': 0.0031200000000000012, 'hb_trans': 40.0, 'vb_bender': 0.0, 'vb_pitch': 0.006599999999999998, 'vb_trans': 7.5}. \u001b[0m\n",
      "\u001b[32m[I 2022-11-15 01:50:10,776]\u001b[0m Trial 22 finished with values: [0.022680104354301917, 0.11150645784699022] and parameters: {'hb_1': 0.0, 'hb_2': 0.0, 'hb_pitch': 0.0029500000000000012, 'hb_trans': 50.0, 'vb_bender': 0.0, 'vb_pitch': 0.009399999999999999, 'vb_trans': 2.5}. \u001b[0m\n",
      "\u001b[32m[I 2022-11-15 01:50:13,645]\u001b[0m Trial 23 finished with values: [0.010498846185034393, 0.11163922134881522] and parameters: {'hb_1': 0.0, 'hb_2': 0.0, 'hb_pitch': 0.0036300000000000013, 'hb_trans': 38.5, 'vb_bender': 0.0, 'vb_pitch': 0.006599999999999998, 'vb_trans': 14.0}. \u001b[0m\n",
      "\u001b[32m[I 2022-11-15 01:50:15,509]\u001b[0m Trial 24 finished with values: [0.010051415335172864, 0.11409304989206491] and parameters: {'hb_1': 0.0, 'hb_2': 0.0, 'hb_pitch': 0.002100000000000001, 'hb_trans': 27.0, 'vb_bender': 0.0, 'vb_pitch': 0.006599999999999998, 'vb_trans': 10.0}. \u001b[0m\n",
      "\u001b[32m[I 2022-11-15 01:50:17,598]\u001b[0m Trial 25 finished with values: [0.014743900818939847, 0.11190346034454028] and parameters: {'hb_1': 0.0, 'hb_2': 0.0, 'hb_pitch': 0.0032900000000000013, 'hb_trans': 50.0, 'vb_bender': 0.0, 'vb_pitch': 0.0010000000000000009, 'vb_trans': 1.0}. \u001b[0m\n",
      "\u001b[32m[I 2022-11-15 01:50:19,358]\u001b[0m Trial 26 finished with values: [0.021105468527340538, 0.11356130983641317] and parameters: {'hb_1': 0.0, 'hb_2': 0.0, 'hb_pitch': -0.000959999999999999, 'hb_trans': 42.0, 'vb_bender': 0.0, 'vb_pitch': -0.0074, 'vb_trans': -35.0}. \u001b[0m\n",
      "\u001b[32m[I 2022-11-15 01:50:21,542]\u001b[0m Trial 27 finished with values: [0.06437149103759723, 0.11177475899836103] and parameters: {'hb_1': 0.0, 'hb_2': 0.0, 'hb_pitch': -0.0065699999999999995, 'hb_trans': 49.0, 'vb_bender': 0.0, 'vb_pitch': -0.013000000000000001, 'vb_trans': -43.0}. \u001b[0m\n",
      "\u001b[32m[I 2022-11-15 01:50:23,566]\u001b[0m Trial 28 finished with values: [0.03288595892958619, 0.1115096755791695] and parameters: {'hb_1': 0.0, 'hb_2': 0.0, 'hb_pitch': 0.0014200000000000011, 'hb_trans': 48.0, 'vb_bender': 0.0, 'vb_pitch': -0.0172, 'vb_trans': -49.0}. \u001b[0m\n",
      "\u001b[32m[I 2022-11-15 01:50:25,368]\u001b[0m Trial 29 finished with values: [0.02012932470646018, 0.11235652539250411] and parameters: {'hb_1': 0.0, 'hb_2': 0.0, 'hb_pitch': 0.005160000000000001, 'hb_trans': 50.0, 'vb_bender': 0.0, 'vb_pitch': -0.011600000000000001, 'vb_trans': -39.5}. \u001b[0m\n",
      "\u001b[32m[I 2022-11-15 01:50:27,368]\u001b[0m Trial 30 finished with values: [0.028107702127717096, 0.11086369471361199] and parameters: {'hb_1': 0.0, 'hb_2': 0.0, 'hb_pitch': 0.0070300000000000015, 'hb_trans': 48.0, 'vb_bender': 0.0, 'vb_pitch': 0.003799999999999998, 'vb_trans': 12.5}. \u001b[0m\n",
      "\u001b[32m[I 2022-11-15 01:50:29,439]\u001b[0m Trial 31 finished with values: [0.006920035244285723, 0.11446794732855081] and parameters: {'hb_1': 0.0, 'hb_2': 0.0, 'hb_pitch': 0.002270000000000001, 'hb_trans': 40.5, 'vb_bender': 0.0, 'vb_pitch': -0.0032000000000000015, 'vb_trans': -19.0}. \u001b[0m\n",
      "\u001b[32m[I 2022-11-15 01:50:31,565]\u001b[0m Trial 32 finished with values: [0.023948240854667693, 0.11351475551015065] and parameters: {'hb_1': 0.0, 'hb_2': 0.0, 'hb_pitch': 0.0038000000000000013, 'hb_trans': 50.0, 'vb_bender': 0.0, 'vb_pitch': -0.0074, 'vb_trans': -20.5}. \u001b[0m\n",
      "\u001b[32m[I 2022-11-15 01:50:33,829]\u001b[0m Trial 33 finished with values: [0.0016861348398811368, 0.11469845786102012] and parameters: {'hb_1': 0.0, 'hb_2': 0.0, 'hb_pitch': 0.0015900000000000011, 'hb_trans': 37.5, 'vb_bender': 0.0, 'vb_pitch': -0.00040000000000000105, 'vb_trans': -16.0}. \u001b[0m\n",
      "\u001b[32m[I 2022-11-15 01:50:36,214]\u001b[0m Trial 34 finished with values: [0.016621397160369186, 0.11340138859756367] and parameters: {'hb_1': 0.0, 'hb_2': 0.0, 'hb_pitch': 0.002100000000000001, 'hb_trans': 50.0, 'vb_bender': 0.0, 'vb_pitch': -0.00040000000000000105, 'vb_trans': -24.5}. \u001b[0m\n",
      "\u001b[32m[I 2022-11-15 01:50:38,477]\u001b[0m Trial 35 finished with values: [0.009623611374626103, 0.11691835873482988] and parameters: {'hb_1': 0.0, 'hb_2': 0.0, 'hb_pitch': 0.0009100000000000011, 'hb_trans': 22.0, 'vb_bender': 0.0, 'vb_pitch': -0.006, 'vb_trans': -37.0}. \u001b[0m\n",
      "\u001b[32m[I 2022-11-15 01:50:40,623]\u001b[0m Trial 36 finished with values: [0.07588059915020248, 0.11216080498958264] and parameters: {'hb_1': 0.0, 'hb_2': 0.0, 'hb_pitch': 0.013320000000000002, 'hb_trans': 48.5, 'vb_bender': 0.0, 'vb_pitch': -0.018600000000000002, 'vb_trans': -44.5}. \u001b[0m\n",
      "\u001b[32m[I 2022-11-15 01:50:42,900]\u001b[0m Trial 37 finished with values: [0.007033981796040761, 0.11591504815310062] and parameters: {'hb_1': 0.0, 'hb_2': 0.0, 'hb_pitch': 0.0017600000000000011, 'hb_trans': 29.5, 'vb_bender': 0.0, 'vb_pitch': -0.00040000000000000105, 'vb_trans': -14.5}. \u001b[0m\n",
      "\u001b[32m[I 2022-11-15 01:50:45,151]\u001b[0m Trial 38 finished with values: [0.008144279248172254, 0.11375106728510255] and parameters: {'hb_1': 0.0, 'hb_2': 0.0, 'hb_pitch': 0.001080000000000001, 'hb_trans': 42.0, 'vb_bender': 0.0, 'vb_pitch': 0.0010000000000000009, 'vb_trans': -9.5}. \u001b[0m\n",
      "\u001b[32m[I 2022-11-15 01:50:47,353]\u001b[0m Trial 39 finished with values: [0.03725540731183692, 0.11612284684710737] and parameters: {'hb_1': 0.0, 'hb_2': 0.0, 'hb_pitch': 0.0034600000000000013, 'hb_trans': 27.5, 'vb_bender': 0.0, 'vb_pitch': -0.013000000000000001, 'vb_trans': -33.0}. \u001b[0m\n",
      "\u001b[32m[I 2022-11-15 01:50:49,569]\u001b[0m Trial 40 finished with values: [0.02067011951756941, 0.107583704924164] and parameters: {'hb_1': 0.0, 'hb_2': 0.0, 'hb_pitch': 0.0015900000000000011, 'hb_trans': 46.5, 'vb_bender': 0.0, 'vb_pitch': 0.012199999999999999, 'vb_trans': 45.5}. \u001b[0m\n",
      "\u001b[32m[I 2022-11-15 01:50:51,754]\u001b[0m Trial 41 finished with values: [0.004773956648740297, 0.10967542090977386] and parameters: {'hb_1': 0.0, 'hb_2': 0.0, 'hb_pitch': 0.0027800000000000012, 'hb_trans': 50.0, 'vb_bender': 0.0, 'vb_pitch': 0.009399999999999999, 'vb_trans': 20.0}. \u001b[0m\n",
      "\u001b[32m[I 2022-11-15 01:50:53,859]\u001b[0m Trial 42 finished with values: [0.01428974134623451, 0.10812369738859096] and parameters: {'hb_1': 0.0, 'hb_2': 0.0, 'hb_pitch': 0.005670000000000001, 'hb_trans': 49.0, 'vb_bender': 0.0, 'vb_pitch': 0.013599999999999998, 'vb_trans': 37.0}. \u001b[0m\n",
      "\u001b[32m[I 2022-11-15 01:50:55,900]\u001b[0m Trial 43 finished with values: [0.008968935413405446, 0.1119445951209091] and parameters: {'hb_1': 0.0, 'hb_2': 0.0, 'hb_pitch': 0.004650000000000001, 'hb_trans': 49.0, 'vb_bender': 0.0, 'vb_pitch': -0.0088, 'vb_trans': -43.0}. \u001b[0m\n",
      "\u001b[32m[I 2022-11-15 01:50:58,133]\u001b[0m Trial 44 finished with values: [0.014822791171836708, 0.1114642274636431] and parameters: {'hb_1': 0.0, 'hb_2': 0.0, 'hb_pitch': 0.0031200000000000012, 'hb_trans': 47.0, 'vb_bender': 0.0, 'vb_pitch': -0.0074, 'vb_trans': -50.0}. \u001b[0m\n",
      "\u001b[32m[I 2022-11-15 01:51:00,343]\u001b[0m Trial 45 pruned. \u001b[0m\n"
     ]
    },
    {
     "name": "stdout",
     "output_type": "stream",
     "text": [
      "Pruning trial with parameters [0.0, 0.0, -0.01133, 40.0, 0.0, 0.014999999999999996, 49.5]\n"
     ]
    },
    {
     "name": "stderr",
     "output_type": "stream",
     "text": [
      "\u001b[32m[I 2022-11-15 01:51:02,428]\u001b[0m Trial 46 finished with values: [0.03257030308664664, 0.11187108346940587] and parameters: {'hb_1': 0.0, 'hb_2': 0.0, 'hb_pitch': 0.008050000000000002, 'hb_trans': 47.5, 'vb_bender': 0.0, 'vb_pitch': -0.0074, 'vb_trans': -46.5}. \u001b[0m\n",
      "\u001b[32m[I 2022-11-15 01:51:04,518]\u001b[0m Trial 47 finished with values: [0.015634889859109883, 0.1090215464183636] and parameters: {'hb_1': 0.0, 'hb_2': 0.0, 'hb_pitch': 0.004650000000000001, 'hb_trans': 47.5, 'vb_bender': 0.0, 'vb_pitch': 0.009399999999999999, 'vb_trans': 30.5}. \u001b[0m\n",
      "\u001b[32m[I 2022-11-15 01:51:06,644]\u001b[0m Trial 48 pruned. \u001b[0m\n"
     ]
    },
    {
     "name": "stdout",
     "output_type": "stream",
     "text": [
      "Pruning trial with parameters [0.0, 0.0, 0.0058400000000000014, 49.5, 0.0, 0.0192, 50.0]\n"
     ]
    },
    {
     "name": "stderr",
     "output_type": "stream",
     "text": [
      "\u001b[32m[I 2022-11-15 01:51:08,804]\u001b[0m Trial 49 finished with values: [0.09982961415813947, 0.11180803738847712] and parameters: {'hb_1': 0.0, 'hb_2': 0.0, 'hb_pitch': 0.018930000000000006, 'hb_trans': 50.0, 'vb_bender': 0.0, 'vb_pitch': -0.00040000000000000105, 'vb_trans': 6.0}. \u001b[0m\n"
     ]
    }
   ],
   "source": [
    "opt_trial.trials(\n",
    "    optimization_params[\"n_pitch_trans_motor_trials\"], trial_motor_types=[\"hb_pitch\", \"hb_trans\", \"vb_pitch\", \"vb_trans\"]\n",
    ")"
   ]
  },
  {
   "cell_type": "raw",
   "id": "b4baba3f-2c00-4deb-8e11-bc0213740ad6",
   "metadata": {},
   "source": [
    "optuna.visualization.matplotlib.plot_pareto_front(opt_trial.study, include_dominated_trials=False)\n",
    "# plt.xscale('log')\n",
    "# plt.yscale('log')\n",
    "plt.scatter(centroid_ground, sigma_ground, color=\"green\")"
   ]
  },
  {
   "cell_type": "raw",
   "id": "169de10e-4a53-43cf-baed-78dd5db9cd44",
   "metadata": {},
   "source": [
    "for t in opt_trial.study.best_trials:\n",
    "    params = t.params\n",
    "    vals = t.values\n",
    "    current_params = []\n",
    "    for mot in opt_trial.motor_types:\n",
    "        current_params.append(params[mot])\n",
    "    opt_trial._loss_fn_this(current_params)\n",
    "    print(t.values)\n",
    "    plot_distribution(beam=opt_trial.beam_state.photon_beam, **exp_params)"
   ]
  },
  {
   "cell_type": "code",
   "execution_count": null,
   "id": "215f85ac-eb92-469f-a528-d63652e0b7ee",
   "metadata": {},
   "outputs": [],
   "source": []
  },
  {
   "cell_type": "code",
   "execution_count": 84,
   "id": "85a91da9-9924-4d6a-b282-8be1415f1993",
   "metadata": {},
   "outputs": [
    {
     "data": {
      "text/plain": [
       "['optimization_checkpoint_50_2022:11:15:02:03.pkl']"
      ]
     },
     "execution_count": 84,
     "metadata": {},
     "output_type": "execute_result"
    }
   ],
   "source": [
    "datetime_str = datetime.strftime(datetime.now(), \"%Y:%m:%d:%H:%M\")\n",
    "joblib.dump(opt_trial.study.trials, f\"optimization_checkpoint_50_{datetime_str}.pkl\")"
   ]
  },
  {
   "cell_type": "code",
   "execution_count": null,
   "id": "c109f642-3c9b-497d-86b2-12a0f5e87f70",
   "metadata": {},
   "outputs": [],
   "source": []
  },
  {
   "cell_type": "code",
   "execution_count": null,
   "id": "e37802bd-5099-4bdc-bc4b-a1801095a2c7",
   "metadata": {},
   "outputs": [],
   "source": []
  },
  {
   "cell_type": "code",
   "execution_count": 62,
   "id": "0ea1ff93-d287-4482-b4ef-032a315f6213",
   "metadata": {},
   "outputs": [
    {
     "name": "stdout",
     "output_type": "stream",
     "text": [
      "Optimizing all motors together\n"
     ]
    }
   ],
   "source": [
    "print(\"Optimizing all motors together\")"
   ]
  },
  {
   "cell_type": "code",
   "execution_count": 63,
   "id": "2bb3d4cc-6734-419c-9093-43b9e299905b",
   "metadata": {},
   "outputs": [
    {
     "name": "stderr",
     "output_type": "stream",
     "text": [
      "\u001b[32m[I 2022-11-15 01:51:20,134]\u001b[0m Trial 50 pruned. \u001b[0m\n"
     ]
    },
    {
     "name": "stdout",
     "output_type": "stream",
     "text": [
      "write_shadow_surface: File for SHADOW /Users/skandel/code/oasys/AI-ML_Control_System/work_directory/28-ID/Upstream_HKB_bender_profile.dat written to disk.\n",
      "Pruning trial with parameters [21.0, -115.0, 0.0027800000000000012, 40.0, 124.0, -0.006, -41.5]\n",
      "write_shadow_surface: File for SHADOW /Users/skandel/code/oasys/AI-ML_Control_System/work_directory/28-ID/Upstream_HKB_bender_profile.dat written to disk.\n",
      "write_shadow_surface: File for SHADOW /Users/skandel/code/oasys/AI-ML_Control_System/work_directory/28-ID/Downstream_HKB_bender_profile.dat written to disk.\n"
     ]
    },
    {
     "name": "stderr",
     "output_type": "stream",
     "text": [
      "\u001b[32m[I 2022-11-15 01:51:22,509]\u001b[0m Trial 51 finished with values: [0.02830217284768545, 0.16470550537825013] and parameters: {'hb_1': 73.0, 'hb_2': 39.0, 'hb_pitch': -0.001299999999999999, 'hb_trans': 40.5, 'vb_bender': -160.0, 'vb_pitch': -0.0102, 'vb_trans': -36.5}. \u001b[0m\n"
     ]
    },
    {
     "name": "stdout",
     "output_type": "stream",
     "text": [
      "write_shadow_surface: File for SHADOW /Users/skandel/code/oasys/AI-ML_Control_System/work_directory/28-ID/Upstream_HKB_bender_profile.dat written to disk.\n",
      "write_shadow_surface: File for SHADOW /Users/skandel/code/oasys/AI-ML_Control_System/work_directory/28-ID/Downstream_HKB_bender_profile.dat written to disk.\n"
     ]
    },
    {
     "name": "stderr",
     "output_type": "stream",
     "text": [
      "\u001b[32m[I 2022-11-15 01:51:25,180]\u001b[0m Trial 52 finished with values: [0.06358200910227427, 0.3231781529717705] and parameters: {'hb_1': -3.0, 'hb_2': 34.0, 'hb_pitch': -0.0036799999999999992, 'hb_trans': 19.0, 'vb_bender': -478.0, 'vb_pitch': -0.006, 'vb_trans': -35.0}. \u001b[0m\n"
     ]
    },
    {
     "name": "stdout",
     "output_type": "stream",
     "text": [
      "write_shadow_surface: File for SHADOW /Users/skandel/code/oasys/AI-ML_Control_System/work_directory/28-ID/Upstream_HKB_bender_profile.dat written to disk.\n",
      "write_shadow_surface: File for SHADOW /Users/skandel/code/oasys/AI-ML_Control_System/work_directory/28-ID/Downstream_HKB_bender_profile.dat written to disk.\n"
     ]
    },
    {
     "name": "stderr",
     "output_type": "stream",
     "text": [
      "\u001b[32m[I 2022-11-15 01:51:27,933]\u001b[0m Trial 53 finished with values: [0.04309473200122316, 0.13431964660081191] and parameters: {'hb_1': -58.0, 'hb_2': -85.0, 'hb_pitch': 0.004140000000000001, 'hb_trans': 28.5, 'vb_bender': -12.0, 'vb_pitch': 0.0052, 'vb_trans': 3.5}. \u001b[0m\n"
     ]
    },
    {
     "name": "stdout",
     "output_type": "stream",
     "text": [
      "write_shadow_surface: File for SHADOW /Users/skandel/code/oasys/AI-ML_Control_System/work_directory/28-ID/Upstream_HKB_bender_profile.dat written to disk.\n",
      "write_shadow_surface: File for SHADOW /Users/skandel/code/oasys/AI-ML_Control_System/work_directory/28-ID/Downstream_HKB_bender_profile.dat written to disk.\n"
     ]
    },
    {
     "name": "stderr",
     "output_type": "stream",
     "text": [
      "\u001b[32m[I 2022-11-15 01:51:30,302]\u001b[0m Trial 54 finished with values: [0.024994079273516212, 0.18913298533624423] and parameters: {'hb_1': 49.0, 'hb_2': 90.0, 'hb_pitch': 0.0066900000000000015, 'hb_trans': 36.5, 'vb_bender': 7.0, 'vb_pitch': -0.013000000000000001, 'vb_trans': -38.0}. \u001b[0m\n"
     ]
    },
    {
     "name": "stdout",
     "output_type": "stream",
     "text": [
      "write_shadow_surface: File for SHADOW /Users/skandel/code/oasys/AI-ML_Control_System/work_directory/28-ID/Upstream_HKB_bender_profile.dat written to disk.\n",
      "write_shadow_surface: File for SHADOW /Users/skandel/code/oasys/AI-ML_Control_System/work_directory/28-ID/Downstream_HKB_bender_profile.dat written to disk.\n"
     ]
    },
    {
     "name": "stderr",
     "output_type": "stream",
     "text": [
      "/Applications/Oasys1.3.app/Contents/Frameworks/Python.framework/Versions/3.8/lib/python3.8/site-packages/oasys/util/oasys_util.py:283: RuntimeWarning: invalid value encountered in true_divide\n",
      "  frequency = histogram/numpy.sum(histogram)\n",
      "/Applications/Oasys1.3.app/Contents/Frameworks/Python.framework/Versions/3.8/lib/python3.8/site-packages/oasys/util/oasys_util.py:292: RuntimeWarning: invalid value encountered in true_divide\n",
      "  frequency = histogram/numpy.sum(histogram)\n",
      "\u001b[32m[I 2022-11-15 01:51:33,132]\u001b[0m Trial 55 pruned. \u001b[0m\n"
     ]
    },
    {
     "name": "stdout",
     "output_type": "stream",
     "text": [
      "Pruning trial with parameters [8.0, -49.0, -0.002999999999999999, 3.5, 70.0, -0.0017999999999999995, -5.0]\n",
      "write_shadow_surface: File for SHADOW /Users/skandel/code/oasys/AI-ML_Control_System/work_directory/28-ID/Upstream_HKB_bender_profile.dat written to disk.\n",
      "write_shadow_surface: File for SHADOW /Users/skandel/code/oasys/AI-ML_Control_System/work_directory/28-ID/Downstream_HKB_bender_profile.dat written to disk.\n"
     ]
    },
    {
     "name": "stderr",
     "output_type": "stream",
     "text": [
      "\u001b[32m[I 2022-11-15 01:51:35,880]\u001b[0m Trial 56 finished with values: [0.06645400625795979, 0.11590309222386226] and parameters: {'hb_1': 14.0, 'hb_2': -68.0, 'hb_pitch': -0.002489999999999999, 'hb_trans': 13.5, 'vb_bender': -68.0, 'vb_pitch': -0.011600000000000001, 'vb_trans': -27.5}. \u001b[0m\n"
     ]
    },
    {
     "name": "stdout",
     "output_type": "stream",
     "text": [
      "write_shadow_surface: File for SHADOW /Users/skandel/code/oasys/AI-ML_Control_System/work_directory/28-ID/Upstream_HKB_bender_profile.dat written to disk.\n",
      "write_shadow_surface: File for SHADOW /Users/skandel/code/oasys/AI-ML_Control_System/work_directory/28-ID/Downstream_HKB_bender_profile.dat written to disk.\n"
     ]
    },
    {
     "name": "stderr",
     "output_type": "stream",
     "text": [
      "/Applications/Oasys1.3.app/Contents/Frameworks/Python.framework/Versions/3.8/lib/python3.8/site-packages/oasys/util/oasys_util.py:283: RuntimeWarning: invalid value encountered in true_divide\n",
      "  frequency = histogram/numpy.sum(histogram)\n",
      "/Applications/Oasys1.3.app/Contents/Frameworks/Python.framework/Versions/3.8/lib/python3.8/site-packages/oasys/util/oasys_util.py:292: RuntimeWarning: invalid value encountered in true_divide\n",
      "  frequency = histogram/numpy.sum(histogram)\n",
      "\u001b[32m[I 2022-11-15 01:51:38,992]\u001b[0m Trial 57 pruned. \u001b[0m\n"
     ]
    },
    {
     "name": "stdout",
     "output_type": "stream",
     "text": [
      "Pruning trial with parameters [-72.0, 60.0, -0.000619999999999999, 22.5, 73.0, -0.0032000000000000015, -35.5]\n",
      "write_shadow_surface: File for SHADOW /Users/skandel/code/oasys/AI-ML_Control_System/work_directory/28-ID/Upstream_HKB_bender_profile.dat written to disk.\n",
      "write_shadow_surface: File for SHADOW /Users/skandel/code/oasys/AI-ML_Control_System/work_directory/28-ID/Downstream_HKB_bender_profile.dat written to disk.\n"
     ]
    },
    {
     "name": "stderr",
     "output_type": "stream",
     "text": [
      "\u001b[32m[I 2022-11-15 01:51:43,229]\u001b[0m Trial 58 finished with values: [0.02158236015948021, 0.1084205648239167] and parameters: {'hb_1': 10.0, 'hb_2': -23.0, 'hb_pitch': 0.0029500000000000012, 'hb_trans': 50.0, 'vb_bender': -26.0, 'vb_pitch': 0.0108, 'vb_trans': 24.0}. \u001b[0m\n"
     ]
    },
    {
     "name": "stdout",
     "output_type": "stream",
     "text": [
      "write_shadow_surface: File for SHADOW /Users/skandel/code/oasys/AI-ML_Control_System/work_directory/28-ID/Upstream_HKB_bender_profile.dat written to disk.\n",
      "write_shadow_surface: File for SHADOW /Users/skandel/code/oasys/AI-ML_Control_System/work_directory/28-ID/Downstream_HKB_bender_profile.dat written to disk.\n"
     ]
    },
    {
     "name": "stderr",
     "output_type": "stream",
     "text": [
      "\u001b[32m[I 2022-11-15 01:51:46,865]\u001b[0m Trial 59 finished with values: [0.03808553662317063, 0.08124882882060785] and parameters: {'hb_1': -44.0, 'hb_2': 2.0, 'hb_pitch': 0.0031200000000000012, 'hb_trans': 50.0, 'vb_bender': -22.0, 'vb_pitch': 0.0108, 'vb_trans': 22.0}. \u001b[0m\n",
      "/Applications/Oasys1.3.app/Contents/Frameworks/Python.framework/Versions/3.8/lib/python3.8/site-packages/botorch/optim/optimize.py:306: RuntimeWarning: Optimization failed in `gen_candidates_scipy` with the following warning(s):\n",
      "[OptimizationWarning('Optimization failed within `scipy.optimize.minimize` with status 1.')]\n",
      "Trying again with a new set of initial conditions.\n",
      "  warnings.warn(first_warn_msg, RuntimeWarning)\n"
     ]
    },
    {
     "name": "stdout",
     "output_type": "stream",
     "text": [
      "write_shadow_surface: File for SHADOW /Users/skandel/code/oasys/AI-ML_Control_System/work_directory/28-ID/Upstream_HKB_bender_profile.dat written to disk.\n",
      "write_shadow_surface: File for SHADOW /Users/skandel/code/oasys/AI-ML_Control_System/work_directory/28-ID/Downstream_HKB_bender_profile.dat written to disk.\n"
     ]
    },
    {
     "name": "stderr",
     "output_type": "stream",
     "text": [
      "\u001b[32m[I 2022-11-15 01:51:57,177]\u001b[0m Trial 60 finished with values: [0.014355973606555739, 0.08388380934860046] and parameters: {'hb_1': -21.0, 'hb_2': 0.0, 'hb_pitch': 0.0015900000000000011, 'hb_trans': 35.0, 'vb_bender': -43.0, 'vb_pitch': -0.00040000000000000105, 'vb_trans': -14.5}. \u001b[0m\n"
     ]
    },
    {
     "name": "stdout",
     "output_type": "stream",
     "text": [
      "write_shadow_surface: File for SHADOW /Users/skandel/code/oasys/AI-ML_Control_System/work_directory/28-ID/Upstream_HKB_bender_profile.dat written to disk.\n",
      "write_shadow_surface: File for SHADOW /Users/skandel/code/oasys/AI-ML_Control_System/work_directory/28-ID/Downstream_HKB_bender_profile.dat written to disk.\n"
     ]
    },
    {
     "name": "stderr",
     "output_type": "stream",
     "text": [
      "\u001b[32m[I 2022-11-15 01:52:00,195]\u001b[0m Trial 61 finished with values: [0.01073373350001027, 0.09109582876085563] and parameters: {'hb_1': -5.0, 'hb_2': 11.0, 'hb_pitch': 0.0014200000000000011, 'hb_trans': 33.5, 'vb_bender': -57.0, 'vb_pitch': -0.0017999999999999995, 'vb_trans': -18.0}. \u001b[0m\n"
     ]
    },
    {
     "name": "stdout",
     "output_type": "stream",
     "text": [
      "write_shadow_surface: File for SHADOW /Users/skandel/code/oasys/AI-ML_Control_System/work_directory/28-ID/Upstream_HKB_bender_profile.dat written to disk.\n",
      "write_shadow_surface: File for SHADOW /Users/skandel/code/oasys/AI-ML_Control_System/work_directory/28-ID/Downstream_HKB_bender_profile.dat written to disk.\n"
     ]
    },
    {
     "name": "stderr",
     "output_type": "stream",
     "text": [
      "\u001b[32m[I 2022-11-15 01:52:04,389]\u001b[0m Trial 62 finished with values: [0.03551945083696415, 0.07235674555524108] and parameters: {'hb_1': -27.0, 'hb_2': 19.0, 'hb_pitch': 0.0032900000000000013, 'hb_trans': 50.0, 'vb_bender': -60.0, 'vb_pitch': -0.0088, 'vb_trans': -45.5}. \u001b[0m\n"
     ]
    },
    {
     "name": "stdout",
     "output_type": "stream",
     "text": [
      "write_shadow_surface: File for SHADOW /Users/skandel/code/oasys/AI-ML_Control_System/work_directory/28-ID/Upstream_HKB_bender_profile.dat written to disk.\n",
      "write_shadow_surface: File for SHADOW /Users/skandel/code/oasys/AI-ML_Control_System/work_directory/28-ID/Downstream_HKB_bender_profile.dat written to disk.\n"
     ]
    },
    {
     "name": "stderr",
     "output_type": "stream",
     "text": [
      "\u001b[32m[I 2022-11-15 01:52:07,019]\u001b[0m Trial 63 finished with values: [0.18538568828518762, 0.08938787712710375] and parameters: {'hb_1': -92.0, 'hb_2': 73.0, 'hb_pitch': -0.00827, 'hb_trans': 20.5, 'vb_bender': 13.0, 'vb_pitch': -0.0102, 'vb_trans': 3.5}. \u001b[0m\n"
     ]
    },
    {
     "name": "stdout",
     "output_type": "stream",
     "text": [
      "write_shadow_surface: File for SHADOW /Users/skandel/code/oasys/AI-ML_Control_System/work_directory/28-ID/Upstream_HKB_bender_profile.dat written to disk.\n",
      "write_shadow_surface: File for SHADOW /Users/skandel/code/oasys/AI-ML_Control_System/work_directory/28-ID/Downstream_HKB_bender_profile.dat written to disk.\n"
     ]
    },
    {
     "name": "stderr",
     "output_type": "stream",
     "text": [
      "/Applications/Oasys1.3.app/Contents/Frameworks/Python.framework/Versions/3.8/lib/python3.8/site-packages/oasys/util/oasys_util.py:283: RuntimeWarning: invalid value encountered in true_divide\n",
      "  frequency = histogram/numpy.sum(histogram)\n",
      "/Applications/Oasys1.3.app/Contents/Frameworks/Python.framework/Versions/3.8/lib/python3.8/site-packages/oasys/util/oasys_util.py:292: RuntimeWarning: invalid value encountered in true_divide\n",
      "  frequency = histogram/numpy.sum(histogram)\n",
      "\u001b[32m[I 2022-11-15 01:52:10,085]\u001b[0m Trial 64 pruned. \u001b[0m\n"
     ]
    },
    {
     "name": "stdout",
     "output_type": "stream",
     "text": [
      "Pruning trial with parameters [16.0, 10.0, -0.002149999999999999, 20.0, 830.0, -0.0017999999999999995, 0.0]\n",
      "write_shadow_surface: File for SHADOW /Users/skandel/code/oasys/AI-ML_Control_System/work_directory/28-ID/Upstream_HKB_bender_profile.dat written to disk.\n",
      "write_shadow_surface: File for SHADOW /Users/skandel/code/oasys/AI-ML_Control_System/work_directory/28-ID/Downstream_HKB_bender_profile.dat written to disk.\n"
     ]
    },
    {
     "name": "stderr",
     "output_type": "stream",
     "text": [
      "\u001b[32m[I 2022-11-15 01:52:13,176]\u001b[0m Trial 65 finished with values: [0.08330469697109381, 0.07832308409913291] and parameters: {'hb_1': -74.0, 'hb_2': 111.0, 'hb_pitch': 0.018250000000000006, 'hb_trans': 47.0, 'vb_bender': -79.0, 'vb_pitch': 0.0164, 'vb_trans': -5.5}. \u001b[0m\n"
     ]
    },
    {
     "name": "stdout",
     "output_type": "stream",
     "text": [
      "write_shadow_surface: File for SHADOW /Users/skandel/code/oasys/AI-ML_Control_System/work_directory/28-ID/Upstream_HKB_bender_profile.dat written to disk.\n",
      "write_shadow_surface: File for SHADOW /Users/skandel/code/oasys/AI-ML_Control_System/work_directory/28-ID/Downstream_HKB_bender_profile.dat written to disk.\n"
     ]
    },
    {
     "name": "stderr",
     "output_type": "stream",
     "text": [
      "\u001b[32m[I 2022-11-15 01:52:16,458]\u001b[0m Trial 66 finished with values: [0.03706923382478308, 0.13360035108492627] and parameters: {'hb_1': -66.0, 'hb_2': 86.0, 'hb_pitch': 0.0063500000000000015, 'hb_trans': -40.0, 'vb_bender': -10.0, 'vb_pitch': 0.006599999999999998, 'vb_trans': -8.5}. \u001b[0m\n"
     ]
    },
    {
     "name": "stdout",
     "output_type": "stream",
     "text": [
      "write_shadow_surface: File for SHADOW /Users/skandel/code/oasys/AI-ML_Control_System/work_directory/28-ID/Upstream_HKB_bender_profile.dat written to disk.\n",
      "write_shadow_surface: File for SHADOW /Users/skandel/code/oasys/AI-ML_Control_System/work_directory/28-ID/Downstream_HKB_bender_profile.dat written to disk.\n"
     ]
    },
    {
     "name": "stderr",
     "output_type": "stream",
     "text": [
      "\u001b[32m[I 2022-11-15 01:52:21,296]\u001b[0m Trial 67 finished with values: [0.03691114892545638, 0.08462720790743519] and parameters: {'hb_1': -9.0, 'hb_2': 35.0, 'hb_pitch': 0.0032900000000000013, 'hb_trans': 50.0, 'vb_bender': -74.0, 'vb_pitch': 0.0108, 'vb_trans': 24.5}. \u001b[0m\n"
     ]
    },
    {
     "name": "stdout",
     "output_type": "stream",
     "text": [
      "write_shadow_surface: File for SHADOW /Users/skandel/code/oasys/AI-ML_Control_System/work_directory/28-ID/Upstream_HKB_bender_profile.dat written to disk.\n",
      "write_shadow_surface: File for SHADOW /Users/skandel/code/oasys/AI-ML_Control_System/work_directory/28-ID/Downstream_HKB_bender_profile.dat written to disk.\n"
     ]
    },
    {
     "name": "stderr",
     "output_type": "stream",
     "text": [
      "\u001b[32m[I 2022-11-15 01:52:25,517]\u001b[0m Trial 68 finished with values: [0.013492111327804812, 0.07474965650361363] and parameters: {'hb_1': -29.0, 'hb_2': -15.0, 'hb_pitch': -0.001299999999999999, 'hb_trans': 12.0, 'vb_bender': -78.0, 'vb_pitch': -0.006, 'vb_trans': -50.0}. \u001b[0m\n",
      "/Applications/Oasys1.3.app/Contents/Frameworks/Python.framework/Versions/3.8/lib/python3.8/site-packages/botorch/optim/optimize.py:306: RuntimeWarning: Optimization failed in `gen_candidates_scipy` with the following warning(s):\n",
      "[OptimizationWarning('Optimization failed within `scipy.optimize.minimize` with status 1.')]\n",
      "Trying again with a new set of initial conditions.\n",
      "  warnings.warn(first_warn_msg, RuntimeWarning)\n"
     ]
    },
    {
     "name": "stdout",
     "output_type": "stream",
     "text": [
      "write_shadow_surface: File for SHADOW /Users/skandel/code/oasys/AI-ML_Control_System/work_directory/28-ID/Upstream_HKB_bender_profile.dat written to disk.\n",
      "write_shadow_surface: File for SHADOW /Users/skandel/code/oasys/AI-ML_Control_System/work_directory/28-ID/Downstream_HKB_bender_profile.dat written to disk.\n"
     ]
    },
    {
     "name": "stderr",
     "output_type": "stream",
     "text": [
      "\u001b[32m[I 2022-11-15 01:52:39,826]\u001b[0m Trial 69 finished with values: [0.006915818707234751, 0.07885874945677329] and parameters: {'hb_1': -20.0, 'hb_2': -14.0, 'hb_pitch': 0.0009100000000000011, 'hb_trans': 28.0, 'vb_bender': -90.0, 'vb_pitch': -0.0032000000000000015, 'vb_trans': -33.0}. \u001b[0m\n"
     ]
    },
    {
     "name": "stdout",
     "output_type": "stream",
     "text": [
      "write_shadow_surface: File for SHADOW /Users/skandel/code/oasys/AI-ML_Control_System/work_directory/28-ID/Upstream_HKB_bender_profile.dat written to disk.\n",
      "write_shadow_surface: File for SHADOW /Users/skandel/code/oasys/AI-ML_Control_System/work_directory/28-ID/Downstream_HKB_bender_profile.dat written to disk.\n"
     ]
    },
    {
     "name": "stderr",
     "output_type": "stream",
     "text": [
      "\u001b[32m[I 2022-11-15 01:52:48,604]\u001b[0m Trial 70 finished with values: [0.012652692731654229, 0.07140455373780918] and parameters: {'hb_1': -36.0, 'hb_2': -15.0, 'hb_pitch': 0.0012500000000000011, 'hb_trans': 29.5, 'vb_bender': -79.0, 'vb_pitch': -0.0046, 'vb_trans': -39.0}. \u001b[0m\n"
     ]
    },
    {
     "name": "stdout",
     "output_type": "stream",
     "text": [
      "write_shadow_surface: File for SHADOW /Users/skandel/code/oasys/AI-ML_Control_System/work_directory/28-ID/Upstream_HKB_bender_profile.dat written to disk.\n",
      "write_shadow_surface: File for SHADOW /Users/skandel/code/oasys/AI-ML_Control_System/work_directory/28-ID/Downstream_HKB_bender_profile.dat written to disk.\n"
     ]
    },
    {
     "name": "stderr",
     "output_type": "stream",
     "text": [
      "\u001b[32m[I 2022-11-15 01:52:59,338]\u001b[0m Trial 71 finished with values: [0.0051547593480807015, 0.07288034367253415] and parameters: {'hb_1': -37.0, 'hb_2': -26.0, 'hb_pitch': -0.001129999999999999, 'hb_trans': 7.0, 'vb_bender': -83.0, 'vb_pitch': -0.0032000000000000015, 'vb_trans': -30.5}. \u001b[0m\n"
     ]
    },
    {
     "name": "stdout",
     "output_type": "stream",
     "text": [
      "write_shadow_surface: File for SHADOW /Users/skandel/code/oasys/AI-ML_Control_System/work_directory/28-ID/Upstream_HKB_bender_profile.dat written to disk.\n",
      "write_shadow_surface: File for SHADOW /Users/skandel/code/oasys/AI-ML_Control_System/work_directory/28-ID/Downstream_HKB_bender_profile.dat written to disk.\n"
     ]
    },
    {
     "name": "stderr",
     "output_type": "stream",
     "text": [
      "\u001b[32m[I 2022-11-15 01:53:03,094]\u001b[0m Trial 72 finished with values: [0.09094047176566206, 0.06525727451622391] and parameters: {'hb_1': -113.0, 'hb_2': 100.0, 'hb_pitch': 0.010600000000000002, 'hb_trans': 6.0, 'vb_bender': -67.0, 'vb_pitch': 0.003799999999999998, 'vb_trans': -36.5}. \u001b[0m\n"
     ]
    },
    {
     "name": "stdout",
     "output_type": "stream",
     "text": [
      "write_shadow_surface: File for SHADOW /Users/skandel/code/oasys/AI-ML_Control_System/work_directory/28-ID/Upstream_HKB_bender_profile.dat written to disk.\n",
      "write_shadow_surface: File for SHADOW /Users/skandel/code/oasys/AI-ML_Control_System/work_directory/28-ID/Downstream_HKB_bender_profile.dat written to disk.\n"
     ]
    },
    {
     "name": "stderr",
     "output_type": "stream",
     "text": [
      "\u001b[32m[I 2022-11-15 01:53:10,346]\u001b[0m Trial 73 finished with values: [0.016107950025079112, 0.05984202937363222] and parameters: {'hb_1': -55.0, 'hb_2': -16.0, 'hb_pitch': -0.001299999999999999, 'hb_trans': 0.0, 'vb_bender': -93.0, 'vb_pitch': -0.0032000000000000015, 'vb_trans': -33.5}. \u001b[0m\n",
      "/Applications/Oasys1.3.app/Contents/Frameworks/Python.framework/Versions/3.8/lib/python3.8/site-packages/botorch/optim/optimize.py:306: RuntimeWarning: Optimization failed in `gen_candidates_scipy` with the following warning(s):\n",
      "[OptimizationWarning('Optimization failed within `scipy.optimize.minimize` with status 1.')]\n",
      "Trying again with a new set of initial conditions.\n",
      "  warnings.warn(first_warn_msg, RuntimeWarning)\n"
     ]
    },
    {
     "name": "stdout",
     "output_type": "stream",
     "text": [
      "write_shadow_surface: File for SHADOW /Users/skandel/code/oasys/AI-ML_Control_System/work_directory/28-ID/Upstream_HKB_bender_profile.dat written to disk.\n",
      "write_shadow_surface: File for SHADOW /Users/skandel/code/oasys/AI-ML_Control_System/work_directory/28-ID/Downstream_HKB_bender_profile.dat written to disk.\n"
     ]
    },
    {
     "name": "stderr",
     "output_type": "stream",
     "text": [
      "\u001b[32m[I 2022-11-15 01:53:27,977]\u001b[0m Trial 74 finished with values: [0.013878965527256853, 0.08010436516595966] and parameters: {'hb_1': -59.0, 'hb_2': -45.0, 'hb_pitch': -0.000959999999999999, 'hb_trans': 11.0, 'vb_bender': -110.0, 'vb_pitch': -0.0017999999999999995, 'vb_trans': -35.0}. \u001b[0m\n",
      "/Applications/Oasys1.3.app/Contents/Frameworks/Python.framework/Versions/3.8/lib/python3.8/site-packages/botorch/optim/optimize.py:306: RuntimeWarning: Optimization failed in `gen_candidates_scipy` with the following warning(s):\n",
      "[OptimizationWarning('Optimization failed within `scipy.optimize.minimize` with status 1.')]\n",
      "Trying again with a new set of initial conditions.\n",
      "  warnings.warn(first_warn_msg, RuntimeWarning)\n"
     ]
    },
    {
     "name": "stdout",
     "output_type": "stream",
     "text": [
      "write_shadow_surface: File for SHADOW /Users/skandel/code/oasys/AI-ML_Control_System/work_directory/28-ID/Upstream_HKB_bender_profile.dat written to disk.\n",
      "write_shadow_surface: File for SHADOW /Users/skandel/code/oasys/AI-ML_Control_System/work_directory/28-ID/Downstream_HKB_bender_profile.dat written to disk.\n"
     ]
    },
    {
     "name": "stderr",
     "output_type": "stream",
     "text": [
      "\u001b[32m[I 2022-11-15 01:53:45,565]\u001b[0m Trial 75 finished with values: [0.012858582751194616, 0.08028418445931129] and parameters: {'hb_1': -33.0, 'hb_2': -28.0, 'hb_pitch': -0.0038499999999999993, 'hb_trans': -22.5, 'vb_bender': -100.0, 'vb_pitch': -0.0046, 'vb_trans': -35.5}. \u001b[0m\n"
     ]
    },
    {
     "name": "stdout",
     "output_type": "stream",
     "text": [
      "write_shadow_surface: File for SHADOW /Users/skandel/code/oasys/AI-ML_Control_System/work_directory/28-ID/Upstream_HKB_bender_profile.dat written to disk.\n",
      "write_shadow_surface: File for SHADOW /Users/skandel/code/oasys/AI-ML_Control_System/work_directory/28-ID/Downstream_HKB_bender_profile.dat written to disk.\n"
     ]
    },
    {
     "name": "stderr",
     "output_type": "stream",
     "text": [
      "\u001b[32m[I 2022-11-15 01:53:53,949]\u001b[0m Trial 76 finished with values: [0.012683577639761003, 0.083587657436886] and parameters: {'hb_1': -18.0, 'hb_2': -24.0, 'hb_pitch': -0.000279999999999999, 'hb_trans': 14.5, 'vb_bender': -79.0, 'vb_pitch': -0.0032000000000000015, 'vb_trans': -30.0}. \u001b[0m\n",
      "/Applications/Oasys1.3.app/Contents/Frameworks/Python.framework/Versions/3.8/lib/python3.8/site-packages/botorch/optim/optimize.py:306: RuntimeWarning: Optimization failed in `gen_candidates_scipy` with the following warning(s):\n",
      "[OptimizationWarning('Optimization failed within `scipy.optimize.minimize` with status 1.')]\n",
      "Trying again with a new set of initial conditions.\n",
      "  warnings.warn(first_warn_msg, RuntimeWarning)\n",
      "/Applications/Oasys1.3.app/Contents/Frameworks/Python.framework/Versions/3.8/lib/python3.8/site-packages/botorch/optim/optimize.py:328: RuntimeWarning: Optimization failed on the second try, after generating a new set of initial conditions.\n",
      "  warnings.warn(\n"
     ]
    },
    {
     "name": "stdout",
     "output_type": "stream",
     "text": [
      "write_shadow_surface: File for SHADOW /Users/skandel/code/oasys/AI-ML_Control_System/work_directory/28-ID/Upstream_HKB_bender_profile.dat written to disk.\n",
      "write_shadow_surface: File for SHADOW /Users/skandel/code/oasys/AI-ML_Control_System/work_directory/28-ID/Downstream_HKB_bender_profile.dat written to disk.\n"
     ]
    },
    {
     "name": "stderr",
     "output_type": "stream",
     "text": [
      "\u001b[32m[I 2022-11-15 01:54:21,470]\u001b[0m Trial 77 finished with values: [0.009871050663428046, 0.06738111484785454] and parameters: {'hb_1': -52.0, 'hb_2': -30.0, 'hb_pitch': -0.0018099999999999991, 'hb_trans': -1.5, 'vb_bender': -88.0, 'vb_pitch': -0.0074, 'vb_trans': -36.5}. \u001b[0m\n"
     ]
    },
    {
     "name": "stdout",
     "output_type": "stream",
     "text": [
      "write_shadow_surface: File for SHADOW /Users/skandel/code/oasys/AI-ML_Control_System/work_directory/28-ID/Upstream_HKB_bender_profile.dat written to disk.\n",
      "write_shadow_surface: File for SHADOW /Users/skandel/code/oasys/AI-ML_Control_System/work_directory/28-ID/Downstream_HKB_bender_profile.dat written to disk.\n"
     ]
    },
    {
     "name": "stderr",
     "output_type": "stream",
     "text": [
      "\u001b[32m[I 2022-11-15 01:54:36,019]\u001b[0m Trial 78 finished with values: [0.017122709398784037, 0.07186146762380809] and parameters: {'hb_1': -46.0, 'hb_2': -31.0, 'hb_pitch': -0.0038499999999999993, 'hb_trans': 3.0, 'vb_bender': -73.0, 'vb_pitch': -0.0046, 'vb_trans': -37.0}. \u001b[0m\n"
     ]
    },
    {
     "name": "stdout",
     "output_type": "stream",
     "text": [
      "write_shadow_surface: File for SHADOW /Users/skandel/code/oasys/AI-ML_Control_System/work_directory/28-ID/Upstream_HKB_bender_profile.dat written to disk.\n",
      "write_shadow_surface: File for SHADOW /Users/skandel/code/oasys/AI-ML_Control_System/work_directory/28-ID/Downstream_HKB_bender_profile.dat written to disk.\n"
     ]
    },
    {
     "name": "stderr",
     "output_type": "stream",
     "text": [
      "\u001b[32m[I 2022-11-15 01:54:45,935]\u001b[0m Trial 79 finished with values: [0.01671114529007322, 0.07241939238005543] and parameters: {'hb_1': -47.0, 'hb_2': -34.0, 'hb_pitch': -0.00010999999999999899, 'hb_trans': -7.0, 'vb_bender': -74.0, 'vb_pitch': -0.006, 'vb_trans': -38.5}. \u001b[0m\n",
      "/Applications/Oasys1.3.app/Contents/Frameworks/Python.framework/Versions/3.8/lib/python3.8/site-packages/botorch/optim/optimize.py:306: RuntimeWarning: Optimization failed in `gen_candidates_scipy` with the following warning(s):\n",
      "[OptimizationWarning('Optimization failed within `scipy.optimize.minimize` with status 1.')]\n",
      "Trying again with a new set of initial conditions.\n",
      "  warnings.warn(first_warn_msg, RuntimeWarning)\n",
      "/Applications/Oasys1.3.app/Contents/Frameworks/Python.framework/Versions/3.8/lib/python3.8/site-packages/botorch/optim/optimize.py:328: RuntimeWarning: Optimization failed on the second try, after generating a new set of initial conditions.\n",
      "  warnings.warn(\n"
     ]
    },
    {
     "name": "stdout",
     "output_type": "stream",
     "text": [
      "write_shadow_surface: File for SHADOW /Users/skandel/code/oasys/AI-ML_Control_System/work_directory/28-ID/Upstream_HKB_bender_profile.dat written to disk.\n",
      "write_shadow_surface: File for SHADOW /Users/skandel/code/oasys/AI-ML_Control_System/work_directory/28-ID/Downstream_HKB_bender_profile.dat written to disk.\n"
     ]
    },
    {
     "name": "stderr",
     "output_type": "stream",
     "text": [
      "\u001b[32m[I 2022-11-15 01:55:10,875]\u001b[0m Trial 80 finished with values: [0.00628391334500529, 0.06571942207274441] and parameters: {'hb_1': -65.0, 'hb_2': -36.0, 'hb_pitch': -0.0018099999999999991, 'hb_trans': -10.0, 'vb_bender': -90.0, 'vb_pitch': -0.0017999999999999995, 'vb_trans': -13.5}. \u001b[0m\n",
      "/Applications/Oasys1.3.app/Contents/Frameworks/Python.framework/Versions/3.8/lib/python3.8/site-packages/botorch/optim/optimize.py:306: RuntimeWarning: Optimization failed in `gen_candidates_scipy` with the following warning(s):\n",
      "[OptimizationWarning('Optimization failed within `scipy.optimize.minimize` with status 1.'), OptimizationWarning('Optimization failed within `scipy.optimize.minimize` with status 1.')]\n",
      "Trying again with a new set of initial conditions.\n",
      "  warnings.warn(first_warn_msg, RuntimeWarning)\n"
     ]
    },
    {
     "name": "stdout",
     "output_type": "stream",
     "text": [
      "write_shadow_surface: File for SHADOW /Users/skandel/code/oasys/AI-ML_Control_System/work_directory/28-ID/Upstream_HKB_bender_profile.dat written to disk.\n",
      "write_shadow_surface: File for SHADOW /Users/skandel/code/oasys/AI-ML_Control_System/work_directory/28-ID/Downstream_HKB_bender_profile.dat written to disk.\n"
     ]
    },
    {
     "name": "stderr",
     "output_type": "stream",
     "text": [
      "\u001b[32m[I 2022-11-15 01:55:45,957]\u001b[0m Trial 81 finished with values: [0.005263214825335906, 0.0733731441065847] and parameters: {'hb_1': -89.0, 'hb_2': -53.0, 'hb_pitch': -0.002999999999999999, 'hb_trans': -23.0, 'vb_bender': -89.0, 'vb_pitch': -0.0017999999999999995, 'vb_trans': -14.5}. \u001b[0m\n",
      "/Applications/Oasys1.3.app/Contents/Frameworks/Python.framework/Versions/3.8/lib/python3.8/site-packages/botorch/optim/optimize.py:306: RuntimeWarning: Optimization failed in `gen_candidates_scipy` with the following warning(s):\n",
      "[OptimizationWarning('Optimization failed within `scipy.optimize.minimize` with status 1.')]\n",
      "Trying again with a new set of initial conditions.\n",
      "  warnings.warn(first_warn_msg, RuntimeWarning)\n",
      "/Applications/Oasys1.3.app/Contents/Frameworks/Python.framework/Versions/3.8/lib/python3.8/site-packages/botorch/optim/optimize.py:328: RuntimeWarning: Optimization failed on the second try, after generating a new set of initial conditions.\n",
      "  warnings.warn(\n"
     ]
    },
    {
     "name": "stdout",
     "output_type": "stream",
     "text": [
      "write_shadow_surface: File for SHADOW /Users/skandel/code/oasys/AI-ML_Control_System/work_directory/28-ID/Upstream_HKB_bender_profile.dat written to disk.\n",
      "write_shadow_surface: File for SHADOW /Users/skandel/code/oasys/AI-ML_Control_System/work_directory/28-ID/Downstream_HKB_bender_profile.dat written to disk.\n"
     ]
    },
    {
     "name": "stderr",
     "output_type": "stream",
     "text": [
      "\u001b[32m[I 2022-11-15 01:56:13,834]\u001b[0m Trial 82 finished with values: [0.011216053810391211, 0.05278501466031434] and parameters: {'hb_1': -87.0, 'hb_2': -29.0, 'hb_pitch': -0.0033399999999999992, 'hb_trans': -37.5, 'vb_bender': -88.0, 'vb_pitch': -0.0017999999999999995, 'vb_trans': -15.0}. \u001b[0m\n",
      "/Applications/Oasys1.3.app/Contents/Frameworks/Python.framework/Versions/3.8/lib/python3.8/site-packages/botorch/optim/optimize.py:306: RuntimeWarning: Optimization failed in `gen_candidates_scipy` with the following warning(s):\n",
      "[OptimizationWarning('Optimization failed within `scipy.optimize.minimize` with status 1.')]\n",
      "Trying again with a new set of initial conditions.\n",
      "  warnings.warn(first_warn_msg, RuntimeWarning)\n",
      "/Applications/Oasys1.3.app/Contents/Frameworks/Python.framework/Versions/3.8/lib/python3.8/site-packages/botorch/optim/optimize.py:328: RuntimeWarning: Optimization failed on the second try, after generating a new set of initial conditions.\n",
      "  warnings.warn(\n"
     ]
    },
    {
     "name": "stdout",
     "output_type": "stream",
     "text": [
      "write_shadow_surface: File for SHADOW /Users/skandel/code/oasys/AI-ML_Control_System/work_directory/28-ID/Upstream_HKB_bender_profile.dat written to disk.\n",
      "write_shadow_surface: File for SHADOW /Users/skandel/code/oasys/AI-ML_Control_System/work_directory/28-ID/Downstream_HKB_bender_profile.dat written to disk.\n"
     ]
    },
    {
     "name": "stderr",
     "output_type": "stream",
     "text": [
      "\u001b[32m[I 2022-11-15 01:56:40,858]\u001b[0m Trial 83 finished with values: [0.02065238778451588, 0.06168148665325269] and parameters: {'hb_1': -85.0, 'hb_2': -39.0, 'hb_pitch': -0.002659999999999999, 'hb_trans': -23.5, 'vb_bender': -88.0, 'vb_pitch': 0.003799999999999998, 'vb_trans': -12.5}. \u001b[0m\n",
      "/Applications/Oasys1.3.app/Contents/Frameworks/Python.framework/Versions/3.8/lib/python3.8/site-packages/botorch/optim/optimize.py:306: RuntimeWarning: Optimization failed in `gen_candidates_scipy` with the following warning(s):\n",
      "[OptimizationWarning('Optimization failed within `scipy.optimize.minimize` with status 1.'), OptimizationWarning('Optimization failed within `scipy.optimize.minimize` with status 1.')]\n",
      "Trying again with a new set of initial conditions.\n",
      "  warnings.warn(first_warn_msg, RuntimeWarning)\n"
     ]
    },
    {
     "name": "stdout",
     "output_type": "stream",
     "text": [
      "write_shadow_surface: File for SHADOW /Users/skandel/code/oasys/AI-ML_Control_System/work_directory/28-ID/Upstream_HKB_bender_profile.dat written to disk.\n",
      "write_shadow_surface: File for SHADOW /Users/skandel/code/oasys/AI-ML_Control_System/work_directory/28-ID/Downstream_HKB_bender_profile.dat written to disk.\n"
     ]
    },
    {
     "name": "stderr",
     "output_type": "stream",
     "text": [
      "\u001b[32m[I 2022-11-15 01:57:07,590]\u001b[0m Trial 84 finished with values: [0.029985796156070034, 0.0612909031483624] and parameters: {'hb_1': -91.0, 'hb_2': -40.0, 'hb_pitch': -0.002659999999999999, 'hb_trans': -27.0, 'vb_bender': -89.0, 'vb_pitch': -0.0074, 'vb_trans': -16.0}. \u001b[0m\n"
     ]
    },
    {
     "name": "stdout",
     "output_type": "stream",
     "text": [
      "write_shadow_surface: File for SHADOW /Users/skandel/code/oasys/AI-ML_Control_System/work_directory/28-ID/Upstream_HKB_bender_profile.dat written to disk.\n",
      "write_shadow_surface: File for SHADOW /Users/skandel/code/oasys/AI-ML_Control_System/work_directory/28-ID/Downstream_HKB_bender_profile.dat written to disk.\n"
     ]
    },
    {
     "name": "stderr",
     "output_type": "stream",
     "text": [
      "\u001b[32m[I 2022-11-15 01:57:28,135]\u001b[0m Trial 85 finished with values: [0.00929147377768629, 0.07053025002220185] and parameters: {'hb_1': -63.0, 'hb_2': -46.0, 'hb_pitch': -0.0038499999999999993, 'hb_trans': -27.5, 'vb_bender': -89.0, 'vb_pitch': -0.0017999999999999995, 'vb_trans': -15.0}. \u001b[0m\n",
      "/Applications/Oasys1.3.app/Contents/Frameworks/Python.framework/Versions/3.8/lib/python3.8/site-packages/botorch/optim/optimize.py:306: RuntimeWarning: Optimization failed in `gen_candidates_scipy` with the following warning(s):\n",
      "[OptimizationWarning('Optimization failed within `scipy.optimize.minimize` with status 1.'), OptimizationWarning('Optimization failed within `scipy.optimize.minimize` with status 1.'), OptimizationWarning('Optimization failed within `scipy.optimize.minimize` with status 1.')]\n",
      "Trying again with a new set of initial conditions.\n",
      "  warnings.warn(first_warn_msg, RuntimeWarning)\n"
     ]
    },
    {
     "name": "stdout",
     "output_type": "stream",
     "text": [
      "write_shadow_surface: File for SHADOW /Users/skandel/code/oasys/AI-ML_Control_System/work_directory/28-ID/Upstream_HKB_bender_profile.dat written to disk.\n",
      "write_shadow_surface: File for SHADOW /Users/skandel/code/oasys/AI-ML_Control_System/work_directory/28-ID/Downstream_HKB_bender_profile.dat written to disk.\n"
     ]
    },
    {
     "name": "stderr",
     "output_type": "stream",
     "text": [
      "\u001b[32m[I 2022-11-15 01:57:55,234]\u001b[0m Trial 86 finished with values: [0.0012042910412994416, 0.06204164542826176] and parameters: {'hb_1': -78.0, 'hb_2': -38.0, 'hb_pitch': -0.001979999999999999, 'hb_trans': -23.0, 'vb_bender': -87.0, 'vb_pitch': -0.0017999999999999995, 'vb_trans': -20.5}. \u001b[0m\n"
     ]
    },
    {
     "name": "stdout",
     "output_type": "stream",
     "text": [
      "write_shadow_surface: File for SHADOW /Users/skandel/code/oasys/AI-ML_Control_System/work_directory/28-ID/Upstream_HKB_bender_profile.dat written to disk.\n",
      "write_shadow_surface: File for SHADOW /Users/skandel/code/oasys/AI-ML_Control_System/work_directory/28-ID/Downstream_HKB_bender_profile.dat written to disk.\n"
     ]
    },
    {
     "name": "stderr",
     "output_type": "stream",
     "text": [
      "\u001b[32m[I 2022-11-15 01:57:58,975]\u001b[0m Trial 87 finished with values: [0.10305317055764253, 0.08053717410291723] and parameters: {'hb_1': -142.0, 'hb_2': 14.0, 'hb_pitch': 0.014340000000000002, 'hb_trans': 41.0, 'vb_bender': -106.0, 'vb_pitch': -0.0158, 'vb_trans': 12.0}. \u001b[0m\n"
     ]
    },
    {
     "name": "stdout",
     "output_type": "stream",
     "text": [
      "write_shadow_surface: File for SHADOW /Users/skandel/code/oasys/AI-ML_Control_System/work_directory/28-ID/Upstream_HKB_bender_profile.dat written to disk.\n",
      "write_shadow_surface: File for SHADOW /Users/skandel/code/oasys/AI-ML_Control_System/work_directory/28-ID/Downstream_HKB_bender_profile.dat written to disk.\n"
     ]
    },
    {
     "name": "stderr",
     "output_type": "stream",
     "text": [
      "\u001b[32m[I 2022-11-15 01:58:03,282]\u001b[0m Trial 88 pruned. \u001b[0m\n"
     ]
    },
    {
     "name": "stdout",
     "output_type": "stream",
     "text": [
      "Pruning trial with parameters [-199.0, 88.0, 0.015189999999999999, -12.0, -106.0, 0.0178, 37.0]\n",
      "write_shadow_surface: File for SHADOW /Users/skandel/code/oasys/AI-ML_Control_System/work_directory/28-ID/Upstream_HKB_bender_profile.dat written to disk.\n",
      "write_shadow_surface: File for SHADOW /Users/skandel/code/oasys/AI-ML_Control_System/work_directory/28-ID/Downstream_HKB_bender_profile.dat written to disk.\n"
     ]
    },
    {
     "name": "stderr",
     "output_type": "stream",
     "text": [
      "\u001b[32m[I 2022-11-15 01:58:07,333]\u001b[0m Trial 89 pruned. \u001b[0m\n"
     ]
    },
    {
     "name": "stdout",
     "output_type": "stream",
     "text": [
      "Pruning trial with parameters [-129.0, 15.0, 0.0066900000000000015, 11.0, -94.0, 0.0178, 45.0]\n",
      "write_shadow_surface: File for SHADOW /Users/skandel/code/oasys/AI-ML_Control_System/work_directory/28-ID/Upstream_HKB_bender_profile.dat written to disk.\n",
      "write_shadow_surface: File for SHADOW /Users/skandel/code/oasys/AI-ML_Control_System/work_directory/28-ID/Downstream_HKB_bender_profile.dat written to disk.\n"
     ]
    },
    {
     "name": "stderr",
     "output_type": "stream",
     "text": [
      "\u001b[32m[I 2022-11-15 01:58:11,126]\u001b[0m Trial 90 finished with values: [0.07120104340097129, 0.06053845715147644] and parameters: {'hb_1': -67.0, 'hb_2': 44.0, 'hb_pitch': 0.009410000000000002, 'hb_trans': 33.0, 'vb_bender': -147.0, 'vb_pitch': -0.02, 'vb_trans': -47.0}. \u001b[0m\n"
     ]
    },
    {
     "name": "stdout",
     "output_type": "stream",
     "text": [
      "write_shadow_surface: File for SHADOW /Users/skandel/code/oasys/AI-ML_Control_System/work_directory/28-ID/Upstream_HKB_bender_profile.dat written to disk.\n",
      "write_shadow_surface: File for SHADOW /Users/skandel/code/oasys/AI-ML_Control_System/work_directory/28-ID/Downstream_HKB_bender_profile.dat written to disk.\n"
     ]
    },
    {
     "name": "stderr",
     "output_type": "stream",
     "text": [
      "\u001b[32m[I 2022-11-15 01:58:14,345]\u001b[0m Trial 91 finished with values: [0.17117065778006427, 0.06537662775089118] and parameters: {'hb_1': -144.0, 'hb_2': 31.0, 'hb_pitch': -0.00963, 'hb_trans': -41.0, 'vb_bender': -172.0, 'vb_pitch': 0.0192, 'vb_trans': -39.5}. \u001b[0m\n"
     ]
    },
    {
     "name": "stdout",
     "output_type": "stream",
     "text": [
      "write_shadow_surface: File for SHADOW /Users/skandel/code/oasys/AI-ML_Control_System/work_directory/28-ID/Upstream_HKB_bender_profile.dat written to disk.\n",
      "write_shadow_surface: File for SHADOW /Users/skandel/code/oasys/AI-ML_Control_System/work_directory/28-ID/Downstream_HKB_bender_profile.dat written to disk.\n"
     ]
    },
    {
     "name": "stderr",
     "output_type": "stream",
     "text": [
      "\u001b[32m[I 2022-11-15 01:58:17,818]\u001b[0m Trial 92 finished with values: [0.0947522032750505, 0.055465618789324565] and parameters: {'hb_1': -144.0, 'hb_2': 105.0, 'hb_pitch': 0.019610000000000006, 'hb_trans': 44.5, 'vb_bender': -125.0, 'vb_pitch': -0.00040000000000000105, 'vb_trans': 35.5}. \u001b[0m\n"
     ]
    },
    {
     "name": "stdout",
     "output_type": "stream",
     "text": [
      "write_shadow_surface: File for SHADOW /Users/skandel/code/oasys/AI-ML_Control_System/work_directory/28-ID/Upstream_HKB_bender_profile.dat written to disk.\n",
      "write_shadow_surface: File for SHADOW /Users/skandel/code/oasys/AI-ML_Control_System/work_directory/28-ID/Downstream_HKB_bender_profile.dat written to disk.\n"
     ]
    },
    {
     "name": "stderr",
     "output_type": "stream",
     "text": [
      "\u001b[32m[I 2022-11-15 01:58:21,617]\u001b[0m Trial 93 finished with values: [0.1830113982542084, 0.11293853699921036] and parameters: {'hb_1': -200.0, 'hb_2': 46.0, 'hb_pitch': 0.0027800000000000012, 'hb_trans': 29.0, 'vb_bender': -155.0, 'vb_pitch': 0.009399999999999999, 'vb_trans': -28.0}. \u001b[0m\n"
     ]
    },
    {
     "name": "stdout",
     "output_type": "stream",
     "text": [
      "write_shadow_surface: File for SHADOW /Users/skandel/code/oasys/AI-ML_Control_System/work_directory/28-ID/Upstream_HKB_bender_profile.dat written to disk.\n",
      "write_shadow_surface: File for SHADOW /Users/skandel/code/oasys/AI-ML_Control_System/work_directory/28-ID/Downstream_HKB_bender_profile.dat written to disk.\n"
     ]
    },
    {
     "name": "stderr",
     "output_type": "stream",
     "text": [
      "/Applications/Oasys1.3.app/Contents/Frameworks/Python.framework/Versions/3.8/lib/python3.8/site-packages/oasys/util/oasys_util.py:283: RuntimeWarning: invalid value encountered in true_divide\n",
      "  frequency = histogram/numpy.sum(histogram)\n",
      "/Applications/Oasys1.3.app/Contents/Frameworks/Python.framework/Versions/3.8/lib/python3.8/site-packages/oasys/util/oasys_util.py:292: RuntimeWarning: invalid value encountered in true_divide\n",
      "  frequency = histogram/numpy.sum(histogram)\n",
      "\u001b[32m[I 2022-11-15 01:58:25,178]\u001b[0m Trial 94 pruned. \u001b[0m\n"
     ]
    },
    {
     "name": "stdout",
     "output_type": "stream",
     "text": [
      "Pruning trial with parameters [-137.0, 166.0, 0.017400000000000002, -18.0, 657.0, 0.006599999999999998, -0.5]\n"
     ]
    },
    {
     "name": "stderr",
     "output_type": "stream",
     "text": [
      "\u001b[32m[I 2022-11-15 01:58:28,518]\u001b[0m Trial 95 pruned. \u001b[0m\n"
     ]
    },
    {
     "name": "stdout",
     "output_type": "stream",
     "text": [
      "write_shadow_surface: File for SHADOW /Users/skandel/code/oasys/AI-ML_Control_System/work_directory/28-ID/Upstream_HKB_bender_profile.dat written to disk.\n",
      "Pruning trial with parameters [-131.0, -166.0, 0.015189999999999999, 21.0, -729.0, -0.0017999999999999995, 3.0]\n",
      "write_shadow_surface: File for SHADOW /Users/skandel/code/oasys/AI-ML_Control_System/work_directory/28-ID/Upstream_HKB_bender_profile.dat written to disk.\n",
      "write_shadow_surface: File for SHADOW /Users/skandel/code/oasys/AI-ML_Control_System/work_directory/28-ID/Downstream_HKB_bender_profile.dat written to disk.\n"
     ]
    },
    {
     "name": "stderr",
     "output_type": "stream",
     "text": [
      "\u001b[32m[I 2022-11-15 01:58:32,211]\u001b[0m Trial 96 pruned. \u001b[0m\n"
     ]
    },
    {
     "name": "stdout",
     "output_type": "stream",
     "text": [
      "Pruning trial with parameters [-104.0, 53.0, -0.001129999999999999, -29.0, -120.0, 0.0192, 50.0]\n"
     ]
    },
    {
     "name": "stderr",
     "output_type": "stream",
     "text": [
      "\u001b[32m[I 2022-11-15 01:58:35,479]\u001b[0m Trial 97 pruned. \u001b[0m\n"
     ]
    },
    {
     "name": "stdout",
     "output_type": "stream",
     "text": [
      "write_shadow_surface: File for SHADOW /Users/skandel/code/oasys/AI-ML_Control_System/work_directory/28-ID/Upstream_HKB_bender_profile.dat written to disk.\n",
      "Pruning trial with parameters [152.0, -110.0, -0.001129999999999999, 11.0, 495.0, -0.018600000000000002, -15.0]\n",
      "write_shadow_surface: File for SHADOW /Users/skandel/code/oasys/AI-ML_Control_System/work_directory/28-ID/Upstream_HKB_bender_profile.dat written to disk.\n",
      "write_shadow_surface: File for SHADOW /Users/skandel/code/oasys/AI-ML_Control_System/work_directory/28-ID/Downstream_HKB_bender_profile.dat written to disk.\n"
     ]
    },
    {
     "name": "stderr",
     "output_type": "stream",
     "text": [
      "\u001b[32m[I 2022-11-15 01:58:38,650]\u001b[0m Trial 98 finished with values: [0.0168775024881796, 0.055820064742191984] and parameters: {'hb_1': -115.0, 'hb_2': 3.0, 'hb_pitch': 0.012300000000000002, 'hb_trans': 0.0, 'vb_bender': -38.0, 'vb_pitch': -0.0088, 'vb_trans': -35.0}. \u001b[0m\n"
     ]
    },
    {
     "name": "stdout",
     "output_type": "stream",
     "text": [
      "write_shadow_surface: File for SHADOW /Users/skandel/code/oasys/AI-ML_Control_System/work_directory/28-ID/Upstream_HKB_bender_profile.dat written to disk.\n",
      "write_shadow_surface: File for SHADOW /Users/skandel/code/oasys/AI-ML_Control_System/work_directory/28-ID/Downstream_HKB_bender_profile.dat written to disk.\n"
     ]
    },
    {
     "name": "stderr",
     "output_type": "stream",
     "text": [
      "/Applications/Oasys1.3.app/Contents/Frameworks/Python.framework/Versions/3.8/lib/python3.8/site-packages/oasys/util/oasys_util.py:283: RuntimeWarning: invalid value encountered in true_divide\n",
      "  frequency = histogram/numpy.sum(histogram)\n",
      "/Applications/Oasys1.3.app/Contents/Frameworks/Python.framework/Versions/3.8/lib/python3.8/site-packages/oasys/util/oasys_util.py:292: RuntimeWarning: invalid value encountered in true_divide\n",
      "  frequency = histogram/numpy.sum(histogram)\n",
      "\u001b[32m[I 2022-11-15 01:58:41,598]\u001b[0m Trial 99 pruned. \u001b[0m\n"
     ]
    },
    {
     "name": "stdout",
     "output_type": "stream",
     "text": [
      "Pruning trial with parameters [109.0, 135.0, 0.008730000000000002, 34.0, 738.0, -0.011600000000000001, -42.5]\n"
     ]
    }
   ],
   "source": [
    "opt_trial.trials(optimization_params[\"n_all_motor_trials\"])"
   ]
  },
  {
   "cell_type": "raw",
   "id": "5ac33a06-ab4e-4703-bbeb-53d400a2e42b",
   "metadata": {},
   "source": [
    "opt_trial.study.best_trials"
   ]
  },
  {
   "cell_type": "raw",
   "id": "3bb53db3-5391-428f-9af4-d91f85109856",
   "metadata": {},
   "source": [
    "optuna.visualization.matplotlib.plot_pareto_front(opt_trial.study, include_dominated_trials=False)\n",
    "# plt.xscale('log')\n",
    "# plt.yscale('log')\n",
    "plt.scatter(centroid_ground, sigma_ground, color=\"green\")"
   ]
  },
  {
   "cell_type": "raw",
   "id": "b1d25c81-04bd-4a07-addb-b704a49202c1",
   "metadata": {},
   "source": [
    "optuna.visualization.matplotlib.plot_optimization_history(\n",
    "    study=opt_trial.study, target=lambda t: t.values[0], target_name=\"centroid\"\n",
    ")"
   ]
  },
  {
   "cell_type": "raw",
   "id": "399d57b0-8074-4b29-b4a8-84af2764f603",
   "metadata": {},
   "source": [
    "optuna.visualization.matplotlib.plot_optimization_history(\n",
    "    study=opt_trial.study, target=lambda t: t.values[1], target_name=\"sigma\"\n",
    ")"
   ]
  },
  {
   "cell_type": "raw",
   "id": "5601feef-78b7-471e-88b1-4cb606d17d67",
   "metadata": {},
   "source": [
    "for t in opt_trial.study.best_trials:\n",
    "    params = t.params\n",
    "    vals = t.values\n",
    "    current_params = []\n",
    "    for mot in opt_trial.motor_types:\n",
    "        current_params.append(params[mot])\n",
    "    opt_trial._loss_fn_this(current_params)\n",
    "    plot_distribution(beam=opt_trial.beam_state.photon_beam, **exp_params)"
   ]
  },
  {
   "cell_type": "code",
   "execution_count": 74,
   "id": "5901bb68-7996-414e-b1a0-d0eafc4db198",
   "metadata": {},
   "outputs": [],
   "source": [
    "optimal_params, values = select_best_trial_params(opt_trial.study.best_trials)"
   ]
  },
  {
   "cell_type": "code",
   "execution_count": 75,
   "id": "11afc66f-53d0-41fa-bb18-ef23a05e2b5f",
   "metadata": {},
   "outputs": [
    {
     "data": {
      "text/plain": [
       "({'hb_1': -87.0,\n",
       "  'hb_2': -29.0,\n",
       "  'hb_pitch': -0.0033399999999999992,\n",
       "  'hb_trans': -37.5,\n",
       "  'vb_bender': -88.0,\n",
       "  'vb_pitch': -0.0017999999999999995,\n",
       "  'vb_trans': -15.0},\n",
       " [0.011216053810391211, 0.05278501466031434])"
      ]
     },
     "execution_count": 75,
     "metadata": {},
     "output_type": "execute_result"
    }
   ],
   "source": [
    "optimal_params, values"
   ]
  },
  {
   "cell_type": "code",
   "execution_count": 76,
   "id": "42b9b2e8-bebf-429a-90c5-3ddd84f92291",
   "metadata": {},
   "outputs": [
    {
     "data": {
      "text/plain": [
       "[135.16917904768525,\n",
       " -36.05448803397144,\n",
       " -0.014481142591426997,\n",
       " 41.85642548717669,\n",
       " 90.49112876710194,\n",
       " 0.0017745091189553322,\n",
       " 19.31957193850937]"
      ]
     },
     "execution_count": 76,
     "metadata": {},
     "output_type": "execute_result"
    }
   ],
   "source": [
    "initial_movement"
   ]
  },
  {
   "cell_type": "code",
   "execution_count": 77,
   "id": "218f95da-892c-4b7c-b643-b8ade07ef02c",
   "metadata": {},
   "outputs": [
    {
     "data": {
      "text/plain": [
       "array([0.00926111, 0.05276798])"
      ]
     },
     "execution_count": 77,
     "metadata": {},
     "output_type": "execute_result"
    }
   ],
   "source": [
    "opt_trial._loss_fn_this(list(optimal_params.values()))\n",
    "#plot_distribution(beam=opt_trial.beam_state.photon_beam, implementor=Implementors.SHADOW)# **exp_params)"
   ]
  },
  {
   "cell_type": "code",
   "execution_count": 85,
   "id": "28fde236-c202-46d2-94ee-9f0e7519fb92",
   "metadata": {},
   "outputs": [
    {
     "data": {
      "text/plain": [
       "['optimization_final_100_2022:11:15:02:03.pkl']"
      ]
     },
     "execution_count": 85,
     "metadata": {},
     "output_type": "execute_result"
    },
    {
     "name": "stderr",
     "output_type": "stream",
     "text": [
      "error sending registration message to CA repeater daemon was \"Network is unreachable\"\n",
      "error sending registration message to CA repeater daemon was \"Network is unreachable\"\n",
      "error sending registration message to CA repeater daemon was \"Network is unreachable\"\n",
      "error sending registration message to CA repeater daemon was \"Network is unreachable\"\n",
      "error sending registration message to CA repeater daemon was \"Network is unreachable\"\n",
      "error sending registration message to CA repeater daemon was \"Network is unreachable\"\n",
      "error sending registration message to CA repeater daemon was \"Network is unreachable\"\n",
      "error sending registration message to CA repeater daemon was \"Network is unreachable\"\n",
      "error sending registration message to CA repeater daemon was \"Network is unreachable\"\n",
      "error sending registration message to CA repeater daemon was \"Network is unreachable\"\n",
      "error sending registration message to CA repeater daemon was \"Network is unreachable\"\n",
      "error sending registration message to CA repeater daemon was \"Network is unreachable\"\n",
      "error sending registration message to CA repeater daemon was \"Network is unreachable\"\n",
      "error sending registration message to CA repeater daemon was \"Network is unreachable\"\n",
      "error sending registration message to CA repeater daemon was \"Network is unreachable\"\n",
      "error sending registration message to CA repeater daemon was \"Network is unreachable\"\n",
      "error sending registration message to CA repeater daemon was \"Network is unreachable\"\n",
      "error sending registration message to CA repeater daemon was \"Network is unreachable\"\n",
      "error sending registration message to CA repeater daemon was \"Network is unreachable\"\n",
      "error sending registration message to CA repeater daemon was \"Network is unreachable\"\n",
      "error sending registration message to CA repeater daemon was \"Network is unreachable\"\n",
      "error sending registration message to CA repeater daemon was \"Network is unreachable\"\n",
      "error sending registration message to CA repeater daemon was \"Network is unreachable\"\n",
      "error sending registration message to CA repeater daemon was \"Network is unreachable\"\n",
      "error sending registration message to CA repeater daemon was \"Network is unreachable\"\n",
      "error sending registration message to CA repeater daemon was \"Network is unreachable\"\n",
      "error sending registration message to CA repeater daemon was \"Network is unreachable\"\n",
      "error sending registration message to CA repeater daemon was \"Network is unreachable\"\n",
      "error sending registration message to CA repeater daemon was \"Network is unreachable\"\n",
      "error sending registration message to CA repeater daemon was \"Network is unreachable\"\n",
      "error sending registration message to CA repeater daemon was \"Network is unreachable\"\n",
      "error sending registration message to CA repeater daemon was \"Network is unreachable\"\n",
      "error sending registration message to CA repeater daemon was \"Network is unreachable\"\n",
      "error sending registration message to CA repeater daemon was \"Network is unreachable\"\n",
      "error sending registration message to CA repeater daemon was \"Network is unreachable\"\n",
      "error sending registration message to CA repeater daemon was \"Network is unreachable\"\n",
      "error sending registration message to CA repeater daemon was \"Network is unreachable\"\n",
      "error sending registration message to CA repeater daemon was \"Network is unreachable\"\n",
      "error sending registration message to CA repeater daemon was \"Network is unreachable\"\n",
      "error sending registration message to CA repeater daemon was \"Network is unreachable\"\n",
      "error sending registration message to CA repeater daemon was \"Network is unreachable\"\n",
      "error sending registration message to CA repeater daemon was \"Network is unreachable\"\n",
      "error sending registration message to CA repeater daemon was \"Network is unreachable\"\n",
      "error sending registration message to CA repeater daemon was \"Network is unreachable\"\n",
      "error sending registration message to CA repeater daemon was \"Network is unreachable\"\n",
      "error sending registration message to CA repeater daemon was \"Network is unreachable\"\n",
      "error sending registration message to CA repeater daemon was \"Network is unreachable\"\n",
      "error sending registration message to CA repeater daemon was \"Network is unreachable\"\n",
      "error sending registration message to CA repeater daemon was \"Network is unreachable\"\n",
      "error sending registration message to CA repeater daemon was \"Network is unreachable\"\n",
      "error sending registration message to CA repeater daemon was \"Network is unreachable\"\n",
      "error sending registration message to CA repeater daemon was \"Network is unreachable\"\n",
      "error sending registration message to CA repeater daemon was \"Network is unreachable\"\n",
      "error sending registration message to CA repeater daemon was \"Network is unreachable\"\n",
      "error sending registration message to CA repeater daemon was \"Network is unreachable\"\n",
      "error sending registration message to CA repeater daemon was \"Network is unreachable\"\n",
      "error sending registration message to CA repeater daemon was \"Network is unreachable\"\n",
      "error sending registration message to CA repeater daemon was \"Network is unreachable\"\n",
      "error sending registration message to CA repeater daemon was \"Network is unreachable\"\n",
      "error sending registration message to CA repeater daemon was \"Network is unreachable\"\n",
      "error sending registration message to CA repeater daemon was \"Network is unreachable\"\n",
      "error sending registration message to CA repeater daemon was \"Network is unreachable\"\n",
      "error sending registration message to CA repeater daemon was \"Network is unreachable\"\n",
      "error sending registration message to CA repeater daemon was \"Network is unreachable\"\n",
      "error sending registration message to CA repeater daemon was \"Network is unreachable\"\n",
      "error sending registration message to CA repeater daemon was \"Network is unreachable\"\n",
      "error sending registration message to CA repeater daemon was \"Network is unreachable\"\n",
      "error sending registration message to CA repeater daemon was \"Network is unreachable\"\n",
      "error sending registration message to CA repeater daemon was \"Network is unreachable\"\n",
      "error sending registration message to CA repeater daemon was \"Network is unreachable\"\n",
      "error sending registration message to CA repeater daemon was \"Network is unreachable\"\n",
      "error sending registration message to CA repeater daemon was \"Network is unreachable\"\n",
      "error sending registration message to CA repeater daemon was \"Network is unreachable\"\n",
      "error sending registration message to CA repeater daemon was \"Network is unreachable\"\n",
      "error sending registration message to CA repeater daemon was \"Network is unreachable\"\n",
      "error sending registration message to CA repeater daemon was \"Network is unreachable\"\n",
      "error sending registration message to CA repeater daemon was \"Network is unreachable\"\n",
      "error sending registration message to CA repeater daemon was \"Network is unreachable\"\n",
      "error sending registration message to CA repeater daemon was \"Network is unreachable\"\n",
      "error sending registration message to CA repeater daemon was \"Network is unreachable\"\n",
      "error sending registration message to CA repeater daemon was \"Network is unreachable\"\n",
      "error sending registration message to CA repeater daemon was \"Network is unreachable\"\n",
      "error sending registration message to CA repeater daemon was \"Network is unreachable\"\n",
      "error sending registration message to CA repeater daemon was \"Network is unreachable\"\n",
      "error sending registration message to CA repeater daemon was \"Network is unreachable\"\n",
      "error sending registration message to CA repeater daemon was \"Network is unreachable\"\n",
      "error sending registration message to CA repeater daemon was \"Network is unreachable\"\n",
      "error sending registration message to CA repeater daemon was \"Network is unreachable\"\n",
      "error sending registration message to CA repeater daemon was \"Network is unreachable\"\n",
      "error sending registration message to CA repeater daemon was \"Network is unreachable\"\n",
      "error sending registration message to CA repeater daemon was \"Network is unreachable\"\n",
      "error sending registration message to CA repeater daemon was \"Network is unreachable\"\n",
      "error sending registration message to CA repeater daemon was \"Network is unreachable\"\n",
      "error sending registration message to CA repeater daemon was \"Network is unreachable\"\n",
      "error sending registration message to CA repeater daemon was \"Network is unreachable\"\n",
      "error sending registration message to CA repeater daemon was \"Network is unreachable\"\n",
      "error sending registration message to CA repeater daemon was \"Network is unreachable\"\n",
      "error sending registration message to CA repeater daemon was \"Network is unreachable\"\n",
      "error sending registration message to CA repeater daemon was \"Network is unreachable\"\n",
      "error sending registration message to CA repeater daemon was \"Network is unreachable\"\n",
      "error sending registration message to CA repeater daemon was \"Network is unreachable\"\n",
      "error sending registration message to CA repeater daemon was \"Network is unreachable\"\n",
      "error sending registration message to CA repeater daemon was \"Network is unreachable\"\n",
      "error sending registration message to CA repeater daemon was \"Network is unreachable\"\n",
      "error sending registration message to CA repeater daemon was \"Network is unreachable\"\n",
      "error sending registration message to CA repeater daemon was \"Network is unreachable\"\n",
      "error sending registration message to CA repeater daemon was \"Network is unreachable\"\n",
      "error sending registration message to CA repeater daemon was \"Network is unreachable\"\n",
      "error sending registration message to CA repeater daemon was \"Network is unreachable\"\n",
      "error sending registration message to CA repeater daemon was \"Network is unreachable\"\n",
      "error sending registration message to CA repeater daemon was \"Network is unreachable\"\n",
      "error sending registration message to CA repeater daemon was \"Network is unreachable\"\n",
      "error sending registration message to CA repeater daemon was \"Network is unreachable\"\n",
      "error sending registration message to CA repeater daemon was \"Network is unreachable\"\n",
      "error sending registration message to CA repeater daemon was \"Network is unreachable\"\n",
      "error sending registration message to CA repeater daemon was \"Network is unreachable\"\n",
      "error sending registration message to CA repeater daemon was \"Network is unreachable\"\n",
      "error sending registration message to CA repeater daemon was \"Network is unreachable\"\n",
      "error sending registration message to CA repeater daemon was \"Network is unreachable\"\n",
      "error sending registration message to CA repeater daemon was \"Network is unreachable\"\n",
      "error sending registration message to CA repeater daemon was \"Network is unreachable\"\n",
      "error sending registration message to CA repeater daemon was \"Network is unreachable\"\n",
      "error sending registration message to CA repeater daemon was \"Network is unreachable\"\n",
      "error sending registration message to CA repeater daemon was \"Network is unreachable\"\n",
      "error sending registration message to CA repeater daemon was \"Network is unreachable\"\n",
      "error sending registration message to CA repeater daemon was \"Network is unreachable\"\n",
      "error sending registration message to CA repeater daemon was \"Network is unreachable\"\n",
      "error sending registration message to CA repeater daemon was \"Network is unreachable\"\n",
      "error sending registration message to CA repeater daemon was \"Network is unreachable\"\n",
      "error sending registration message to CA repeater daemon was \"Network is unreachable\"\n",
      "error sending registration message to CA repeater daemon was \"Network is unreachable\"\n",
      "error sending registration message to CA repeater daemon was \"Network is unreachable\"\n",
      "error sending registration message to CA repeater daemon was \"Network is unreachable\"\n",
      "error sending registration message to CA repeater daemon was \"Network is unreachable\"\n",
      "error sending registration message to CA repeater daemon was \"Network is unreachable\"\n",
      "error sending registration message to CA repeater daemon was \"Network is unreachable\"\n",
      "error sending registration message to CA repeater daemon was \"Network is unreachable\"\n",
      "error sending registration message to CA repeater daemon was \"Network is unreachable\"\n",
      "error sending registration message to CA repeater daemon was \"Network is unreachable\"\n",
      "error sending registration message to CA repeater daemon was \"Network is unreachable\"\n",
      "error sending registration message to CA repeater daemon was \"Network is unreachable\"\n",
      "error sending registration message to CA repeater daemon was \"Network is unreachable\"\n",
      "error sending registration message to CA repeater daemon was \"Network is unreachable\"\n",
      "error sending registration message to CA repeater daemon was \"Network is unreachable\"\n",
      "error sending registration message to CA repeater daemon was \"Network is unreachable\"\n",
      "error sending registration message to CA repeater daemon was \"Network is unreachable\"\n",
      "error sending registration message to CA repeater daemon was \"Network is unreachable\"\n",
      "error sending registration message to CA repeater daemon was \"Network is unreachable\"\n",
      "error sending registration message to CA repeater daemon was \"Network is unreachable\"\n",
      "error sending registration message to CA repeater daemon was \"Network is unreachable\"\n",
      "error sending registration message to CA repeater daemon was \"Network is unreachable\"\n",
      "error sending registration message to CA repeater daemon was \"Network is unreachable\"\n",
      "error sending registration message to CA repeater daemon was \"Network is unreachable\"\n",
      "error sending registration message to CA repeater daemon was \"Network is unreachable\"\n",
      "error sending registration message to CA repeater daemon was \"Network is unreachable\"\n",
      "error sending registration message to CA repeater daemon was \"Network is unreachable\"\n",
      "error sending registration message to CA repeater daemon was \"Network is unreachable\"\n",
      "error sending registration message to CA repeater daemon was \"Network is unreachable\"\n",
      "error sending registration message to CA repeater daemon was \"Network is unreachable\"\n",
      "error sending registration message to CA repeater daemon was \"Network is unreachable\"\n",
      "error sending registration message to CA repeater daemon was \"Network is unreachable\"\n",
      "error sending registration message to CA repeater daemon was \"Network is unreachable\"\n",
      "error sending registration message to CA repeater daemon was \"Network is unreachable\"\n",
      "error sending registration message to CA repeater daemon was \"Network is unreachable\"\n",
      "error sending registration message to CA repeater daemon was \"Network is unreachable\"\n",
      "error sending registration message to CA repeater daemon was \"Network is unreachable\"\n",
      "error sending registration message to CA repeater daemon was \"Network is unreachable\"\n",
      "error sending registration message to CA repeater daemon was \"Network is unreachable\"\n",
      "error sending registration message to CA repeater daemon was \"Network is unreachable\"\n",
      "error sending registration message to CA repeater daemon was \"Network is unreachable\"\n",
      "error sending registration message to CA repeater daemon was \"Network is unreachable\"\n",
      "error sending registration message to CA repeater daemon was \"Network is unreachable\"\n",
      "error sending registration message to CA repeater daemon was \"Network is unreachable\"\n",
      "error sending registration message to CA repeater daemon was \"Network is unreachable\"\n",
      "error sending registration message to CA repeater daemon was \"Network is unreachable\"\n",
      "error sending registration message to CA repeater daemon was \"Network is unreachable\"\n",
      "error sending registration message to CA repeater daemon was \"Network is unreachable\"\n",
      "error sending registration message to CA repeater daemon was \"Network is unreachable\"\n",
      "error sending registration message to CA repeater daemon was \"Network is unreachable\"\n",
      "error sending registration message to CA repeater daemon was \"Network is unreachable\"\n",
      "error sending registration message to CA repeater daemon was \"Network is unreachable\"\n",
      "error sending registration message to CA repeater daemon was \"Network is unreachable\"\n",
      "error sending registration message to CA repeater daemon was \"Network is unreachable\"\n",
      "error sending registration message to CA repeater daemon was \"Network is unreachable\"\n",
      "error sending registration message to CA repeater daemon was \"Network is unreachable\"\n",
      "error sending registration message to CA repeater daemon was \"Network is unreachable\"\n",
      "error sending registration message to CA repeater daemon was \"Network is unreachable\"\n",
      "error sending registration message to CA repeater daemon was \"Network is unreachable\"\n",
      "error sending registration message to CA repeater daemon was \"Network is unreachable\"\n",
      "error sending registration message to CA repeater daemon was \"Network is unreachable\"\n",
      "error sending registration message to CA repeater daemon was \"Network is unreachable\"\n",
      "error sending registration message to CA repeater daemon was \"Network is unreachable\"\n",
      "error sending registration message to CA repeater daemon was \"Network is unreachable\"\n",
      "error sending registration message to CA repeater daemon was \"Network is unreachable\"\n",
      "error sending registration message to CA repeater daemon was \"Network is unreachable\"\n",
      "error sending registration message to CA repeater daemon was \"Network is unreachable\"\n",
      "error sending registration message to CA repeater daemon was \"Network is unreachable\"\n",
      "error sending registration message to CA repeater daemon was \"Network is unreachable\"\n",
      "error sending registration message to CA repeater daemon was \"Network is unreachable\"\n",
      "error sending registration message to CA repeater daemon was \"Network is unreachable\"\n",
      "error sending registration message to CA repeater daemon was \"Network is unreachable\"\n",
      "error sending registration message to CA repeater daemon was \"Network is unreachable\"\n",
      "error sending registration message to CA repeater daemon was \"Network is unreachable\"\n",
      "error sending registration message to CA repeater daemon was \"Network is unreachable\"\n",
      "error sending registration message to CA repeater daemon was \"Network is unreachable\"\n",
      "error sending registration message to CA repeater daemon was \"Network is unreachable\"\n",
      "error sending registration message to CA repeater daemon was \"Network is unreachable\"\n",
      "error sending registration message to CA repeater daemon was \"Network is unreachable\"\n",
      "error sending registration message to CA repeater daemon was \"Network is unreachable\"\n",
      "error sending registration message to CA repeater daemon was \"Network is unreachable\"\n",
      "error sending registration message to CA repeater daemon was \"Network is unreachable\"\n",
      "error sending registration message to CA repeater daemon was \"Network is unreachable\"\n",
      "error sending registration message to CA repeater daemon was \"Network is unreachable\"\n",
      "error sending registration message to CA repeater daemon was \"Network is unreachable\"\n",
      "error sending registration message to CA repeater daemon was \"Network is unreachable\"\n",
      "error sending registration message to CA repeater daemon was \"Network is unreachable\"\n",
      "error sending registration message to CA repeater daemon was \"Network is unreachable\"\n",
      "error sending registration message to CA repeater daemon was \"Network is unreachable\"\n",
      "error sending registration message to CA repeater daemon was \"Network is unreachable\"\n",
      "error sending registration message to CA repeater daemon was \"Network is unreachable\"\n",
      "error sending registration message to CA repeater daemon was \"Network is unreachable\"\n",
      "error sending registration message to CA repeater daemon was \"Network is unreachable\"\n",
      "error sending registration message to CA repeater daemon was \"Network is unreachable\"\n",
      "error sending registration message to CA repeater daemon was \"Network is unreachable\"\n",
      "error sending registration message to CA repeater daemon was \"Network is unreachable\"\n",
      "error sending registration message to CA repeater daemon was \"Network is unreachable\"\n",
      "error sending registration message to CA repeater daemon was \"Network is unreachable\"\n",
      "error sending registration message to CA repeater daemon was \"Network is unreachable\"\n",
      "error sending registration message to CA repeater daemon was \"Network is unreachable\"\n",
      "error sending registration message to CA repeater daemon was \"Network is unreachable\"\n",
      "error sending registration message to CA repeater daemon was \"Network is unreachable\"\n",
      "error sending registration message to CA repeater daemon was \"Network is unreachable\"\n",
      "error sending registration message to CA repeater daemon was \"Network is unreachable\"\n",
      "error sending registration message to CA repeater daemon was \"Network is unreachable\"\n",
      "error sending registration message to CA repeater daemon was \"Network is unreachable\"\n",
      "error sending registration message to CA repeater daemon was \"Network is unreachable\"\n",
      "error sending registration message to CA repeater daemon was \"Network is unreachable\"\n",
      "error sending registration message to CA repeater daemon was \"Network is unreachable\"\n",
      "error sending registration message to CA repeater daemon was \"Network is unreachable\"\n",
      "error sending registration message to CA repeater daemon was \"Network is unreachable\"\n",
      "error sending registration message to CA repeater daemon was \"Network is unreachable\"\n",
      "error sending registration message to CA repeater daemon was \"Network is unreachable\"\n",
      "error sending registration message to CA repeater daemon was \"Network is unreachable\"\n",
      "error sending registration message to CA repeater daemon was \"Network is unreachable\"\n",
      "error sending registration message to CA repeater daemon was \"Network is unreachable\"\n",
      "error sending registration message to CA repeater daemon was \"Network is unreachable\"\n",
      "error sending registration message to CA repeater daemon was \"Network is unreachable\"\n",
      "error sending registration message to CA repeater daemon was \"Network is unreachable\"\n",
      "error sending registration message to CA repeater daemon was \"Network is unreachable\"\n",
      "error sending registration message to CA repeater daemon was \"Network is unreachable\"\n",
      "error sending registration message to CA repeater daemon was \"Network is unreachable\"\n",
      "error sending registration message to CA repeater daemon was \"Network is unreachable\"\n",
      "error sending registration message to CA repeater daemon was \"Network is unreachable\"\n",
      "error sending registration message to CA repeater daemon was \"Network is unreachable\"\n",
      "error sending registration message to CA repeater daemon was \"Network is unreachable\"\n",
      "error sending registration message to CA repeater daemon was \"Network is unreachable\"\n",
      "error sending registration message to CA repeater daemon was \"Network is unreachable\"\n",
      "error sending registration message to CA repeater daemon was \"Network is unreachable\"\n",
      "error sending registration message to CA repeater daemon was \"Network is unreachable\"\n",
      "error sending registration message to CA repeater daemon was \"Network is unreachable\"\n",
      "error sending registration message to CA repeater daemon was \"Network is unreachable\"\n",
      "error sending registration message to CA repeater daemon was \"Network is unreachable\"\n",
      "error sending registration message to CA repeater daemon was \"Network is unreachable\"\n",
      "error sending registration message to CA repeater daemon was \"Network is unreachable\"\n",
      "error sending registration message to CA repeater daemon was \"Network is unreachable\"\n",
      "error sending registration message to CA repeater daemon was \"Network is unreachable\"\n",
      "error sending registration message to CA repeater daemon was \"Network is unreachable\"\n",
      "error sending registration message to CA repeater daemon was \"Network is unreachable\"\n",
      "error sending registration message to CA repeater daemon was \"Network is unreachable\"\n",
      "error sending registration message to CA repeater daemon was \"Network is unreachable\"\n",
      "error sending registration message to CA repeater daemon was \"Network is unreachable\"\n",
      "error sending registration message to CA repeater daemon was \"Network is unreachable\"\n",
      "error sending registration message to CA repeater daemon was \"Network is unreachable\"\n",
      "error sending registration message to CA repeater daemon was \"Network is unreachable\"\n",
      "error sending registration message to CA repeater daemon was \"Network is unreachable\"\n",
      "error sending registration message to CA repeater daemon was \"Network is unreachable\"\n",
      "error sending registration message to CA repeater daemon was \"Network is unreachable\"\n",
      "error sending registration message to CA repeater daemon was \"Network is unreachable\"\n",
      "error sending registration message to CA repeater daemon was \"Network is unreachable\"\n",
      "error sending registration message to CA repeater daemon was \"Network is unreachable\"\n",
      "error sending registration message to CA repeater daemon was \"Network is unreachable\"\n",
      "error sending registration message to CA repeater daemon was \"Network is unreachable\"\n",
      "error sending registration message to CA repeater daemon was \"Network is unreachable\"\n",
      "error sending registration message to CA repeater daemon was \"Network is unreachable\"\n",
      "error sending registration message to CA repeater daemon was \"Network is unreachable\"\n",
      "error sending registration message to CA repeater daemon was \"Network is unreachable\"\n",
      "error sending registration message to CA repeater daemon was \"Network is unreachable\"\n",
      "error sending registration message to CA repeater daemon was \"Network is unreachable\"\n",
      "error sending registration message to CA repeater daemon was \"Network is unreachable\"\n",
      "error sending registration message to CA repeater daemon was \"Network is unreachable\"\n",
      "error sending registration message to CA repeater daemon was \"Network is unreachable\"\n",
      "error sending registration message to CA repeater daemon was \"Network is unreachable\"\n",
      "error sending registration message to CA repeater daemon was \"Network is unreachable\"\n",
      "error sending registration message to CA repeater daemon was \"Network is unreachable\"\n",
      "error sending registration message to CA repeater daemon was \"Network is unreachable\"\n",
      "error sending registration message to CA repeater daemon was \"Network is unreachable\"\n",
      "error sending registration message to CA repeater daemon was \"Network is unreachable\"\n",
      "error sending registration message to CA repeater daemon was \"Network is unreachable\"\n",
      "error sending registration message to CA repeater daemon was \"Network is unreachable\"\n",
      "error sending registration message to CA repeater daemon was \"Network is unreachable\"\n",
      "error sending registration message to CA repeater daemon was \"Network is unreachable\"\n",
      "error sending registration message to CA repeater daemon was \"Network is unreachable\"\n",
      "error sending registration message to CA repeater daemon was \"Network is unreachable\"\n",
      "error sending registration message to CA repeater daemon was \"Network is unreachable\"\n",
      "error sending registration message to CA repeater daemon was \"Network is unreachable\"\n",
      "error sending registration message to CA repeater daemon was \"Network is unreachable\"\n",
      "error sending registration message to CA repeater daemon was \"Network is unreachable\"\n",
      "error sending registration message to CA repeater daemon was \"Network is unreachable\"\n",
      "error sending registration message to CA repeater daemon was \"Network is unreachable\"\n",
      "error sending registration message to CA repeater daemon was \"Network is unreachable\"\n",
      "error sending registration message to CA repeater daemon was \"Network is unreachable\"\n",
      "error sending registration message to CA repeater daemon was \"Network is unreachable\"\n",
      "error sending registration message to CA repeater daemon was \"Network is unreachable\"\n",
      "error sending registration message to CA repeater daemon was \"Network is unreachable\"\n",
      "error sending registration message to CA repeater daemon was \"Network is unreachable\"\n",
      "error sending registration message to CA repeater daemon was \"Network is unreachable\"\n",
      "error sending registration message to CA repeater daemon was \"Network is unreachable\"\n",
      "error sending registration message to CA repeater daemon was \"Network is unreachable\"\n",
      "error sending registration message to CA repeater daemon was \"Network is unreachable\"\n",
      "error sending registration message to CA repeater daemon was \"Network is unreachable\"\n",
      "error sending registration message to CA repeater daemon was \"Network is unreachable\"\n",
      "error sending registration message to CA repeater daemon was \"Network is unreachable\"\n",
      "error sending registration message to CA repeater daemon was \"Network is unreachable\"\n",
      "error sending registration message to CA repeater daemon was \"Network is unreachable\"\n",
      "error sending registration message to CA repeater daemon was \"Network is unreachable\"\n",
      "error sending registration message to CA repeater daemon was \"Network is unreachable\"\n",
      "error sending registration message to CA repeater daemon was \"Network is unreachable\"\n",
      "error sending registration message to CA repeater daemon was \"Network is unreachable\"\n",
      "error sending registration message to CA repeater daemon was \"Network is unreachable\"\n",
      "error sending registration message to CA repeater daemon was \"Network is unreachable\"\n",
      "error sending registration message to CA repeater daemon was \"Network is unreachable\"\n",
      "error sending registration message to CA repeater daemon was \"Network is unreachable\"\n",
      "error sending registration message to CA repeater daemon was \"Network is unreachable\"\n",
      "error sending registration message to CA repeater daemon was \"Network is unreachable\"\n",
      "error sending registration message to CA repeater daemon was \"Network is unreachable\"\n",
      "error sending registration message to CA repeater daemon was \"Network is unreachable\"\n",
      "error sending registration message to CA repeater daemon was \"Network is unreachable\"\n",
      "error sending registration message to CA repeater daemon was \"Network is unreachable\"\n",
      "error sending registration message to CA repeater daemon was \"Network is unreachable\"\n",
      "error sending registration message to CA repeater daemon was \"Network is unreachable\"\n",
      "error sending registration message to CA repeater daemon was \"Network is unreachable\"\n",
      "error sending registration message to CA repeater daemon was \"Network is unreachable\"\n",
      "error sending registration message to CA repeater daemon was \"Network is unreachable\"\n",
      "error sending registration message to CA repeater daemon was \"Network is unreachable\"\n",
      "error sending registration message to CA repeater daemon was \"Network is unreachable\"\n",
      "error sending registration message to CA repeater daemon was \"Network is unreachable\"\n",
      "error sending registration message to CA repeater daemon was \"Network is unreachable\"\n",
      "error sending registration message to CA repeater daemon was \"Network is unreachable\"\n",
      "error sending registration message to CA repeater daemon was \"Network is unreachable\"\n",
      "error sending registration message to CA repeater daemon was \"Network is unreachable\"\n",
      "error sending registration message to CA repeater daemon was \"Network is unreachable\"\n",
      "error sending registration message to CA repeater daemon was \"Network is unreachable\"\n",
      "error sending registration message to CA repeater daemon was \"Network is unreachable\"\n",
      "error sending registration message to CA repeater daemon was \"Network is unreachable\"\n",
      "error sending registration message to CA repeater daemon was \"Network is unreachable\"\n",
      "error sending registration message to CA repeater daemon was \"Network is unreachable\"\n",
      "error sending registration message to CA repeater daemon was \"Network is unreachable\"\n",
      "error sending registration message to CA repeater daemon was \"Network is unreachable\"\n",
      "error sending registration message to CA repeater daemon was \"Network is unreachable\"\n",
      "error sending registration message to CA repeater daemon was \"Network is unreachable\"\n",
      "error sending registration message to CA repeater daemon was \"Network is unreachable\"\n",
      "error sending registration message to CA repeater daemon was \"Network is unreachable\"\n",
      "error sending registration message to CA repeater daemon was \"Network is unreachable\"\n",
      "error sending registration message to CA repeater daemon was \"Network is unreachable\"\n",
      "error sending registration message to CA repeater daemon was \"Network is unreachable\"\n",
      "error sending registration message to CA repeater daemon was \"Network is unreachable\"\n",
      "error sending registration message to CA repeater daemon was \"Network is unreachable\"\n",
      "error sending registration message to CA repeater daemon was \"Network is unreachable\"\n",
      "error sending registration message to CA repeater daemon was \"Network is unreachable\"\n",
      "error sending registration message to CA repeater daemon was \"Network is unreachable\"\n",
      "error sending registration message to CA repeater daemon was \"Network is unreachable\"\n",
      "error sending registration message to CA repeater daemon was \"Network is unreachable\"\n",
      "error sending registration message to CA repeater daemon was \"Network is unreachable\"\n",
      "error sending registration message to CA repeater daemon was \"Network is unreachable\"\n",
      "error sending registration message to CA repeater daemon was \"Network is unreachable\"\n",
      "error sending registration message to CA repeater daemon was \"Network is unreachable\"\n",
      "error sending registration message to CA repeater daemon was \"Network is unreachable\"\n",
      "error sending registration message to CA repeater daemon was \"Network is unreachable\"\n",
      "error sending registration message to CA repeater daemon was \"Network is unreachable\"\n",
      "error sending registration message to CA repeater daemon was \"Network is unreachable\"\n",
      "error sending registration message to CA repeater daemon was \"Network is unreachable\"\n",
      "error sending registration message to CA repeater daemon was \"Network is unreachable\"\n",
      "error sending registration message to CA repeater daemon was \"Network is unreachable\"\n",
      "error sending registration message to CA repeater daemon was \"Network is unreachable\"\n",
      "error sending registration message to CA repeater daemon was \"Network is unreachable\"\n",
      "error sending registration message to CA repeater daemon was \"Network is unreachable\"\n",
      "error sending registration message to CA repeater daemon was \"Network is unreachable\"\n",
      "error sending registration message to CA repeater daemon was \"Network is unreachable\"\n",
      "error sending registration message to CA repeater daemon was \"Network is unreachable\"\n",
      "error sending registration message to CA repeater daemon was \"Network is unreachable\"\n",
      "error sending registration message to CA repeater daemon was \"Network is unreachable\"\n",
      "error sending registration message to CA repeater daemon was \"Network is unreachable\"\n",
      "error sending registration message to CA repeater daemon was \"Network is unreachable\"\n",
      "error sending registration message to CA repeater daemon was \"Network is unreachable\"\n",
      "error sending registration message to CA repeater daemon was \"Network is unreachable\"\n",
      "error sending registration message to CA repeater daemon was \"Network is unreachable\"\n",
      "error sending registration message to CA repeater daemon was \"Network is unreachable\"\n",
      "error sending registration message to CA repeater daemon was \"Network is unreachable\"\n",
      "error sending registration message to CA repeater daemon was \"Network is unreachable\"\n",
      "error sending registration message to CA repeater daemon was \"Network is unreachable\"\n",
      "error sending registration message to CA repeater daemon was \"Network is unreachable\"\n",
      "error sending registration message to CA repeater daemon was \"Network is unreachable\"\n",
      "error sending registration message to CA repeater daemon was \"Network is unreachable\"\n",
      "error sending registration message to CA repeater daemon was \"Network is unreachable\"\n",
      "error sending registration message to CA repeater daemon was \"Network is unreachable\"\n",
      "error sending registration message to CA repeater daemon was \"Network is unreachable\"\n",
      "error sending registration message to CA repeater daemon was \"Network is unreachable\"\n",
      "error sending registration message to CA repeater daemon was \"Network is unreachable\"\n",
      "error sending registration message to CA repeater daemon was \"Network is unreachable\"\n",
      "error sending registration message to CA repeater daemon was \"Network is unreachable\"\n",
      "error sending registration message to CA repeater daemon was \"Network is unreachable\"\n",
      "error sending registration message to CA repeater daemon was \"Network is unreachable\"\n",
      "error sending registration message to CA repeater daemon was \"Network is unreachable\"\n",
      "error sending registration message to CA repeater daemon was \"Network is unreachable\"\n",
      "error sending registration message to CA repeater daemon was \"Network is unreachable\"\n",
      "error sending registration message to CA repeater daemon was \"Network is unreachable\"\n",
      "error sending registration message to CA repeater daemon was \"Network is unreachable\"\n",
      "error sending registration message to CA repeater daemon was \"Network is unreachable\"\n",
      "error sending registration message to CA repeater daemon was \"Network is unreachable\"\n",
      "error sending registration message to CA repeater daemon was \"Network is unreachable\"\n",
      "error sending registration message to CA repeater daemon was \"Network is unreachable\"\n",
      "error sending registration message to CA repeater daemon was \"Network is unreachable\"\n",
      "error sending registration message to CA repeater daemon was \"Network is unreachable\"\n",
      "error sending registration message to CA repeater daemon was \"Network is unreachable\"\n",
      "error sending registration message to CA repeater daemon was \"Network is unreachable\"\n",
      "error sending registration message to CA repeater daemon was \"Network is unreachable\"\n",
      "error sending registration message to CA repeater daemon was \"Network is unreachable\"\n",
      "error sending registration message to CA repeater daemon was \"Network is unreachable\"\n",
      "error sending registration message to CA repeater daemon was \"Network is unreachable\"\n",
      "error sending registration message to CA repeater daemon was \"Network is unreachable\"\n",
      "error sending registration message to CA repeater daemon was \"Network is unreachable\"\n",
      "error sending registration message to CA repeater daemon was \"Network is unreachable\"\n",
      "error sending registration message to CA repeater daemon was \"Network is unreachable\"\n",
      "error sending registration message to CA repeater daemon was \"Network is unreachable\"\n",
      "error sending registration message to CA repeater daemon was \"Network is unreachable\"\n",
      "error sending registration message to CA repeater daemon was \"Network is unreachable\"\n",
      "error sending registration message to CA repeater daemon was \"Network is unreachable\"\n",
      "error sending registration message to CA repeater daemon was \"Network is unreachable\"\n",
      "error sending registration message to CA repeater daemon was \"Network is unreachable\"\n",
      "error sending registration message to CA repeater daemon was \"Network is unreachable\"\n",
      "error sending registration message to CA repeater daemon was \"Network is unreachable\"\n",
      "error sending registration message to CA repeater daemon was \"Network is unreachable\"\n",
      "error sending registration message to CA repeater daemon was \"Network is unreachable\"\n",
      "error sending registration message to CA repeater daemon was \"Network is unreachable\"\n",
      "error sending registration message to CA repeater daemon was \"Network is unreachable\"\n",
      "error sending registration message to CA repeater daemon was \"Network is unreachable\"\n",
      "error sending registration message to CA repeater daemon was \"Network is unreachable\"\n",
      "error sending registration message to CA repeater daemon was \"Network is unreachable\"\n",
      "error sending registration message to CA repeater daemon was \"Network is unreachable\"\n",
      "error sending registration message to CA repeater daemon was \"Network is unreachable\"\n",
      "error sending registration message to CA repeater daemon was \"Network is unreachable\"\n",
      "error sending registration message to CA repeater daemon was \"Network is unreachable\"\n",
      "error sending registration message to CA repeater daemon was \"Network is unreachable\"\n",
      "error sending registration message to CA repeater daemon was \"Network is unreachable\"\n",
      "error sending registration message to CA repeater daemon was \"Network is unreachable\"\n",
      "error sending registration message to CA repeater daemon was \"Network is unreachable\"\n",
      "error sending registration message to CA repeater daemon was \"Network is unreachable\"\n",
      "error sending registration message to CA repeater daemon was \"Network is unreachable\"\n",
      "error sending registration message to CA repeater daemon was \"Network is unreachable\"\n",
      "error sending registration message to CA repeater daemon was \"Network is unreachable\"\n",
      "error sending registration message to CA repeater daemon was \"Network is unreachable\"\n",
      "error sending registration message to CA repeater daemon was \"Network is unreachable\"\n",
      "error sending registration message to CA repeater daemon was \"Network is unreachable\"\n",
      "error sending registration message to CA repeater daemon was \"Network is unreachable\"\n",
      "error sending registration message to CA repeater daemon was \"Network is unreachable\"\n",
      "error sending registration message to CA repeater daemon was \"Network is unreachable\"\n",
      "error sending registration message to CA repeater daemon was \"Network is unreachable\"\n",
      "error sending registration message to CA repeater daemon was \"Network is unreachable\"\n",
      "error sending registration message to CA repeater daemon was \"Network is unreachable\"\n",
      "error sending registration message to CA repeater daemon was \"Network is unreachable\"\n",
      "error sending registration message to CA repeater daemon was \"Network is unreachable\"\n",
      "error sending registration message to CA repeater daemon was \"Network is unreachable\"\n",
      "error sending registration message to CA repeater daemon was \"Network is unreachable\"\n",
      "error sending registration message to CA repeater daemon was \"Network is unreachable\"\n",
      "error sending registration message to CA repeater daemon was \"Network is unreachable\"\n",
      "error sending registration message to CA repeater daemon was \"Network is unreachable\"\n",
      "error sending registration message to CA repeater daemon was \"Network is unreachable\"\n",
      "error sending registration message to CA repeater daemon was \"Network is unreachable\"\n",
      "error sending registration message to CA repeater daemon was \"Network is unreachable\"\n",
      "error sending registration message to CA repeater daemon was \"Network is unreachable\"\n",
      "error sending registration message to CA repeater daemon was \"Network is unreachable\"\n",
      "error sending registration message to CA repeater daemon was \"Network is unreachable\"\n",
      "error sending registration message to CA repeater daemon was \"Network is unreachable\"\n",
      "error sending registration message to CA repeater daemon was \"Network is unreachable\"\n",
      "error sending registration message to CA repeater daemon was \"Network is unreachable\"\n",
      "error sending registration message to CA repeater daemon was \"Network is unreachable\"\n",
      "error sending registration message to CA repeater daemon was \"Network is unreachable\"\n",
      "error sending registration message to CA repeater daemon was \"Network is unreachable\"\n",
      "error sending registration message to CA repeater daemon was \"Network is unreachable\"\n",
      "error sending registration message to CA repeater daemon was \"Network is unreachable\"\n",
      "error sending registration message to CA repeater daemon was \"Network is unreachable\"\n",
      "error sending registration message to CA repeater daemon was \"Network is unreachable\"\n",
      "error sending registration message to CA repeater daemon was \"Network is unreachable\"\n",
      "error sending registration message to CA repeater daemon was \"Network is unreachable\"\n",
      "error sending registration message to CA repeater daemon was \"Network is unreachable\"\n",
      "error sending registration message to CA repeater daemon was \"Network is unreachable\"\n",
      "error sending registration message to CA repeater daemon was \"Network is unreachable\"\n",
      "error sending registration message to CA repeater daemon was \"Network is unreachable\"\n",
      "error sending registration message to CA repeater daemon was \"Network is unreachable\"\n",
      "error sending registration message to CA repeater daemon was \"Network is unreachable\"\n",
      "error sending registration message to CA repeater daemon was \"Network is unreachable\"\n",
      "error sending registration message to CA repeater daemon was \"Network is unreachable\"\n",
      "error sending registration message to CA repeater daemon was \"Network is unreachable\"\n",
      "error sending registration message to CA repeater daemon was \"Network is unreachable\"\n",
      "error sending registration message to CA repeater daemon was \"Network is unreachable\"\n",
      "error sending registration message to CA repeater daemon was \"Network is unreachable\"\n",
      "error sending registration message to CA repeater daemon was \"Network is unreachable\"\n",
      "error sending registration message to CA repeater daemon was \"Network is unreachable\"\n",
      "error sending registration message to CA repeater daemon was \"Network is unreachable\"\n",
      "error sending registration message to CA repeater daemon was \"Network is unreachable\"\n",
      "error sending registration message to CA repeater daemon was \"Network is unreachable\"\n",
      "error sending registration message to CA repeater daemon was \"Network is unreachable\"\n",
      "error sending registration message to CA repeater daemon was \"Network is unreachable\"\n",
      "error sending registration message to CA repeater daemon was \"Network is unreachable\"\n",
      "error sending registration message to CA repeater daemon was \"Network is unreachable\"\n",
      "error sending registration message to CA repeater daemon was \"Network is unreachable\"\n",
      "error sending registration message to CA repeater daemon was \"Network is unreachable\"\n",
      "error sending registration message to CA repeater daemon was \"Network is unreachable\"\n",
      "error sending registration message to CA repeater daemon was \"Network is unreachable\"\n",
      "error sending registration message to CA repeater daemon was \"Network is unreachable\"\n",
      "error sending registration message to CA repeater daemon was \"Network is unreachable\"\n",
      "error sending registration message to CA repeater daemon was \"Network is unreachable\"\n",
      "error sending registration message to CA repeater daemon was \"Network is unreachable\"\n",
      "error sending registration message to CA repeater daemon was \"Network is unreachable\"\n",
      "error sending registration message to CA repeater daemon was \"Network is unreachable\"\n",
      "error sending registration message to CA repeater daemon was \"Network is unreachable\"\n",
      "error sending registration message to CA repeater daemon was \"Network is unreachable\"\n",
      "error sending registration message to CA repeater daemon was \"Network is unreachable\"\n",
      "error sending registration message to CA repeater daemon was \"Network is unreachable\"\n",
      "error sending registration message to CA repeater daemon was \"Network is unreachable\"\n",
      "error sending registration message to CA repeater daemon was \"Network is unreachable\"\n",
      "error sending registration message to CA repeater daemon was \"Network is unreachable\"\n",
      "error sending registration message to CA repeater daemon was \"Network is unreachable\"\n",
      "error sending registration message to CA repeater daemon was \"Network is unreachable\"\n",
      "error sending registration message to CA repeater daemon was \"Network is unreachable\"\n",
      "error sending registration message to CA repeater daemon was \"Network is unreachable\"\n",
      "error sending registration message to CA repeater daemon was \"Network is unreachable\"\n",
      "error sending registration message to CA repeater daemon was \"Network is unreachable\"\n",
      "error sending registration message to CA repeater daemon was \"Network is unreachable\"\n",
      "error sending registration message to CA repeater daemon was \"Network is unreachable\"\n",
      "error sending registration message to CA repeater daemon was \"Network is unreachable\"\n",
      "error sending registration message to CA repeater daemon was \"Network is unreachable\"\n",
      "error sending registration message to CA repeater daemon was \"Network is unreachable\"\n",
      "error sending registration message to CA repeater daemon was \"Network is unreachable\"\n",
      "error sending registration message to CA repeater daemon was \"Network is unreachable\"\n",
      "error sending registration message to CA repeater daemon was \"Network is unreachable\"\n",
      "error sending registration message to CA repeater daemon was \"Network is unreachable\"\n",
      "error sending registration message to CA repeater daemon was \"Network is unreachable\"\n",
      "error sending registration message to CA repeater daemon was \"Network is unreachable\"\n",
      "error sending registration message to CA repeater daemon was \"Network is unreachable\"\n",
      "error sending registration message to CA repeater daemon was \"Network is unreachable\"\n",
      "error sending registration message to CA repeater daemon was \"Network is unreachable\"\n",
      "error sending registration message to CA repeater daemon was \"Network is unreachable\"\n",
      "error sending registration message to CA repeater daemon was \"Network is unreachable\"\n",
      "error sending registration message to CA repeater daemon was \"Network is unreachable\"\n",
      "error sending registration message to CA repeater daemon was \"Network is unreachable\"\n",
      "error sending registration message to CA repeater daemon was \"Network is unreachable\"\n",
      "error sending registration message to CA repeater daemon was \"Network is unreachable\"\n",
      "error sending registration message to CA repeater daemon was \"Network is unreachable\"\n",
      "error sending registration message to CA repeater daemon was \"Network is unreachable\"\n",
      "error sending registration message to CA repeater daemon was \"Network is unreachable\"\n",
      "error sending registration message to CA repeater daemon was \"Network is unreachable\"\n",
      "error sending registration message to CA repeater daemon was \"Network is unreachable\"\n",
      "error sending registration message to CA repeater daemon was \"Network is unreachable\"\n",
      "error sending registration message to CA repeater daemon was \"Network is unreachable\"\n",
      "error sending registration message to CA repeater daemon was \"Network is unreachable\"\n",
      "error sending registration message to CA repeater daemon was \"Network is unreachable\"\n",
      "error sending registration message to CA repeater daemon was \"Network is unreachable\"\n",
      "error sending registration message to CA repeater daemon was \"Network is unreachable\"\n",
      "error sending registration message to CA repeater daemon was \"Network is unreachable\"\n",
      "error sending registration message to CA repeater daemon was \"Network is unreachable\"\n",
      "error sending registration message to CA repeater daemon was \"Network is unreachable\"\n",
      "error sending registration message to CA repeater daemon was \"Network is unreachable\"\n",
      "error sending registration message to CA repeater daemon was \"Network is unreachable\"\n",
      "error sending registration message to CA repeater daemon was \"Network is unreachable\"\n",
      "error sending registration message to CA repeater daemon was \"Network is unreachable\"\n",
      "error sending registration message to CA repeater daemon was \"Network is unreachable\"\n",
      "error sending registration message to CA repeater daemon was \"Network is unreachable\"\n",
      "error sending registration message to CA repeater daemon was \"Network is unreachable\"\n",
      "error sending registration message to CA repeater daemon was \"Network is unreachable\"\n",
      "error sending registration message to CA repeater daemon was \"Network is unreachable\"\n",
      "error sending registration message to CA repeater daemon was \"Network is unreachable\"\n",
      "error sending registration message to CA repeater daemon was \"Network is unreachable\"\n",
      "error sending registration message to CA repeater daemon was \"Network is unreachable\"\n",
      "error sending registration message to CA repeater daemon was \"Network is unreachable\"\n",
      "error sending registration message to CA repeater daemon was \"Network is unreachable\"\n",
      "error sending registration message to CA repeater daemon was \"Network is unreachable\"\n",
      "error sending registration message to CA repeater daemon was \"Network is unreachable\"\n",
      "error sending registration message to CA repeater daemon was \"Network is unreachable\"\n",
      "error sending registration message to CA repeater daemon was \"Network is unreachable\"\n",
      "error sending registration message to CA repeater daemon was \"Network is unreachable\"\n",
      "error sending registration message to CA repeater daemon was \"Network is unreachable\"\n",
      "error sending registration message to CA repeater daemon was \"Network is unreachable\"\n",
      "error sending registration message to CA repeater daemon was \"Network is unreachable\"\n",
      "error sending registration message to CA repeater daemon was \"Network is unreachable\"\n",
      "error sending registration message to CA repeater daemon was \"Network is unreachable\"\n",
      "error sending registration message to CA repeater daemon was \"Network is unreachable\"\n",
      "error sending registration message to CA repeater daemon was \"Network is unreachable\"\n",
      "error sending registration message to CA repeater daemon was \"Network is unreachable\"\n",
      "error sending registration message to CA repeater daemon was \"Network is unreachable\"\n",
      "error sending registration message to CA repeater daemon was \"Network is unreachable\"\n",
      "error sending registration message to CA repeater daemon was \"Network is unreachable\"\n",
      "error sending registration message to CA repeater daemon was \"Network is unreachable\"\n",
      "error sending registration message to CA repeater daemon was \"Network is unreachable\"\n",
      "error sending registration message to CA repeater daemon was \"Network is unreachable\"\n",
      "error sending registration message to CA repeater daemon was \"Network is unreachable\"\n",
      "error sending registration message to CA repeater daemon was \"Network is unreachable\"\n",
      "error sending registration message to CA repeater daemon was \"Network is unreachable\"\n",
      "error sending registration message to CA repeater daemon was \"Network is unreachable\"\n",
      "error sending registration message to CA repeater daemon was \"Network is unreachable\"\n",
      "error sending registration message to CA repeater daemon was \"Network is unreachable\"\n",
      "error sending registration message to CA repeater daemon was \"Network is unreachable\"\n",
      "error sending registration message to CA repeater daemon was \"Network is unreachable\"\n",
      "error sending registration message to CA repeater daemon was \"Network is unreachable\"\n",
      "error sending registration message to CA repeater daemon was \"Network is unreachable\"\n",
      "error sending registration message to CA repeater daemon was \"Network is unreachable\"\n",
      "error sending registration message to CA repeater daemon was \"Network is unreachable\"\n",
      "error sending registration message to CA repeater daemon was \"Network is unreachable\"\n",
      "error sending registration message to CA repeater daemon was \"Network is unreachable\"\n",
      "error sending registration message to CA repeater daemon was \"Network is unreachable\"\n",
      "error sending registration message to CA repeater daemon was \"Network is unreachable\"\n",
      "error sending registration message to CA repeater daemon was \"Network is unreachable\"\n",
      "error sending registration message to CA repeater daemon was \"Network is unreachable\"\n",
      "error sending registration message to CA repeater daemon was \"Network is unreachable\"\n",
      "error sending registration message to CA repeater daemon was \"Network is unreachable\"\n",
      "error sending registration message to CA repeater daemon was \"Network is unreachable\"\n",
      "error sending registration message to CA repeater daemon was \"Network is unreachable\"\n",
      "error sending registration message to CA repeater daemon was \"Network is unreachable\"\n",
      "error sending registration message to CA repeater daemon was \"Network is unreachable\"\n",
      "error sending registration message to CA repeater daemon was \"Network is unreachable\"\n",
      "error sending registration message to CA repeater daemon was \"Network is unreachable\"\n",
      "error sending registration message to CA repeater daemon was \"Network is unreachable\"\n",
      "error sending registration message to CA repeater daemon was \"Network is unreachable\"\n",
      "error sending registration message to CA repeater daemon was \"Network is unreachable\"\n",
      "error sending registration message to CA repeater daemon was \"Network is unreachable\"\n",
      "error sending registration message to CA repeater daemon was \"Network is unreachable\"\n",
      "error sending registration message to CA repeater daemon was \"Network is unreachable\"\n",
      "error sending registration message to CA repeater daemon was \"Network is unreachable\"\n",
      "error sending registration message to CA repeater daemon was \"Network is unreachable\"\n",
      "error sending registration message to CA repeater daemon was \"Network is unreachable\"\n",
      "error sending registration message to CA repeater daemon was \"Network is unreachable\"\n",
      "error sending registration message to CA repeater daemon was \"Network is unreachable\"\n",
      "error sending registration message to CA repeater daemon was \"Network is unreachable\"\n",
      "error sending registration message to CA repeater daemon was \"Network is unreachable\"\n",
      "error sending registration message to CA repeater daemon was \"Network is unreachable\"\n",
      "error sending registration message to CA repeater daemon was \"Network is unreachable\"\n",
      "error sending registration message to CA repeater daemon was \"Network is unreachable\"\n",
      "error sending registration message to CA repeater daemon was \"Network is unreachable\"\n",
      "error sending registration message to CA repeater daemon was \"Network is unreachable\"\n",
      "error sending registration message to CA repeater daemon was \"Network is unreachable\"\n",
      "error sending registration message to CA repeater daemon was \"Network is unreachable\"\n",
      "error sending registration message to CA repeater daemon was \"Network is unreachable\"\n",
      "error sending registration message to CA repeater daemon was \"Network is unreachable\"\n",
      "error sending registration message to CA repeater daemon was \"Network is unreachable\"\n",
      "error sending registration message to CA repeater daemon was \"Network is unreachable\"\n",
      "error sending registration message to CA repeater daemon was \"Network is unreachable\"\n",
      "error sending registration message to CA repeater daemon was \"Network is unreachable\"\n",
      "error sending registration message to CA repeater daemon was \"Network is unreachable\"\n",
      "error sending registration message to CA repeater daemon was \"Network is unreachable\"\n",
      "error sending registration message to CA repeater daemon was \"Network is unreachable\"\n",
      "error sending registration message to CA repeater daemon was \"Network is unreachable\"\n",
      "error sending registration message to CA repeater daemon was \"Network is unreachable\"\n",
      "error sending registration message to CA repeater daemon was \"Network is unreachable\"\n",
      "error sending registration message to CA repeater daemon was \"Network is unreachable\"\n",
      "error sending registration message to CA repeater daemon was \"Network is unreachable\"\n",
      "error sending registration message to CA repeater daemon was \"Network is unreachable\"\n",
      "error sending registration message to CA repeater daemon was \"Network is unreachable\"\n",
      "error sending registration message to CA repeater daemon was \"Network is unreachable\"\n",
      "error sending registration message to CA repeater daemon was \"Network is unreachable\"\n",
      "error sending registration message to CA repeater daemon was \"Network is unreachable\"\n",
      "error sending registration message to CA repeater daemon was \"Network is unreachable\"\n",
      "error sending registration message to CA repeater daemon was \"Network is unreachable\"\n",
      "error sending registration message to CA repeater daemon was \"Network is unreachable\"\n",
      "error sending registration message to CA repeater daemon was \"Network is unreachable\"\n",
      "error sending registration message to CA repeater daemon was \"Network is unreachable\"\n",
      "error sending registration message to CA repeater daemon was \"Network is unreachable\"\n"
     ]
    }
   ],
   "source": [
    "datetime_str = datetime.strftime(datetime.now(), \"%Y:%m:%d:%H:%M\")\n",
    "joblib.dump(opt_trial.study.trials, f\"optimization_final_100_{datetime_str}.pkl\")"
   ]
  }
 ],
 "metadata": {
  "kernelspec": {
   "display_name": "oasys_default",
   "language": "python",
   "name": "oasys_default"
  },
  "language_info": {
   "codemirror_mode": {
    "name": "ipython",
    "version": 3
   },
   "file_extension": ".py",
   "mimetype": "text/x-python",
   "name": "python",
   "nbconvert_exporter": "python",
   "pygments_lexer": "ipython3",
   "version": "3.8.10"
  },
  "vscode": {
   "interpreter": {
    "hash": "319abe4fc19b2f1354c1cc304b9df29b270660cb23fbbb403dd6b55d10b33a89"
   }
  }
 },
 "nbformat": 4,
 "nbformat_minor": 5
}
