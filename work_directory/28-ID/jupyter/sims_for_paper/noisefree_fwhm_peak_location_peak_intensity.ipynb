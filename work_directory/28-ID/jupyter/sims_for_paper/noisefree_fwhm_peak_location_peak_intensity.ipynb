{
 "cells": [
  {
   "cell_type": "markdown",
   "id": "caa92bcf-fd1a-438c-a89a-f4c2e1b7bca9",
   "metadata": {
    "tags": []
   },
   "source": [
    "# Using a predefined random seed and saving the outputs at each step. This is for reproducibility. Simulation without noise"
   ]
  },
  {
   "cell_type": "code",
   "execution_count": 1,
   "id": "a723c339-367b-4ed4-9da1-3367aa810e3a",
   "metadata": {},
   "outputs": [],
   "source": [
    "%load_ext autoreload\n",
    "%autoreload 2\n",
    "%matplotlib inline"
   ]
  },
  {
   "cell_type": "code",
   "execution_count": 2,
   "id": "6771f20e-f942-4e38-825a-98ea58752cd9",
   "metadata": {},
   "outputs": [],
   "source": [
    "import dataclasses as dt"
   ]
  },
  {
   "cell_type": "code",
   "execution_count": 3,
   "id": "29795e4c-58c6-4c54-acac-6e1ebb1457fd",
   "metadata": {
    "tags": []
   },
   "outputs": [
    {
     "name": "stdout",
     "output_type": "stream",
     "text": [
      "28-ID - VKB Pitch Motor Resolution: 2e-05 deg\n"
     ]
    },
    {
     "name": "stderr",
     "output_type": "stream",
     "text": [
      "**** The executable \"caRepeater\" couldn't be located\n",
      "**** because of errno = \"No such file or directory\".\n",
      "**** You may need to modify your PATH environment variable.\n",
      "**** Unable to start \"CA Repeater\" process.\n"
     ]
    }
   ],
   "source": [
    "import os\n",
    "import shutil\n",
    "from pathlib import Path\n",
    "\n",
    "import aps\n",
    "import aps.ai.autoalignment.beamline28IDB.optimization.common as opt_common\n",
    "import aps.ai.autoalignment.beamline28IDB.optimization.configs as configs\n",
    "import aps.ai.autoalignment.beamline28IDB.optimization.movers as movers\n",
    "import joblib\n",
    "import matplotlib.pyplot as plt\n",
    "import numpy as np\n",
    "import optuna\n",
    "#from aps.ai.autoalignment.beamline28IDB.facade.focusing_optics_factory import (\n",
    "#    ExecutionMode,\n",
    "#    focusing_optics_factory_method,\n",
    "#)\n",
    "\n",
    "from aps.ai.autoalignment.beamline28IDB.facade.focusing_optics_factory import (\n",
    "    ExecutionMode,\n",
    "    focusing_optics_factory_method,\n",
    ")\n",
    "from aps.ai.autoalignment.beamline28IDB.optimization.optuna_botorch import OptunaOptimizer\n",
    "from aps.ai.autoalignment.beamline28IDB.simulation.facade.focusing_optics_interface import (\n",
    "    Layout,\n",
    "    get_default_input_features,\n",
    ")\n",
    "from aps.ai.autoalignment.common.simulation.facade.parameters import Implementors\n",
    "from aps.ai.autoalignment.common.util import clean_up\n",
    "from aps.ai.autoalignment.common.util.common import AspectRatio, ColorMap, PlotMode\n",
    "from aps.ai.autoalignment.common.util.shadow.common import (\n",
    "    EmptyBeamException,\n",
    "    HybridFailureException,\n",
    "    PreProcessorFiles,\n",
    "    load_shadow_beam,\n",
    ")\n",
    "from aps.ai.autoalignment.common.util.wrappers import load_beam\n",
    "\n",
    "import aps.ai.autoalignment.beamline28IDB.optimization.analysis_utils as analysis\n",
    "import aps.ai.autoalignment.beamline28IDB.optimization.analysis_plot_utils as apu\n",
    "from datetime import datetime\n",
    "import joblib\n",
    "import matplotlib as mpl\n",
    "import cmasher as cm\n",
    "import colorcet as cc\n",
    "\n",
    "from epics import ca\n",
    "ca.finalize_libca()\n",
    "\n",
    "%matplotlib inline"
   ]
  },
  {
   "cell_type": "code",
   "execution_count": 4,
   "id": "eb201cec-4591-4bb7-a7de-cd1829e43fd2",
   "metadata": {},
   "outputs": [],
   "source": [
    "mpl.rcParams.update({'font.size': 16, 'text.usetex':True})"
   ]
  },
  {
   "cell_type": "code",
   "execution_count": 5,
   "id": "eb88e406-7a31-4e52-90ff-744c701f2224",
   "metadata": {},
   "outputs": [],
   "source": [
    "DEFAULT_RANDOM_SEED = 10"
   ]
  },
  {
   "cell_type": "code",
   "execution_count": 6,
   "id": "6d90b8aa-37dd-4140-b4f3-366f7c514646",
   "metadata": {},
   "outputs": [],
   "source": [
    "class OptimizationParameters:\n",
    "    def __init__(self):\n",
    "        self.move_motors_ranges = configs.DEFAULT_MOVEMENT_RANGES\n",
    "\n",
    "        self.params = {\n",
    "            \"sum_intensity_soft_constraint\": 1e3,\n",
    "            \"sum_intensity_hard_constraint\": 1e3,\n",
    "            #            \"centroid_sigma_loss_threshold_dependency\": CentroidSigmaLossThresholdDependency.FULLY_DYNAMIC,\n",
    "            #            \"centroid_sigma_loss_hard_thresholds\": [0.01, 0.03],\n",
    "            \"loss_parameters\": [\"fwhm\", \"peak_distance\", \"negative_log_peak_intensity\"],\n",
    "            \"multi_objective_optimization\": True,\n",
    "            \"n_pitch_trans_motor_trials\": 50,\n",
    "            \"n_all_motor_trials\": 100,\n",
    "            \"moo_thresholds\": {\"fwhm\":0.02}\n",
    "        }"
   ]
  },
  {
   "cell_type": "code",
   "execution_count": 7,
   "id": "d77b6cfb-d68e-4363-8b49-da3bed7f32af",
   "metadata": {},
   "outputs": [],
   "source": [
    "def setup_work_dir():\n",
    "    root_dir = Path(aps.__path__[0]).parents[0]\n",
    "    work_dir = root_dir / \"work_directory/28-ID\"\n",
    "    os.chdir(work_dir)"
   ]
  },
  {
   "cell_type": "code",
   "execution_count": 8,
   "id": "d1e59acb-5237-496c-abfa-cdd94c869863",
   "metadata": {},
   "outputs": [],
   "source": [
    "def print_beam_attributes(loss_parameters, hist, dw, title):\n",
    "    loss_dw_functions = {\n",
    "        \"peak_distance\": opt_common._get_peak_distance_from_dw,\n",
    "        \"centroid\": opt_common._get_centroid_distance_from_dw,\n",
    "        \"sigma\": opt_common._get_sigma_from_dw,\n",
    "        \"fwhm\": opt_common._get_fwhm_from_dw,\n",
    "        \"negative_log_peak_intensity\": lambda d: -np.log(opt_common._get_peak_intensity_from_dw(d))\n",
    "    }\n",
    "    loss_hist_functions = {\n",
    "        \"log_weighted_sum_intensity\": lambda hist: np.log(opt_common._get_weighted_sum_intensity_from_hist(hist, 2))\n",
    "    }\n",
    "\n",
    "    attribs = {}\n",
    "    for ltype in loss_parameters:\n",
    "        if ltype in loss_dw_functions:\n",
    "            loss = loss_dw_functions[ltype](dw)\n",
    "        if ltype in loss_hist_functions:\n",
    "            loss = loss_hist_functions[ltype](hist)\n",
    "        attribs[ltype] = loss\n",
    "        print(f\"{title} system {ltype}: {loss:4.3e}\")\n",
    "    return attribs"
   ]
  },
  {
   "cell_type": "markdown",
   "id": "d2af95e5-6d41-495f-9e49-9850e26c7936",
   "metadata": {},
   "source": [
    "In experiments, the perturbed max is about 400 times higher than the noise level. This seems to hold in sim with noise level 0.5"
   ]
  },
  {
   "cell_type": "code",
   "execution_count": 9,
   "id": "3037d8ec-b205-44f3-824d-f010a4217a18",
   "metadata": {},
   "outputs": [
    {
     "data": {
      "text/plain": [
       "1.6640000000000001"
      ]
     },
     "execution_count": 9,
     "metadata": {},
     "output_type": "execute_result"
    }
   ],
   "source": [
    "2560 * 0.65 * 1e-3"
   ]
  },
  {
   "cell_type": "code",
   "execution_count": 10,
   "id": "82e8da60-3c3d-47cc-8e38-f537feddc48a",
   "metadata": {},
   "outputs": [],
   "source": [
    "detector_x = 2160 * 0.65 * 1e-3\n",
    "detector_y = 2560 * 0.65 * 1e-3\n",
    "cp = opt_common.CalculationParameters(\n",
    "    xrange= [-detector_x / 2, detector_x / 2],\n",
    "    yrange = [-detector_y / 2, detector_y / 2],\n",
    "    nbins_h = 1024,\n",
    "    nbins_v = 1024,\n",
    "    use_denoised = False,\n",
    "    random_seed = DEFAULT_RANDOM_SEED,\n",
    "    add_noise = False,\n",
    "    calculate_over_noise= False,\n",
    "    implementor=Implementors.SHADOW,\n",
    "    percentage_fluctuation=50,\n",
    "    noise=0.5,\n",
    "    save_images=True,\n",
    "    every_n_images=1\n",
    "   )\n",
    "\n",
    "xrange_plot = [-0.3, 0.3]\n",
    "yrange_plot = [-0.3, 0.3]\n",
    "\n",
    "ppm = opt_common.PlotParameters(xrange=xrange_plot, yrange=yrange_plot, nbins_h = cp.nbins_h // 2, nbins_v = cp.nbins_v // 2)\n"
   ]
  },
  {
   "cell_type": "code",
   "execution_count": 11,
   "id": "9397b327-4768-4cb3-9786-22d9f2304814",
   "metadata": {},
   "outputs": [],
   "source": [
    "cur_dir = Path.cwd().resolve()\n",
    "save_dir = cur_dir / 'nf_fwhm_pl_pi'\n",
    "save_dir.mkdir(exist_ok=True)"
   ]
  },
  {
   "cell_type": "code",
   "execution_count": 12,
   "id": "eaface18-e435-4240-b9bf-529c0d8ec7ff",
   "metadata": {},
   "outputs": [
    {
     "name": "stdout",
     "output_type": "stream",
     "text": [
      "CalculationParameters(execution_mode=0, implementor=0, xrange=[-0.7020000000000001, 0.7020000000000001], yrange=[-0.8320000000000001, 0.8320000000000001], nbins_h=1024, nbins_v=1024, do_gaussian_fit=False, use_denoised=False, from_raw_image=True, random_seed=10, add_noise=False, noise=0.5, percentage_fluctuation=50, calculate_over_noise=False, noise_threshold=1.5, reference_h=0.0, reference_v=0.0, save_images=True, every_n_images=1, rng=Generator(PCG64) at 0x7FEAB1A5D820)\n"
     ]
    }
   ],
   "source": [
    "setup_work_dir()\n",
    "clean_up()\n",
    "\n",
    "print(cp)"
   ]
  },
  {
   "cell_type": "code",
   "execution_count": 13,
   "id": "cb1f03fd-076b-40a0-a016-bc5e792c4ea9",
   "metadata": {},
   "outputs": [
    {
     "data": {
      "text/plain": [
       "PlotParameters(implementor=0, title='X,Z', xrange=[-0.3, 0.3], yrange=[-0.3, 0.3], nbins_h=512, nbins_v=512, plot_mode=0, aspect_ratio=0, color_map=<matplotlib.colors.ListedColormap object at 0x7fea901f6df0>)"
      ]
     },
     "execution_count": 13,
     "metadata": {},
     "output_type": "execute_result"
    }
   ],
   "source": [
    "ppm"
   ]
  },
  {
   "cell_type": "code",
   "execution_count": 14,
   "id": "06eda261-aa69-4f0e-bdbe-42393aa7e2c0",
   "metadata": {},
   "outputs": [
    {
     "name": "stdout",
     "output_type": "stream",
     "text": [
      "Motors and movement ranges\n",
      "{'hb_1': [-25, 25], 'hb_2': [-25, 25], 'hb_pitch': [-0.002, 0.002], 'hb_trans': [-0.03, 0.03], 'vb_bender': [-20.0, 20.0], 'vb_pitch': [-0.002, 0.002], 'vb_trans': [-0.03, 0.03]}\n",
      "Optimization parameters\n",
      "{'sum_intensity_soft_constraint': 1000.0, 'sum_intensity_hard_constraint': 1000.0, 'loss_parameters': ['fwhm', 'peak_distance', 'negative_log_peak_intensity'], 'multi_objective_optimization': True, 'n_pitch_trans_motor_trials': 50, 'n_all_motor_trials': 100, 'moo_thresholds': {'fwhm': 0.02}}\n"
     ]
    }
   ],
   "source": [
    "opt_params = OptimizationParameters()\n",
    "\n",
    "print(\"Motors and movement ranges\")\n",
    "print(opt_params.move_motors_ranges)\n",
    "\n",
    "print(\"Optimization parameters\")\n",
    "print(opt_params.params)"
   ]
  },
  {
   "cell_type": "code",
   "execution_count": 15,
   "id": "ca63addd-b862-4adb-9dff-4c267ca8aac9",
   "metadata": {},
   "outputs": [],
   "source": [
    "input_beam_path = \"primary_optics_system_beam.dat\"\n",
    "\n",
    "clean_up()\n",
    "\n",
    "# Initializing the focused beam from simulation\n",
    "input_features = get_default_input_features(layout=Layout.AUTO_FOCUSING)\n",
    "input_beam = load_shadow_beam(input_beam_path)\n",
    "focusing_system = focusing_optics_factory_method(\n",
    "    execution_mode=ExecutionMode.SIMULATION,\n",
    "    implementor=Implementors.SHADOW,\n",
    "    bender=True,\n",
    ")\n",
    "\n",
    "focusing_system.initialize(\n",
    "    input_photon_beam=input_beam,\n",
    "    rewrite_preprocessor_files=PreProcessorFiles.NO,\n",
    "    layout=Layout.AUTO_FOCUSING,\n",
    "    input_features=input_features,\n",
    ")"
   ]
  },
  {
   "cell_type": "code",
   "execution_count": 16,
   "id": "4ad0bfae-74c3-4045-bfd8-ca345d46735b",
   "metadata": {},
   "outputs": [
    {
     "name": "stdout",
     "output_type": "stream",
     "text": [
      "write_shadow_surface: File for SHADOW /Users/skandel/code/oasys/AI-ML_Control_System/work_directory/28-ID/Upstream_HKB_bender_profile.dat written to disk.\n",
      "write_shadow_surface: File for SHADOW /Users/skandel/code/oasys/AI-ML_Control_System/work_directory/28-ID/Downstream_HKB_bender_profile.dat written to disk.\n"
     ]
    },
    {
     "data": {
      "image/png": "[encoded data removed]",
      "text/plain": [
       "<Figure size 900x500 with 2 Axes>"
      ]
     },
     "metadata": {},
     "output_type": "display_data"
    }
   ],
   "source": [
    "beam, hist, dw = opt_common.get_beam_hist_dw(cp=cp,focusing_system=focusing_system, photon_beam=None)\n",
    "opt_common.plot_distribution(photon_beam=beam, ppm=ppm)"
   ]
  },
  {
   "cell_type": "code",
   "execution_count": null,
   "id": "96170c7d-401c-4621-b2e7-93414622683b",
   "metadata": {},
   "outputs": [],
   "source": [
    "focused_beam = {'dw': dw, 'hist': hist}\n",
    "joblib.dump(focused_beam, f'{save_dir}/focused_beam.joblib', compress=5)"
   ]
  },
  {
   "cell_type": "code",
   "execution_count": null,
   "id": "d76c204e-edc9-4675-a6cd-dcf3c4abf5a1",
   "metadata": {},
   "outputs": [],
   "source": [
    "!pwd"
   ]
  },
  {
   "cell_type": "code",
   "execution_count": null,
   "id": "baa8bf6d-55be-41d1-82d9-a84fd0ee7d82",
   "metadata": {},
   "outputs": [],
   "source": [
    "m2 = apu.CMAP"
   ]
  },
  {
   "cell_type": "code",
   "execution_count": null,
   "id": "fe8d5884-e29c-436d-bc4e-a7de0225bbc8",
   "metadata": {},
   "outputs": [],
   "source": [
    "m2"
   ]
  },
  {
   "cell_type": "code",
   "execution_count": null,
   "id": "c8e8bc1e-19fc-45da-ac14-609cd3df30cc",
   "metadata": {},
   "outputs": [],
   "source": [
    "maxcount = hist.data_2D.max()"
   ]
  },
  {
   "cell_type": "code",
   "execution_count": null,
   "id": "90a6b9f3-23f8-4db9-8673-68de15001648",
   "metadata": {},
   "outputs": [],
   "source": [
    "maxcount"
   ]
  },
  {
   "cell_type": "raw",
   "id": "c6c62383-ed86-4f50-98d1-55c05b621a1d",
   "metadata": {},
   "source": [
    "dwd = dw._DictionaryWrapper__dictionary\n",
    "\n",
    "plt.figure(figsize=[7,7], constrained_layout=True)\n",
    "\n",
    "\n",
    "plt.pcolormesh(hist.hh, hist.vv, hist.data_2D.T, cmap=m2, norm=mpl.colors.LogNorm(1, maxcount))\n",
    "plt.xlim(-0.025,0.025)\n",
    "plt.ylim(-0.025,0.025)\n",
    "plt.axhline(0, color='gray', ls='--', linewidth=1, alpha=0.7)\n",
    "plt.axvline(0, color='gray', ls='--', linewidth=1, alpha=0.7)\n",
    "plt.xlabel('Horizontal (mm)')\n",
    "plt.ylabel('Vertical (mm)')\n",
    "plt.title(\"Aligned\")\n",
    "plt.colorbar(pad=0.01, aspect=30, shrink=0.6)\n",
    "\n",
    "ax = plt.gca()\n",
    "ax.set_aspect('equal')\n",
    "\n",
    "text = (fr\"{'fwhm(H)':<6} = {dwd['h_fwhm'] * 1000: 3.1f} $\\mu$m\" + \"\\n\"\n",
    "             fr\"{'fwhm(V)':<9} = {dwd['v_fwhm']* 1000: 3.1f} $\\mu$m\" + \"\\n\"\n",
    "             fr\"{'peak(H)':<9} = {dwd['h_peak']* 1000: 3.1f} $\\mu$m\" + \"\\n\"\n",
    "             fr\"{'peak(V)':<9} = {dwd['v_peak']* 1000: 3.1f} $\\mu$m\" + \"\\n\"\n",
    "             fr\"{'peak int':<9} = {dwd['peak_intensity']:3.0f} ph\")\n",
    "ax.text(0.055, 0.13, text, color='black', alpha=0.9, fontsize=14,\n",
    "        bbox=dict(facecolor='white', edgecolor='gray', alpha=0.7))\n",
    "plt.show()"
   ]
  },
  {
   "cell_type": "code",
   "execution_count": null,
   "id": "6b48746f-5199-406e-a866-4708683486ba",
   "metadata": {},
   "outputs": [],
   "source": [
    "attribs_focus = print_beam_attributes(opt_params.params['loss_parameters'], hist, dw, \"Focused beam\")"
   ]
  },
  {
   "cell_type": "code",
   "execution_count": 17,
   "id": "757ad143-931c-49d9-a887-25b59a514a67",
   "metadata": {},
   "outputs": [
    {
     "name": "stdout",
     "output_type": "stream",
     "text": [
      "Focused absolute position are {'hb_1': -168.0, 'hb_2': -161.0, 'hb_pitch': 0.17188733853924987, 'hb_trans': 0.0, 'vb_bender': 419.0, 'vb_pitch': 0.17188733853924987, 'vb_trans': 0.0}\n"
     ]
    }
   ],
   "source": [
    "mots = list(opt_params.move_motors_ranges.keys())\n",
    "initial_absolute_positions = {k: movers.get_absolute_positions(focusing_system, k)[0] for k in mots}\n",
    "print(\"Focused absolute position are\", initial_absolute_positions)\n",
    "\n"
   ]
  },
  {
   "cell_type": "code",
   "execution_count": 18,
   "id": "0d613476-d62b-4a8c-b2d7-caf4123aa376",
   "metadata": {},
   "outputs": [
    {
     "data": {
      "text/plain": [
       "{'hb_1': [-25, 25],\n",
       " 'hb_2': [-25, 25],\n",
       " 'hb_pitch': [-0.002, 0.002],\n",
       " 'hb_trans': [-0.03, 0.03],\n",
       " 'vb_bender': [-20.0, 20.0],\n",
       " 'vb_pitch': [-0.002, 0.002],\n",
       " 'vb_trans': [-0.03, 0.03]}"
      ]
     },
     "execution_count": 18,
     "metadata": {},
     "output_type": "execute_result"
    }
   ],
   "source": [
    "opt_params.move_motors_ranges #= {k: np.array(v) / 2 for k,v in opt_params.move_motors_ranges.items()}"
   ]
  },
  {
   "cell_type": "code",
   "execution_count": 19,
   "id": "71bf357a-b707-4dff-8449-8b4aff4dc6bc",
   "metadata": {},
   "outputs": [
    {
     "name": "stdout",
     "output_type": "stream",
     "text": [
      "write_shadow_surface: File for SHADOW /Users/skandel/code/oasys/AI-ML_Control_System/work_directory/28-ID/Upstream_HKB_bender_profile.dat written to disk.\n",
      "write_shadow_surface: File for SHADOW /Users/skandel/code/oasys/AI-ML_Control_System/work_directory/28-ID/Downstream_HKB_bender_profile.dat written to disk.\n",
      "Random initialization is (ABSOLUTE) ['hb_1', 'hb_2', 'hb_pitch', 'hb_trans', 'vb_bender', 'vb_pitch', 'vb_trans'] [-145.2, -175.6, 0.17058733853924987, -0.042, 419.5, 0.17042733853924988, 0.0113]\n",
      "Random initialization is (RELATIVE) ['hb_1', 'hb_2', 'hb_pitch', 'hb_trans', 'vb_bender', 'vb_pitch', 'vb_trans'] [22.800085481448768, -14.615909496042656, 0.001313779541098123, -0.021043072615078783, 0.5121846574625941, -0.0014563215839179734, 0.011342188786867866]\n"
     ]
    }
   ],
   "source": [
    "# Adding random perturbation to the motor values\n",
    "initial_movement, focusing_system, (beam_init, hist_init, dw_init) = opt_common.get_random_init(\n",
    "    focusing_system=focusing_system,\n",
    "    motor_types_and_ranges=opt_params.move_motors_ranges,\n",
    "    intensity_sum_threshold=opt_params.params[\"sum_intensity_hard_constraint\"],\n",
    "    cp=cp,\n",
    "    \n",
    ")"
   ]
  },
  {
   "cell_type": "code",
   "execution_count": 20,
   "id": "f1ba7723-771c-4066-98d4-7285480fb6b5",
   "metadata": {},
   "outputs": [
    {
     "data": {
      "image/png": "[encoded data removed]",
      "text/plain": [
       "<Figure size 900x500 with 2 Axes>"
      ]
     },
     "metadata": {},
     "output_type": "display_data"
    },
    {
     "name": "stdout",
     "output_type": "stream",
     "text": [
      "Perturbed beam system fwhm: 8.918e-02\n",
      "Perturbed beam system peak_distance: 1.388e-01\n",
      "Perturbed beam system negative_log_peak_intensity: -3.044e+00\n"
     ]
    }
   ],
   "source": [
    "beam_pert, hist_pert, dw_pert = opt_common.get_beam_hist_dw(cp=cp, focusing_system=focusing_system, photon_beam=None)\n",
    "opt_common.plot_distribution(\n",
    "    photon_beam=beam_pert, ppm=ppm,\n",
    "    title=\"Initial Beam\",\n",
    ")\n",
    "attribs_init = print_beam_attributes(opt_params.params[\"loss_parameters\"], hist_pert, dw_pert, \"Perturbed beam\")"
   ]
  },
  {
   "cell_type": "code",
   "execution_count": 21,
   "id": "81111ee6-d2ce-44aa-bcf4-585cda065d83",
   "metadata": {},
   "outputs": [
    {
     "data": {
      "text/plain": [
       "{'hb_1': -145.2,\n",
       " 'hb_2': -175.6,\n",
       " 'hb_pitch': 0.17058733853924987,\n",
       " 'hb_trans': -0.042,\n",
       " 'vb_bender': 419.5,\n",
       " 'vb_pitch': 0.17042733853924988,\n",
       " 'vb_trans': 0.0113}"
      ]
     },
     "execution_count": 21,
     "metadata": {},
     "output_type": "execute_result"
    }
   ],
   "source": [
    "{k: movers.get_absolute_positions(focusing_system, k)[0] for k in mots}"
   ]
  },
  {
   "cell_type": "code",
   "execution_count": null,
   "id": "bbad40da-c935-4f2a-b105-e20590e833a5",
   "metadata": {},
   "outputs": [],
   "source": [
    "hist_pert.data_2D.max()"
   ]
  },
  {
   "cell_type": "code",
   "execution_count": null,
   "id": "8f07be1c-b557-4656-ad57-3d6386879278",
   "metadata": {},
   "outputs": [],
   "source": [
    "dwd = dw_pert._DictionaryWrapper__dictionary\n",
    "plt.figure(figsize=[7,7], constrained_layout=True)\n",
    "plt.pcolormesh(hist_pert.hh, hist_pert.vv, hist_pert.data_2D.T, cmap=m2)#, norm=mpl.colors.LogNorm(1, 4e2))\n",
    "plt.xlim(-0.05,0.05)\n",
    "plt.ylim(-0.05,0.05)\n",
    "plt.axhline(0, color='gray', ls='--', linewidth=1, alpha=0.7)\n",
    "plt.axvline(0, color='gray', ls='--', linewidth=1, alpha=0.7)\n",
    "plt.xlabel('Horizontal (mm)')\n",
    "plt.ylabel('Vertical (mm)')\n",
    "plt.title(\"Initial structure\")\n",
    "plt.colorbar(pad=0.01, aspect=30, shrink=0.6)\n",
    "\n",
    "ax = plt.gca()\n",
    "ax.set_aspect('equal')\n",
    "\n",
    "text = (f\"{'fwhm(H)':<6} = {dwd['h_fwhm']: 4.3f} mm\\n\"\n",
    "             f\"{'fwhm(V)':<9} = {dwd['v_fwhm']: 4.3f} mm\\n\"\n",
    "             f\"{'peak(H)':<9} = {dwd['h_peak']: 4.3f} mm\\n\"\n",
    "             f\"{'peak(V)':<9} = {dwd['v_peak']: 4.3f} mm\\n\"\n",
    "             f\"{'peak int':<9} = {dwd['peak_intensity']: 3.2e} ph\")\n",
    "ax.text(0.055, 0.13, text, color='black', alpha=0.9, fontsize=14,\n",
    "        bbox=dict(facecolor='white', edgecolor='gray', alpha=0.7), transform=ax.transAxes)\n",
    "plt.show()"
   ]
  },
  {
   "cell_type": "code",
   "execution_count": null,
   "id": "149eb574-5855-4b70-aa94-2054a4bce498",
   "metadata": {},
   "outputs": [],
   "source": [
    "perturbed_positions = initial_movement + np.array(list(initial_absolute_positions.values()))"
   ]
  },
  {
   "cell_type": "markdown",
   "id": "9662973e-08e5-4a3d-9197-9b294922602f",
   "metadata": {},
   "source": [
    "#### Calculating without removing noise"
   ]
  },
  {
   "cell_type": "raw",
   "id": "45916f88-b812-4520-ad98-f557226f9200",
   "metadata": {},
   "source": [
    "movers.move_motors(focusing_system, list(initial_absolute_positions.keys()), perturbed_positions, movement='absolute')"
   ]
  },
  {
   "cell_type": "code",
   "execution_count": null,
   "id": "eaef7329-946e-433c-b9d6-7520abd1b05c",
   "metadata": {},
   "outputs": [],
   "source": [
    "beam_pert, hist_pert, dw_pert = opt_common.get_beam_hist_dw(cp=cp, focusing_system=focusing_system, photon_beam=None)\n",
    "opt_common.plot_distribution(\n",
    "    photon_beam=beam_pert,\n",
    "    title=\"Initial Beam\",\n",
    "    ppm=ppm\n",
    ")"
   ]
  },
  {
   "cell_type": "code",
   "execution_count": null,
   "id": "ad4e6d7b-ef3b-4eeb-be45-a8e92ffef816",
   "metadata": {},
   "outputs": [],
   "source": [
    "hist_pert.data_2D.max()"
   ]
  },
  {
   "cell_type": "code",
   "execution_count": null,
   "id": "c21d25c4-363f-4b2c-9ccd-747eb34547f7",
   "metadata": {},
   "outputs": [],
   "source": [
    "attribs_init = print_beam_attributes(opt_params.params[\"loss_parameters\"], hist_pert, dw_pert, \"Perturbed beam\")"
   ]
  },
  {
   "cell_type": "code",
   "execution_count": null,
   "id": "0247650d-61e3-46b3-88c0-aaf3f73bf4a4",
   "metadata": {},
   "outputs": [],
   "source": [
    "opt_params = OptimizationParameters()"
   ]
  },
  {
   "cell_type": "code",
   "execution_count": null,
   "id": "7ee26f60-d188-46a2-b248-2f270294a1d6",
   "metadata": {},
   "outputs": [],
   "source": [
    "import aps.ai.autoalignment.beamline28IDB.optimization.optuna_botorch as opter"
   ]
  },
  {
   "cell_type": "code",
   "execution_count": null,
   "id": "c93c629c-df77-421d-bb06-5f4bc2c524b1",
   "metadata": {},
   "outputs": [],
   "source": [
    "# Now the optimization\n",
    "opt_trial = opter.OptunaOptimizer(calculation_parameters=cp,\n",
    "    focusing_system=focusing_system,\n",
    "    motor_types=list(opt_params.move_motors_ranges.keys()),\n",
    "    loss_parameters=opt_params.params[\"loss_parameters\"],\n",
    "    multi_objective_optimization=opt_params.params[\"multi_objective_optimization\"],\n",
    "    dump_directory=save_dir\n",
    "    )"
   ]
  },
  {
   "cell_type": "code",
   "execution_count": null,
   "id": "9c4989d7-dbe4-4f2d-a6b8-ac77f59fd146",
   "metadata": {},
   "outputs": [],
   "source": [
    "moo_thresholds = opt_params.params[\"moo_thresholds\"]\n",
    "for ltype in opt_params.params[\"loss_parameters\"]:\n",
    "    if ltype not in moo_thresholds:\n",
    "        moo_thresholds[ltype] = opt_trial.get_beam_property_function_for_loss(ltype)()"
   ]
  },
  {
   "cell_type": "code",
   "execution_count": null,
   "id": "01ff9fc9-c119-4595-ac84-6e5e945d0ddf",
   "metadata": {},
   "outputs": [],
   "source": [
    "attribs_init"
   ]
  },
  {
   "cell_type": "code",
   "execution_count": null,
   "id": "bc196714-dd77-4e11-9030-53e47d920f59",
   "metadata": {},
   "outputs": [],
   "source": [
    "# Setting up the optimizer\n",
    "constraints = {\"sum_intensity\": opt_params.params[\"sum_intensity_soft_constraint\"]}#, \"peak_distance\": attribs_init[\"peak_distance\"]}\n",
    "\n",
    "opt_trial.set_optimizer_options(\n",
    "    motor_ranges=list(opt_params.move_motors_ranges.values()),\n",
    "    raise_prune_exception=True,\n",
    "    use_discrete_space=True,\n",
    "    sum_intensity_threshold=opt_params.params[\"sum_intensity_hard_constraint\"],\n",
    "    constraints=constraints,\n",
    "    moo_thresholds=moo_thresholds\n",
    ")"
   ]
  },
  {
   "cell_type": "code",
   "execution_count": null,
   "id": "1a99f2a5-203c-479a-bd04-1284057f3024",
   "metadata": {
    "scrolled": true
   },
   "outputs": [],
   "source": [
    "opt_trial.trials(100)#, trial_motor_types=['hb_pitch', 'hb_trans', 'vb_pitch', 'vb_trans'])"
   ]
  },
  {
   "cell_type": "code",
   "execution_count": null,
   "id": "4fe54e8e-e60d-4cfc-bb98-fbc6d78933bb",
   "metadata": {},
   "outputs": [],
   "source": [
    "optuna.visualization.matplotlib.plot_pareto_front(opt_trial.study, include_dominated_trials=False)\n",
    "#plt.xscale('log')\n",
    "#plt.yscale('log')\n",
    "#plt.scatter(*attribs_focus.values(), color='green')"
   ]
  },
  {
   "cell_type": "code",
   "execution_count": null,
   "id": "4a596255-62c0-4c4b-9cd7-29d8a12dddde",
   "metadata": {},
   "outputs": [],
   "source": [
    "joblib.dump(opt_trial.study.trials, \n",
    "            save_dir /\"trials.joblib\", compress=4)"
   ]
  },
  {
   "cell_type": "code",
   "execution_count": null,
   "id": "f52ff15a-03d4-4bbb-b37b-3ce095d2c052",
   "metadata": {},
   "outputs": [],
   "source": []
  },
  {
   "cell_type": "code",
   "execution_count": null,
   "id": "5f1dd7f4-3128-4275-aaa4-d449173a2377",
   "metadata": {},
   "outputs": [],
   "source": []
  },
  {
   "cell_type": "markdown",
   "id": "07414713-d99b-4024-a101-c7eac9681bc7",
   "metadata": {},
   "source": [
    "### This is the analysis part"
   ]
  },
  {
   "cell_type": "code",
   "execution_count": null,
   "id": "0881a0eb-0c46-40f3-8176-1c3ea591f364",
   "metadata": {},
   "outputs": [],
   "source": [
    "hist_dir = Path(save_dir)\n",
    "hist_dir.exists()"
   ]
  },
  {
   "cell_type": "code",
   "execution_count": null,
   "id": "19337eea-8822-422f-a67c-e9572b717440",
   "metadata": {},
   "outputs": [],
   "source": [
    "trials_file = save_dir / \"trials.joblib\""
   ]
  },
  {
   "cell_type": "code",
   "execution_count": null,
   "id": "459d7e95-bd51-4fc7-9221-d7dc81598ed9",
   "metadata": {},
   "outputs": [],
   "source": [
    "study = analysis.create_study_from_trials(trials_file, n_objectives=3)\n",
    "n_steps = len(study.trials)"
   ]
  },
  {
   "cell_type": "code",
   "execution_count": null,
   "id": "4f71ddba-1cbd-4497-9987-02245bd5ce3e",
   "metadata": {},
   "outputs": [],
   "source": [
    "hists = analysis.load_histograms_from_files(n_steps, hist_dir, extension='gz')"
   ]
  },
  {
   "cell_type": "code",
   "execution_count": null,
   "id": "53f3ae63-e2a9-4819-a5d7-c8b7d13907be",
   "metadata": {},
   "outputs": [],
   "source": [
    "nash_trial, nash_idx, n_doms = analysis.select_nash_equil_trial_from_pareto_front(study)"
   ]
  },
  {
   "cell_type": "code",
   "execution_count": null,
   "id": "b1f92e7c-d8fb-4746-9fad-f03ae0c34c8b",
   "metadata": {},
   "outputs": [],
   "source": [
    "best_hists = []\n",
    "for t in study.best_trials:\n",
    "    print(\"Trial number\", t.number)\n",
    "    print(f\"Trial values: peak_distance {t.values[1]:4.3e} fwhm {t.values[0]:4.3e} int {t.values[2]:4.3e}\")\n",
    "    print(\"Trial dw:\")\n",
    "    \n",
    "    dw = dict(t.user_attrs[\"dw\"]._DictionaryWrapper__dictionary)\n",
    "    print(dw)\n",
    "    print(\"Actual fwhm\", opt_common._get_fwhm_from_dw(t.user_attrs[\"dw\"]))\n",
    "    hist = hists[t.number]\n",
    "    plt.figure(figsize=[7,7], constrained_layout=True)\n",
    "    plt.pcolormesh(hist.hh, hist.vv, hist.data_2D.T, cmap=m2)#, norm=mpl.colors.LogNorm(1, 4e2))\n",
    "    #plt.xlim(-0.04,0.04)\n",
    "    #plt.ylim(-0.04,0.04)\n",
    "    plt.axhline(0, color='gray', ls='--', linewidth=1, alpha=0.7)\n",
    "    plt.axvline(0, color='gray', ls='--', linewidth=1, alpha=0.7)\n",
    "    plt.xlabel('Horizontal (mm)')\n",
    "    plt.ylabel('Vertical (mm)')\n",
    "    plt.colorbar(pad=0.01, aspect=30, shrink=0.6)\n",
    "\n",
    "    ax = plt.gca()\n",
    "    ax.set_aspect('equal')\n",
    "    if t.number == nash_trial.number:\n",
    "        for axis in ['top','bottom','left','right']:\n",
    "            ax.spines[axis].set_linewidth(4)\n",
    "            ax.spines[axis].set_color('orange')\n",
    "\n",
    "    plt.title(t.number)\n",
    "    plt.show()"
   ]
  },
  {
   "cell_type": "code",
   "execution_count": null,
   "id": "4dfe5f06-5cb4-4443-a379-f663f63f3b77",
   "metadata": {},
   "outputs": [],
   "source": [
    "\n",
    "tnum = nash_trial.number\n",
    "dw = dict(**study.trials[tnum].user_attrs[\"dw\"]._DictionaryWrapper__dictionary)\n",
    "hist = hists[tnum]\n",
    "plt.figure(figsize=[7,7], constrained_layout=True)\n",
    "plt.pcolormesh(hist.hh, hist.vv, hist.data_2D.T, cmap=m2, norm=mpl.colors.LogNorm(0.3, 4e2))\n",
    "plt.xlim(-0.25,0.25)\n",
    "plt.ylim(-0.25,0.25)\n",
    "plt.axhline(0, color='gray', ls='--', linewidth=1, alpha=0.7)\n",
    "plt.axvline(0, color='gray', ls='--', linewidth=1, alpha=0.7)\n",
    "plt.xlabel('Horizontal (mm)')\n",
    "plt.ylabel('Vertical (mm)')\n",
    "plt.colorbar(pad=0.01, aspect=30, shrink=0.6)\n",
    "\n",
    "ax = plt.gca()\n",
    "ax.set_aspect('equal')\n",
    "\n",
    "text = (f\"{'fwhm(H)':<6} = {dw['h_fwhm']: 4.3f} mm\\n\"\n",
    "             f\"{'fwhm(V)':<9} = {dw['v_fwhm']: 4.3f} mm\\n\"\n",
    "             f\"{'peak(H)':<9} = {dw['h_peak']: 4.3f} mm\\n\"\n",
    "             f\"{'peak(V)':<9} = {dw['v_peak']: 4.3f} mm\\n\"\n",
    "             f\"{'peak int':<9} = {dw['peak_intensity']: 3.2e} ph\")\n",
    "ax.text(0.055, 0.165, text, color='black', alpha=0.9, fontsize=14,\n",
    "        bbox=dict(facecolor='white', edgecolor='white', alpha=0.7))\n",
    "plt.show()"
   ]
  },
  {
   "cell_type": "code",
   "execution_count": null,
   "id": "ccb672f5-a77a-4876-852f-81336a7d36b7",
   "metadata": {
    "tags": []
   },
   "outputs": [],
   "source": [
    "# Plotting the optimization histories\n",
    "#optuna.visualization.matplotlib.plot_optimization_history(study, target=lambda t: t.values[0], target_name=\"$f_3$\")\n",
    "#plt.scatter(study.trials.values\n",
    "plt.figure()\n",
    "x = [t.number for t in study.trials]\n",
    "y = [t.values[0] for t in study.trials]\n",
    "plt.scatter(x,y, color='blue')\n",
    "plt.xlabel('Trial')\n",
    "plt.ylabel('$f_2$')\n",
    "plt.yscale('log')\n",
    "for t in study.best_trials[:-1]:\n",
    "    plt.axvline(t.number, color='red', ls=':')\n",
    "plt.axvline(study.best_trials[-1].number, color='red', ls=':', label='PT')\n",
    "plt.axvline(nash_trial.number, color='orange', label='HH')\n",
    "plt.legend(loc=\"best\", framealpha=0.3)\n",
    "plt.tight_layout()\n",
    "plt.show()"
   ]
  },
  {
   "cell_type": "code",
   "execution_count": null,
   "id": "e5bac181-8ed6-4e89-8a2c-bd092a2e57f0",
   "metadata": {},
   "outputs": [],
   "source": [
    "# Plotting the optimization histories\n",
    "#optuna.visualization.matplotlib.plot_optimization_history(study, target=lambda t: t.values[0], target_name=\"$f_3$\")\n",
    "#plt.scatter(study.trials.values\n",
    "plt.figure()\n",
    "x = [t.number for t in study.trials]\n",
    "y = [t.values[1] for t in study.trials]\n",
    "plt.scatter(x,y, color='blue')\n",
    "plt.xlabel('Trial')\n",
    "plt.ylabel('$f_3$')\n",
    "plt.yscale('log')\n",
    "for t in study.best_trials[:-1]:\n",
    "    plt.axvline(t.number, color='red', ls=':')\n",
    "plt.axvline(study.best_trials[-1].number, color='red', ls=':', label='PT')\n",
    "plt.axvline(nash_trial.number, color='orange', label='HH')\n",
    "plt.legend(loc=\"best\", framealpha=0.3)\n",
    "plt.tight_layout()\n",
    "plt.show()"
   ]
  },
  {
   "cell_type": "code",
   "execution_count": null,
   "id": "8953263c-997b-46cc-a903-1217b5ba3e1a",
   "metadata": {},
   "outputs": [],
   "source": [
    "attribs_init"
   ]
  },
  {
   "cell_type": "code",
   "execution_count": null,
   "id": "8e7907cc-8b92-4b23-8c3e-8e7d51d82a38",
   "metadata": {},
   "outputs": [],
   "source": [
    "# Plotting the optimization histories\n",
    "#optuna.visualization.matplotlib.plot_optimization_history(study, target=lambda t: t.values[0], target_name=\"$f_3$\")\n",
    "#plt.scatter(study.trials.values\n",
    "plt.figure()\n",
    "x = [t.number for t in study.trials]\n",
    "y = [t.values[2] for t in study.trials]\n",
    "plt.scatter(x,y, color='blue')\n",
    "plt.xlabel('Trial')\n",
    "plt.ylabel('$f_1$')\n",
    "#plt.yscale('symlog')\n",
    "for t in study.best_trials[:-1]:\n",
    "    plt.axvline(t.number, color='red', ls=':')\n",
    "plt.axvline(study.best_trials[-1].number, color='red', ls=':', label='PT')\n",
    "plt.axvline(nash_trial.number, color='orange', label='HH')\n",
    "plt.legend(loc=\"best\", framealpha=0.3)\n",
    "plt.tight_layout()\n",
    "plt.show()"
   ]
  },
  {
   "cell_type": "code",
   "execution_count": null,
   "id": "865a9b01-e24d-49ee-a033-13c28e94bd52",
   "metadata": {},
   "outputs": [],
   "source": [
    "attribs_focus"
   ]
  },
  {
   "cell_type": "code",
   "execution_count": null,
   "id": "d6d693b9-9b37-401d-b48f-2a217ab9599a",
   "metadata": {},
   "outputs": [],
   "source": [
    "attribs_focus"
   ]
  },
  {
   "cell_type": "code",
   "execution_count": null,
   "id": "0c7889ae-f00a-459c-b65d-066c4942d572",
   "metadata": {},
   "outputs": [],
   "source": [
    "colors = []\n",
    "c_this = 0\n",
    "for ix in range(ints_flat.size):\n",
    "    if ix < 80: \n",
    "        c_this = 0\n",
    "    else:\n",
    "        c_this = (ix - 80) // 50 + 1\n",
    "    colors.append(c_this)\n",
    "\n",
    "optuna.visualization.matplotlib.plot_pareto_front(study, targets=lambda t: [t.values[0], t.values[1]], \n",
    "                                                  target_names=['fwhm', 'peak_location'])\n",
    "plt.scatter(attribs_focus['fwhm'], attribs_focus['peak_distance'], color='green', label='True')\n",
    "plt.yscale('log')\n",
    "plt.xscale('log')"
   ]
  },
  {
   "cell_type": "code",
   "execution_count": null,
   "id": "823f427b-c4a5-48f4-a9d9-3ec22339d4f7",
   "metadata": {},
   "outputs": [],
   "source": [
    "optuna.visualization.matplotlib.plot_pareto_front(study, targets=lambda t: [t.values[1], t.values[2]],\n",
    "                                                 target_names=['peak_location', 'peak_intensity'])\n",
    "\n",
    "plt.scatter(attribs_focus['peak_distance'], attribs_focus['negative_log_peak_intensity'], color='green', label='True')\n",
    "plt.xscale('log')"
   ]
  },
  {
   "cell_type": "code",
   "execution_count": null,
   "id": "959476c7-389e-4db1-b3f5-3e2ab72463d4",
   "metadata": {},
   "outputs": [],
   "source": [
    "optuna.visualization.matplotlib.plot_pareto_front(study, targets=lambda t: [t.values[0], t.values[2]],\n",
    "                                                 target_names=['fwhm', 'peak_int'])\n",
    "plt.scatter(attribs_focus['fwhm'], attribs_focus['negative_log_peak_intensity'], color='green', label='True', s=155, marker='*')\n",
    "plt.xscale('log')"
   ]
  },
  {
   "cell_type": "code",
   "execution_count": null,
   "id": "68bec258-5a3d-4d7c-8553-ca08c8da0e4c",
   "metadata": {},
   "outputs": [],
   "source": []
  }
 ],
 "metadata": {
  "kernelspec": {
   "display_name": "oasys_default",
   "language": "python",
   "name": "oasys_default"
  },
  "language_info": {
   "codemirror_mode": {
    "name": "ipython",
    "version": 3
   },
   "file_extension": ".py",
   "mimetype": "text/x-python",
   "name": "python",
   "nbconvert_exporter": "python",
   "pygments_lexer": "ipython3",
   "version": "3.8.10"
  }
 },
 "nbformat": 4,
 "nbformat_minor": 5
}
